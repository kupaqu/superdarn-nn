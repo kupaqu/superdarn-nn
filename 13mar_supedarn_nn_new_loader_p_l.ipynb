{
  "cells": [
    {
      "cell_type": "markdown",
      "metadata": {
        "id": "view-in-github",
        "colab_type": "text"
      },
      "source": [
        "<a href=\"https://colab.research.google.com/github/kupaqu/superdarn-nn/blob/main/13mar_supedarn_nn_new_loader_p_l.ipynb\" target=\"_parent\"><img src=\"https://colab.research.google.com/assets/colab-badge.svg\" alt=\"Open In Colab\"/></a>"
      ]
    },
    {
      "cell_type": "code",
      "execution_count": null,
      "metadata": {
        "id": "-XYWWz3mg2Kz"
      },
      "outputs": [],
      "source": [
        "import os\n",
        "import numpy as np\n",
        "from datetime import datetime, timedelta\n",
        "import random\n",
        "import tensorflow as tf"
      ]
    },
    {
      "cell_type": "code",
      "execution_count": null,
      "metadata": {
        "colab": {
          "base_uri": "https://localhost:8080/"
        },
        "id": "ofOVS8uRnJ6c",
        "outputId": "292bcdc0-d324-4c4e-d192-bc3ef2f8da04"
      },
      "outputs": [
        {
          "name": "stdout",
          "output_type": "stream",
          "text": [
            "Mounted at /content/drive\n"
          ]
        }
      ],
      "source": [
        "from google.colab import drive\n",
        "drive.mount('/content/drive')"
      ]
    },
    {
      "cell_type": "code",
      "execution_count": null,
      "metadata": {
        "id": "pzAVo_TOnS7q"
      },
      "outputs": [],
      "source": [
        "class DataLoader:\n",
        "    def __init__(self,\n",
        "                 paths,\n",
        "                 shuffle=True):\n",
        "        self.shuffle = shuffle\n",
        "        self.data = {}\n",
        "\n",
        "        # загрузка всего датасета в память\n",
        "        for path in paths:\n",
        "            for root, _, files in os.walk(path):\n",
        "                for name in files:\n",
        "                    filename = name.split('.')\n",
        "                    key = (filename[0] + filename[1][:2], filename[4]) # ключ – кортеж вида (дата и час, луч)\n",
        "                    arr = np.load(os.path.join(root, name))\n",
        "                    self.data[key] = arr\n",
        "\n",
        "    def __call__(self):\n",
        "        target_datetime = list(self.data.keys())\n",
        "        if self.shuffle:\n",
        "            random.shuffle(target_datetime)\n",
        "\n",
        "        # итерация по ключам в словаре self.data, где ключи – название файла\n",
        "        for key in target_datetime:\n",
        "            seq = self.__getSequence(key) # ключи исторических данных\n",
        "            arrays = []\n",
        "            missData = False\n",
        "\n",
        "            for item in seq:\n",
        "                try:\n",
        "                    arrays.append(self.data[item])\n",
        "\n",
        "                # некоторые исторические данные могут отсутствовать\n",
        "                except KeyError:\n",
        "                    missData = True\n",
        "                    break\n",
        "            \n",
        "            # если есть пропуски, то пропускаем пример\n",
        "            if missData:\n",
        "                continue\n",
        "            else:\n",
        "                x = np.concatenate(arrays, axis=1)\n",
        "                y = self.data[key]\n",
        "                yield x, y\n",
        "\n",
        "    def __getSequence(self, key):\n",
        "        filename_datetime = datetime.strptime(key[0], '%Y%m%d%H')\n",
        "\n",
        "        # список массивов за день до целевого массива\n",
        "        # dayBefore = []\n",
        "        # for i in range(24, 0, -2):\n",
        "        #     hoursBefore = ((filename_datetime-timedelta(hours=i)).strftime('%Y%m%d%H'), key[1])\n",
        "        #     dayBefore.append(hoursBefore)\n",
        "\n",
        "        # тот же час, но за неделю до целевого массива\n",
        "        # weekBeforeInThatHour = []\n",
        "        # for i in range(7, 1, -1):\n",
        "        #     thatHour = ((filename_datetime-timedelta(days=i)).strftime('%Y%m%d%H'), key[1])\n",
        "        #     weekBeforeInThatHour.append(thatHour)\n",
        "\n",
        "        # return dayBefore + weekBeforeInThatHour\n",
        "\n",
        "        # список массивов за неделю до целевого массива\n",
        "        weekBefore = []\n",
        "        for i in range(24*7, 0, -2):\n",
        "            hoursBefore = ((filename_datetime-timedelta(hours=i)).strftime('%Y%m%d%H'), key[1])\n",
        "            weekBefore.append(hoursBefore)\n",
        "        \n",
        "        return weekBefore"
      ]
    },
    {
      "cell_type": "code",
      "execution_count": null,
      "metadata": {
        "colab": {
          "background_save": true
        },
        "id": "thMFYMJt3IFS"
      },
      "outputs": [],
      "source": [
        "batch_size = 1\n",
        "\n",
        "loader = DataLoader(paths=['drive/MyDrive/2018-converted'])\n",
        "\n",
        "dataset = tf.data.Dataset.from_generator(loader, output_types=(tf.float64, tf.float64)).batch(batch_size)"
      ]
    },
    {
      "cell_type": "code",
      "execution_count": null,
      "metadata": {
        "colab": {
          "background_save": true
        },
        "id": "gXr5Pu0mDF48"
      },
      "outputs": [],
      "source": [
        "cnt = 0\n",
        "for x, y in dataset:\n",
        "    cnt += 1"
      ]
    },
    {
      "cell_type": "code",
      "execution_count": null,
      "metadata": {
        "colab": {
          "background_save": true
        },
        "id": "x9VdeuLzDMxN",
        "outputId": "dc745ad8-b8f1-480d-b1ee-2a3dd16ca4f3"
      },
      "outputs": [
        {
          "data": {
            "text/plain": [
              "216"
            ]
          },
          "execution_count": 6,
          "metadata": {},
          "output_type": "execute_result"
        }
      ],
      "source": [
        "cnt"
      ]
    }
  ],
  "metadata": {
    "colab": {
      "machine_shape": "hm",
      "provenance": [],
      "authorship_tag": "ABX9TyM4suARNLEbbL3DRRyQ8Bbg",
      "include_colab_link": true
    },
    "gpuClass": "standard",
    "kernelspec": {
      "display_name": "Python 3",
      "name": "python3"
    },
    "language_info": {
      "name": "python"
    }
  },
  "nbformat": 4,
  "nbformat_minor": 0
}