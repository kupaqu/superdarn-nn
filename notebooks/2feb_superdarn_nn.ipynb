{
  "cells": [
    {
      "cell_type": "markdown",
      "metadata": {
        "id": "view-in-github",
        "colab_type": "text"
      },
      "source": [
        "<a href=\"https://colab.research.google.com/github/kupaqu/superdarn-nn/blob/main/2feb_superdarn_nn.ipynb\" target=\"_parent\"><img src=\"https://colab.research.google.com/assets/colab-badge.svg\" alt=\"Open In Colab\"/></a>"
      ]
    },
    {
      "cell_type": "code",
      "execution_count": null,
      "metadata": {
        "colab": {
          "base_uri": "https://localhost:8080/"
        },
        "id": "PrXMyliFG26n",
        "outputId": "3239006e-753a-490f-d1c3-40b7905c2882"
      },
      "outputs": [
        {
          "output_type": "stream",
          "name": "stdout",
          "text": [
            "Drive already mounted at /content/drive; to attempt to forcibly remount, call drive.mount(\"/content/drive\", force_remount=True).\n"
          ]
        }
      ],
      "source": [
        "from google.colab import drive\n",
        "drive.mount('/content/drive')"
      ]
    },
    {
      "cell_type": "code",
      "execution_count": null,
      "metadata": {
        "id": "h_bN1kuegef6"
      },
      "outputs": [],
      "source": [
        "import os\n",
        "import numpy as np\n",
        "from datetime import datetime, timedelta\n",
        "import random"
      ]
    },
    {
      "cell_type": "code",
      "execution_count": null,
      "metadata": {
        "id": "kQDN45yxhYiZ"
      },
      "outputs": [],
      "source": [
        "class DataLoader:\n",
        "    def __init__(self,\n",
        "                 datapath,\n",
        "                 shuffle=True):\n",
        "        self.shuffle = shuffle\n",
        "        self.data = {}\n",
        "\n",
        "        for root, _, files in os.walk(datapath):\n",
        "            for name in files:\n",
        "                filename = name.split('.')\n",
        "                self.data[filename[0] + filename[1]] = np.load(os.path.join(root, name))\n",
        "\n",
        "    def __call__(self):\n",
        "        keys = list(self.data.keys())\n",
        "        if self.shuffle:\n",
        "            random.shuffle(keys)\n",
        "        # итерация по ключам в словаре self.data\n",
        "        for key in keys:\n",
        "            # если маска целевого значения пустая, то пропускаем пример\n",
        "            if np.all(self.data[key][:,:,-1,:,:] == 0.):\n",
        "                continue\n",
        "            seq = self.__getSequence(key)\n",
        "            arrays = []\n",
        "            badCount = 0\n",
        "            # итерация по историческим данным\n",
        "            for item in seq:\n",
        "                # некоторые исторические данные могут отсутствовать\n",
        "                try:\n",
        "                    if np.all(self.data[item][:,:,-1,:,:] == 0.):\n",
        "                        badCount += 1\n",
        "                    arrays.append(self.data[item])\n",
        "                except KeyError:\n",
        "                    # print(f'No key: {item}')\n",
        "                    badCount += 1\n",
        "                    arrays.append(np.zeros_like(self.data[key]))\n",
        "            # если пропусков в данных больше чем 10%, то пропускаем пример\n",
        "            # print(f'Bad count: {badCount}')\n",
        "            if badCount / len(arrays) > 0.1:\n",
        "                continue\n",
        "            else:\n",
        "                x = np.concatenate(arrays, axis=1)\n",
        "                y = self.data[key]\n",
        "                for beam in range(16):\n",
        "                    yield x[:,:,:,beam,0], y[:,:,:-1,beam,0]\n",
        "    \n",
        "    def __getSequence(self, key):\n",
        "        keyDT = datetime.strptime(key, '%Y%m%d%H%M')\n",
        "        # список массивов периодов за неделю до целевого массива\n",
        "        weekBefore = []\n",
        "        for i in range(24*7, 0, -2):\n",
        "            hoursBefore = (keyDT-timedelta(hours=i)).strftime('%Y%m%d%H%M')\n",
        "            weekBefore.append(hoursBefore)\n",
        "        return weekBefore"
      ]
    },
    {
      "cell_type": "code",
      "execution_count": null,
      "metadata": {
        "id": "vnnKp7GAgefl"
      },
      "outputs": [],
      "source": [
        "from tensorflow import keras\n",
        "import tensorflow as tf"
      ]
    },
    {
      "cell_type": "code",
      "execution_count": null,
      "metadata": {
        "id": "-Eii--eVglfs"
      },
      "outputs": [],
      "source": [
        "# генератор\n",
        "def get_generator():\n",
        "\n",
        "    rand_inp = tf.keras.layers.Input(shape=(70, 60, 7))\n",
        "\n",
        "    inp = tf.keras.layers.Input(shape=(70, 5040, 7))\n",
        "\n",
        "    rand_concat = tf.keras.layers.Concatenate(axis=2)([inp, rand_inp])\n",
        "\n",
        "    reshape = tf.keras.layers.Reshape(target_shape=(70, 5100//60, 60, 7))(rand_concat)\n",
        "\n",
        "    permute = tf.keras.layers.Permute((2,1,3,4))(reshape)\n",
        "\n",
        "    x = tf.keras.layers.ConvLSTM2D(\n",
        "        filters=64,\n",
        "        kernel_size=(1, 1),\n",
        "        # padding=\"same\",\n",
        "        return_sequences=True,\n",
        "        data_format='channels_last',\n",
        "        # activation=\"relu\",\n",
        "    )(permute)\n",
        "    x = tf.keras.layers.BatchNormalization()(x)\n",
        "    x = tf.keras.layers.LeakyReLU(0.3)(x)\n",
        "\n",
        "    x = tf.keras.layers.ConvLSTM2D(\n",
        "        filters=64,\n",
        "        kernel_size=(3, 3),\n",
        "        # padding=\"same\",\n",
        "        return_sequences=True,\n",
        "        data_format='channels_last',\n",
        "        # activation=\"relu\",\n",
        "    )(x)\n",
        "    x = tf.keras.layers.BatchNormalization()(x)\n",
        "    x = tf.keras.layers.LeakyReLU(0.3)(x)\n",
        "\n",
        "    x = tf.keras.layers.ConvLSTM2D(\n",
        "        filters=64,\n",
        "        kernel_size=(5, 5),\n",
        "        # padding=\"same\",\n",
        "        return_sequences=True,\n",
        "        data_format='channels_last',\n",
        "        # activation=\"relu\",\n",
        "    )(x)\n",
        "    x = tf.keras.layers.LeakyReLU(0.3)(x)\n",
        "\n",
        "    x = tf.keras.layers.Conv3D(\n",
        "        filters=6, kernel_size=(7, 8, 8)\n",
        "    )(x)\n",
        "    x = tf.keras.layers.LeakyReLU(0.3)(x)\n",
        "\n",
        "    x = tf.keras.layers.Conv3D(\n",
        "        filters=6, kernel_size=(28, 10, 10)\n",
        "    )(x)\n",
        "    x = tf.keras.layers.LeakyReLU(0.3)(x)\n",
        "\n",
        "    x = tf.keras.layers.Conv3D(\n",
        "        filters=6, kernel_size=(52, 14, 14)\n",
        "    )(x)\n",
        "    x = tf.keras.layers.LeakyReLU(0.3)(x)\n",
        "\n",
        "    x = tf.keras.layers.Conv3DTranspose(\n",
        "        filters=6, kernel_size=(1, 36, 36), activation=\"linear\"\n",
        "    )(x)\n",
        "\n",
        "    x = tf.keras.layers.Reshape(target_shape=(70, 60, 6))(x)\n",
        "\n",
        "    model = tf.keras.models.Model([inp, rand_inp], x)\n",
        "\n",
        "    return model\n",
        "\n",
        "# дискриминатор\n",
        "def get_discriminator():\n",
        "    hist_inp = tf.keras.layers.Input(shape=(70, 5040, 7))\n",
        "    hist_x = tf.keras.layers.Conv2D(filters=6, kernel_size=(5, 60))(hist_inp)\n",
        "    hist_x = tf.keras.layers.BatchNormalization()(hist_x)\n",
        "    hist_x = tf.keras.layers.LeakyReLU(0.3)(hist_x)\n",
        "\n",
        "    hist_x = tf.keras.layers.Conv2D(filters=16, kernel_size=(5, 60*12), strides=(2,2))(hist_x)\n",
        "    hist_x = tf.keras.layers.BatchNormalization()(hist_x)\n",
        "    hist_x = tf.keras.layers.LeakyReLU(0.3)(hist_x)\n",
        "\n",
        "    # model = keras.models.Model(hist_inp, hist_x, name='discriminator')\n",
        "    # return model\n",
        "\n",
        "    gen_out_inp = tf.keras.layers.Input(shape=(70, 60, 6))\n",
        "    gen_out_x = tf.keras.layers.Conv2D(filters=6, kernel_size=(5, 5))(gen_out_inp)\n",
        "    gen_out_x = tf.keras.layers.BatchNormalization()(gen_out_x)\n",
        "    gen_out_x = tf.keras.layers.LeakyReLU(0.3)(gen_out_x)\n",
        "\n",
        "    gen_out_x = tf.keras.layers.Conv2D(filters=16, kernel_size=(5, 5), strides=(2,2))(gen_out_x)\n",
        "    gen_out_x = tf.keras.layers.BatchNormalization()(gen_out_x)\n",
        "    gen_out_x = tf.keras.layers.LeakyReLU(0.3)(gen_out_x)\n",
        "\n",
        "    # model = keras.models.Model(gen_out_inp, gen_out_x)\n",
        "    # return model\n",
        "\n",
        "    joined = tf.keras.layers.Concatenate(axis=2)([hist_x, gen_out_x])\n",
        "    joined = tf.keras.layers.Conv2D(filters=16, kernel_size=(1, 5))(joined)\n",
        "    joined = tf.keras.layers.BatchNormalization()(joined)\n",
        "    joined = tf.keras.layers.LeakyReLU(0.3)(joined)\n",
        "\n",
        "    joined = tf.keras.layers.Conv2D(filters=16, kernel_size=(1, 5), strides=(1,2))(joined)\n",
        "    joined = tf.keras.layers.BatchNormalization()(joined)\n",
        "    joined = tf.keras.layers.LeakyReLU(0.3)(joined)\n",
        "\n",
        "    joined = tf.keras.layers.Conv2D(filters=6, kernel_size=(1, 5), strides=(1,2))(joined)\n",
        "    joined = tf.keras.layers.BatchNormalization()(joined)\n",
        "    joined = tf.keras.layers.LeakyReLU(0.3)(joined)\n",
        "\n",
        "    joined = tf.keras.layers.Conv2D(filters=6, kernel_size=(1, 5),strides=(1,2))(joined)\n",
        "    joined = tf.keras.layers.BatchNormalization()(joined)\n",
        "    joined = tf.keras.layers.LeakyReLU(0.3)(joined)\n",
        "\n",
        "    joined = tf.keras.layers.Conv2D(filters=6, kernel_size=(1, 5),strides=(1,2))(joined)\n",
        "    joined = tf.keras.layers.BatchNormalization()(joined)\n",
        "    joined = tf.keras.layers.LeakyReLU(0.3)(joined)\n",
        "\n",
        "    joined = tf.keras.layers.Flatten()(joined)\n",
        "    joined = tf.keras.layers.Dense(60, activation='sigmoid')(joined)\n",
        "    \n",
        "    model = tf.keras.models.Model([hist_inp, gen_out_inp], joined, name='discriminator')\n",
        "    return model"
      ]
    },
    {
      "cell_type": "code",
      "execution_count": null,
      "metadata": {
        "id": "N7rXXLG4jtDQ"
      },
      "outputs": [],
      "source": [
        "class RadarGAN(keras.Model):\n",
        "    def __init__(self, discriminator, generator):\n",
        "        super(RadarGAN, self).__init__()\n",
        "        self.discriminator = discriminator\n",
        "        self.generator = generator\n",
        "        self.gen_loss_tracker = keras.metrics.Mean(name=\"generator_loss\")\n",
        "        self.disc_loss_tracker = keras.metrics.Mean(name=\"discriminator_loss\")\n",
        "        self.gen_mae_tracker = keras.metrics.Mean(name=\"generator_mae\")\n",
        "\n",
        "    @property\n",
        "    def metrics(self):\n",
        "        return [self.gen_loss_tracker, self.disc_loss_tracker, self.gen_mae_tracker]\n",
        "\n",
        "    def compile(self, d_optimizer, g_optimizer, loss_fn):\n",
        "        super(RadarGAN, self).compile()\n",
        "        self.d_optimizer = d_optimizer\n",
        "        self.g_optimizer = g_optimizer\n",
        "        self.loss_fn = loss_fn\n",
        "        self.mae = keras.losses.MeanAbsoluteError()\n",
        "\n",
        "    def train_step(self, data):\n",
        "\n",
        "        # класс 1 - настоящие данные, класс 0 - дискриминированные данные\n",
        "        x, y = data\n",
        "\n",
        "        y_shape = tf.shape(y)\n",
        "\n",
        "        # обучение дискриминатора\n",
        "        for step in range(1):\n",
        "            \n",
        "            # выход генератора\n",
        "            generated = tf.cast(self.generator([x, tf.random.uniform(shape=(y_shape[0], y_shape[1], y_shape[2], 7))]), dtype=tf.dtypes.float64)\n",
        "            \n",
        "            with tf.GradientTape() as tape:\n",
        "\n",
        "                real = self.discriminator([x, y])\n",
        "                fake = self.discriminator([x, generated])\n",
        "                \n",
        "                # значения потерь на чистых данных\n",
        "                loss_on_real = self.loss_fn(tf.ones_like(real), real)\n",
        "                loss_on_fake = self.loss_fn(tf.zeros_like(fake), fake)\n",
        "                \n",
        "                # целевое значение дискриминатора\n",
        "                real_mixed = tf.math.round(tf.random.uniform(shape=(y_shape[0], y_shape[2]), minval=0, maxval=1, dtype=tf.dtypes.float64))\n",
        "\n",
        "                # маска для реальных данных\n",
        "                real_mask_mixed = tf.reshape(real_mixed, shape=(y_shape[0], 1, y_shape[2], 1))\n",
        "                real_mask_mixed = tf.repeat(real_mask_mixed, repeats=y_shape[1], axis=1)\n",
        "                real_mask_mixed = tf.repeat(real_mask_mixed, repeats=y_shape[3], axis=3)\n",
        "                # маска для фейковых данных\n",
        "                fake_mask_mixed = tf.math.subtract(tf.ones(shape=tf.shape(real_mask_mixed), dtype=tf.dtypes.float64), real_mask_mixed)\n",
        "\n",
        "                # перемешивание данных\n",
        "                mixed = tf.math.add(tf.math.multiply(real_mask_mixed, y), tf.math.multiply(fake_mask_mixed, generated))\n",
        "\n",
        "                predictions = self.discriminator([x, mixed])\n",
        "\n",
        "                loss_on_mixed = self.loss_fn(real, predictions)\n",
        "                \n",
        "                # TODO: собрать все варианты (real, fake, mixed) в один батч?\n",
        "\n",
        "                d_loss = loss_on_real + loss_on_fake + loss_on_mixed\n",
        "\n",
        "\n",
        "            grads = tape.gradient(d_loss, self.discriminator.trainable_weights)\n",
        "            self.d_optimizer.apply_gradients(\n",
        "                zip(grads, self.discriminator.trainable_weights)\n",
        "            )\n",
        "        \n",
        "        # таргет генератора как выход дискриминатора\n",
        "        g_target = tf.ones(shape=tf.shape(real), dtype=tf.dtypes.float64)\n",
        "\n",
        "        # тренировка генератора\n",
        "        for step in range(1):\n",
        "            with tf.GradientTape() as tape:\n",
        "                generated = self.generator([x, tf.random.uniform(shape=(y_shape[0], y_shape[1], y_shape[2], 7))])\n",
        "                discriminated = self.discriminator([x, generated])\n",
        "                g_loss = self.loss_fn(g_target, discriminated)\n",
        "                g_mae = self.mae(y, generated)\n",
        "            grads = tape.gradient(g_loss, self.generator.trainable_weights)\n",
        "            self.g_optimizer.apply_gradients(zip(grads, self.generator.trainable_weights))\n",
        "\n",
        "        # Monitor loss.\n",
        "        self.gen_loss_tracker.update_state(g_loss)\n",
        "        self.disc_loss_tracker.update_state(d_loss)\n",
        "        self.gen_mae_tracker.update_state(g_mae)\n",
        "        return {\n",
        "            \"g_loss\": self.gen_loss_tracker.result(),\n",
        "            \"d_loss\": self.disc_loss_tracker.result(),\n",
        "            \"g_mae\": self.gen_mae_tracker.result()\n",
        "            }"
      ]
    },
    {
      "cell_type": "code",
      "execution_count": null,
      "metadata": {
        "id": "AAb8clIahmhj",
        "colab": {
          "base_uri": "https://localhost:8080/"
        },
        "outputId": "40e3d5bf-2a58-42b4-e234-8ccdbb201e5a"
      },
      "outputs": [
        {
          "output_type": "stream",
          "name": "stderr",
          "text": [
            "WARNING:tensorflow:No training configuration found in the save file, so the model was *not* compiled. Compile it manually.\n",
            "WARNING:tensorflow:No training configuration found in the save file, so the model was *not* compiled. Compile it manually.\n"
          ]
        }
      ],
      "source": [
        "# если обучать с нуля\n",
        "# radar_gan = RadarGAN(discriminator=get_discriminator(), generator=get_generator())\n",
        "\n",
        "# дообучение\n",
        "radar_gan = RadarGAN(discriminator=keras.models.load_model('drive/MyDrive/radargan_discriminator.hdf5'), generator=keras.models.load_model('drive/MyDrive/radargan_generator.hdf5'))\n",
        "\n",
        "# графическое изображение структуры\n",
        "tf.keras.utils.plot_model(radar_gan.generator, to_file='g.png', show_shapes=True)\n",
        "tf.keras.utils.plot_model(radar_gan.discriminator, to_file='g.png', show_shapes=True)\n",
        "\n",
        "radar_gan.compile(\n",
        "    d_optimizer=keras.optimizers.Adam(learning_rate=0.001),\n",
        "    g_optimizer=keras.optimizers.Adam(learning_rate=0.001),\n",
        "    loss_fn=keras.losses.BinaryCrossentropy()\n",
        ")"
      ]
    },
    {
      "cell_type": "code",
      "execution_count": null,
      "metadata": {
        "id": "8VN_WQrkiRJU"
      },
      "outputs": [],
      "source": [
        "batch_size = 1\n",
        "\n",
        "train_loader = DataLoader('drive/MyDrive/2002-val')\n",
        "# val_loader = DataLoader('drive/MyDrive/2002-val')\n",
        "\n",
        "train_dataset = tf.data.Dataset.from_generator(train_loader, output_types=(tf.float64, tf.float64)).batch(batch_size)\n",
        "# val_dataset = tf.data.Dataset.from_generator(val_loader, output_types=(tf.float64, tf.float64)).batch(batch_size)"
      ]
    },
    {
      "cell_type": "code",
      "execution_count": null,
      "metadata": {
        "colab": {
          "background_save": true,
          "base_uri": "https://localhost:8080/"
        },
        "id": "09DhgllYjgGT",
        "outputId": "a5a11117-eb19-4d11-dfbc-277b742c503c"
      },
      "outputs": [
        {
          "name": "stdout",
          "output_type": "stream",
          "text": [
            "7456/7456 [==============================] - 30416s 4s/step - g_loss: 22.3727 - d_loss: 32.1871 - g_mae: 2661.5606\n"
          ]
        }
      ],
      "source": [
        "hist = radar_gan.fit(train_dataset, epochs=1)"
      ]
    },
    {
      "cell_type": "code",
      "execution_count": null,
      "metadata": {
        "colab": {
          "background_save": true
        },
        "id": "1EzgqNFbauDQ",
        "outputId": "cf988b03-b166-4463-eaa1-30f25ef9d995"
      },
      "outputs": [
        {
          "name": "stderr",
          "output_type": "stream",
          "text": [
            "WARNING:tensorflow:Compiled the loaded model, but the compiled metrics have yet to be built. `model.compile_metrics` will be empty until you train or evaluate the model.\n",
            "WARNING:tensorflow:Compiled the loaded model, but the compiled metrics have yet to be built. `model.compile_metrics` will be empty until you train or evaluate the model.\n"
          ]
        }
      ],
      "source": [
        "radar_gan.generator.save('drive/MyDrive/radargan_generator.hdf5')\n",
        "radar_gan.discriminator.save('drive/MyDrive/radargan_discriminator.hdf5')"
      ]
    },
    {
      "cell_type": "code",
      "source": [
        "import matplotlib.pyplot as plt\n",
        "\n",
        "def plot_output(gan, dataset, channel=0, n_examples=5):\n",
        "    dataset = dataset.as_numpy_iterator()\n",
        "    figure, axis = plt.subplots(2, n_examples)\n",
        "\n",
        "    for i in range(n_examples):\n",
        "        x, y = dataset.next()\n",
        "        fake = radar_gan.generator.predict([x, np.random.rand(y.shape[0], y.shape[1], y.shape[2], 7)])\n",
        "        d_real = radar_gan.discriminator.predict([x, y])\n",
        "        d_fake = radar_gan.discriminator.predict([x, fake])\n",
        "\n",
        "        axis[0, i].imshow(y[0, :, :, channel])\n",
        "        axis[0, i].set_title(\"Real data\")\n",
        "\n",
        "        axis[1, i].imshow(fake[0, :, :, channel])\n",
        "        axis[1, i].set_title(\"Generated data\")\n",
        "\n",
        "        # axis[2, i].imshow(d_real[:, :])\n",
        "        # axis[2, i].set_title(\"Discriminated real data\")\n",
        "\n",
        "        # axis[3, i].imshow(d_fake[:, :])\n",
        "        # axis[3, i].set_title(\"Discriminated fake data\")"
      ],
      "metadata": {
        "id": "mAFADMCkjThD"
      },
      "execution_count": null,
      "outputs": []
    },
    {
      "cell_type": "code",
      "source": [
        "plot_output(radar_gan, train_dataset)"
      ],
      "metadata": {
        "colab": {
          "base_uri": "https://localhost:8080/",
          "height": 526
        },
        "id": "TMH_q8lbslee",
        "outputId": "d16cd705-ac64-44f2-a40c-51f406737696"
      },
      "execution_count": null,
      "outputs": [
        {
          "output_type": "stream",
          "name": "stdout",
          "text": [
            "1/1 [==============================] - 23s 23s/step\n",
            "1/1 [==============================] - 2s 2s/step\n",
            "1/1 [==============================] - 2s 2s/step\n",
            "1/1 [==============================] - 23s 23s/step\n",
            "1/1 [==============================] - 2s 2s/step\n",
            "1/1 [==============================] - 2s 2s/step\n",
            "1/1 [==============================] - 23s 23s/step\n",
            "1/1 [==============================] - 2s 2s/step\n",
            "1/1 [==============================] - 2s 2s/step\n",
            "1/1 [==============================] - 23s 23s/step\n",
            "1/1 [==============================] - 2s 2s/step\n",
            "1/1 [==============================] - 2s 2s/step\n",
            "1/1 [==============================] - 23s 23s/step\n",
            "1/1 [==============================] - 2s 2s/step\n",
            "1/1 [==============================] - 2s 2s/step\n"
          ]
        },
        {
          "output_type": "display_data",
          "data": {
            "text/plain": [
              "<Figure size 432x288 with 10 Axes>"
            ],
            "image/png": "[encoded data removed]"
          },
          "metadata": {
            "needs_background": "light"
          }
        }
      ]
    }
  ],
  "metadata": {
    "colab": {
      "provenance": [],
      "toc_visible": true,
      "authorship_tag": "ABX9TyNQEWiEu9vCCxg0UWAzpUBC",
      "include_colab_link": true
    },
    "gpuClass": "standard",
    "kernelspec": {
      "display_name": "Python 3",
      "name": "python3"
    },
    "language_info": {
      "name": "python"
    }
  },
  "nbformat": 4,
  "nbformat_minor": 0
}