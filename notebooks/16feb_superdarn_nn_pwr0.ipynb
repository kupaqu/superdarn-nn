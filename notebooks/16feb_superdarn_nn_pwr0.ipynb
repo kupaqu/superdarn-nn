{
  "cells": [
    {
      "cell_type": "markdown",
      "metadata": {
        "id": "view-in-github",
        "colab_type": "text"
      },
      "source": [
        "<a href=\"https://colab.research.google.com/github/kupaqu/superdarn-nn/blob/main/16feb_superdarn_nn_pwr0.ipynb\" target=\"_parent\"><img src=\"https://colab.research.google.com/assets/colab-badge.svg\" alt=\"Open In Colab\"/></a>"
      ]
    },
    {
      "cell_type": "code",
      "execution_count": null,
      "metadata": {
        "colab": {
          "base_uri": "https://localhost:8080/"
        },
        "id": "PrXMyliFG26n",
        "outputId": "5e864bbe-3ad3-4ec6-df20-a4037de67df4"
      },
      "outputs": [
        {
          "output_type": "stream",
          "name": "stdout",
          "text": [
            "Drive already mounted at /content/drive; to attempt to forcibly remount, call drive.mount(\"/content/drive\", force_remount=True).\n"
          ]
        }
      ],
      "source": [
        "from google.colab import drive\n",
        "drive.mount('/content/drive')"
      ]
    },
    {
      "cell_type": "code",
      "execution_count": null,
      "metadata": {
        "id": "h_bN1kuegef6"
      },
      "outputs": [],
      "source": [
        "import os\n",
        "import numpy as np\n",
        "from datetime import datetime, timedelta\n",
        "import random"
      ]
    },
    {
      "cell_type": "code",
      "execution_count": null,
      "metadata": {
        "id": "kQDN45yxhYiZ"
      },
      "outputs": [],
      "source": [
        "class DataLoader:\n",
        "    def __init__(self,\n",
        "                 datapath,\n",
        "                 shuffle=True):\n",
        "        self.shuffle = shuffle\n",
        "        self.data = {}\n",
        "\n",
        "        for root, _, files in os.walk(datapath):\n",
        "            for name in files:\n",
        "                filename = name.split('.')\n",
        "                self.data[filename[0] + filename[1]] = np.load(os.path.join(root, name))\n",
        "\n",
        "    def __call__(self):\n",
        "        keys = list(self.data.keys())\n",
        "        if self.shuffle:\n",
        "            random.shuffle(keys)\n",
        "        # итерация по ключам в словаре self.data\n",
        "        for key in keys:\n",
        "            # если маска целевого значения пустая, то пропускаем пример\n",
        "            if np.all(self.data[key][:,:,-1,:,:] == 0.):\n",
        "                continue\n",
        "            seq = self.__getSequence(key)\n",
        "            arrays = []\n",
        "            badCount = 0\n",
        "            # итерация по историческим данным\n",
        "            for item in seq:\n",
        "                # некоторые исторические данные могут отсутствовать\n",
        "                try:\n",
        "                    if np.all(self.data[item][:,:,-1,:,:] == 0.):\n",
        "                        badCount += 1\n",
        "                    arrays.append(self.data[item])\n",
        "                except KeyError:\n",
        "                    # print(f'No key: {item}')\n",
        "                    badCount += 1\n",
        "                    arrays.append(np.zeros_like(self.data[key]))\n",
        "            # если пропусков в данных больше чем 10%, то пропускаем пример\n",
        "            # print(f'Bad count: {badCount}')\n",
        "            if badCount / len(arrays) > 0.1:\n",
        "                continue\n",
        "            else:\n",
        "                x = np.concatenate(arrays, axis=1)\n",
        "                y = self.data[key]\n",
        "                # for beam in range(16):\n",
        "                #     yield x[:,:,:,beam,0], y[:,:,:-1,beam,0]\n",
        "                yield x[:,:,0:1,0,0], y[:,:,0:1,0,0]\n",
        "    \n",
        "    def __getSequence(self, key):\n",
        "        keyDT = datetime.strptime(key, '%Y%m%d%H%M')\n",
        "        # список массивов периодов за неделю до целевого массива\n",
        "        weekBefore = []\n",
        "        for i in range(24*7, 0, -2):\n",
        "            hoursBefore = (keyDT-timedelta(hours=i)).strftime('%Y%m%d%H%M')\n",
        "            weekBefore.append(hoursBefore)\n",
        "        return weekBefore"
      ]
    },
    {
      "cell_type": "code",
      "execution_count": null,
      "metadata": {
        "id": "vnnKp7GAgefl"
      },
      "outputs": [],
      "source": [
        "from tensorflow import keras\n",
        "import tensorflow as tf"
      ]
    },
    {
      "cell_type": "code",
      "execution_count": null,
      "metadata": {
        "id": "-Eii--eVglfs"
      },
      "outputs": [],
      "source": [
        "# генератор\n",
        "def get_generator():\n",
        "\n",
        "    history = tf.keras.layers.Input(shape=(70, 5040, 1))\n",
        "    noise = tf.keras.layers.Input(shape=(70, 60, 1))\n",
        "    concat = tf.keras.layers.Concatenate(axis=2)([history, noise])\n",
        "    reshape = tf.keras.layers.Reshape(target_shape=(70, 5100//60, 60, 1))(concat)\n",
        "    permute = tf.keras.layers.Permute((2,1,3,4))(reshape)\n",
        "\n",
        "    conv = tf.keras.layers.Conv3D(filters=64,\n",
        "                                  kernel_size=8,\n",
        "                                  padding='same',\n",
        "                                  activation='relu')(permute)\n",
        "    pool = tf.keras.layers.MaxPooling3D(pool_size=(2, 1, 1))(conv)\n",
        "\n",
        "    conv = tf.keras.layers.Conv3D(filters=64,\n",
        "                                  kernel_size=8,\n",
        "                                  padding='same',\n",
        "                                  activation='relu')(pool)\n",
        "    pool = tf.keras.layers.MaxPooling3D(pool_size=(2, 1, 1))(conv)\n",
        "\n",
        "    conv = tf.keras.layers.Conv3D(filters=64,\n",
        "                                  kernel_size=4,\n",
        "                                  padding='same',\n",
        "                                  activation='relu')(pool)\n",
        "    pool = tf.keras.layers.MaxPooling3D(pool_size=(2, 1, 1))(conv)\n",
        "\n",
        "    conv = tf.keras.layers.Conv3D(filters=64,\n",
        "                                  kernel_size=4,\n",
        "                                  padding='same',\n",
        "                                  activation='relu')(pool)\n",
        "    pool = tf.keras.layers.MaxPooling3D(pool_size=(2, 1, 1))(conv)\n",
        "\n",
        "    conv = tf.keras.layers.Conv3D(filters=64,\n",
        "                                  kernel_size=2,\n",
        "                                  padding='same',\n",
        "                                  activation='relu')(pool)\n",
        "    pool = tf.keras.layers.MaxPooling3D(pool_size=(2, 1, 1))(conv)\n",
        "\n",
        "    conv = tf.keras.layers.Conv3D(filters=64,\n",
        "                                  kernel_size=2,\n",
        "                                  padding='same',\n",
        "                                  activation='relu')(pool)\n",
        "    pool = tf.keras.layers.MaxPooling3D(pool_size=(2, 1, 1))(conv)\n",
        "\n",
        "    conv = tf.keras.layers.Conv3D(filters=1,\n",
        "                                  kernel_size=1,\n",
        "                                  padding='same',\n",
        "                                  activation='linear')(pool)\n",
        "\n",
        "    output = tf.keras.layers.Reshape(target_shape=(70, 60, 1))(conv)\n",
        "    generator = tf.keras.models.Model([history, noise], output, name='generator')\n",
        "\n",
        "    return generator\n",
        "\n",
        "# дискриминатор\n",
        "def get_discriminator():\n",
        "\n",
        "    history = tf.keras.layers.Input(shape=(70, 5040, 1))\n",
        "    target = tf.keras.layers.Input(shape=(70, 60, 1))\n",
        "    concat = tf.keras.layers.Concatenate(axis=2)([history, target])\n",
        "    reshape = tf.keras.layers.Reshape(target_shape=(70, 5100//60, 60, 1))(concat)\n",
        "    permute = tf.keras.layers.Permute((2,1,3,4))(reshape)\n",
        "\n",
        "    conv = tf.keras.layers.Conv3D(filters=64,\n",
        "                                  kernel_size=8,\n",
        "                                  padding='same',\n",
        "                                  activation='relu')(permute)\n",
        "    pool = tf.keras.layers.MaxPooling3D(pool_size=(2, 2, 1))(conv)\n",
        "\n",
        "    conv = tf.keras.layers.Conv3D(filters=64,\n",
        "                                  kernel_size=8,\n",
        "                                  padding='same',\n",
        "                                  activation='relu')(pool)\n",
        "    pool = tf.keras.layers.MaxPooling3D(pool_size=(2, 2, 1))(conv)\n",
        "\n",
        "    conv = tf.keras.layers.Conv3D(filters=64,\n",
        "                                  kernel_size=4,\n",
        "                                  padding='same',\n",
        "                                  activation='relu')(pool)\n",
        "    pool = tf.keras.layers.MaxPooling3D(pool_size=(2, 2, 1))(conv)\n",
        "\n",
        "    conv = tf.keras.layers.Conv3D(filters=64,\n",
        "                                  kernel_size=4,\n",
        "                                  padding='same',\n",
        "                                  activation='relu')(pool)\n",
        "    pool = tf.keras.layers.MaxPooling3D(pool_size=(2, 2, 1))(conv)\n",
        "\n",
        "    conv = tf.keras.layers.Conv3D(filters=64,\n",
        "                                  kernel_size=2,\n",
        "                                  padding='same',\n",
        "                                  activation='relu')(pool)\n",
        "    pool = tf.keras.layers.MaxPooling3D(pool_size=(2, 2, 1))(conv)\n",
        "\n",
        "    conv = tf.keras.layers.Conv3D(filters=64,\n",
        "                                  kernel_size=2,\n",
        "                                  padding='same',\n",
        "                                  activation='relu')(pool)\n",
        "    pool = tf.keras.layers.MaxPooling3D(pool_size=(2, 2, 1))(conv)\n",
        "\n",
        "    conv = tf.keras.layers.Conv3D(filters=1,\n",
        "                                  kernel_size=1,\n",
        "                                  padding='same',\n",
        "                                  activation='relu')(pool)\n",
        "                \n",
        "    flatten = tf.keras.layers.Flatten()(conv)\n",
        "    dense = tf.keras.layers.Dense(60, activation='sigmoid')(flatten)\n",
        "    \n",
        "    discriminator = tf.keras.models.Model([history, target], dense, name='discriminator')\n",
        "    return discriminator"
      ]
    },
    {
      "cell_type": "code",
      "execution_count": null,
      "metadata": {
        "id": "N7rXXLG4jtDQ"
      },
      "outputs": [],
      "source": [
        "class RadarGAN(keras.Model):\n",
        "    def __init__(self, discriminator, generator):\n",
        "        super(RadarGAN, self).__init__()\n",
        "        self.discriminator = discriminator\n",
        "        self.generator = generator\n",
        "        self.gen_loss_tracker = keras.metrics.Mean(name=\"generator_loss\")\n",
        "        self.disc_loss_tracker = keras.metrics.Mean(name=\"discriminator_loss\")\n",
        "        self.gen_mae_tracker = keras.metrics.Mean(name=\"generator_mae\")\n",
        "\n",
        "    @property\n",
        "    def metrics(self):\n",
        "        return [self.gen_loss_tracker, self.disc_loss_tracker, self.gen_mae_tracker]\n",
        "\n",
        "    def compile(self, d_optimizer, g_optimizer, loss_fn):\n",
        "        super(RadarGAN, self).compile()\n",
        "        self.d_optimizer = d_optimizer\n",
        "        self.g_optimizer = g_optimizer\n",
        "        self.loss_fn = loss_fn\n",
        "        self.mae = keras.losses.MeanAbsoluteError()\n",
        "\n",
        "    def train_step(self, data):\n",
        "\n",
        "        # класс 1 - настоящие данные, класс 0 - дискриминированные данные\n",
        "        x, y = data\n",
        "        y_shape = tf.shape(y)\n",
        "\n",
        "        # обучение дискриминатора\n",
        "        for step in range(1):\n",
        "            \n",
        "            # выход генератора\n",
        "            generated = tf.cast(self.generator([x, tf.random.uniform(shape=(y_shape[0], y_shape[1], y_shape[2], 1))]), dtype=tf.dtypes.float64)\n",
        "            \n",
        "            with tf.GradientTape() as tape:\n",
        "                real = self.discriminator([x, y])\n",
        "                fake = self.discriminator([x, generated])\n",
        "                \n",
        "                # значения потерь на чистых данных\n",
        "                loss_on_real = self.loss_fn(tf.ones_like(real), real)\n",
        "                loss_on_fake = self.loss_fn(tf.zeros_like(fake), fake)\n",
        "                \n",
        "                # целевое значение дискриминатора\n",
        "                real_mixed = tf.math.round(tf.random.uniform(shape=(y_shape[0], y_shape[2]), minval=0, maxval=1, dtype=tf.dtypes.float64))\n",
        "\n",
        "                # маска для реальных данных\n",
        "                real_mask_mixed = tf.reshape(real_mixed, shape=(y_shape[0], 1, y_shape[2], 1))\n",
        "                real_mask_mixed = tf.repeat(real_mask_mixed, repeats=y_shape[1], axis=1)\n",
        "                real_mask_mixed = tf.repeat(real_mask_mixed, repeats=y_shape[3], axis=3)\n",
        "                # маска для фейковых данных\n",
        "                fake_mask_mixed = tf.math.subtract(tf.ones(shape=tf.shape(real_mask_mixed), dtype=tf.dtypes.float64), real_mask_mixed)\n",
        "\n",
        "                # перемешивание данных\n",
        "                mixed = tf.math.add(tf.math.multiply(real_mask_mixed, y), tf.math.multiply(fake_mask_mixed, generated))\n",
        "\n",
        "                predictions = self.discriminator([x, mixed])\n",
        "\n",
        "                loss_on_mixed = self.loss_fn(real, predictions)\n",
        "                \n",
        "                # TODO: собрать все варианты (real, fake, mixed) в один батч?\n",
        "\n",
        "                d_loss = loss_on_real + loss_on_fake\n",
        "                # + loss_on_mixed\n",
        "\n",
        "\n",
        "            grads = tape.gradient(d_loss, self.discriminator.trainable_weights)\n",
        "            self.d_optimizer.apply_gradients(\n",
        "                zip(grads, self.discriminator.trainable_weights)\n",
        "            )\n",
        "        \n",
        "        # таргет генератора как выход дискриминатора\n",
        "        g_target = tf.ones(shape=tf.shape(real), dtype=tf.dtypes.float64)\n",
        "\n",
        "        # тренировка генератора\n",
        "        for step in range(1):\n",
        "            with tf.GradientTape() as tape:\n",
        "                generated = self.generator([x, tf.random.uniform(shape=(y_shape[0], y_shape[1], y_shape[2], 1))])\n",
        "                discriminated = self.discriminator([x, generated])\n",
        "                g_loss = self.loss_fn(g_target, discriminated)\n",
        "                g_mae = self.mae(y, generated)\n",
        "            grads = tape.gradient(g_loss, self.generator.trainable_weights)\n",
        "            self.g_optimizer.apply_gradients(zip(grads, self.generator.trainable_weights))\n",
        "\n",
        "        # Monitor loss.\n",
        "        self.gen_loss_tracker.update_state(g_loss)\n",
        "        self.disc_loss_tracker.update_state(d_loss)\n",
        "        self.gen_mae_tracker.update_state(g_mae)\n",
        "        return {\n",
        "            \"g_loss\": self.gen_loss_tracker.result(),\n",
        "            \"d_loss\": self.disc_loss_tracker.result(),\n",
        "            \"g_mae\": self.gen_mae_tracker.result()\n",
        "            }"
      ]
    },
    {
      "cell_type": "code",
      "execution_count": null,
      "metadata": {
        "id": "AAb8clIahmhj"
      },
      "outputs": [],
      "source": [
        "# если обучать с нуля\n",
        "radar_gan = RadarGAN(discriminator=get_discriminator(), generator=get_generator())\n",
        "\n",
        "# дообучение\n",
        "# radar_gan = RadarGAN(discriminator=keras.models.load_model('drive/MyDrive/radargan_discriminator.hdf5'), generator=keras.models.load_model('drive/MyDrive/radargan_generator.hdf5'))\n",
        "\n",
        "# графическое изображение структуры\n",
        "tf.keras.utils.plot_model(radar_gan.generator, to_file='g.png', show_shapes=True)\n",
        "tf.keras.utils.plot_model(radar_gan.discriminator, to_file='d.png', show_shapes=True)\n",
        "\n",
        "radar_gan.compile(\n",
        "    d_optimizer=keras.optimizers.Adam(learning_rate=0.001),\n",
        "    g_optimizer=keras.optimizers.Adam(learning_rate=0.001),\n",
        "    loss_fn=keras.losses.BinaryCrossentropy()\n",
        ")"
      ]
    },
    {
      "cell_type": "code",
      "execution_count": null,
      "metadata": {
        "id": "8VN_WQrkiRJU"
      },
      "outputs": [],
      "source": [
        "batch_size = 1\n",
        "\n",
        "train_loader = DataLoader('drive/MyDrive/2002-val')\n",
        "# val_loader = DataLoader('drive/MyDrive/2002-val')\n",
        "\n",
        "train_dataset = tf.data.Dataset.from_generator(train_loader, output_types=(tf.float64, tf.float64)).batch(batch_size)\n",
        "# val_dataset = tf.data.Dataset.from_generator(val_loader, output_types=(tf.float64, tf.float64)).batch(batch_size)"
      ]
    },
    {
      "cell_type": "code",
      "execution_count": null,
      "metadata": {
        "colab": {
          "base_uri": "https://localhost:8080/",
          "height": 452
        },
        "id": "09DhgllYjgGT",
        "outputId": "eb46ff52-cf08-4646-ac62-13d46f8cf066"
      },
      "outputs": [
        {
          "output_type": "stream",
          "name": "stdout",
          "text": [
            "Epoch 1/10\n",
            "466/466 [==============================] - 745s 2s/step - g_loss: 0.6932 - d_loss: 1.3863 - g_mae: 1.4002\n",
            "Epoch 2/10\n",
            "466/466 [==============================] - 726s 2s/step - g_loss: 0.6931 - d_loss: 1.3863 - g_mae: 1.4482\n",
            "Epoch 3/10\n",
            " 40/466 [=>............................] - ETA: 11:06 - g_loss: 0.6931 - d_loss: 1.3863 - g_mae: 1.7925"
          ]
        },
        {
          "output_type": "error",
          "ename": "KeyboardInterrupt",
          "evalue": "ignored",
          "traceback": [
            "\u001b[0;31m---------------------------------------------------------------------------\u001b[0m",
            "\u001b[0;31mKeyboardInterrupt\u001b[0m                         Traceback (most recent call last)",
            "\u001b[0;32m<ipython-input-21-808fe93ff1b0>\u001b[0m in \u001b[0;36m<module>\u001b[0;34m\u001b[0m\n\u001b[0;32m----> 1\u001b[0;31m \u001b[0mhist\u001b[0m \u001b[0;34m=\u001b[0m \u001b[0mradar_gan\u001b[0m\u001b[0;34m.\u001b[0m\u001b[0mfit\u001b[0m\u001b[0;34m(\u001b[0m\u001b[0mtrain_dataset\u001b[0m\u001b[0;34m,\u001b[0m \u001b[0mepochs\u001b[0m\u001b[0;34m=\u001b[0m\u001b[0;36m10\u001b[0m\u001b[0;34m)\u001b[0m\u001b[0;34m\u001b[0m\u001b[0;34m\u001b[0m\u001b[0m\n\u001b[0m",
            "\u001b[0;32m/usr/local/lib/python3.8/dist-packages/keras/utils/traceback_utils.py\u001b[0m in \u001b[0;36merror_handler\u001b[0;34m(*args, **kwargs)\u001b[0m\n\u001b[1;32m     63\u001b[0m         \u001b[0mfiltered_tb\u001b[0m \u001b[0;34m=\u001b[0m \u001b[0;32mNone\u001b[0m\u001b[0;34m\u001b[0m\u001b[0;34m\u001b[0m\u001b[0m\n\u001b[1;32m     64\u001b[0m         \u001b[0;32mtry\u001b[0m\u001b[0;34m:\u001b[0m\u001b[0;34m\u001b[0m\u001b[0;34m\u001b[0m\u001b[0m\n\u001b[0;32m---> 65\u001b[0;31m             \u001b[0;32mreturn\u001b[0m \u001b[0mfn\u001b[0m\u001b[0;34m(\u001b[0m\u001b[0;34m*\u001b[0m\u001b[0margs\u001b[0m\u001b[0;34m,\u001b[0m \u001b[0;34m**\u001b[0m\u001b[0mkwargs\u001b[0m\u001b[0;34m)\u001b[0m\u001b[0;34m\u001b[0m\u001b[0;34m\u001b[0m\u001b[0m\n\u001b[0m\u001b[1;32m     66\u001b[0m         \u001b[0;32mexcept\u001b[0m \u001b[0mException\u001b[0m \u001b[0;32mas\u001b[0m \u001b[0me\u001b[0m\u001b[0;34m:\u001b[0m\u001b[0;34m\u001b[0m\u001b[0;34m\u001b[0m\u001b[0m\n\u001b[1;32m     67\u001b[0m             \u001b[0mfiltered_tb\u001b[0m \u001b[0;34m=\u001b[0m \u001b[0m_process_traceback_frames\u001b[0m\u001b[0;34m(\u001b[0m\u001b[0me\u001b[0m\u001b[0;34m.\u001b[0m\u001b[0m__traceback__\u001b[0m\u001b[0;34m)\u001b[0m\u001b[0;34m\u001b[0m\u001b[0;34m\u001b[0m\u001b[0m\n",
            "\u001b[0;32m/usr/local/lib/python3.8/dist-packages/keras/engine/training.py\u001b[0m in \u001b[0;36mfit\u001b[0;34m(self, x, y, batch_size, epochs, verbose, callbacks, validation_split, validation_data, shuffle, class_weight, sample_weight, initial_epoch, steps_per_epoch, validation_steps, validation_batch_size, validation_freq, max_queue_size, workers, use_multiprocessing)\u001b[0m\n\u001b[1;32m   1648\u001b[0m                         ):\n\u001b[1;32m   1649\u001b[0m                             \u001b[0mcallbacks\u001b[0m\u001b[0;34m.\u001b[0m\u001b[0mon_train_batch_begin\u001b[0m\u001b[0;34m(\u001b[0m\u001b[0mstep\u001b[0m\u001b[0;34m)\u001b[0m\u001b[0;34m\u001b[0m\u001b[0;34m\u001b[0m\u001b[0m\n\u001b[0;32m-> 1650\u001b[0;31m                             \u001b[0mtmp_logs\u001b[0m \u001b[0;34m=\u001b[0m \u001b[0mself\u001b[0m\u001b[0;34m.\u001b[0m\u001b[0mtrain_function\u001b[0m\u001b[0;34m(\u001b[0m\u001b[0miterator\u001b[0m\u001b[0;34m)\u001b[0m\u001b[0;34m\u001b[0m\u001b[0;34m\u001b[0m\u001b[0m\n\u001b[0m\u001b[1;32m   1651\u001b[0m                             \u001b[0;32mif\u001b[0m \u001b[0mdata_handler\u001b[0m\u001b[0;34m.\u001b[0m\u001b[0mshould_sync\u001b[0m\u001b[0;34m:\u001b[0m\u001b[0;34m\u001b[0m\u001b[0;34m\u001b[0m\u001b[0m\n\u001b[1;32m   1652\u001b[0m                                 \u001b[0mcontext\u001b[0m\u001b[0;34m.\u001b[0m\u001b[0masync_wait\u001b[0m\u001b[0;34m(\u001b[0m\u001b[0;34m)\u001b[0m\u001b[0;34m\u001b[0m\u001b[0;34m\u001b[0m\u001b[0m\n",
            "\u001b[0;32m/usr/local/lib/python3.8/dist-packages/tensorflow/python/util/traceback_utils.py\u001b[0m in \u001b[0;36merror_handler\u001b[0;34m(*args, **kwargs)\u001b[0m\n\u001b[1;32m    148\u001b[0m     \u001b[0mfiltered_tb\u001b[0m \u001b[0;34m=\u001b[0m \u001b[0;32mNone\u001b[0m\u001b[0;34m\u001b[0m\u001b[0;34m\u001b[0m\u001b[0m\n\u001b[1;32m    149\u001b[0m     \u001b[0;32mtry\u001b[0m\u001b[0;34m:\u001b[0m\u001b[0;34m\u001b[0m\u001b[0;34m\u001b[0m\u001b[0m\n\u001b[0;32m--> 150\u001b[0;31m       \u001b[0;32mreturn\u001b[0m \u001b[0mfn\u001b[0m\u001b[0;34m(\u001b[0m\u001b[0;34m*\u001b[0m\u001b[0margs\u001b[0m\u001b[0;34m,\u001b[0m \u001b[0;34m**\u001b[0m\u001b[0mkwargs\u001b[0m\u001b[0;34m)\u001b[0m\u001b[0;34m\u001b[0m\u001b[0;34m\u001b[0m\u001b[0m\n\u001b[0m\u001b[1;32m    151\u001b[0m     \u001b[0;32mexcept\u001b[0m \u001b[0mException\u001b[0m \u001b[0;32mas\u001b[0m \u001b[0me\u001b[0m\u001b[0;34m:\u001b[0m\u001b[0;34m\u001b[0m\u001b[0;34m\u001b[0m\u001b[0m\n\u001b[1;32m    152\u001b[0m       \u001b[0mfiltered_tb\u001b[0m \u001b[0;34m=\u001b[0m \u001b[0m_process_traceback_frames\u001b[0m\u001b[0;34m(\u001b[0m\u001b[0me\u001b[0m\u001b[0;34m.\u001b[0m\u001b[0m__traceback__\u001b[0m\u001b[0;34m)\u001b[0m\u001b[0;34m\u001b[0m\u001b[0;34m\u001b[0m\u001b[0m\n",
            "\u001b[0;32m/usr/local/lib/python3.8/dist-packages/tensorflow/python/eager/polymorphic_function/polymorphic_function.py\u001b[0m in \u001b[0;36m__call__\u001b[0;34m(self, *args, **kwds)\u001b[0m\n\u001b[1;32m    878\u001b[0m \u001b[0;34m\u001b[0m\u001b[0m\n\u001b[1;32m    879\u001b[0m       \u001b[0;32mwith\u001b[0m \u001b[0mOptionalXlaContext\u001b[0m\u001b[0;34m(\u001b[0m\u001b[0mself\u001b[0m\u001b[0;34m.\u001b[0m\u001b[0m_jit_compile\u001b[0m\u001b[0;34m)\u001b[0m\u001b[0;34m:\u001b[0m\u001b[0;34m\u001b[0m\u001b[0;34m\u001b[0m\u001b[0m\n\u001b[0;32m--> 880\u001b[0;31m         \u001b[0mresult\u001b[0m \u001b[0;34m=\u001b[0m \u001b[0mself\u001b[0m\u001b[0;34m.\u001b[0m\u001b[0m_call\u001b[0m\u001b[0;34m(\u001b[0m\u001b[0;34m*\u001b[0m\u001b[0margs\u001b[0m\u001b[0;34m,\u001b[0m \u001b[0;34m**\u001b[0m\u001b[0mkwds\u001b[0m\u001b[0;34m)\u001b[0m\u001b[0;34m\u001b[0m\u001b[0;34m\u001b[0m\u001b[0m\n\u001b[0m\u001b[1;32m    881\u001b[0m \u001b[0;34m\u001b[0m\u001b[0m\n\u001b[1;32m    882\u001b[0m       \u001b[0mnew_tracing_count\u001b[0m \u001b[0;34m=\u001b[0m \u001b[0mself\u001b[0m\u001b[0;34m.\u001b[0m\u001b[0mexperimental_get_tracing_count\u001b[0m\u001b[0;34m(\u001b[0m\u001b[0;34m)\u001b[0m\u001b[0;34m\u001b[0m\u001b[0;34m\u001b[0m\u001b[0m\n",
            "\u001b[0;32m/usr/local/lib/python3.8/dist-packages/tensorflow/python/eager/polymorphic_function/polymorphic_function.py\u001b[0m in \u001b[0;36m_call\u001b[0;34m(self, *args, **kwds)\u001b[0m\n\u001b[1;32m    910\u001b[0m       \u001b[0;31m# In this case we have created variables on the first call, so we run the\u001b[0m\u001b[0;34m\u001b[0m\u001b[0;34m\u001b[0m\u001b[0;34m\u001b[0m\u001b[0m\n\u001b[1;32m    911\u001b[0m       \u001b[0;31m# defunned version which is guaranteed to never create variables.\u001b[0m\u001b[0;34m\u001b[0m\u001b[0;34m\u001b[0m\u001b[0;34m\u001b[0m\u001b[0m\n\u001b[0;32m--> 912\u001b[0;31m       \u001b[0;32mreturn\u001b[0m \u001b[0mself\u001b[0m\u001b[0;34m.\u001b[0m\u001b[0m_no_variable_creation_fn\u001b[0m\u001b[0;34m(\u001b[0m\u001b[0;34m*\u001b[0m\u001b[0margs\u001b[0m\u001b[0;34m,\u001b[0m \u001b[0;34m**\u001b[0m\u001b[0mkwds\u001b[0m\u001b[0;34m)\u001b[0m  \u001b[0;31m# pylint: disable=not-callable\u001b[0m\u001b[0;34m\u001b[0m\u001b[0;34m\u001b[0m\u001b[0m\n\u001b[0m\u001b[1;32m    913\u001b[0m     \u001b[0;32melif\u001b[0m \u001b[0mself\u001b[0m\u001b[0;34m.\u001b[0m\u001b[0m_variable_creation_fn\u001b[0m \u001b[0;32mis\u001b[0m \u001b[0;32mnot\u001b[0m \u001b[0;32mNone\u001b[0m\u001b[0;34m:\u001b[0m\u001b[0;34m\u001b[0m\u001b[0;34m\u001b[0m\u001b[0m\n\u001b[1;32m    914\u001b[0m       \u001b[0;31m# Release the lock early so that multiple threads can perform the call\u001b[0m\u001b[0;34m\u001b[0m\u001b[0;34m\u001b[0m\u001b[0;34m\u001b[0m\u001b[0m\n",
            "\u001b[0;32m/usr/local/lib/python3.8/dist-packages/tensorflow/python/eager/polymorphic_function/tracing_compiler.py\u001b[0m in \u001b[0;36m__call__\u001b[0;34m(self, *args, **kwargs)\u001b[0m\n\u001b[1;32m    132\u001b[0m       (concrete_function,\n\u001b[1;32m    133\u001b[0m        filtered_flat_args) = self._maybe_define_function(args, kwargs)\n\u001b[0;32m--> 134\u001b[0;31m     return concrete_function._call_flat(\n\u001b[0m\u001b[1;32m    135\u001b[0m         filtered_flat_args, captured_inputs=concrete_function.captured_inputs)  # pylint: disable=protected-access\n\u001b[1;32m    136\u001b[0m \u001b[0;34m\u001b[0m\u001b[0m\n",
            "\u001b[0;32m/usr/local/lib/python3.8/dist-packages/tensorflow/python/eager/polymorphic_function/monomorphic_function.py\u001b[0m in \u001b[0;36m_call_flat\u001b[0;34m(self, args, captured_inputs, cancellation_manager)\u001b[0m\n\u001b[1;32m   1743\u001b[0m         and executing_eagerly):\n\u001b[1;32m   1744\u001b[0m       \u001b[0;31m# No tape is watching; skip to running the function.\u001b[0m\u001b[0;34m\u001b[0m\u001b[0;34m\u001b[0m\u001b[0;34m\u001b[0m\u001b[0m\n\u001b[0;32m-> 1745\u001b[0;31m       return self._build_call_outputs(self._inference_function.call(\n\u001b[0m\u001b[1;32m   1746\u001b[0m           ctx, args, cancellation_manager=cancellation_manager))\n\u001b[1;32m   1747\u001b[0m     forward_backward = self._select_forward_and_backward_functions(\n",
            "\u001b[0;32m/usr/local/lib/python3.8/dist-packages/tensorflow/python/eager/polymorphic_function/monomorphic_function.py\u001b[0m in \u001b[0;36mcall\u001b[0;34m(self, ctx, args, cancellation_manager)\u001b[0m\n\u001b[1;32m    376\u001b[0m       \u001b[0;32mwith\u001b[0m \u001b[0m_InterpolateFunctionError\u001b[0m\u001b[0;34m(\u001b[0m\u001b[0mself\u001b[0m\u001b[0;34m)\u001b[0m\u001b[0;34m:\u001b[0m\u001b[0;34m\u001b[0m\u001b[0;34m\u001b[0m\u001b[0m\n\u001b[1;32m    377\u001b[0m         \u001b[0;32mif\u001b[0m \u001b[0mcancellation_manager\u001b[0m \u001b[0;32mis\u001b[0m \u001b[0;32mNone\u001b[0m\u001b[0;34m:\u001b[0m\u001b[0;34m\u001b[0m\u001b[0;34m\u001b[0m\u001b[0m\n\u001b[0;32m--> 378\u001b[0;31m           outputs = execute.execute(\n\u001b[0m\u001b[1;32m    379\u001b[0m               \u001b[0mstr\u001b[0m\u001b[0;34m(\u001b[0m\u001b[0mself\u001b[0m\u001b[0;34m.\u001b[0m\u001b[0msignature\u001b[0m\u001b[0;34m.\u001b[0m\u001b[0mname\u001b[0m\u001b[0;34m)\u001b[0m\u001b[0;34m,\u001b[0m\u001b[0;34m\u001b[0m\u001b[0;34m\u001b[0m\u001b[0m\n\u001b[1;32m    380\u001b[0m               \u001b[0mnum_outputs\u001b[0m\u001b[0;34m=\u001b[0m\u001b[0mself\u001b[0m\u001b[0;34m.\u001b[0m\u001b[0m_num_outputs\u001b[0m\u001b[0;34m,\u001b[0m\u001b[0;34m\u001b[0m\u001b[0;34m\u001b[0m\u001b[0m\n",
            "\u001b[0;32m/usr/local/lib/python3.8/dist-packages/tensorflow/python/eager/execute.py\u001b[0m in \u001b[0;36mquick_execute\u001b[0;34m(op_name, num_outputs, inputs, attrs, ctx, name)\u001b[0m\n\u001b[1;32m     50\u001b[0m   \u001b[0;32mtry\u001b[0m\u001b[0;34m:\u001b[0m\u001b[0;34m\u001b[0m\u001b[0;34m\u001b[0m\u001b[0m\n\u001b[1;32m     51\u001b[0m     \u001b[0mctx\u001b[0m\u001b[0;34m.\u001b[0m\u001b[0mensure_initialized\u001b[0m\u001b[0;34m(\u001b[0m\u001b[0;34m)\u001b[0m\u001b[0;34m\u001b[0m\u001b[0;34m\u001b[0m\u001b[0m\n\u001b[0;32m---> 52\u001b[0;31m     tensors = pywrap_tfe.TFE_Py_Execute(ctx._handle, device_name, op_name,\n\u001b[0m\u001b[1;32m     53\u001b[0m                                         inputs, attrs, num_outputs)\n\u001b[1;32m     54\u001b[0m   \u001b[0;32mexcept\u001b[0m \u001b[0mcore\u001b[0m\u001b[0;34m.\u001b[0m\u001b[0m_NotOkStatusException\u001b[0m \u001b[0;32mas\u001b[0m \u001b[0me\u001b[0m\u001b[0;34m:\u001b[0m\u001b[0;34m\u001b[0m\u001b[0;34m\u001b[0m\u001b[0m\n",
            "\u001b[0;31mKeyboardInterrupt\u001b[0m: "
          ]
        }
      ],
      "source": [
        "hist = radar_gan.fit(train_dataset, epochs=10)"
      ]
    },
    {
      "cell_type": "code",
      "execution_count": null,
      "metadata": {
        "id": "1EzgqNFbauDQ"
      },
      "outputs": [],
      "source": [
        "radar_gan.generator.save('drive/MyDrive/radargan_generator_new.hdf5')\n",
        "radar_gan.discriminator.save('drive/MyDrive/radargan_discriminator_new.hdf5')"
      ]
    },
    {
      "cell_type": "code",
      "execution_count": null,
      "metadata": {
        "id": "mAFADMCkjThD"
      },
      "outputs": [],
      "source": [
        "import matplotlib.pyplot as plt\n",
        "\n",
        "def plot_output(gan, dataset, channel=0, n_examples=5):\n",
        "    dataset = dataset.as_numpy_iterator()\n",
        "    figure, axis = plt.subplots(4, n_examples)\n",
        "\n",
        "    for i in range(n_examples):\n",
        "        x, y = dataset.next()\n",
        "        fake = radar_gan.generator.predict([x, np.random.rand(y.shape[0], y.shape[1], y.shape[2], 1)])\n",
        "        d_real = radar_gan.discriminator.predict([x, y])\n",
        "        d_fake = radar_gan.discriminator.predict([x, fake])\n",
        "\n",
        "        axis[0, i].imshow(y[0, :, :, channel])\n",
        "        axis[0, i].set_title(\"R\")\n",
        "\n",
        "        axis[1, i].imshow(fake[0, :, :, channel])\n",
        "        axis[1, i].set_title(\"G\")\n",
        "\n",
        "        axis[2, i].imshow((y-fake)[0, :, :, channel])\n",
        "        axis[2, i].set_title(\"R - G\")\n",
        "\n",
        "        axis[3, i].hist((y-fake)[0, :, :, channel])\n",
        "        axis[2, i].set_title(\"R - G distr\")\n",
        "\n",
        "    plt.show()\n",
        "    plt.hist\n",
        "\n",
        "        # axis[3, i].imshow(d_fake[:, :])\n",
        "        # axis[3, i].set_title(\"Discriminated fake data\")"
      ]
    },
    {
      "cell_type": "code",
      "execution_count": null,
      "metadata": {
        "id": "TMH_q8lbslee",
        "colab": {
          "base_uri": "https://localhost:8080/",
          "height": 557
        },
        "outputId": "69474784-06c2-4f31-ac02-8d9b02964beb"
      },
      "outputs": [
        {
          "output_type": "stream",
          "name": "stdout",
          "text": [
            "1/1 [==============================] - 0s 41ms/step\n",
            "1/1 [==============================] - 0s 38ms/step\n",
            "1/1 [==============================] - 0s 24ms/step\n",
            "1/1 [==============================] - 0s 52ms/step\n",
            "1/1 [==============================] - 0s 29ms/step\n",
            "1/1 [==============================] - 0s 25ms/step\n",
            "1/1 [==============================] - 0s 66ms/step\n",
            "1/1 [==============================] - 0s 64ms/step\n",
            "1/1 [==============================] - 0s 34ms/step\n",
            "1/1 [==============================] - 0s 41ms/step\n",
            "1/1 [==============================] - 0s 41ms/step\n",
            "1/1 [==============================] - 0s 62ms/step\n",
            "1/1 [==============================] - 0s 39ms/step\n",
            "1/1 [==============================] - 0s 71ms/step\n",
            "1/1 [==============================] - 0s 25ms/step\n"
          ]
        },
        {
          "output_type": "display_data",
          "data": {
            "text/plain": [
              "<Figure size 432x288 with 20 Axes>"
            ],
            "image/png": "[encoded data removed]"
          },
          "metadata": {
            "needs_background": "light"
          }
        }
      ],
      "source": [
        "plot_output(radar_gan, train_dataset)"
      ]
    },
    {
      "cell_type": "code",
      "execution_count": null,
      "metadata": {
        "id": "t0mhK3uiNQi2"
      },
      "outputs": [],
      "source": [
        "for x, y in train_dataset:\n",
        "    fake = radar_gan.generator.predict([x, np.random.rand(y.shape[0], y.shape[1], y.shape[2], 7)])\n",
        "    print('real: ', radar_gan.discriminator.predict([x, y]))\n",
        "    print('fake: ', radar_gan.discriminator.predict([x, fake]))\n",
        "    break"
      ]
    },
    {
      "cell_type": "code",
      "execution_count": null,
      "metadata": {
        "id": "h7mXttCRQJvU",
        "colab": {
          "base_uri": "https://localhost:8080/"
        },
        "outputId": "c55ffa3f-96ac-4f90-803d-fccd06a9f424"
      },
      "outputs": [
        {
          "output_type": "stream",
          "name": "stdout",
          "text": [
            "(1, 70, 5040, 1) (1, 70, 60, 1)\n"
          ]
        }
      ],
      "source": [
        "for x, y in train_dataset:\n",
        "    print(x.shape, y.shape)\n",
        "    break"
      ]
    }
  ],
  "metadata": {
    "accelerator": "GPU",
    "colab": {
      "provenance": [],
      "authorship_tag": "ABX9TyPmtMU7TzUoKbWWuyDH/XE3",
      "include_colab_link": true
    },
    "gpuClass": "standard",
    "kernelspec": {
      "display_name": "Python 3",
      "name": "python3"
    },
    "language_info": {
      "name": "python"
    }
  },
  "nbformat": 4,
  "nbformat_minor": 0
}