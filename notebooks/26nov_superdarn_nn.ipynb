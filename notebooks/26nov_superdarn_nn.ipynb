{
  "cells": [
    {
      "cell_type": "code",
      "execution_count": null,
      "metadata": {
        "colab": {
          "base_uri": "https://localhost:8080/"
        },
        "id": "oUvmapqIM4OZ",
        "outputId": "b3b09335-952f-410a-87f2-d02af45fcbc0"
      },
      "outputs": [
        {
          "output_type": "stream",
          "name": "stdout",
          "text": [
            "Mounted at /content/drive\n"
          ]
        }
      ],
      "source": [
        "from google.colab import drive\n",
        "drive.mount('/content/drive')"
      ]
    },
    {
      "cell_type": "code",
      "execution_count": null,
      "metadata": {
        "id": "zX_kN8Z3OQA0"
      },
      "outputs": [],
      "source": [
        "import os\n",
        "import numpy as np\n",
        "from datetime import datetime, timedelta\n",
        "import random"
      ]
    },
    {
      "cell_type": "code",
      "execution_count": null,
      "metadata": {
        "id": "yH7LxnuUOSW0"
      },
      "outputs": [],
      "source": [
        "class DataLoader:\n",
        "    def __init__(self,\n",
        "                 datapath,\n",
        "                 shuffle=True):\n",
        "        self.shuffle = shuffle\n",
        "        self.data = {}\n",
        "\n",
        "        for root, _, files in os.walk(datapath):\n",
        "            for name in files:\n",
        "                filename = name.split('.')\n",
        "                self.data[filename[0] + filename[1]] = np.load(os.path.join(root, name))\n",
        "\n",
        "    def __call__(self):\n",
        "        keys = list(self.data.keys())\n",
        "        if self.shuffle:\n",
        "            random.shuffle(keys)\n",
        "        # итерация по ключам в словаре self.data\n",
        "        for key in keys:\n",
        "            # если маска целевого значения пустая, то пропускаем пример\n",
        "            if np.all(self.data[key][:,:,-1,:,:] == 0.):\n",
        "                continue\n",
        "            seq = self.__getSequence(key)\n",
        "            arrays = []\n",
        "            badCount = 0\n",
        "            # итерация по историческим данным\n",
        "            for item in seq:\n",
        "                # некоторые исторические данные могут отсутствовать\n",
        "                try:\n",
        "                    if np.all(self.data[item][:,:,-1,:,:] == 0.):\n",
        "                        badCount += 1\n",
        "                    arrays.append(self.data[item])\n",
        "                except KeyError:\n",
        "                    # print(f'No key: {item}')\n",
        "                    badCount += 1\n",
        "                    arrays.append(np.zeros_like(self.data[key]))\n",
        "            # если пропусков в данных больше чем 30%, то пропускаем пример\n",
        "            # print(f'Bad count: {badCount}')\n",
        "            if badCount / len(arrays) > 0.3:\n",
        "                continue\n",
        "            else:\n",
        "                x = np.concatenate(arrays, axis=1)\n",
        "                y = self.data[key]\n",
        "                for beam in range(16):\n",
        "                    yield x[:,:,:,beam,0], y[:,:,:-1,beam,0]\n",
        "    \n",
        "    def __getSequence(self, key):\n",
        "        keyDT = datetime.strptime(key, '%Y%m%d%H%M')\n",
        "        # список массивов периодов за неделю до целевого массива\n",
        "        weekBefore = []\n",
        "        for i in range(24*7, 0, -2):\n",
        "            hoursBefore = (keyDT-timedelta(hours=i)).strftime('%Y%m%d%H%M')\n",
        "            weekBefore.append(hoursBefore)\n",
        "        return weekBefore"
      ]
    },
    {
      "cell_type": "code",
      "execution_count": null,
      "metadata": {
        "id": "c4T3dNYhO5QV"
      },
      "outputs": [],
      "source": [
        "import tensorflow as tf\n",
        "import matplotlib.pyplot as plt"
      ]
    },
    {
      "cell_type": "code",
      "execution_count": null,
      "metadata": {
        "id": "HQxSf1TbO7hQ"
      },
      "outputs": [],
      "source": [
        "batch_size = 1\n",
        "\n",
        "train_loader = DataLoader('drive/MyDrive/2002-train')\n",
        "# val_loader = DataLoader('drive/MyDrive/2002-val')\n",
        "\n",
        "train_dataset = tf.data.Dataset.from_generator(train_loader,\n",
        "                                         output_types=(tf.float64, tf.float64)).batch(batch_size)\n",
        "# val_dataset = tf.data.Dataset.from_generator(val_loader,\n",
        "#                                          output_types=(tf.float64, tf.float64)).batch(batch_size)"
      ]
    },
    {
      "cell_type": "code",
      "execution_count": null,
      "metadata": {
        "id": "NHlGYc3Ax7WJ"
      },
      "outputs": [],
      "source": [
        "# for x, y in train_loader:\n",
        "#     print(x.shape, y.shape)\n",
        "#     new_x = model(x.reshape([1] + list(x.shape)))\n",
        "\n",
        "#     fig, axs = plt.subplots(2, 2)\n",
        "\n",
        "#     axs[0, 0].imshow(x[:, :60, -1])\n",
        "#     axs[0, 0].set_title(\"x at 0\")\n",
        "\n",
        "#     axs[1, 0].imshow(new_x[0, 0, :, :, -1])\n",
        "#     axs[1, 0].set_title(\"new_x at 0\")\n",
        "\n",
        "#     axs[0, 1].imshow(x[:, 60*49:60*50, -1])\n",
        "#     axs[0, 1].set_title(\"x at 50\")\n",
        "\n",
        "#     axs[1, 1].imshow(new_x[0, 49, :, :, -1])\n",
        "#     axs[1, 1].set_title(\"new_x at 50\")\n",
        "\n",
        "#     plt.show()\n",
        "\n",
        "#     break"
      ]
    },
    {
      "cell_type": "code",
      "execution_count": null,
      "metadata": {
        "id": "RVkee7tSPHNy"
      },
      "outputs": [],
      "source": [
        "def make_generator_model():\n",
        "    inp = tf.keras.layers.Input(shape=(70, 5040, 7))\n",
        "\n",
        "    reshape = tf.keras.layers.Reshape(target_shape=(70, 5040//60, 60, 7))(inp)\n",
        "\n",
        "    permute = tf.keras.layers.Permute((2,1,3,4))(reshape)\n",
        "\n",
        "    x = tf.keras.layers.ConvLSTM2D(\n",
        "        filters=64,\n",
        "        kernel_size=(1, 1),\n",
        "        # padding=\"same\",\n",
        "        return_sequences=True,\n",
        "        data_format='channels_last',\n",
        "        # activation=\"relu\",\n",
        "    )(permute)\n",
        "    x = tf.keras.layers.BatchNormalization()(x)\n",
        "    x = tf.keras.layers.LeakyReLU(0.3)(x)\n",
        "\n",
        "    x = tf.keras.layers.ConvLSTM2D(\n",
        "        filters=64,\n",
        "        kernel_size=(3, 3),\n",
        "        # padding=\"same\",\n",
        "        return_sequences=True,\n",
        "        data_format='channels_last',\n",
        "        # activation=\"relu\",\n",
        "    )(x)\n",
        "    x = tf.keras.layers.BatchNormalization()(x)\n",
        "    x = tf.keras.layers.LeakyReLU(0.3)(x)\n",
        "\n",
        "    x = tf.keras.layers.ConvLSTM2D(\n",
        "        filters=64,\n",
        "        kernel_size=(5, 5),\n",
        "        # padding=\"same\",\n",
        "        return_sequences=True,\n",
        "        data_format='channels_last',\n",
        "        # activation=\"relu\",\n",
        "    )(x)\n",
        "    x = tf.keras.layers.LeakyReLU(0.3)(x)\n",
        "\n",
        "    x = tf.keras.layers.Conv3D(\n",
        "        filters=6, kernel_size=(7, 8, 8)\n",
        "    )(x)\n",
        "    x = tf.keras.layers.LeakyReLU(0.3)(x)\n",
        "\n",
        "    x = tf.keras.layers.Conv3D(\n",
        "        filters=6, kernel_size=(28, 10, 10)\n",
        "    )(x)\n",
        "    x = tf.keras.layers.LeakyReLU(0.3)(x)\n",
        "\n",
        "    x = tf.keras.layers.Conv3D(\n",
        "        filters=6, kernel_size=(51, 14, 14)\n",
        "    )(x)\n",
        "    x = tf.keras.layers.LeakyReLU(0.3)(x)\n",
        "\n",
        "    x = tf.keras.layers.Conv3DTranspose(\n",
        "        filters=6, kernel_size=(1, 36, 36), activation=\"linear\"\n",
        "    )(x)\n",
        "\n",
        "    x = tf.keras.layers.Reshape(target_shape=(70, 60, 6))(x)\n",
        "\n",
        "    model = tf.keras.models.Model(inp, x)\n",
        "\n",
        "    return model\n",
        "\n",
        "# model = make_generator_model()\n",
        "# model.summary()"
      ]
    },
    {
      "cell_type": "code",
      "execution_count": null,
      "metadata": {
        "id": "lEUuMqGoAE55"
      },
      "outputs": [],
      "source": [
        "from tensorflow import keras\n",
        "\n",
        "def make_discriminator_model():\n",
        "    hist_inp = keras.layers.Input(shape=(70, 5040, 7))\n",
        "    hist_x = keras.layers.Conv2D(filters=6, kernel_size=(5, 60))(hist_inp)\n",
        "    hist_x = keras.layers.BatchNormalization()(hist_x)\n",
        "    hist_x = keras.layers.LeakyReLU(0.3)(hist_x)\n",
        "\n",
        "    hist_x = keras.layers.Conv2D(filters=16, kernel_size=(5, 60*12), strides=(2,2))(hist_x)\n",
        "    hist_x = keras.layers.BatchNormalization()(hist_x)\n",
        "    hist_x = keras.layers.LeakyReLU(0.3)(hist_x)\n",
        "\n",
        "    # model = keras.models.Model(hist_inp, hist_x, name='discriminator')\n",
        "    # return model\n",
        "\n",
        "    gen_out_inp = keras.layers.Input(shape=(70, 60, 6))\n",
        "    gen_out_x = keras.layers.Conv2D(filters=6, kernel_size=(5, 5))(gen_out_inp)\n",
        "    gen_out_x = keras.layers.BatchNormalization()(gen_out_x)\n",
        "    gen_out_x = keras.layers.LeakyReLU(0.3)(gen_out_x)\n",
        "\n",
        "    gen_out_x = keras.layers.Conv2D(filters=16, kernel_size=(5, 5), strides=(2,2))(gen_out_x)\n",
        "    gen_out_x = keras.layers.BatchNormalization()(gen_out_x)\n",
        "    gen_out_x = keras.layers.LeakyReLU(0.3)(gen_out_x)\n",
        "\n",
        "    # model = keras.models.Model(gen_out_inp, gen_out_x)\n",
        "    # return model\n",
        "\n",
        "    joined = keras.layers.Concatenate(axis=2)([hist_x, gen_out_x])\n",
        "    joined = keras.layers.Conv2D(filters=16, kernel_size=(1, 5))(joined)\n",
        "    joined = keras.layers.BatchNormalization()(joined)\n",
        "    joined = keras.layers.LeakyReLU(0.3)(joined)\n",
        "\n",
        "    joined = keras.layers.Conv2D(filters=16, kernel_size=(1, 5), strides=(1,2))(joined)\n",
        "    joined = keras.layers.BatchNormalization()(joined)\n",
        "    joined = keras.layers.LeakyReLU(0.3)(joined)\n",
        "\n",
        "    joined = keras.layers.Conv2D(filters=6, kernel_size=(1, 5), strides=(1,2))(joined)\n",
        "    joined = keras.layers.BatchNormalization()(joined)\n",
        "    joined = keras.layers.LeakyReLU(0.3)(joined)\n",
        "\n",
        "    joined = keras.layers.Conv2D(filters=6, kernel_size=(1, 5),strides=(1,2))(joined)\n",
        "    joined = keras.layers.BatchNormalization()(joined)\n",
        "    joined = keras.layers.LeakyReLU(0.3)(joined)\n",
        "\n",
        "    joined = keras.layers.Conv2D(filters=6, kernel_size=(1, 5),strides=(1,2))(joined)\n",
        "    joined = keras.layers.BatchNormalization()(joined)\n",
        "    joined = keras.layers.LeakyReLU(0.3)(joined)\n",
        "\n",
        "    joined = keras.layers.Flatten()(joined)\n",
        "    joined = keras.layers.Dense(60, activation='sigmoid')(joined)\n",
        "    \n",
        "    model = keras.models.Model([hist_inp, gen_out_inp], joined, name='discriminator')\n",
        "    return model\n",
        "\n",
        "# model = make_discriminator_model()\n",
        "# model.summary()"
      ]
    },
    {
      "cell_type": "code",
      "execution_count": null,
      "metadata": {
        "id": "br_L46wYIN80"
      },
      "outputs": [],
      "source": [
        "cross_entropy = tf.keras.losses.BinaryCrossentropy()"
      ]
    },
    {
      "cell_type": "code",
      "execution_count": null,
      "metadata": {
        "id": "dPwvy197IOoN"
      },
      "outputs": [],
      "source": [
        "def discriminator_loss(real_output, fake_output):\n",
        "    real_loss = cross_entropy(tf.ones_like(real_output), real_output)\n",
        "    fake_loss = cross_entropy(tf.zeros_like(fake_output), fake_output)\n",
        "    total_loss = real_loss + fake_loss\n",
        "    return total_loss"
      ]
    },
    {
      "cell_type": "code",
      "execution_count": null,
      "metadata": {
        "id": "5IxtG57oIaGU"
      },
      "outputs": [],
      "source": [
        "def generator_loss(fake_output):\n",
        "    return cross_entropy(tf.ones_like(fake_output), fake_output)"
      ]
    },
    {
      "cell_type": "code",
      "execution_count": null,
      "metadata": {
        "id": "IgTZwThZIcOJ"
      },
      "outputs": [],
      "source": [
        "generator_optimizer = tf.keras.optimizers.Adam(1e-4)\n",
        "discriminator_optimizer = tf.keras.optimizers.Adam(1e-4)"
      ]
    },
    {
      "cell_type": "code",
      "execution_count": null,
      "metadata": {
        "id": "vmvwtHklIpPY"
      },
      "outputs": [],
      "source": [
        "generator = make_generator_model()\n",
        "discriminator = make_discriminator_model()\n",
        "\n",
        "gen_loss_tracker = keras.metrics.Mean(name=\"generator_loss\")\n",
        "disc_loss_tracker = keras.metrics.Mean(name=\"discriminator_loss\")\n",
        "gen_mae_tracker = keras.metrics.Mean(name=\"generator_mae\")"
      ]
    },
    {
      "cell_type": "code",
      "execution_count": null,
      "metadata": {
        "id": "RHFXDc7cIcro"
      },
      "outputs": [],
      "source": [
        "@tf.function\n",
        "def train_step(x, y):\n",
        "\n",
        "    with tf.GradientTape() as gen_tape, tf.GradientTape() as disc_tape:\n",
        "      generated_images = generator(x, training=True)\n",
        "\n",
        "      real_output = discriminator([x, y], training=True)\n",
        "      fake_output = discriminator([x, generated_images], training=True)\n",
        "\n",
        "      gen_loss = generator_loss(fake_output)\n",
        "      disc_loss = discriminator_loss(real_output, fake_output)\n",
        "\n",
        "    #   tf.print(f'gen_loss: {gen_loss}, disc_loss: {disc_loss}')\n",
        "\n",
        "    gradients_of_generator = gen_tape.gradient(gen_loss, generator.trainable_variables)\n",
        "    gradients_of_discriminator = disc_tape.gradient(disc_loss, discriminator.trainable_variables)\n",
        "\n",
        "    generator_optimizer.apply_gradients(zip(gradients_of_generator, generator.trainable_variables))\n",
        "    discriminator_optimizer.apply_gradients(zip(gradients_of_discriminator, discriminator.trainable_variables))"
      ]
    },
    {
      "cell_type": "code",
      "execution_count": null,
      "metadata": {
        "id": "6VFLlWsbJNNo"
      },
      "outputs": [],
      "source": [
        "from tqdm import tqdm\n",
        "def train(dataset, epochs):\n",
        "    for epoch in range(epochs):\n",
        "        for x, y in dataset:\n",
        "            train_step(x, y)"
      ]
    },
    {
      "cell_type": "code",
      "execution_count": null,
      "metadata": {
        "colab": {
          "base_uri": "https://localhost:8080/",
          "height": 324
        },
        "id": "1yYPsioTL1sJ",
        "outputId": "b1b67007-4142-4384-c76a-48e167f99727"
      },
      "outputs": [
        {
          "output_type": "error",
          "ename": "KeyboardInterrupt",
          "evalue": "ignored",
          "traceback": [
            "\u001b[0;31m---------------------------------------------------------------------------\u001b[0m",
            "\u001b[0;31mKeyboardInterrupt\u001b[0m                         Traceback (most recent call last)",
            "\u001b[0;32m<ipython-input-16-5df6ad43e660>\u001b[0m in \u001b[0;36m<module>\u001b[0;34m\u001b[0m\n\u001b[0;32m----> 1\u001b[0;31m \u001b[0mtrain\u001b[0m\u001b[0;34m(\u001b[0m\u001b[0mtrain_dataset\u001b[0m\u001b[0;34m,\u001b[0m \u001b[0;36m100\u001b[0m\u001b[0;34m)\u001b[0m\u001b[0;34m\u001b[0m\u001b[0;34m\u001b[0m\u001b[0m\n\u001b[0m",
            "\u001b[0;32m<ipython-input-15-3db54a8bd477>\u001b[0m in \u001b[0;36mtrain\u001b[0;34m(dataset, epochs)\u001b[0m\n\u001b[1;32m      2\u001b[0m   \u001b[0;32mfor\u001b[0m \u001b[0mepoch\u001b[0m \u001b[0;32min\u001b[0m \u001b[0mrange\u001b[0m\u001b[0;34m(\u001b[0m\u001b[0mepochs\u001b[0m\u001b[0;34m)\u001b[0m\u001b[0;34m:\u001b[0m\u001b[0;34m\u001b[0m\u001b[0;34m\u001b[0m\u001b[0m\n\u001b[1;32m      3\u001b[0m     \u001b[0;32mfor\u001b[0m \u001b[0mx\u001b[0m\u001b[0;34m,\u001b[0m \u001b[0my\u001b[0m \u001b[0;32min\u001b[0m \u001b[0mdataset\u001b[0m\u001b[0;34m:\u001b[0m\u001b[0;34m\u001b[0m\u001b[0;34m\u001b[0m\u001b[0m\n\u001b[0;32m----> 4\u001b[0;31m       \u001b[0mtrain_step\u001b[0m\u001b[0;34m(\u001b[0m\u001b[0mx\u001b[0m\u001b[0;34m,\u001b[0m \u001b[0my\u001b[0m\u001b[0;34m)\u001b[0m\u001b[0;34m\u001b[0m\u001b[0;34m\u001b[0m\u001b[0m\n\u001b[0m",
            "\u001b[0;32m/usr/local/lib/python3.7/dist-packages/tensorflow/python/util/traceback_utils.py\u001b[0m in \u001b[0;36merror_handler\u001b[0;34m(*args, **kwargs)\u001b[0m\n\u001b[1;32m    148\u001b[0m     \u001b[0mfiltered_tb\u001b[0m \u001b[0;34m=\u001b[0m \u001b[0;32mNone\u001b[0m\u001b[0;34m\u001b[0m\u001b[0;34m\u001b[0m\u001b[0m\n\u001b[1;32m    149\u001b[0m     \u001b[0;32mtry\u001b[0m\u001b[0;34m:\u001b[0m\u001b[0;34m\u001b[0m\u001b[0;34m\u001b[0m\u001b[0m\n\u001b[0;32m--> 150\u001b[0;31m       \u001b[0;32mreturn\u001b[0m \u001b[0mfn\u001b[0m\u001b[0;34m(\u001b[0m\u001b[0;34m*\u001b[0m\u001b[0margs\u001b[0m\u001b[0;34m,\u001b[0m \u001b[0;34m**\u001b[0m\u001b[0mkwargs\u001b[0m\u001b[0;34m)\u001b[0m\u001b[0;34m\u001b[0m\u001b[0;34m\u001b[0m\u001b[0m\n\u001b[0m\u001b[1;32m    151\u001b[0m     \u001b[0;32mexcept\u001b[0m \u001b[0mException\u001b[0m \u001b[0;32mas\u001b[0m \u001b[0me\u001b[0m\u001b[0;34m:\u001b[0m\u001b[0;34m\u001b[0m\u001b[0;34m\u001b[0m\u001b[0m\n\u001b[1;32m    152\u001b[0m       \u001b[0mfiltered_tb\u001b[0m \u001b[0;34m=\u001b[0m \u001b[0m_process_traceback_frames\u001b[0m\u001b[0;34m(\u001b[0m\u001b[0me\u001b[0m\u001b[0;34m.\u001b[0m\u001b[0m__traceback__\u001b[0m\u001b[0;34m)\u001b[0m\u001b[0;34m\u001b[0m\u001b[0;34m\u001b[0m\u001b[0m\n",
            "\u001b[0;32m/usr/local/lib/python3.7/dist-packages/tensorflow/python/eager/def_function.py\u001b[0m in \u001b[0;36m__call__\u001b[0;34m(self, *args, **kwds)\u001b[0m\n\u001b[1;32m    913\u001b[0m \u001b[0;34m\u001b[0m\u001b[0m\n\u001b[1;32m    914\u001b[0m       \u001b[0;32mwith\u001b[0m \u001b[0mOptionalXlaContext\u001b[0m\u001b[0;34m(\u001b[0m\u001b[0mself\u001b[0m\u001b[0;34m.\u001b[0m\u001b[0m_jit_compile\u001b[0m\u001b[0;34m)\u001b[0m\u001b[0;34m:\u001b[0m\u001b[0;34m\u001b[0m\u001b[0;34m\u001b[0m\u001b[0m\n\u001b[0;32m--> 915\u001b[0;31m         \u001b[0mresult\u001b[0m \u001b[0;34m=\u001b[0m \u001b[0mself\u001b[0m\u001b[0;34m.\u001b[0m\u001b[0m_call\u001b[0m\u001b[0;34m(\u001b[0m\u001b[0;34m*\u001b[0m\u001b[0margs\u001b[0m\u001b[0;34m,\u001b[0m \u001b[0;34m**\u001b[0m\u001b[0mkwds\u001b[0m\u001b[0;34m)\u001b[0m\u001b[0;34m\u001b[0m\u001b[0;34m\u001b[0m\u001b[0m\n\u001b[0m\u001b[1;32m    916\u001b[0m \u001b[0;34m\u001b[0m\u001b[0m\n\u001b[1;32m    917\u001b[0m       \u001b[0mnew_tracing_count\u001b[0m \u001b[0;34m=\u001b[0m \u001b[0mself\u001b[0m\u001b[0;34m.\u001b[0m\u001b[0mexperimental_get_tracing_count\u001b[0m\u001b[0;34m(\u001b[0m\u001b[0;34m)\u001b[0m\u001b[0;34m\u001b[0m\u001b[0;34m\u001b[0m\u001b[0m\n",
            "\u001b[0;32m/usr/local/lib/python3.7/dist-packages/tensorflow/python/eager/def_function.py\u001b[0m in \u001b[0;36m_call\u001b[0;34m(self, *args, **kwds)\u001b[0m\n\u001b[1;32m    945\u001b[0m       \u001b[0;31m# In this case we have created variables on the first call, so we run the\u001b[0m\u001b[0;34m\u001b[0m\u001b[0;34m\u001b[0m\u001b[0;34m\u001b[0m\u001b[0m\n\u001b[1;32m    946\u001b[0m       \u001b[0;31m# defunned version which is guaranteed to never create variables.\u001b[0m\u001b[0;34m\u001b[0m\u001b[0;34m\u001b[0m\u001b[0;34m\u001b[0m\u001b[0m\n\u001b[0;32m--> 947\u001b[0;31m       \u001b[0;32mreturn\u001b[0m \u001b[0mself\u001b[0m\u001b[0;34m.\u001b[0m\u001b[0m_stateless_fn\u001b[0m\u001b[0;34m(\u001b[0m\u001b[0;34m*\u001b[0m\u001b[0margs\u001b[0m\u001b[0;34m,\u001b[0m \u001b[0;34m**\u001b[0m\u001b[0mkwds\u001b[0m\u001b[0;34m)\u001b[0m  \u001b[0;31m# pylint: disable=not-callable\u001b[0m\u001b[0;34m\u001b[0m\u001b[0;34m\u001b[0m\u001b[0m\n\u001b[0m\u001b[1;32m    948\u001b[0m     \u001b[0;32melif\u001b[0m \u001b[0mself\u001b[0m\u001b[0;34m.\u001b[0m\u001b[0m_stateful_fn\u001b[0m \u001b[0;32mis\u001b[0m \u001b[0;32mnot\u001b[0m \u001b[0;32mNone\u001b[0m\u001b[0;34m:\u001b[0m\u001b[0;34m\u001b[0m\u001b[0;34m\u001b[0m\u001b[0m\n\u001b[1;32m    949\u001b[0m       \u001b[0;31m# Release the lock early so that multiple threads can perform the call\u001b[0m\u001b[0;34m\u001b[0m\u001b[0;34m\u001b[0m\u001b[0;34m\u001b[0m\u001b[0m\n",
            "\u001b[0;32m/usr/local/lib/python3.7/dist-packages/tensorflow/python/eager/function.py\u001b[0m in \u001b[0;36m__call__\u001b[0;34m(self, *args, **kwargs)\u001b[0m\n\u001b[1;32m   2452\u001b[0m        filtered_flat_args) = self._maybe_define_function(args, kwargs)\n\u001b[1;32m   2453\u001b[0m     return graph_function._call_flat(\n\u001b[0;32m-> 2454\u001b[0;31m         filtered_flat_args, captured_inputs=graph_function.captured_inputs)  # pylint: disable=protected-access\n\u001b[0m\u001b[1;32m   2455\u001b[0m \u001b[0;34m\u001b[0m\u001b[0m\n\u001b[1;32m   2456\u001b[0m   \u001b[0;34m@\u001b[0m\u001b[0mproperty\u001b[0m\u001b[0;34m\u001b[0m\u001b[0;34m\u001b[0m\u001b[0m\n",
            "\u001b[0;32m/usr/local/lib/python3.7/dist-packages/tensorflow/python/eager/function.py\u001b[0m in \u001b[0;36m_call_flat\u001b[0;34m(self, args, captured_inputs, cancellation_manager)\u001b[0m\n\u001b[1;32m   1859\u001b[0m       \u001b[0;31m# No tape is watching; skip to running the function.\u001b[0m\u001b[0;34m\u001b[0m\u001b[0;34m\u001b[0m\u001b[0;34m\u001b[0m\u001b[0m\n\u001b[1;32m   1860\u001b[0m       return self._build_call_outputs(self._inference_function.call(\n\u001b[0;32m-> 1861\u001b[0;31m           ctx, args, cancellation_manager=cancellation_manager))\n\u001b[0m\u001b[1;32m   1862\u001b[0m     forward_backward = self._select_forward_and_backward_functions(\n\u001b[1;32m   1863\u001b[0m         \u001b[0margs\u001b[0m\u001b[0;34m,\u001b[0m\u001b[0;34m\u001b[0m\u001b[0;34m\u001b[0m\u001b[0m\n",
            "\u001b[0;32m/usr/local/lib/python3.7/dist-packages/tensorflow/python/eager/function.py\u001b[0m in \u001b[0;36mcall\u001b[0;34m(self, ctx, args, cancellation_manager)\u001b[0m\n\u001b[1;32m    500\u001b[0m               \u001b[0minputs\u001b[0m\u001b[0;34m=\u001b[0m\u001b[0margs\u001b[0m\u001b[0;34m,\u001b[0m\u001b[0;34m\u001b[0m\u001b[0;34m\u001b[0m\u001b[0m\n\u001b[1;32m    501\u001b[0m               \u001b[0mattrs\u001b[0m\u001b[0;34m=\u001b[0m\u001b[0mattrs\u001b[0m\u001b[0;34m,\u001b[0m\u001b[0;34m\u001b[0m\u001b[0;34m\u001b[0m\u001b[0m\n\u001b[0;32m--> 502\u001b[0;31m               ctx=ctx)\n\u001b[0m\u001b[1;32m    503\u001b[0m         \u001b[0;32melse\u001b[0m\u001b[0;34m:\u001b[0m\u001b[0;34m\u001b[0m\u001b[0;34m\u001b[0m\u001b[0m\n\u001b[1;32m    504\u001b[0m           outputs = execute.execute_with_cancellation(\n",
            "\u001b[0;32m/usr/local/lib/python3.7/dist-packages/tensorflow/python/eager/execute.py\u001b[0m in \u001b[0;36mquick_execute\u001b[0;34m(op_name, num_outputs, inputs, attrs, ctx, name)\u001b[0m\n\u001b[1;32m     53\u001b[0m     \u001b[0mctx\u001b[0m\u001b[0;34m.\u001b[0m\u001b[0mensure_initialized\u001b[0m\u001b[0;34m(\u001b[0m\u001b[0;34m)\u001b[0m\u001b[0;34m\u001b[0m\u001b[0;34m\u001b[0m\u001b[0m\n\u001b[1;32m     54\u001b[0m     tensors = pywrap_tfe.TFE_Py_Execute(ctx._handle, device_name, op_name,\n\u001b[0;32m---> 55\u001b[0;31m                                         inputs, attrs, num_outputs)\n\u001b[0m\u001b[1;32m     56\u001b[0m   \u001b[0;32mexcept\u001b[0m \u001b[0mcore\u001b[0m\u001b[0;34m.\u001b[0m\u001b[0m_NotOkStatusException\u001b[0m \u001b[0;32mas\u001b[0m \u001b[0me\u001b[0m\u001b[0;34m:\u001b[0m\u001b[0;34m\u001b[0m\u001b[0;34m\u001b[0m\u001b[0m\n\u001b[1;32m     57\u001b[0m     \u001b[0;32mif\u001b[0m \u001b[0mname\u001b[0m \u001b[0;32mis\u001b[0m \u001b[0;32mnot\u001b[0m \u001b[0;32mNone\u001b[0m\u001b[0;34m:\u001b[0m\u001b[0;34m\u001b[0m\u001b[0;34m\u001b[0m\u001b[0m\n",
            "\u001b[0;31mKeyboardInterrupt\u001b[0m: "
          ]
        }
      ],
      "source": [
        "train(train_dataset, 100)"
      ]
    }
  ],
  "metadata": {
    "accelerator": "GPU",
    "colab": {
      "machine_shape": "hm",
      "provenance": []
    },
    "gpuClass": "standard",
    "kernelspec": {
      "display_name": "Python 3",
      "name": "python3"
    },
    "language_info": {
      "name": "python"
    }
  },
  "nbformat": 4,
  "nbformat_minor": 0
}