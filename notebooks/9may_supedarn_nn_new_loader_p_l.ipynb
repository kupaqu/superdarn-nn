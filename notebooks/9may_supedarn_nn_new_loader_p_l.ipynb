{
  "cells": [
    {
      "cell_type": "markdown",
      "metadata": {
        "id": "view-in-github",
        "colab_type": "text"
      },
      "source": [
        "<a href=\"https://colab.research.google.com/github/kupaqu/superdarn-nn/blob/main/9may_supedarn_nn_new_loader_p_l.ipynb\" target=\"_parent\"><img src=\"https://colab.research.google.com/assets/colab-badge.svg\" alt=\"Open In Colab\"/></a>"
      ]
    },
    {
      "cell_type": "code",
      "execution_count": null,
      "metadata": {
        "id": "-XYWWz3mg2Kz"
      },
      "outputs": [],
      "source": [
        "import os\n",
        "import numpy as np\n",
        "from datetime import datetime, timedelta\n",
        "import random\n",
        "import tensorflow as tf\n",
        "import matplotlib.pyplot as plt\n",
        "import pickle"
      ]
    },
    {
      "cell_type": "code",
      "execution_count": null,
      "metadata": {
        "colab": {
          "base_uri": "https://localhost:8080/"
        },
        "id": "ofOVS8uRnJ6c",
        "outputId": "964e420f-d05f-475d-ce81-d50f6057e690"
      },
      "outputs": [
        {
          "name": "stdout",
          "output_type": "stream",
          "text": [
            "Drive already mounted at /content/drive; to attempt to forcibly remount, call drive.mount(\"/content/drive\", force_remount=True).\n"
          ]
        }
      ],
      "source": [
        "from google.colab import drive\n",
        "drive.mount('/content/drive')"
      ]
    },
    {
      "cell_type": "code",
      "execution_count": null,
      "metadata": {
        "id": "pzAVo_TOnS7q"
      },
      "outputs": [],
      "source": [
        "class DataLoader:\n",
        "    def __init__(self,\n",
        "                 paths,\n",
        "                 shuffle=True):\n",
        "        self.shuffle = shuffle\n",
        "        self.data = {}\n",
        "\n",
        "        # загрузка всего датасета в память\n",
        "        for path in paths:\n",
        "            for root, _, files in os.walk(path):\n",
        "                for name in files:\n",
        "                    filename = name.split('.')\n",
        "                    key = (filename[0] + filename[1][:2], filename[4]) # ключ – кортеж вида (дата и час, луч)\n",
        "                    arr = np.load(os.path.join(root, name))\n",
        "                    self.data[key] = arr\n",
        "\n",
        "    def __call__(self):\n",
        "        target_datetime = list(self.data.keys())\n",
        "        if self.shuffle:\n",
        "            random.shuffle(target_datetime)\n",
        "\n",
        "        # итерация по ключам в словаре self.data, где ключи – название файла\n",
        "        for key in target_datetime:\n",
        "            seq = self.__getSequence(key) # ключи исторических данных\n",
        "            arrays = []\n",
        "            missData = False\n",
        "\n",
        "            for item in seq:\n",
        "                try:\n",
        "                    arrays.append(self.data[item])\n",
        "\n",
        "                # некоторые исторические данные могут отсутствовать\n",
        "                except KeyError:\n",
        "                    missData = True\n",
        "                    break\n",
        "            \n",
        "            # если есть пропуски, то пропускаем пример\n",
        "            if missData:\n",
        "                continue\n",
        "            else:\n",
        "                x = np.concatenate(arrays, axis=1)\n",
        "                y = self.data[key]\n",
        "                yield np.concatenate([x[:,:,2:3], x[:,:,1:2]], axis=-1), y[:,:,2:3]*y[:,:,1:2] \n",
        "\n",
        "    def __getSequence(self, key):\n",
        "        filename_datetime = datetime.strptime(key[0], '%Y%m%d%H')\n",
        "\n",
        "        # список массивов за день до целевого массива\n",
        "        dayBefore = []\n",
        "        for i in range(24, 0, -2):\n",
        "            hoursBefore = ((filename_datetime-timedelta(hours=i)).strftime('%Y%m%d%H'), key[1])\n",
        "            dayBefore.append(hoursBefore)\n",
        "\n",
        "        # тот же час, но за неделю до целевого массива\n",
        "        weekBeforeInThatHour = []\n",
        "        for i in range(7, 1, -1):\n",
        "            thatHour = ((filename_datetime-timedelta(days=i)).strftime('%Y%m%d%H'), key[1])\n",
        "            weekBeforeInThatHour.append(thatHour)\n",
        "\n",
        "        return dayBefore + weekBeforeInThatHour\n",
        "\n",
        "        # список массивов за неделю до целевого массива\n",
        "        # weekBefore = []\n",
        "        # for i in range(24*7, 0, -2):\n",
        "        #     hoursBefore = ((filename_datetime-timedelta(hours=i)).strftime('%Y%m%d%H'), key[1])\n",
        "        #     weekBefore.append(hoursBefore)\n",
        "        \n",
        "        return weekBefore"
      ]
    },
    {
      "cell_type": "code",
      "execution_count": null,
      "metadata": {
        "id": "thMFYMJt3IFS"
      },
      "outputs": [],
      "source": [
        "batch_size = 32\n",
        "\n",
        "train_loader = DataLoader(paths=['drive/MyDrive/2018-converted/2018-01',\n",
        "                                 'drive/MyDrive/2018-converted/2018-02',\n",
        "                                 'drive/MyDrive/2018-converted/2018-03',\n",
        "                                 'drive/MyDrive/2018-converted/2018-04',\n",
        "                                 'drive/MyDrive/2018-converted/2018-05',\n",
        "                                 'drive/MyDrive/2018-converted/2018-06',\n",
        "                                 'drive/MyDrive/2018-converted/2018-07',])\n",
        "val_loader = DataLoader(paths=['drive/MyDrive/2018-converted/2018-08',\n",
        "                               'drive/MyDrive/2018-converted/2018-09',])\n",
        "\n",
        "train_dataset = tf.data.Dataset.from_generator(train_loader, output_types=(tf.float64, tf.float64)).batch(batch_size)\n",
        "val_dataset = tf.data.Dataset.from_generator(val_loader, output_types=(tf.float64, tf.float64)).batch(batch_size)"
      ]
    },
    {
      "cell_type": "code",
      "execution_count": null,
      "metadata": {
        "id": "omUUY0pRI0JL"
      },
      "outputs": [],
      "source": [
        "# !mkdir drive/MyDrive/gif"
      ]
    },
    {
      "cell_type": "code",
      "execution_count": null,
      "metadata": {
        "id": "_ao3dk8OjvR9"
      },
      "outputs": [],
      "source": [
        "# cnt = 0\n",
        "# for x, y in train_dataset:\n",
        "#     print(f'count is {cnt}')\n",
        "#     plt.imshow(np.concatenate([x[0,:,:,0], y[0,:,:,0]], axis=1))\n",
        "#     # plt.show()\n",
        "#     plt.savefig(f'drive/MyDrive/gif/{cnt}.png')\n",
        "#     cnt += 1\n",
        "# print(f'Number of batches on train: {cnt}')\n",
        "\n",
        "# cnt = 0\n",
        "# for _ in val_dataset:\n",
        "#     cnt += 1\n",
        "# print(f'Number of batches on validation: {cnt}')"
      ]
    },
    {
      "cell_type": "code",
      "execution_count": null,
      "metadata": {
        "id": "rqd0z3XwNWb0"
      },
      "outputs": [],
      "source": [
        "# генератор\n",
        "def get_generator(regularizer_lambda=1e-5):\n",
        "\n",
        "    # по каналу p_l\n",
        "    p_l_history = tf.keras.layers.Input(shape=(100, 1080, 1))\n",
        "\n",
        "    p_l = tf.keras.layers.Conv2D(\n",
        "        filters=32,\n",
        "        kernel_size=5,\n",
        "        activation='relu',\n",
        "        padding='same',\n",
        "        kernel_regularizer=tf.keras.regularizers.L2(regularizer_lambda)\n",
        "    )(p_l_history)\n",
        "\n",
        "    p_l = tf.keras.layers.Conv2D(\n",
        "        filters=32,\n",
        "        kernel_size=(1, 12),\n",
        "        dilation_rate=(1, 60),\n",
        "        activation='relu',\n",
        "        kernel_regularizer=tf.keras.regularizers.L2(regularizer_lambda)\n",
        "    )(p_l)\n",
        "\n",
        "    p_l = tf.keras.layers.Conv2D(\n",
        "        filters=32,\n",
        "        kernel_size=5,\n",
        "        activation='relu',\n",
        "        padding='same',\n",
        "    )(p_l)\n",
        "\n",
        "    # по каналу qflg0\n",
        "    qflg_history = tf.keras.layers.Input(shape=(100, 1080, 1))\n",
        "\n",
        "    qflg = tf.keras.layers.Conv2D(\n",
        "        filters=32,\n",
        "        kernel_size=5,\n",
        "        activation='relu',\n",
        "        padding='same',\n",
        "        kernel_regularizer=tf.keras.regularizers.L2(regularizer_lambda)\n",
        "    )(qflg_history)\n",
        "\n",
        "    qflg = tf.keras.layers.Conv2D(\n",
        "        filters=32,\n",
        "        kernel_size=(1, 12),\n",
        "        dilation_rate=(1, 60),\n",
        "        activation='relu',\n",
        "        kernel_regularizer=tf.keras.regularizers.L2(regularizer_lambda)\n",
        "    )(qflg)\n",
        "\n",
        "    qflg = tf.keras.layers.Conv2D(\n",
        "        filters=32,\n",
        "        kernel_size=5,\n",
        "        activation='relu',\n",
        "        padding='same',\n",
        "    )(qflg)\n",
        "\n",
        "    # соединение и выход\n",
        "    x = tf.keras.layers.Concatenate(\n",
        "        axis=-1\n",
        "    )([p_l, qflg])\n",
        "\n",
        "    x = tf.keras.layers.Conv2D(\n",
        "        filters=32,\n",
        "        kernel_size=(1, 7),\n",
        "        dilation_rate=(1, 60),\n",
        "        activation='relu',\n",
        "    )(x)\n",
        "\n",
        "    x = tf.keras.layers.Conv2D(\n",
        "        filters=32,\n",
        "        kernel_size=5,\n",
        "        activation='relu',\n",
        "        padding='same',\n",
        "    )(x)\n",
        "\n",
        "    output = tf.keras.layers.Conv2D(\n",
        "        filters=1,\n",
        "        kernel_size=1,\n",
        "        activation='linear'\n",
        "    )(x)\n",
        "\n",
        "    generator = tf.keras.models.Model([p_l_history, qflg_history], output, name='generator')\n",
        "\n",
        "    return generator\n",
        "\n",
        "# дискриминатор\n",
        "def get_discriminator(regularizer_lambda=1e-5):\n",
        "\n",
        "    # по каналу p_l\n",
        "    p_l_history = tf.keras.layers.Input(shape=(100, 1080, 1))\n",
        "    p_l_target = tf.keras.layers.Input(shape=(100, 60, 1))\n",
        "    p_l_concat = tf.keras.layers.Concatenate(axis=2)([p_l_history, p_l_target])\n",
        "\n",
        "    p_l = tf.keras.layers.Conv2D(\n",
        "        filters=32,\n",
        "        kernel_size=5,\n",
        "        activation='relu',\n",
        "        padding='same',\n",
        "        kernel_regularizer=tf.keras.regularizers.L2(regularizer_lambda)\n",
        "    )(p_l_concat)\n",
        "\n",
        "    p_l = tf.keras.layers.Conv2D(\n",
        "        filters=32,\n",
        "        kernel_size=(1, 13),\n",
        "        dilation_rate=(1, 60),\n",
        "        activation='relu',\n",
        "        kernel_regularizer=tf.keras.regularizers.L2(regularizer_lambda)\n",
        "    )(p_l)\n",
        "\n",
        "    p_l = tf.keras.layers.Conv2D(\n",
        "        filters=32,\n",
        "        kernel_size=5,\n",
        "        activation='relu',\n",
        "        padding='same',\n",
        "    )(p_l)\n",
        "\n",
        "    # по каналу qflg0\n",
        "    qflg_history = tf.keras.layers.Input(shape=(100, 1080, 1))\n",
        "\n",
        "    qflg = tf.keras.layers.Conv2D(\n",
        "        filters=32,\n",
        "        kernel_size=5,\n",
        "        activation='relu',\n",
        "        padding='same',\n",
        "        kernel_regularizer=tf.keras.regularizers.L2(regularizer_lambda)\n",
        "    )(qflg_history)\n",
        "\n",
        "    qflg = tf.keras.layers.Conv2D(\n",
        "        filters=32,\n",
        "        kernel_size=(1, 12),\n",
        "        dilation_rate=(1, 60),\n",
        "        activation='relu',\n",
        "        kernel_regularizer=tf.keras.regularizers.L2(regularizer_lambda)\n",
        "    )(qflg)\n",
        "\n",
        "    qflg = tf.keras.layers.Conv2D(\n",
        "        filters=32,\n",
        "        kernel_size=5,\n",
        "        activation='relu',\n",
        "        padding='same',\n",
        "    )(qflg)\n",
        "\n",
        "    # соединение и выход\n",
        "    x = tf.keras.layers.Concatenate(\n",
        "        axis=-1\n",
        "    )([p_l, qflg])\n",
        "\n",
        "    x = tf.keras.layers.Conv2D(\n",
        "        filters=32,\n",
        "        kernel_size=(1, 7),\n",
        "        dilation_rate=(1, 60),\n",
        "        activation='relu',\n",
        "    )(x)\n",
        "\n",
        "    x = tf.keras.layers.Conv2D(\n",
        "        filters=32,\n",
        "        kernel_size=5,\n",
        "        activation='relu',\n",
        "        padding='same',\n",
        "    )(x)\n",
        "\n",
        "    x = tf.keras.layers.Conv2D(\n",
        "        filters=1,\n",
        "        kernel_size=(100, 1),\n",
        "        activation='sigmoid'\n",
        "    )(x)\n",
        "\n",
        "    output = tf.keras.layers.Flatten()(x)\n",
        "    \n",
        "    discriminator = tf.keras.models.Model([p_l_history, p_l_target, qflg_history], output, name='discriminator')\n",
        "\n",
        "    return discriminator"
      ]
    },
    {
      "cell_type": "code",
      "execution_count": null,
      "metadata": {
        "id": "S4pRPN48V9kK"
      },
      "outputs": [],
      "source": [
        "class RadarGAN(tf.keras.Model):\n",
        "    def __init__(self, discriminator, generator):\n",
        "        super(RadarGAN, self).__init__()\n",
        "        self.discriminator = discriminator\n",
        "        self.generator = generator\n",
        "        self.gen_loss_tracker = tf.keras.metrics.Mean(name=\"generator_loss\")\n",
        "        self.disc_loss_tracker = tf.keras.metrics.Mean(name=\"discriminator_loss\")\n",
        "        self.gen_mae_tracker = tf.keras.metrics.Mean(name=\"generator_mae\")\n",
        "\n",
        "    @property\n",
        "    def metrics(self):\n",
        "        return [self.gen_loss_tracker, self.disc_loss_tracker, self.gen_mae_tracker]\n",
        "\n",
        "    def compile(self, d_optimizer, g_optimizer, loss_fn):\n",
        "        super(RadarGAN, self).compile()\n",
        "        self.d_optimizer = d_optimizer\n",
        "        self.g_optimizer = g_optimizer\n",
        "        self.loss_fn = loss_fn\n",
        "        self.mae = tf.keras.losses.MeanAbsoluteError()\n",
        "\n",
        "    def train_step(self, data):\n",
        "\n",
        "        # класс 1 - настоящие данные, класс 0 - дискриминированные данные\n",
        "        x, y = data\n",
        "        x_p_l = x[:, :, :, 0:1]\n",
        "        x_qflg = x[:, :, :, 1:2]\n",
        "        x_shape = tf.shape(x_p_l)\n",
        "        y_shape = tf.shape(y)\n",
        "\n",
        "        # обучение дискриминатора\n",
        "        for step in range(1):\n",
        "            \n",
        "            # маска по Бернулли\n",
        "            p = tf.constant([0.8])\n",
        "            r = tf.random.uniform(shape=x_shape, maxval=1)\n",
        "            b = tf.math.greater(p, r)\n",
        "            f = tf.cast(b, dtype=tf.dtypes.float64)\n",
        "\n",
        "            # выход генератора\n",
        "            generated = tf.cast(self.generator([tf.math.multiply(x_p_l, f), tf.math.multiply(x_qflg, f)]), dtype=tf.dtypes.float64)\n",
        "\n",
        "            with tf.GradientTape() as tape:\n",
        "                real = self.discriminator([x_p_l, y, x_qflg])\n",
        "                fake = self.discriminator([x_p_l, generated, x_qflg])\n",
        "                \n",
        "                # значения потерь на чистых данных\n",
        "                loss_on_real = self.loss_fn(tf.ones_like(real), real)\n",
        "                loss_on_fake = self.loss_fn(tf.zeros_like(fake), fake)\n",
        "                \n",
        "                # целевое значение дискриминатора\n",
        "                real_mixed = tf.math.round(tf.random.uniform(shape=(y_shape[0], y_shape[2]), minval=0, maxval=1, dtype=tf.dtypes.float64))\n",
        "\n",
        "                # маска для реальных данных\n",
        "                real_mask_mixed = tf.reshape(real_mixed, shape=(y_shape[0], 1, y_shape[2], 1))\n",
        "                real_mask_mixed = tf.repeat(real_mask_mixed, repeats=y_shape[1], axis=1)\n",
        "                real_mask_mixed = tf.repeat(real_mask_mixed, repeats=y_shape[3], axis=3)\n",
        "                # маска для фейковых данных\n",
        "                fake_mask_mixed = tf.math.subtract(tf.ones(shape=tf.shape(real_mask_mixed), dtype=tf.dtypes.float64), real_mask_mixed)\n",
        "\n",
        "                # перемешивание данных\n",
        "                mixed = tf.math.add(tf.math.multiply(real_mask_mixed, y), tf.math.multiply(fake_mask_mixed, generated))\n",
        "\n",
        "                predictions = self.discriminator([x_p_l, mixed, x_qflg])\n",
        "\n",
        "                loss_on_mixed = self.loss_fn(real_mixed, predictions)\n",
        "\n",
        "                d_loss = loss_on_real + loss_on_fake + loss_on_mixed\n",
        "\n",
        "            grads = tape.gradient(d_loss, self.discriminator.trainable_weights)\n",
        "            self.d_optimizer.apply_gradients(\n",
        "                zip(grads, self.discriminator.trainable_weights)\n",
        "            )\n",
        "        \n",
        "        # таргет генератора как выход дискриминатора\n",
        "        g_target = tf.ones(shape=tf.shape(real), dtype=tf.dtypes.float64)\n",
        "\n",
        "        # тренировка генератора\n",
        "        for step in range(1):\n",
        "            with tf.GradientTape() as tape:\n",
        "\n",
        "                # Бернулли\n",
        "                p = tf.constant([0.8])\n",
        "                r = tf.random.uniform(shape=x_shape, maxval=1)\n",
        "                b = tf.math.greater(p, r)\n",
        "                f = tf.cast(b, dtype=tf.dtypes.float64)\n",
        "\n",
        "                generated = tf.cast(self.generator([tf.math.multiply(x_p_l, f), tf.math.multiply(x_qflg, f)]), dtype=tf.dtypes.float64)\n",
        "\n",
        "                discriminated = self.discriminator([x_p_l, generated, x_qflg])\n",
        "                g_loss = self.loss_fn(g_target, discriminated)\n",
        "                g_mae = self.mae(y, generated)\n",
        "                \n",
        "            grads = tape.gradient(g_loss, self.generator.trainable_weights)\n",
        "            self.g_optimizer.apply_gradients(zip(grads, self.generator.trainable_weights))\n",
        "\n",
        "        # Monitor loss.\n",
        "        self.gen_loss_tracker.update_state(g_loss)\n",
        "        self.disc_loss_tracker.update_state(d_loss)\n",
        "        self.gen_mae_tracker.update_state(g_mae)\n",
        "        return {\n",
        "            \"g_loss\": self.gen_loss_tracker.result(),\n",
        "            \"d_loss\": self.disc_loss_tracker.result(),\n",
        "            \"g_mae\": self.gen_mae_tracker.result()\n",
        "            }\n",
        "\n",
        "    def test_step(self, data):\n",
        "        # Unpack the data\n",
        "        x, y = data\n",
        "        x_p_l = x[:, :, :, 0:1]\n",
        "        x_qflg = x[:, :, :, 1:2]\n",
        "        y_shape = tf.shape(y)\n",
        "\n",
        "        # Compute predictions\n",
        "        generated = self.generator([x_p_l, x_qflg])\n",
        "        real = self.discriminator([x_p_l, y, x_qflg], training=False)\n",
        "        fake = self.discriminator([x_p_l, generated, x_qflg], training=False)\n",
        "\n",
        "        # Compute losses\n",
        "        g_target = tf.ones(shape=tf.shape(real), dtype=tf.dtypes.float64)\n",
        "        g_loss = self.loss_fn(g_target, fake)\n",
        "        g_mae = self.mae(y, generated)\n",
        "\n",
        "        loss_on_real = self.loss_fn(tf.ones_like(real), real)\n",
        "        loss_on_fake = self.loss_fn(tf.zeros_like(fake), fake)\n",
        "        \n",
        "        d_loss = loss_on_real + loss_on_fake\n",
        "\n",
        "        # Update losses\n",
        "        self.gen_loss_tracker.update_state(g_loss)\n",
        "        self.disc_loss_tracker.update_state(d_loss)\n",
        "        self.gen_mae_tracker.update_state(g_mae)\n",
        "\n",
        "        return {\n",
        "            \"g_loss\": self.gen_loss_tracker.result(),\n",
        "            \"d_loss\": self.disc_loss_tracker.result(),\n",
        "            \"g_mae\": self.gen_mae_tracker.result()\n",
        "            }"
      ]
    },
    {
      "cell_type": "code",
      "execution_count": null,
      "metadata": {
        "id": "2Dv3G-wzWCGN"
      },
      "outputs": [],
      "source": [
        "# если обучать с нуля\n",
        "radar_gan = RadarGAN(discriminator=get_discriminator(), generator=get_generator())\n",
        "\n",
        "# дообучение\n",
        "# radar_gan = RadarGAN(discriminator=tf.keras.models.load_model('drive/MyDrive/radargan_discriminator_250323.hdf5'), generator=tf.keras.models.load_model('drive/MyDrive/radargan_generator_250323.hdf5'))\n",
        "\n",
        "# графическое изображение структуры\n",
        "tf.keras.utils.plot_model(radar_gan.generator, to_file='g.png', show_shapes=True)\n",
        "tf.keras.utils.plot_model(radar_gan.discriminator, to_file='d.png', show_shapes=True)\n",
        "\n",
        "radar_gan.compile(\n",
        "    d_optimizer=tf.keras.optimizers.Adam(learning_rate=0.0003),\n",
        "    g_optimizer=tf.keras.optimizers.Adam(learning_rate=0.0003),\n",
        "    loss_fn=tf.keras.losses.BinaryCrossentropy()\n",
        ")"
      ]
    },
    {
      "cell_type": "code",
      "execution_count": null,
      "metadata": {
        "colab": {
          "base_uri": "https://localhost:8080/"
        },
        "id": "puJj47y-WHHC",
        "outputId": "2eca64b3-a2e8-4532-c97f-24dfb611e990"
      },
      "outputs": [
        {
          "name": "stdout",
          "output_type": "stream",
          "text": [
            "Model: \"generator\"\n",
            "__________________________________________________________________________________________________\n",
            " Layer (type)                   Output Shape         Param #     Connected to                     \n",
            "==================================================================================================\n",
            " input_4 (InputLayer)           [(None, 100, 1080,   0           []                               \n",
            "                                1)]                                                               \n",
            "                                                                                                  \n",
            " input_5 (InputLayer)           [(None, 100, 1080,   0           []                               \n",
            "                                1)]                                                               \n",
            "                                                                                                  \n",
            " conv2d_9 (Conv2D)              (None, 100, 1080, 3  832         ['input_4[0][0]']                \n",
            "                                2)                                                                \n",
            "                                                                                                  \n",
            " conv2d_12 (Conv2D)             (None, 100, 1080, 3  832         ['input_5[0][0]']                \n",
            "                                2)                                                                \n",
            "                                                                                                  \n",
            " conv2d_10 (Conv2D)             (None, 100, 420, 32  12320       ['conv2d_9[0][0]']               \n",
            "                                )                                                                 \n",
            "                                                                                                  \n",
            " conv2d_13 (Conv2D)             (None, 100, 420, 32  12320       ['conv2d_12[0][0]']              \n",
            "                                )                                                                 \n",
            "                                                                                                  \n",
            " conv2d_11 (Conv2D)             (None, 100, 420, 32  25632       ['conv2d_10[0][0]']              \n",
            "                                )                                                                 \n",
            "                                                                                                  \n",
            " conv2d_14 (Conv2D)             (None, 100, 420, 32  25632       ['conv2d_13[0][0]']              \n",
            "                                )                                                                 \n",
            "                                                                                                  \n",
            " concatenate_2 (Concatenate)    (None, 100, 420, 64  0           ['conv2d_11[0][0]',              \n",
            "                                )                                 'conv2d_14[0][0]']              \n",
            "                                                                                                  \n",
            " conv2d_15 (Conv2D)             (None, 100, 60, 32)  14368       ['concatenate_2[0][0]']          \n",
            "                                                                                                  \n",
            " conv2d_16 (Conv2D)             (None, 100, 60, 32)  25632       ['conv2d_15[0][0]']              \n",
            "                                                                                                  \n",
            " conv2d_17 (Conv2D)             (None, 100, 60, 1)   33          ['conv2d_16[0][0]']              \n",
            "                                                                                                  \n",
            "==================================================================================================\n",
            "Total params: 117,601\n",
            "Trainable params: 117,601\n",
            "Non-trainable params: 0\n",
            "__________________________________________________________________________________________________\n"
          ]
        }
      ],
      "source": [
        "radar_gan.generator.summary()"
      ]
    },
    {
      "cell_type": "code",
      "execution_count": null,
      "metadata": {
        "colab": {
          "base_uri": "https://localhost:8080/"
        },
        "id": "3BLbXZBJWJr7",
        "outputId": "c8158943-f7bf-4700-8860-128fa5dc0dc6"
      },
      "outputs": [
        {
          "name": "stdout",
          "output_type": "stream",
          "text": [
            "Model: \"discriminator\"\n",
            "__________________________________________________________________________________________________\n",
            " Layer (type)                   Output Shape         Param #     Connected to                     \n",
            "==================================================================================================\n",
            " input_1 (InputLayer)           [(None, 100, 1080,   0           []                               \n",
            "                                1)]                                                               \n",
            "                                                                                                  \n",
            " input_2 (InputLayer)           [(None, 100, 60, 1)  0           []                               \n",
            "                                ]                                                                 \n",
            "                                                                                                  \n",
            " concatenate (Concatenate)      (None, 100, 1140, 1  0           ['input_1[0][0]',                \n",
            "                                )                                 'input_2[0][0]']                \n",
            "                                                                                                  \n",
            " input_3 (InputLayer)           [(None, 100, 1080,   0           []                               \n",
            "                                1)]                                                               \n",
            "                                                                                                  \n",
            " conv2d (Conv2D)                (None, 100, 1140, 3  832         ['concatenate[0][0]']            \n",
            "                                2)                                                                \n",
            "                                                                                                  \n",
            " conv2d_3 (Conv2D)              (None, 100, 1080, 3  832         ['input_3[0][0]']                \n",
            "                                2)                                                                \n",
            "                                                                                                  \n",
            " conv2d_1 (Conv2D)              (None, 100, 420, 32  13344       ['conv2d[0][0]']                 \n",
            "                                )                                                                 \n",
            "                                                                                                  \n",
            " conv2d_4 (Conv2D)              (None, 100, 420, 32  12320       ['conv2d_3[0][0]']               \n",
            "                                )                                                                 \n",
            "                                                                                                  \n",
            " conv2d_2 (Conv2D)              (None, 100, 420, 32  25632       ['conv2d_1[0][0]']               \n",
            "                                )                                                                 \n",
            "                                                                                                  \n",
            " conv2d_5 (Conv2D)              (None, 100, 420, 32  25632       ['conv2d_4[0][0]']               \n",
            "                                )                                                                 \n",
            "                                                                                                  \n",
            " concatenate_1 (Concatenate)    (None, 100, 420, 64  0           ['conv2d_2[0][0]',               \n",
            "                                )                                 'conv2d_5[0][0]']               \n",
            "                                                                                                  \n",
            " conv2d_6 (Conv2D)              (None, 100, 60, 32)  14368       ['concatenate_1[0][0]']          \n",
            "                                                                                                  \n",
            " conv2d_7 (Conv2D)              (None, 100, 60, 32)  25632       ['conv2d_6[0][0]']               \n",
            "                                                                                                  \n",
            " conv2d_8 (Conv2D)              (None, 1, 60, 1)     3201        ['conv2d_7[0][0]']               \n",
            "                                                                                                  \n",
            " flatten (Flatten)              (None, 60)           0           ['conv2d_8[0][0]']               \n",
            "                                                                                                  \n",
            "==================================================================================================\n",
            "Total params: 121,793\n",
            "Trainable params: 121,793\n",
            "Non-trainable params: 0\n",
            "__________________________________________________________________________________________________\n"
          ]
        }
      ],
      "source": [
        "radar_gan.discriminator.summary()"
      ]
    },
    {
      "cell_type": "code",
      "execution_count": null,
      "metadata": {
        "id": "lj77P_FlbVFq"
      },
      "outputs": [],
      "source": [
        "class CheckpointGAN(tf.keras.callbacks.Callback):\n",
        "\n",
        "    def __init__(self):\n",
        "        super().__init__()\n",
        "\n",
        "    def on_epoch_end(self, epoch, logs=None):\n",
        "        self.model.generator.save(f'drive/MyDrive/saved_models/saved_generator_{epoch}_{logs[\"val_g_loss\"]:.4f}.hdf5')\n",
        "        self.model.discriminator.save(f'drive/MyDrive/saved_models/saved_discriminator_{epoch}_{logs[\"val_d_loss\"]:.4f}.hdf5')\n",
        "\n",
        "    def on_train_end(self, logs=None):\n",
        "        self.model.generator.save(f'drive/MyDrive/saved_models/saved_generator_end_{logs[\"val_g_loss\"]:.4f}.hdf5')\n",
        "        self.model.discriminator.save(f'drive/MyDrive/saved_models/saved_discriminator_end_{logs[\"val_d_loss\"]:.4f}.hdf5')\n",
        "\n",
        "callback = CheckpointGAN()"
      ]
    },
    {
      "cell_type": "code",
      "execution_count": null,
      "metadata": {
        "colab": {
          "background_save": true,
          "base_uri": "https://localhost:8080/"
        },
        "id": "JWreC4qaWUj-",
        "outputId": "cdad307a-0e7c-48d8-a594-f8f5b432e40e"
      },
      "outputs": [
        {
          "name": "stdout",
          "output_type": "stream",
          "text": [
            "Epoch 1/200\n",
            "    122/Unknown - 62s 321ms/step - g_loss: 0.8234 - d_loss: 2.0723 - g_mae: 5.7754"
          ]
        },
        {
          "name": "stderr",
          "output_type": "stream",
          "text": [
            "WARNING:tensorflow:Compiled the loaded model, but the compiled metrics have yet to be built. `model.compile_metrics` will be empty until you train or evaluate the model.\n",
            "WARNING:tensorflow:Compiled the loaded model, but the compiled metrics have yet to be built. `model.compile_metrics` will be empty until you train or evaluate the model.\n"
          ]
        },
        {
          "name": "stdout",
          "output_type": "stream",
          "text": [
            "122/122 [==============================] - 65s 351ms/step - g_loss: 0.8257 - d_loss: 2.0719 - g_mae: 5.7893 - val_g_loss: 0.9285 - val_d_loss: 1.2020 - val_g_mae: 1.7958\n",
            "Epoch 2/200\n",
            "122/122 [==============================] - ETA: 0s - g_loss: 0.7799 - d_loss: 2.2321 - g_mae: 2.3111"
          ]
        },
        {
          "name": "stderr",
          "output_type": "stream",
          "text": [
            "WARNING:tensorflow:Compiled the loaded model, but the compiled metrics have yet to be built. `model.compile_metrics` will be empty until you train or evaluate the model.\n",
            "WARNING:tensorflow:Compiled the loaded model, but the compiled metrics have yet to be built. `model.compile_metrics` will be empty until you train or evaluate the model.\n"
          ]
        },
        {
          "name": "stdout",
          "output_type": "stream",
          "text": [
            "122/122 [==============================] - 40s 323ms/step - g_loss: 0.7830 - d_loss: 2.2296 - g_mae: 2.3107 - val_g_loss: 0.1999 - val_d_loss: 3.1678 - val_g_mae: 2.9916\n",
            "Epoch 3/200\n",
            "122/122 [==============================] - ETA: 0s - g_loss: 0.8982 - d_loss: 2.3544 - g_mae: 9.0966"
          ]
        },
        {
          "name": "stderr",
          "output_type": "stream",
          "text": [
            "WARNING:tensorflow:Compiled the loaded model, but the compiled metrics have yet to be built. `model.compile_metrics` will be empty until you train or evaluate the model.\n",
            "WARNING:tensorflow:Compiled the loaded model, but the compiled metrics have yet to be built. `model.compile_metrics` will be empty until you train or evaluate the model.\n"
          ]
        },
        {
          "name": "stdout",
          "output_type": "stream",
          "text": [
            "122/122 [==============================] - 40s 323ms/step - g_loss: 0.8976 - d_loss: 2.3523 - g_mae: 9.0651 - val_g_loss: 0.7203 - val_d_loss: 1.3064 - val_g_mae: 1.4454\n",
            "Epoch 4/200\n",
            "122/122 [==============================] - ETA: 0s - g_loss: 1.1678 - d_loss: 1.7925 - g_mae: 3.1191"
          ]
        },
        {
          "name": "stderr",
          "output_type": "stream",
          "text": [
            "WARNING:tensorflow:Compiled the loaded model, but the compiled metrics have yet to be built. `model.compile_metrics` will be empty until you train or evaluate the model.\n",
            "WARNING:tensorflow:Compiled the loaded model, but the compiled metrics have yet to be built. `model.compile_metrics` will be empty until you train or evaluate the model.\n"
          ]
        },
        {
          "name": "stdout",
          "output_type": "stream",
          "text": [
            "122/122 [==============================] - 40s 323ms/step - g_loss: 1.1708 - d_loss: 1.7918 - g_mae: 3.1186 - val_g_loss: 1.2062 - val_d_loss: 1.1200 - val_g_mae: 2.0317\n",
            "Epoch 5/200\n",
            "122/122 [==============================] - ETA: 0s - g_loss: 2.4226 - d_loss: 1.3719 - g_mae: 5.2298"
          ]
        },
        {
          "name": "stderr",
          "output_type": "stream",
          "text": [
            "WARNING:tensorflow:Compiled the loaded model, but the compiled metrics have yet to be built. `model.compile_metrics` will be empty until you train or evaluate the model.\n",
            "WARNING:tensorflow:Compiled the loaded model, but the compiled metrics have yet to be built. `model.compile_metrics` will be empty until you train or evaluate the model.\n"
          ]
        },
        {
          "name": "stdout",
          "output_type": "stream",
          "text": [
            "122/122 [==============================] - 39s 323ms/step - g_loss: 2.4243 - d_loss: 1.3714 - g_mae: 5.2205 - val_g_loss: 1.7218 - val_d_loss: 0.6118 - val_g_mae: 1.7872\n",
            "Epoch 6/200\n",
            "122/122 [==============================] - ETA: 0s - g_loss: 2.0905 - d_loss: 1.4589 - g_mae: 3.7896"
          ]
        },
        {
          "name": "stderr",
          "output_type": "stream",
          "text": [
            "WARNING:tensorflow:Compiled the loaded model, but the compiled metrics have yet to be built. `model.compile_metrics` will be empty until you train or evaluate the model.\n",
            "WARNING:tensorflow:Compiled the loaded model, but the compiled metrics have yet to be built. `model.compile_metrics` will be empty until you train or evaluate the model.\n"
          ]
        },
        {
          "name": "stdout",
          "output_type": "stream",
          "text": [
            "122/122 [==============================] - 40s 323ms/step - g_loss: 2.0893 - d_loss: 1.4599 - g_mae: 3.7953 - val_g_loss: 0.9076 - val_d_loss: 0.9140 - val_g_mae: 3.0975\n",
            "Epoch 7/200\n",
            "122/122 [==============================] - ETA: 0s - g_loss: 1.2485 - d_loss: 1.7697 - g_mae: 2.5660"
          ]
        },
        {
          "name": "stderr",
          "output_type": "stream",
          "text": [
            "WARNING:tensorflow:Compiled the loaded model, but the compiled metrics have yet to be built. `model.compile_metrics` will be empty until you train or evaluate the model.\n",
            "WARNING:tensorflow:Compiled the loaded model, but the compiled metrics have yet to be built. `model.compile_metrics` will be empty until you train or evaluate the model.\n"
          ]
        },
        {
          "name": "stdout",
          "output_type": "stream",
          "text": [
            "122/122 [==============================] - 40s 323ms/step - g_loss: 1.2510 - d_loss: 1.7683 - g_mae: 2.5653 - val_g_loss: 1.5679 - val_d_loss: 0.6302 - val_g_mae: 1.7976\n",
            "Epoch 8/200\n",
            "122/122 [==============================] - ETA: 0s - g_loss: 2.4964 - d_loss: 1.2091 - g_mae: 2.6093"
          ]
        },
        {
          "name": "stderr",
          "output_type": "stream",
          "text": [
            "WARNING:tensorflow:Compiled the loaded model, but the compiled metrics have yet to be built. `model.compile_metrics` will be empty until you train or evaluate the model.\n",
            "WARNING:tensorflow:Compiled the loaded model, but the compiled metrics have yet to be built. `model.compile_metrics` will be empty until you train or evaluate the model.\n"
          ]
        },
        {
          "name": "stdout",
          "output_type": "stream",
          "text": [
            "122/122 [==============================] - 40s 323ms/step - g_loss: 2.4981 - d_loss: 1.2088 - g_mae: 2.6082 - val_g_loss: 2.1922 - val_d_loss: 0.6951 - val_g_mae: 1.1072\n",
            "Epoch 9/200\n",
            "122/122 [==============================] - ETA: 0s - g_loss: 3.0534 - d_loss: 1.0287 - g_mae: 2.1883"
          ]
        },
        {
          "name": "stderr",
          "output_type": "stream",
          "text": [
            "WARNING:tensorflow:Compiled the loaded model, but the compiled metrics have yet to be built. `model.compile_metrics` will be empty until you train or evaluate the model.\n",
            "WARNING:tensorflow:Compiled the loaded model, but the compiled metrics have yet to be built. `model.compile_metrics` will be empty until you train or evaluate the model.\n"
          ]
        },
        {
          "name": "stdout",
          "output_type": "stream",
          "text": [
            "122/122 [==============================] - 40s 324ms/step - g_loss: 3.0515 - d_loss: 1.0300 - g_mae: 2.1898 - val_g_loss: 0.8427 - val_d_loss: 1.3838 - val_g_mae: 0.9370\n",
            "Epoch 10/200\n",
            "122/122 [==============================] - ETA: 0s - g_loss: 1.4951 - d_loss: 1.8045 - g_mae: 2.4913"
          ]
        },
        {
          "name": "stderr",
          "output_type": "stream",
          "text": [
            "WARNING:tensorflow:Compiled the loaded model, but the compiled metrics have yet to be built. `model.compile_metrics` will be empty until you train or evaluate the model.\n",
            "WARNING:tensorflow:Compiled the loaded model, but the compiled metrics have yet to be built. `model.compile_metrics` will be empty until you train or evaluate the model.\n"
          ]
        },
        {
          "name": "stdout",
          "output_type": "stream",
          "text": [
            "122/122 [==============================] - 40s 323ms/step - g_loss: 1.4984 - d_loss: 1.8030 - g_mae: 2.4977 - val_g_loss: 1.5594 - val_d_loss: 0.5314 - val_g_mae: 2.2956\n",
            "Epoch 11/200\n",
            "122/122 [==============================] - ETA: 0s - g_loss: 1.7548 - d_loss: 1.7920 - g_mae: 2.4319"
          ]
        },
        {
          "name": "stderr",
          "output_type": "stream",
          "text": [
            "WARNING:tensorflow:Compiled the loaded model, but the compiled metrics have yet to be built. `model.compile_metrics` will be empty until you train or evaluate the model.\n",
            "WARNING:tensorflow:Compiled the loaded model, but the compiled metrics have yet to be built. `model.compile_metrics` will be empty until you train or evaluate the model.\n"
          ]
        },
        {
          "name": "stdout",
          "output_type": "stream",
          "text": [
            "122/122 [==============================] - 39s 323ms/step - g_loss: 1.7594 - d_loss: 1.7902 - g_mae: 2.4361 - val_g_loss: 1.9121 - val_d_loss: 0.6841 - val_g_mae: 0.9171\n",
            "Epoch 12/200\n",
            "122/122 [==============================] - ETA: 0s - g_loss: 3.3890 - d_loss: 1.3119 - g_mae: 2.3488"
          ]
        },
        {
          "name": "stderr",
          "output_type": "stream",
          "text": [
            "WARNING:tensorflow:Compiled the loaded model, but the compiled metrics have yet to be built. `model.compile_metrics` will be empty until you train or evaluate the model.\n",
            "WARNING:tensorflow:Compiled the loaded model, but the compiled metrics have yet to be built. `model.compile_metrics` will be empty until you train or evaluate the model.\n"
          ]
        },
        {
          "name": "stdout",
          "output_type": "stream",
          "text": [
            "122/122 [==============================] - 40s 323ms/step - g_loss: 3.3842 - d_loss: 1.3122 - g_mae: 2.3509 - val_g_loss: 1.7909 - val_d_loss: 0.5824 - val_g_mae: 2.8939\n",
            "Epoch 13/200\n",
            "122/122 [==============================] - ETA: 0s - g_loss: 2.0563 - d_loss: 1.5934 - g_mae: 3.2281"
          ]
        },
        {
          "name": "stderr",
          "output_type": "stream",
          "text": [
            "WARNING:tensorflow:Compiled the loaded model, but the compiled metrics have yet to be built. `model.compile_metrics` will be empty until you train or evaluate the model.\n",
            "WARNING:tensorflow:Compiled the loaded model, but the compiled metrics have yet to be built. `model.compile_metrics` will be empty until you train or evaluate the model.\n"
          ]
        },
        {
          "name": "stdout",
          "output_type": "stream",
          "text": [
            "122/122 [==============================] - 40s 323ms/step - g_loss: 2.0537 - d_loss: 1.5943 - g_mae: 3.2289 - val_g_loss: 1.6173 - val_d_loss: 0.8549 - val_g_mae: 1.3549\n",
            "Epoch 14/200\n",
            "122/122 [==============================] - ETA: 0s - g_loss: 1.8776 - d_loss: 1.6242 - g_mae: 2.4118"
          ]
        },
        {
          "name": "stderr",
          "output_type": "stream",
          "text": [
            "WARNING:tensorflow:Compiled the loaded model, but the compiled metrics have yet to be built. `model.compile_metrics` will be empty until you train or evaluate the model.\n",
            "WARNING:tensorflow:Compiled the loaded model, but the compiled metrics have yet to be built. `model.compile_metrics` will be empty until you train or evaluate the model.\n"
          ]
        },
        {
          "name": "stdout",
          "output_type": "stream",
          "text": [
            "122/122 [==============================] - 40s 323ms/step - g_loss: 1.8754 - d_loss: 1.6249 - g_mae: 2.4126 - val_g_loss: 1.1757 - val_d_loss: 1.0822 - val_g_mae: 1.1245\n",
            "Epoch 15/200\n",
            "122/122 [==============================] - ETA: 0s - g_loss: 1.2342 - d_loss: 1.8169 - g_mae: 2.7441"
          ]
        },
        {
          "name": "stderr",
          "output_type": "stream",
          "text": [
            "WARNING:tensorflow:Compiled the loaded model, but the compiled metrics have yet to be built. `model.compile_metrics` will be empty until you train or evaluate the model.\n",
            "WARNING:tensorflow:Compiled the loaded model, but the compiled metrics have yet to be built. `model.compile_metrics` will be empty until you train or evaluate the model.\n"
          ]
        },
        {
          "name": "stdout",
          "output_type": "stream",
          "text": [
            "122/122 [==============================] - 40s 323ms/step - g_loss: 1.2350 - d_loss: 1.8167 - g_mae: 2.7436 - val_g_loss: 2.0897 - val_d_loss: 0.7086 - val_g_mae: 2.6464\n",
            "Epoch 16/200\n",
            "122/122 [==============================] - ETA: 0s - g_loss: 1.9834 - d_loss: 1.3703 - g_mae: 2.5453"
          ]
        },
        {
          "name": "stderr",
          "output_type": "stream",
          "text": [
            "WARNING:tensorflow:Compiled the loaded model, but the compiled metrics have yet to be built. `model.compile_metrics` will be empty until you train or evaluate the model.\n",
            "WARNING:tensorflow:Compiled the loaded model, but the compiled metrics have yet to be built. `model.compile_metrics` will be empty until you train or evaluate the model.\n"
          ]
        },
        {
          "name": "stdout",
          "output_type": "stream",
          "text": [
            "122/122 [==============================] - 40s 323ms/step - g_loss: 1.9831 - d_loss: 1.3705 - g_mae: 2.5443 - val_g_loss: 1.3209 - val_d_loss: 1.2857 - val_g_mae: 1.7775\n",
            "Epoch 17/200\n",
            "122/122 [==============================] - ETA: 0s - g_loss: 1.1575 - d_loss: 2.1119 - g_mae: 3.7255"
          ]
        },
        {
          "name": "stderr",
          "output_type": "stream",
          "text": [
            "WARNING:tensorflow:Compiled the loaded model, but the compiled metrics have yet to be built. `model.compile_metrics` will be empty until you train or evaluate the model.\n",
            "WARNING:tensorflow:Compiled the loaded model, but the compiled metrics have yet to be built. `model.compile_metrics` will be empty until you train or evaluate the model.\n"
          ]
        },
        {
          "name": "stdout",
          "output_type": "stream",
          "text": [
            "122/122 [==============================] - 39s 323ms/step - g_loss: 1.1561 - d_loss: 2.1114 - g_mae: 3.7180 - val_g_loss: 0.8485 - val_d_loss: 1.3208 - val_g_mae: 0.9386\n",
            "Epoch 18/200\n",
            "122/122 [==============================] - ETA: 0s - g_loss: 1.0067 - d_loss: 1.8003 - g_mae: 2.3588"
          ]
        },
        {
          "name": "stderr",
          "output_type": "stream",
          "text": [
            "WARNING:tensorflow:Compiled the loaded model, but the compiled metrics have yet to be built. `model.compile_metrics` will be empty until you train or evaluate the model.\n",
            "WARNING:tensorflow:Compiled the loaded model, but the compiled metrics have yet to be built. `model.compile_metrics` will be empty until you train or evaluate the model.\n"
          ]
        },
        {
          "name": "stdout",
          "output_type": "stream",
          "text": [
            "122/122 [==============================] - 40s 323ms/step - g_loss: 1.0086 - d_loss: 1.7990 - g_mae: 2.3581 - val_g_loss: 1.4192 - val_d_loss: 1.0373 - val_g_mae: 0.8995\n",
            "Epoch 19/200\n",
            "122/122 [==============================] - ETA: 0s - g_loss: 2.0486 - d_loss: 1.3717 - g_mae: 2.6644"
          ]
        },
        {
          "name": "stderr",
          "output_type": "stream",
          "text": [
            "WARNING:tensorflow:Compiled the loaded model, but the compiled metrics have yet to be built. `model.compile_metrics` will be empty until you train or evaluate the model.\n",
            "WARNING:tensorflow:Compiled the loaded model, but the compiled metrics have yet to be built. `model.compile_metrics` will be empty until you train or evaluate the model.\n"
          ]
        },
        {
          "name": "stdout",
          "output_type": "stream",
          "text": [
            "122/122 [==============================] - 40s 323ms/step - g_loss: 2.0480 - d_loss: 1.3733 - g_mae: 2.6693 - val_g_loss: 0.5791 - val_d_loss: 1.4031 - val_g_mae: 0.8791\n",
            "Epoch 20/200\n",
            "122/122 [==============================] - ETA: 0s - g_loss: 1.9146 - d_loss: 1.5227 - g_mae: 2.3311"
          ]
        },
        {
          "name": "stderr",
          "output_type": "stream",
          "text": [
            "WARNING:tensorflow:Compiled the loaded model, but the compiled metrics have yet to be built. `model.compile_metrics` will be empty until you train or evaluate the model.\n",
            "WARNING:tensorflow:Compiled the loaded model, but the compiled metrics have yet to be built. `model.compile_metrics` will be empty until you train or evaluate the model.\n"
          ]
        },
        {
          "name": "stdout",
          "output_type": "stream",
          "text": [
            "122/122 [==============================] - 40s 323ms/step - g_loss: 1.9150 - d_loss: 1.5227 - g_mae: 2.3318 - val_g_loss: 0.9466 - val_d_loss: 1.4818 - val_g_mae: 1.0095\n",
            "Epoch 21/200\n",
            "122/122 [==============================] - ETA: 0s - g_loss: 1.1816 - d_loss: 1.9280 - g_mae: 2.8695"
          ]
        },
        {
          "name": "stderr",
          "output_type": "stream",
          "text": [
            "WARNING:tensorflow:Compiled the loaded model, but the compiled metrics have yet to be built. `model.compile_metrics` will be empty until you train or evaluate the model.\n",
            "WARNING:tensorflow:Compiled the loaded model, but the compiled metrics have yet to be built. `model.compile_metrics` will be empty until you train or evaluate the model.\n"
          ]
        },
        {
          "name": "stdout",
          "output_type": "stream",
          "text": [
            "122/122 [==============================] - 40s 323ms/step - g_loss: 1.1823 - d_loss: 1.9273 - g_mae: 2.8704 - val_g_loss: 1.3959 - val_d_loss: 1.3519 - val_g_mae: 1.1497\n",
            "Epoch 22/200\n",
            "122/122 [==============================] - ETA: 0s - g_loss: 1.3550 - d_loss: 1.6212 - g_mae: 2.4352"
          ]
        },
        {
          "name": "stderr",
          "output_type": "stream",
          "text": [
            "WARNING:tensorflow:Compiled the loaded model, but the compiled metrics have yet to be built. `model.compile_metrics` will be empty until you train or evaluate the model.\n",
            "WARNING:tensorflow:Compiled the loaded model, but the compiled metrics have yet to be built. `model.compile_metrics` will be empty until you train or evaluate the model.\n"
          ]
        },
        {
          "name": "stdout",
          "output_type": "stream",
          "text": [
            "122/122 [==============================] - 40s 323ms/step - g_loss: 1.3557 - d_loss: 1.6209 - g_mae: 2.4384 - val_g_loss: 0.9851 - val_d_loss: 1.0853 - val_g_mae: 0.8529\n",
            "Epoch 23/200\n",
            "122/122 [==============================] - ETA: 0s - g_loss: 1.5152 - d_loss: 1.6271 - g_mae: 2.2875"
          ]
        },
        {
          "name": "stderr",
          "output_type": "stream",
          "text": [
            "WARNING:tensorflow:Compiled the loaded model, but the compiled metrics have yet to be built. `model.compile_metrics` will be empty until you train or evaluate the model.\n",
            "WARNING:tensorflow:Compiled the loaded model, but the compiled metrics have yet to be built. `model.compile_metrics` will be empty until you train or evaluate the model.\n"
          ]
        },
        {
          "name": "stdout",
          "output_type": "stream",
          "text": [
            "122/122 [==============================] - 40s 323ms/step - g_loss: 1.5152 - d_loss: 1.6269 - g_mae: 2.2899 - val_g_loss: 1.6706 - val_d_loss: 1.0114 - val_g_mae: 0.9699\n",
            "Epoch 24/200\n",
            "122/122 [==============================] - ETA: 0s - g_loss: 1.5548 - d_loss: 1.5138 - g_mae: 2.5873"
          ]
        },
        {
          "name": "stderr",
          "output_type": "stream",
          "text": [
            "WARNING:tensorflow:Compiled the loaded model, but the compiled metrics have yet to be built. `model.compile_metrics` will be empty until you train or evaluate the model.\n",
            "WARNING:tensorflow:Compiled the loaded model, but the compiled metrics have yet to be built. `model.compile_metrics` will be empty until you train or evaluate the model.\n"
          ]
        },
        {
          "name": "stdout",
          "output_type": "stream",
          "text": [
            "122/122 [==============================] - 39s 323ms/step - g_loss: 1.5540 - d_loss: 1.5138 - g_mae: 2.5870 - val_g_loss: 1.4572 - val_d_loss: 1.0832 - val_g_mae: 1.0507\n",
            "Epoch 25/200\n",
            "122/122 [==============================] - ETA: 0s - g_loss: 2.0253 - d_loss: 1.1255 - g_mae: 2.3679"
          ]
        },
        {
          "name": "stderr",
          "output_type": "stream",
          "text": [
            "WARNING:tensorflow:Compiled the loaded model, but the compiled metrics have yet to be built. `model.compile_metrics` will be empty until you train or evaluate the model.\n",
            "WARNING:tensorflow:Compiled the loaded model, but the compiled metrics have yet to be built. `model.compile_metrics` will be empty until you train or evaluate the model.\n"
          ]
        },
        {
          "name": "stdout",
          "output_type": "stream",
          "text": [
            "122/122 [==============================] - 39s 323ms/step - g_loss: 2.0240 - d_loss: 1.1268 - g_mae: 2.3691 - val_g_loss: 1.2728 - val_d_loss: 1.1298 - val_g_mae: 0.9568\n",
            "Epoch 26/200\n",
            "122/122 [==============================] - ETA: 0s - g_loss: 1.3786 - d_loss: 1.6995 - g_mae: 3.3807"
          ]
        },
        {
          "name": "stderr",
          "output_type": "stream",
          "text": [
            "WARNING:tensorflow:Compiled the loaded model, but the compiled metrics have yet to be built. `model.compile_metrics` will be empty until you train or evaluate the model.\n",
            "WARNING:tensorflow:Compiled the loaded model, but the compiled metrics have yet to be built. `model.compile_metrics` will be empty until you train or evaluate the model.\n"
          ]
        },
        {
          "name": "stdout",
          "output_type": "stream",
          "text": [
            "122/122 [==============================] - 39s 323ms/step - g_loss: 1.3768 - d_loss: 1.7000 - g_mae: 3.3782 - val_g_loss: 1.0968 - val_d_loss: 1.1702 - val_g_mae: 1.4879\n",
            "Epoch 27/200\n",
            "122/122 [==============================] - ETA: 0s - g_loss: 1.8216 - d_loss: 1.4144 - g_mae: 2.8590"
          ]
        },
        {
          "name": "stderr",
          "output_type": "stream",
          "text": [
            "WARNING:tensorflow:Compiled the loaded model, but the compiled metrics have yet to be built. `model.compile_metrics` will be empty until you train or evaluate the model.\n",
            "WARNING:tensorflow:Compiled the loaded model, but the compiled metrics have yet to be built. `model.compile_metrics` will be empty until you train or evaluate the model.\n"
          ]
        },
        {
          "name": "stdout",
          "output_type": "stream",
          "text": [
            "122/122 [==============================] - 40s 323ms/step - g_loss: 1.8211 - d_loss: 1.4149 - g_mae: 2.8597 - val_g_loss: 1.2885 - val_d_loss: 1.0175 - val_g_mae: 0.9260\n",
            "Epoch 28/200\n",
            "122/122 [==============================] - ETA: 0s - g_loss: 1.4564 - d_loss: 1.5956 - g_mae: 2.4392"
          ]
        },
        {
          "name": "stderr",
          "output_type": "stream",
          "text": [
            "WARNING:tensorflow:Compiled the loaded model, but the compiled metrics have yet to be built. `model.compile_metrics` will be empty until you train or evaluate the model.\n",
            "WARNING:tensorflow:Compiled the loaded model, but the compiled metrics have yet to be built. `model.compile_metrics` will be empty until you train or evaluate the model.\n"
          ]
        },
        {
          "name": "stdout",
          "output_type": "stream",
          "text": [
            "122/122 [==============================] - 39s 323ms/step - g_loss: 1.4577 - d_loss: 1.5946 - g_mae: 2.4398 - val_g_loss: 1.2000 - val_d_loss: 0.9875 - val_g_mae: 1.0256\n",
            "Epoch 29/200\n",
            "122/122 [==============================] - ETA: 0s - g_loss: 1.9566 - d_loss: 1.1985 - g_mae: 2.7450"
          ]
        },
        {
          "name": "stderr",
          "output_type": "stream",
          "text": [
            "WARNING:tensorflow:Compiled the loaded model, but the compiled metrics have yet to be built. `model.compile_metrics` will be empty until you train or evaluate the model.\n",
            "WARNING:tensorflow:Compiled the loaded model, but the compiled metrics have yet to be built. `model.compile_metrics` will be empty until you train or evaluate the model.\n"
          ]
        },
        {
          "name": "stdout",
          "output_type": "stream",
          "text": [
            "122/122 [==============================] - 40s 323ms/step - g_loss: 1.9577 - d_loss: 1.1982 - g_mae: 2.7447 - val_g_loss: 1.4295 - val_d_loss: 1.0853 - val_g_mae: 1.1333\n",
            "Epoch 30/200\n",
            "122/122 [==============================] - ETA: 0s - g_loss: 2.2696 - d_loss: 1.0843 - g_mae: 2.4513"
          ]
        },
        {
          "name": "stderr",
          "output_type": "stream",
          "text": [
            "WARNING:tensorflow:Compiled the loaded model, but the compiled metrics have yet to be built. `model.compile_metrics` will be empty until you train or evaluate the model.\n",
            "WARNING:tensorflow:Compiled the loaded model, but the compiled metrics have yet to be built. `model.compile_metrics` will be empty until you train or evaluate the model.\n"
          ]
        },
        {
          "name": "stdout",
          "output_type": "stream",
          "text": [
            "122/122 [==============================] - 40s 323ms/step - g_loss: 2.2707 - d_loss: 1.0841 - g_mae: 2.4511 - val_g_loss: 2.1989 - val_d_loss: 1.0391 - val_g_mae: 0.8985\n",
            "Epoch 31/200\n",
            "122/122 [==============================] - ETA: 0s - g_loss: 2.4041 - d_loss: 1.0727 - g_mae: 2.4582"
          ]
        },
        {
          "name": "stderr",
          "output_type": "stream",
          "text": [
            "WARNING:tensorflow:Compiled the loaded model, but the compiled metrics have yet to be built. `model.compile_metrics` will be empty until you train or evaluate the model.\n",
            "WARNING:tensorflow:Compiled the loaded model, but the compiled metrics have yet to be built. `model.compile_metrics` will be empty until you train or evaluate the model.\n"
          ]
        },
        {
          "name": "stdout",
          "output_type": "stream",
          "text": [
            "122/122 [==============================] - 40s 323ms/step - g_loss: 2.4030 - d_loss: 1.0734 - g_mae: 2.4582 - val_g_loss: 1.6371 - val_d_loss: 1.0578 - val_g_mae: 1.6460\n",
            "Epoch 32/200\n",
            "122/122 [==============================] - ETA: 0s - g_loss: 1.9331 - d_loss: 1.3631 - g_mae: 3.2804"
          ]
        },
        {
          "name": "stderr",
          "output_type": "stream",
          "text": [
            "WARNING:tensorflow:Compiled the loaded model, but the compiled metrics have yet to be built. `model.compile_metrics` will be empty until you train or evaluate the model.\n",
            "WARNING:tensorflow:Compiled the loaded model, but the compiled metrics have yet to be built. `model.compile_metrics` will be empty until you train or evaluate the model.\n"
          ]
        },
        {
          "name": "stdout",
          "output_type": "stream",
          "text": [
            "122/122 [==============================] - 39s 323ms/step - g_loss: 1.9339 - d_loss: 1.3622 - g_mae: 3.2759 - val_g_loss: 2.1138 - val_d_loss: 0.8248 - val_g_mae: 1.0055\n",
            "Epoch 33/200\n",
            "122/122 [==============================] - ETA: 0s - g_loss: 2.6471 - d_loss: 0.9378 - g_mae: 2.3884"
          ]
        },
        {
          "name": "stderr",
          "output_type": "stream",
          "text": [
            "WARNING:tensorflow:Compiled the loaded model, but the compiled metrics have yet to be built. `model.compile_metrics` will be empty until you train or evaluate the model.\n",
            "WARNING:tensorflow:Compiled the loaded model, but the compiled metrics have yet to be built. `model.compile_metrics` will be empty until you train or evaluate the model.\n"
          ]
        },
        {
          "name": "stdout",
          "output_type": "stream",
          "text": [
            "122/122 [==============================] - 39s 323ms/step - g_loss: 2.6455 - d_loss: 0.9386 - g_mae: 2.3897 - val_g_loss: 1.5050 - val_d_loss: 0.7922 - val_g_mae: 1.0254\n",
            "Epoch 34/200\n",
            "122/122 [==============================] - ETA: 0s - g_loss: 2.6171 - d_loss: 0.9361 - g_mae: 2.1666"
          ]
        },
        {
          "name": "stderr",
          "output_type": "stream",
          "text": [
            "WARNING:tensorflow:Compiled the loaded model, but the compiled metrics have yet to be built. `model.compile_metrics` will be empty until you train or evaluate the model.\n",
            "WARNING:tensorflow:Compiled the loaded model, but the compiled metrics have yet to be built. `model.compile_metrics` will be empty until you train or evaluate the model.\n"
          ]
        },
        {
          "name": "stdout",
          "output_type": "stream",
          "text": [
            "122/122 [==============================] - 40s 323ms/step - g_loss: 2.6172 - d_loss: 0.9362 - g_mae: 2.1677 - val_g_loss: 2.0741 - val_d_loss: 0.8662 - val_g_mae: 0.8824\n",
            "Epoch 35/200\n",
            "122/122 [==============================] - ETA: 0s - g_loss: 2.5834 - d_loss: 0.9658 - g_mae: 2.2511"
          ]
        },
        {
          "name": "stderr",
          "output_type": "stream",
          "text": [
            "WARNING:tensorflow:Compiled the loaded model, but the compiled metrics have yet to be built. `model.compile_metrics` will be empty until you train or evaluate the model.\n",
            "WARNING:tensorflow:Compiled the loaded model, but the compiled metrics have yet to be built. `model.compile_metrics` will be empty until you train or evaluate the model.\n"
          ]
        },
        {
          "name": "stdout",
          "output_type": "stream",
          "text": [
            "122/122 [==============================] - 40s 323ms/step - g_loss: 2.5820 - d_loss: 0.9661 - g_mae: 2.2517 - val_g_loss: 1.5505 - val_d_loss: 0.9561 - val_g_mae: 0.9314\n",
            "Epoch 36/200\n",
            "122/122 [==============================] - ETA: 0s - g_loss: 2.6482 - d_loss: 0.9906 - g_mae: 2.3217"
          ]
        },
        {
          "name": "stderr",
          "output_type": "stream",
          "text": [
            "WARNING:tensorflow:Compiled the loaded model, but the compiled metrics have yet to be built. `model.compile_metrics` will be empty until you train or evaluate the model.\n",
            "WARNING:tensorflow:Compiled the loaded model, but the compiled metrics have yet to be built. `model.compile_metrics` will be empty until you train or evaluate the model.\n"
          ]
        },
        {
          "name": "stdout",
          "output_type": "stream",
          "text": [
            "122/122 [==============================] - 40s 323ms/step - g_loss: 2.6474 - d_loss: 0.9913 - g_mae: 2.3229 - val_g_loss: 1.2504 - val_d_loss: 0.8436 - val_g_mae: 1.3985\n",
            "Epoch 37/200\n",
            "122/122 [==============================] - ETA: 0s - g_loss: 2.2486 - d_loss: 1.1281 - g_mae: 2.6551"
          ]
        },
        {
          "name": "stderr",
          "output_type": "stream",
          "text": [
            "WARNING:tensorflow:Compiled the loaded model, but the compiled metrics have yet to be built. `model.compile_metrics` will be empty until you train or evaluate the model.\n",
            "WARNING:tensorflow:Compiled the loaded model, but the compiled metrics have yet to be built. `model.compile_metrics` will be empty until you train or evaluate the model.\n"
          ]
        },
        {
          "name": "stdout",
          "output_type": "stream",
          "text": [
            "122/122 [==============================] - 40s 324ms/step - g_loss: 2.2500 - d_loss: 1.1278 - g_mae: 2.6540 - val_g_loss: 1.9483 - val_d_loss: 0.8168 - val_g_mae: 1.3581\n",
            "Epoch 38/200\n",
            "122/122 [==============================] - ETA: 0s - g_loss: 2.3612 - d_loss: 1.0729 - g_mae: 2.5223"
          ]
        },
        {
          "name": "stderr",
          "output_type": "stream",
          "text": [
            "WARNING:tensorflow:Compiled the loaded model, but the compiled metrics have yet to be built. `model.compile_metrics` will be empty until you train or evaluate the model.\n",
            "WARNING:tensorflow:Compiled the loaded model, but the compiled metrics have yet to be built. `model.compile_metrics` will be empty until you train or evaluate the model.\n"
          ]
        },
        {
          "name": "stdout",
          "output_type": "stream",
          "text": [
            "122/122 [==============================] - 40s 324ms/step - g_loss: 2.3616 - d_loss: 1.0729 - g_mae: 2.5222 - val_g_loss: 1.2382 - val_d_loss: 0.8521 - val_g_mae: 1.7259\n",
            "Epoch 39/200\n",
            "122/122 [==============================] - ETA: 0s - g_loss: 2.2209 - d_loss: 1.1472 - g_mae: 2.6400"
          ]
        },
        {
          "name": "stderr",
          "output_type": "stream",
          "text": [
            "WARNING:tensorflow:Compiled the loaded model, but the compiled metrics have yet to be built. `model.compile_metrics` will be empty until you train or evaluate the model.\n",
            "WARNING:tensorflow:Compiled the loaded model, but the compiled metrics have yet to be built. `model.compile_metrics` will be empty until you train or evaluate the model.\n"
          ]
        },
        {
          "name": "stdout",
          "output_type": "stream",
          "text": [
            "122/122 [==============================] - 40s 324ms/step - g_loss: 2.2216 - d_loss: 1.1469 - g_mae: 2.6395 - val_g_loss: 1.8905 - val_d_loss: 0.9506 - val_g_mae: 1.3653\n",
            "Epoch 40/200\n",
            "122/122 [==============================] - ETA: 0s - g_loss: 2.5286 - d_loss: 0.9820 - g_mae: 2.6381"
          ]
        },
        {
          "name": "stderr",
          "output_type": "stream",
          "text": [
            "WARNING:tensorflow:Compiled the loaded model, but the compiled metrics have yet to be built. `model.compile_metrics` will be empty until you train or evaluate the model.\n",
            "WARNING:tensorflow:Compiled the loaded model, but the compiled metrics have yet to be built. `model.compile_metrics` will be empty until you train or evaluate the model.\n"
          ]
        },
        {
          "name": "stdout",
          "output_type": "stream",
          "text": [
            "122/122 [==============================] - 39s 322ms/step - g_loss: 2.5290 - d_loss: 0.9814 - g_mae: 2.6360 - val_g_loss: 1.5986 - val_d_loss: 0.9383 - val_g_mae: 0.9112\n",
            "Epoch 41/200\n",
            "122/122 [==============================] - ETA: 0s - g_loss: 2.5659 - d_loss: 0.9118 - g_mae: 2.3089"
          ]
        },
        {
          "name": "stderr",
          "output_type": "stream",
          "text": [
            "WARNING:tensorflow:Compiled the loaded model, but the compiled metrics have yet to be built. `model.compile_metrics` will be empty until you train or evaluate the model.\n",
            "WARNING:tensorflow:Compiled the loaded model, but the compiled metrics have yet to be built. `model.compile_metrics` will be empty until you train or evaluate the model.\n"
          ]
        },
        {
          "name": "stdout",
          "output_type": "stream",
          "text": [
            "122/122 [==============================] - 40s 323ms/step - g_loss: 2.5654 - d_loss: 0.9120 - g_mae: 2.3094 - val_g_loss: 1.6928 - val_d_loss: 0.8255 - val_g_mae: 0.9470\n",
            "Epoch 42/200\n",
            "122/122 [==============================] - ETA: 0s - g_loss: 2.6580 - d_loss: 0.9806 - g_mae: 2.4901"
          ]
        },
        {
          "name": "stderr",
          "output_type": "stream",
          "text": [
            "WARNING:tensorflow:Compiled the loaded model, but the compiled metrics have yet to be built. `model.compile_metrics` will be empty until you train or evaluate the model.\n",
            "WARNING:tensorflow:Compiled the loaded model, but the compiled metrics have yet to be built. `model.compile_metrics` will be empty until you train or evaluate the model.\n"
          ]
        },
        {
          "name": "stdout",
          "output_type": "stream",
          "text": [
            "122/122 [==============================] - 40s 323ms/step - g_loss: 2.6572 - d_loss: 0.9805 - g_mae: 2.4903 - val_g_loss: 1.6043 - val_d_loss: 1.0713 - val_g_mae: 1.2600\n",
            "Epoch 43/200\n",
            "122/122 [==============================] - ETA: 0s - g_loss: 2.4947 - d_loss: 0.9167 - g_mae: 2.3789"
          ]
        },
        {
          "name": "stderr",
          "output_type": "stream",
          "text": [
            "WARNING:tensorflow:Compiled the loaded model, but the compiled metrics have yet to be built. `model.compile_metrics` will be empty until you train or evaluate the model.\n",
            "WARNING:tensorflow:Compiled the loaded model, but the compiled metrics have yet to be built. `model.compile_metrics` will be empty until you train or evaluate the model.\n"
          ]
        },
        {
          "name": "stdout",
          "output_type": "stream",
          "text": [
            "122/122 [==============================] - 40s 323ms/step - g_loss: 2.4948 - d_loss: 0.9168 - g_mae: 2.3786 - val_g_loss: 1.8508 - val_d_loss: 0.9803 - val_g_mae: 0.9459\n",
            "Epoch 44/200\n",
            "122/122 [==============================] - ETA: 0s - g_loss: 2.5988 - d_loss: 0.8956 - g_mae: 2.3564"
          ]
        },
        {
          "name": "stderr",
          "output_type": "stream",
          "text": [
            "WARNING:tensorflow:Compiled the loaded model, but the compiled metrics have yet to be built. `model.compile_metrics` will be empty until you train or evaluate the model.\n",
            "WARNING:tensorflow:Compiled the loaded model, but the compiled metrics have yet to be built. `model.compile_metrics` will be empty until you train or evaluate the model.\n"
          ]
        },
        {
          "name": "stdout",
          "output_type": "stream",
          "text": [
            "122/122 [==============================] - 40s 324ms/step - g_loss: 2.5978 - d_loss: 0.8969 - g_mae: 2.3575 - val_g_loss: 2.0063 - val_d_loss: 0.3651 - val_g_mae: 5.1451\n",
            "Epoch 45/200\n",
            "122/122 [==============================] - ETA: 0s - g_loss: 2.4242 - d_loss: 1.2349 - g_mae: 2.8849"
          ]
        },
        {
          "name": "stderr",
          "output_type": "stream",
          "text": [
            "WARNING:tensorflow:Compiled the loaded model, but the compiled metrics have yet to be built. `model.compile_metrics` will be empty until you train or evaluate the model.\n",
            "WARNING:tensorflow:Compiled the loaded model, but the compiled metrics have yet to be built. `model.compile_metrics` will be empty until you train or evaluate the model.\n"
          ]
        },
        {
          "name": "stdout",
          "output_type": "stream",
          "text": [
            "122/122 [==============================] - 39s 323ms/step - g_loss: 2.4228 - d_loss: 1.2334 - g_mae: 2.8806 - val_g_loss: 1.7023 - val_d_loss: 0.8092 - val_g_mae: 1.0137\n",
            "Epoch 46/200\n",
            "122/122 [==============================] - ETA: 0s - g_loss: 2.3541 - d_loss: 0.9164 - g_mae: 2.2400"
          ]
        },
        {
          "name": "stderr",
          "output_type": "stream",
          "text": [
            "WARNING:tensorflow:Compiled the loaded model, but the compiled metrics have yet to be built. `model.compile_metrics` will be empty until you train or evaluate the model.\n",
            "WARNING:tensorflow:Compiled the loaded model, but the compiled metrics have yet to be built. `model.compile_metrics` will be empty until you train or evaluate the model.\n"
          ]
        },
        {
          "name": "stdout",
          "output_type": "stream",
          "text": [
            "122/122 [==============================] - 40s 323ms/step - g_loss: 2.3525 - d_loss: 0.9176 - g_mae: 2.2411 - val_g_loss: 1.2743 - val_d_loss: 1.0390 - val_g_mae: 1.8212\n",
            "Epoch 47/200\n",
            "122/122 [==============================] - ETA: 0s - g_loss: 2.0557 - d_loss: 1.1532 - g_mae: 2.5787"
          ]
        },
        {
          "name": "stderr",
          "output_type": "stream",
          "text": [
            "WARNING:tensorflow:Compiled the loaded model, but the compiled metrics have yet to be built. `model.compile_metrics` will be empty until you train or evaluate the model.\n",
            "WARNING:tensorflow:Compiled the loaded model, but the compiled metrics have yet to be built. `model.compile_metrics` will be empty until you train or evaluate the model.\n"
          ]
        },
        {
          "name": "stdout",
          "output_type": "stream",
          "text": [
            "122/122 [==============================] - 40s 323ms/step - g_loss: 2.0563 - d_loss: 1.1531 - g_mae: 2.5785 - val_g_loss: 1.3961 - val_d_loss: 0.7131 - val_g_mae: 2.1596\n",
            "Epoch 48/200\n",
            "122/122 [==============================] - ETA: 0s - g_loss: 2.0144 - d_loss: 1.2815 - g_mae: 2.5200"
          ]
        },
        {
          "name": "stderr",
          "output_type": "stream",
          "text": [
            "WARNING:tensorflow:Compiled the loaded model, but the compiled metrics have yet to be built. `model.compile_metrics` will be empty until you train or evaluate the model.\n",
            "WARNING:tensorflow:Compiled the loaded model, but the compiled metrics have yet to be built. `model.compile_metrics` will be empty until you train or evaluate the model.\n"
          ]
        },
        {
          "name": "stdout",
          "output_type": "stream",
          "text": [
            "122/122 [==============================] - 40s 323ms/step - g_loss: 2.0145 - d_loss: 1.2815 - g_mae: 2.5202 - val_g_loss: 1.5712 - val_d_loss: 1.1013 - val_g_mae: 1.3054\n",
            "Epoch 49/200\n",
            "122/122 [==============================] - ETA: 0s - g_loss: 1.8239 - d_loss: 1.3082 - g_mae: 2.5963"
          ]
        },
        {
          "name": "stderr",
          "output_type": "stream",
          "text": [
            "WARNING:tensorflow:Compiled the loaded model, but the compiled metrics have yet to be built. `model.compile_metrics` will be empty until you train or evaluate the model.\n",
            "WARNING:tensorflow:Compiled the loaded model, but the compiled metrics have yet to be built. `model.compile_metrics` will be empty until you train or evaluate the model.\n"
          ]
        },
        {
          "name": "stdout",
          "output_type": "stream",
          "text": [
            "122/122 [==============================] - 40s 323ms/step - g_loss: 1.8250 - d_loss: 1.3084 - g_mae: 2.5969 - val_g_loss: 1.0559 - val_d_loss: 0.7796 - val_g_mae: 3.2382\n",
            "Epoch 50/200\n",
            "122/122 [==============================] - ETA: 0s - g_loss: 1.8338 - d_loss: 1.3093 - g_mae: 2.8799"
          ]
        },
        {
          "name": "stderr",
          "output_type": "stream",
          "text": [
            "WARNING:tensorflow:Compiled the loaded model, but the compiled metrics have yet to be built. `model.compile_metrics` will be empty until you train or evaluate the model.\n",
            "WARNING:tensorflow:Compiled the loaded model, but the compiled metrics have yet to be built. `model.compile_metrics` will be empty until you train or evaluate the model.\n"
          ]
        },
        {
          "name": "stdout",
          "output_type": "stream",
          "text": [
            "122/122 [==============================] - 40s 324ms/step - g_loss: 1.8348 - d_loss: 1.3093 - g_mae: 2.8777 - val_g_loss: 1.9148 - val_d_loss: 1.1496 - val_g_mae: 1.4581\n",
            "Epoch 51/200\n",
            "122/122 [==============================] - ETA: 0s - g_loss: 1.9583 - d_loss: 1.3034 - g_mae: 2.6673"
          ]
        },
        {
          "name": "stderr",
          "output_type": "stream",
          "text": [
            "WARNING:tensorflow:Compiled the loaded model, but the compiled metrics have yet to be built. `model.compile_metrics` will be empty until you train or evaluate the model.\n",
            "WARNING:tensorflow:Compiled the loaded model, but the compiled metrics have yet to be built. `model.compile_metrics` will be empty until you train or evaluate the model.\n"
          ]
        },
        {
          "name": "stdout",
          "output_type": "stream",
          "text": [
            "122/122 [==============================] - 40s 324ms/step - g_loss: 1.9577 - d_loss: 1.3033 - g_mae: 2.6672 - val_g_loss: 1.9823 - val_d_loss: 0.9956 - val_g_mae: 1.2486\n",
            "Epoch 52/200\n",
            "122/122 [==============================] - ETA: 0s - g_loss: 2.1170 - d_loss: 1.0218 - g_mae: 2.3078"
          ]
        },
        {
          "name": "stderr",
          "output_type": "stream",
          "text": [
            "WARNING:tensorflow:Compiled the loaded model, but the compiled metrics have yet to be built. `model.compile_metrics` will be empty until you train or evaluate the model.\n",
            "WARNING:tensorflow:Compiled the loaded model, but the compiled metrics have yet to be built. `model.compile_metrics` will be empty until you train or evaluate the model.\n"
          ]
        },
        {
          "name": "stdout",
          "output_type": "stream",
          "text": [
            "122/122 [==============================] - 40s 323ms/step - g_loss: 2.1175 - d_loss: 1.0218 - g_mae: 2.3077 - val_g_loss: 1.4746 - val_d_loss: 0.9231 - val_g_mae: 1.4518\n",
            "Epoch 53/200\n",
            "122/122 [==============================] - ETA: 0s - g_loss: 2.0954 - d_loss: 1.1584 - g_mae: 2.5171"
          ]
        },
        {
          "name": "stderr",
          "output_type": "stream",
          "text": [
            "WARNING:tensorflow:Compiled the loaded model, but the compiled metrics have yet to be built. `model.compile_metrics` will be empty until you train or evaluate the model.\n",
            "WARNING:tensorflow:Compiled the loaded model, but the compiled metrics have yet to be built. `model.compile_metrics` will be empty until you train or evaluate the model.\n"
          ]
        },
        {
          "name": "stdout",
          "output_type": "stream",
          "text": [
            "122/122 [==============================] - 40s 323ms/step - g_loss: 2.0968 - d_loss: 1.1587 - g_mae: 2.5174 - val_g_loss: 0.7740 - val_d_loss: 1.1618 - val_g_mae: 1.2362\n",
            "Epoch 54/200\n",
            "122/122 [==============================] - ETA: 0s - g_loss: 1.8681 - d_loss: 1.2232 - g_mae: 2.4194"
          ]
        },
        {
          "name": "stderr",
          "output_type": "stream",
          "text": [
            "WARNING:tensorflow:Compiled the loaded model, but the compiled metrics have yet to be built. `model.compile_metrics` will be empty until you train or evaluate the model.\n",
            "WARNING:tensorflow:Compiled the loaded model, but the compiled metrics have yet to be built. `model.compile_metrics` will be empty until you train or evaluate the model.\n"
          ]
        },
        {
          "name": "stdout",
          "output_type": "stream",
          "text": [
            "122/122 [==============================] - 40s 323ms/step - g_loss: 1.8695 - d_loss: 1.2229 - g_mae: 2.4207 - val_g_loss: 1.1132 - val_d_loss: 0.8969 - val_g_mae: 2.0641\n",
            "Epoch 55/200\n",
            "122/122 [==============================] - ETA: 0s - g_loss: 2.1693 - d_loss: 1.1668 - g_mae: 2.7865"
          ]
        },
        {
          "name": "stderr",
          "output_type": "stream",
          "text": [
            "WARNING:tensorflow:Compiled the loaded model, but the compiled metrics have yet to be built. `model.compile_metrics` will be empty until you train or evaluate the model.\n",
            "WARNING:tensorflow:Compiled the loaded model, but the compiled metrics have yet to be built. `model.compile_metrics` will be empty until you train or evaluate the model.\n"
          ]
        },
        {
          "name": "stdout",
          "output_type": "stream",
          "text": [
            "122/122 [==============================] - 40s 324ms/step - g_loss: 2.1702 - d_loss: 1.1665 - g_mae: 2.7852 - val_g_loss: 1.5874 - val_d_loss: 0.8703 - val_g_mae: 1.1451\n",
            "Epoch 56/200\n",
            "122/122 [==============================] - ETA: 0s - g_loss: 2.2179 - d_loss: 1.0941 - g_mae: 2.5578"
          ]
        },
        {
          "name": "stderr",
          "output_type": "stream",
          "text": [
            "WARNING:tensorflow:Compiled the loaded model, but the compiled metrics have yet to be built. `model.compile_metrics` will be empty until you train or evaluate the model.\n",
            "WARNING:tensorflow:Compiled the loaded model, but the compiled metrics have yet to be built. `model.compile_metrics` will be empty until you train or evaluate the model.\n"
          ]
        },
        {
          "name": "stdout",
          "output_type": "stream",
          "text": [
            "122/122 [==============================] - 40s 324ms/step - g_loss: 2.2178 - d_loss: 1.0943 - g_mae: 2.5582 - val_g_loss: 1.4370 - val_d_loss: 0.9016 - val_g_mae: 1.1759\n",
            "Epoch 57/200\n",
            "122/122 [==============================] - ETA: 0s - g_loss: 2.4224 - d_loss: 1.0354 - g_mae: 2.2818"
          ]
        },
        {
          "name": "stderr",
          "output_type": "stream",
          "text": [
            "WARNING:tensorflow:Compiled the loaded model, but the compiled metrics have yet to be built. `model.compile_metrics` will be empty until you train or evaluate the model.\n",
            "WARNING:tensorflow:Compiled the loaded model, but the compiled metrics have yet to be built. `model.compile_metrics` will be empty until you train or evaluate the model.\n"
          ]
        },
        {
          "name": "stdout",
          "output_type": "stream",
          "text": [
            "122/122 [==============================] - 40s 324ms/step - g_loss: 2.4221 - d_loss: 1.0354 - g_mae: 2.2825 - val_g_loss: 1.5351 - val_d_loss: 0.7587 - val_g_mae: 0.9613\n",
            "Epoch 58/200\n",
            "122/122 [==============================] - ETA: 0s - g_loss: 2.3792 - d_loss: 1.0765 - g_mae: 2.4525"
          ]
        },
        {
          "name": "stderr",
          "output_type": "stream",
          "text": [
            "WARNING:tensorflow:Compiled the loaded model, but the compiled metrics have yet to be built. `model.compile_metrics` will be empty until you train or evaluate the model.\n",
            "WARNING:tensorflow:Compiled the loaded model, but the compiled metrics have yet to be built. `model.compile_metrics` will be empty until you train or evaluate the model.\n"
          ]
        },
        {
          "name": "stdout",
          "output_type": "stream",
          "text": [
            "122/122 [==============================] - 40s 323ms/step - g_loss: 2.3794 - d_loss: 1.0764 - g_mae: 2.4523 - val_g_loss: 1.7038 - val_d_loss: 1.1526 - val_g_mae: 1.4748\n",
            "Epoch 59/200\n",
            "122/122 [==============================] - ETA: 0s - g_loss: 2.1948 - d_loss: 1.1120 - g_mae: 2.5827"
          ]
        },
        {
          "name": "stderr",
          "output_type": "stream",
          "text": [
            "WARNING:tensorflow:Compiled the loaded model, but the compiled metrics have yet to be built. `model.compile_metrics` will be empty until you train or evaluate the model.\n",
            "WARNING:tensorflow:Compiled the loaded model, but the compiled metrics have yet to be built. `model.compile_metrics` will be empty until you train or evaluate the model.\n"
          ]
        },
        {
          "name": "stdout",
          "output_type": "stream",
          "text": [
            "122/122 [==============================] - 40s 323ms/step - g_loss: 2.1953 - d_loss: 1.1115 - g_mae: 2.5816 - val_g_loss: 1.4110 - val_d_loss: 0.8132 - val_g_mae: 1.3650\n",
            "Epoch 60/200\n",
            "122/122 [==============================] - ETA: 0s - g_loss: 2.3435 - d_loss: 1.1058 - g_mae: 2.4508"
          ]
        },
        {
          "name": "stderr",
          "output_type": "stream",
          "text": [
            "WARNING:tensorflow:Compiled the loaded model, but the compiled metrics have yet to be built. `model.compile_metrics` will be empty until you train or evaluate the model.\n",
            "WARNING:tensorflow:Compiled the loaded model, but the compiled metrics have yet to be built. `model.compile_metrics` will be empty until you train or evaluate the model.\n"
          ]
        },
        {
          "name": "stdout",
          "output_type": "stream",
          "text": [
            "122/122 [==============================] - 39s 322ms/step - g_loss: 2.3429 - d_loss: 1.1064 - g_mae: 2.4511 - val_g_loss: 1.6554 - val_d_loss: 1.0709 - val_g_mae: 0.9475\n",
            "Epoch 61/200\n",
            "122/122 [==============================] - ETA: 0s - g_loss: 2.2552 - d_loss: 1.1377 - g_mae: 2.4467"
          ]
        },
        {
          "name": "stderr",
          "output_type": "stream",
          "text": [
            "WARNING:tensorflow:Compiled the loaded model, but the compiled metrics have yet to be built. `model.compile_metrics` will be empty until you train or evaluate the model.\n",
            "WARNING:tensorflow:Compiled the loaded model, but the compiled metrics have yet to be built. `model.compile_metrics` will be empty until you train or evaluate the model.\n"
          ]
        },
        {
          "name": "stdout",
          "output_type": "stream",
          "text": [
            "122/122 [==============================] - 40s 323ms/step - g_loss: 2.2554 - d_loss: 1.1374 - g_mae: 2.4469 - val_g_loss: 1.2207 - val_d_loss: 1.0737 - val_g_mae: 1.0509\n",
            "Epoch 62/200\n",
            "122/122 [==============================] - ETA: 0s - g_loss: 2.0985 - d_loss: 1.1154 - g_mae: 2.5987"
          ]
        },
        {
          "name": "stderr",
          "output_type": "stream",
          "text": [
            "WARNING:tensorflow:Compiled the loaded model, but the compiled metrics have yet to be built. `model.compile_metrics` will be empty until you train or evaluate the model.\n",
            "WARNING:tensorflow:Compiled the loaded model, but the compiled metrics have yet to be built. `model.compile_metrics` will be empty until you train or evaluate the model.\n"
          ]
        },
        {
          "name": "stdout",
          "output_type": "stream",
          "text": [
            "122/122 [==============================] - 40s 324ms/step - g_loss: 2.0993 - d_loss: 1.1150 - g_mae: 2.5978 - val_g_loss: 1.4923 - val_d_loss: 0.8748 - val_g_mae: 1.4617\n",
            "Epoch 63/200\n",
            "122/122 [==============================] - ETA: 0s - g_loss: 2.2469 - d_loss: 1.0309 - g_mae: 2.2691"
          ]
        },
        {
          "name": "stderr",
          "output_type": "stream",
          "text": [
            "WARNING:tensorflow:Compiled the loaded model, but the compiled metrics have yet to be built. `model.compile_metrics` will be empty until you train or evaluate the model.\n",
            "WARNING:tensorflow:Compiled the loaded model, but the compiled metrics have yet to be built. `model.compile_metrics` will be empty until you train or evaluate the model.\n"
          ]
        },
        {
          "name": "stdout",
          "output_type": "stream",
          "text": [
            "122/122 [==============================] - 40s 324ms/step - g_loss: 2.2470 - d_loss: 1.0309 - g_mae: 2.2697 - val_g_loss: 1.9080 - val_d_loss: 0.8465 - val_g_mae: 1.0684\n",
            "Epoch 64/200\n",
            "122/122 [==============================] - ETA: 0s - g_loss: 2.5399 - d_loss: 1.0066 - g_mae: 2.3401"
          ]
        },
        {
          "name": "stderr",
          "output_type": "stream",
          "text": [
            "WARNING:tensorflow:Compiled the loaded model, but the compiled metrics have yet to be built. `model.compile_metrics` will be empty until you train or evaluate the model.\n",
            "WARNING:tensorflow:Compiled the loaded model, but the compiled metrics have yet to be built. `model.compile_metrics` will be empty until you train or evaluate the model.\n"
          ]
        },
        {
          "name": "stdout",
          "output_type": "stream",
          "text": [
            "122/122 [==============================] - 40s 323ms/step - g_loss: 2.5386 - d_loss: 1.0066 - g_mae: 2.3406 - val_g_loss: 1.4736 - val_d_loss: 0.9980 - val_g_mae: 1.7058\n",
            "Epoch 65/200\n",
            "122/122 [==============================] - ETA: 0s - g_loss: 2.1595 - d_loss: 0.9931 - g_mae: 2.4236"
          ]
        },
        {
          "name": "stderr",
          "output_type": "stream",
          "text": [
            "WARNING:tensorflow:Compiled the loaded model, but the compiled metrics have yet to be built. `model.compile_metrics` will be empty until you train or evaluate the model.\n",
            "WARNING:tensorflow:Compiled the loaded model, but the compiled metrics have yet to be built. `model.compile_metrics` will be empty until you train or evaluate the model.\n"
          ]
        },
        {
          "name": "stdout",
          "output_type": "stream",
          "text": [
            "122/122 [==============================] - 40s 323ms/step - g_loss: 2.1601 - d_loss: 0.9929 - g_mae: 2.4228 - val_g_loss: 1.3888 - val_d_loss: 0.9036 - val_g_mae: 1.0910\n",
            "Epoch 66/200\n",
            "122/122 [==============================] - ETA: 0s - g_loss: 2.3404 - d_loss: 0.9566 - g_mae: 2.2484"
          ]
        },
        {
          "name": "stderr",
          "output_type": "stream",
          "text": [
            "WARNING:tensorflow:Compiled the loaded model, but the compiled metrics have yet to be built. `model.compile_metrics` will be empty until you train or evaluate the model.\n",
            "WARNING:tensorflow:Compiled the loaded model, but the compiled metrics have yet to be built. `model.compile_metrics` will be empty until you train or evaluate the model.\n"
          ]
        },
        {
          "name": "stdout",
          "output_type": "stream",
          "text": [
            "122/122 [==============================] - 39s 323ms/step - g_loss: 2.3403 - d_loss: 0.9568 - g_mae: 2.2491 - val_g_loss: 1.9693 - val_d_loss: 0.7516 - val_g_mae: 2.4285\n",
            "Epoch 67/200\n",
            "122/122 [==============================] - ETA: 0s - g_loss: 2.2382 - d_loss: 1.1539 - g_mae: 2.9347"
          ]
        },
        {
          "name": "stderr",
          "output_type": "stream",
          "text": [
            "WARNING:tensorflow:Compiled the loaded model, but the compiled metrics have yet to be built. `model.compile_metrics` will be empty until you train or evaluate the model.\n",
            "WARNING:tensorflow:Compiled the loaded model, but the compiled metrics have yet to be built. `model.compile_metrics` will be empty until you train or evaluate the model.\n"
          ]
        },
        {
          "name": "stdout",
          "output_type": "stream",
          "text": [
            "122/122 [==============================] - 39s 323ms/step - g_loss: 2.2360 - d_loss: 1.1545 - g_mae: 2.9340 - val_g_loss: 1.4618 - val_d_loss: 1.3084 - val_g_mae: 1.3896\n",
            "Epoch 68/200\n",
            "122/122 [==============================] - ETA: 0s - g_loss: 1.6868 - d_loss: 2.1183 - g_mae: 29.8061"
          ]
        },
        {
          "name": "stderr",
          "output_type": "stream",
          "text": [
            "WARNING:tensorflow:Compiled the loaded model, but the compiled metrics have yet to be built. `model.compile_metrics` will be empty until you train or evaluate the model.\n",
            "WARNING:tensorflow:Compiled the loaded model, but the compiled metrics have yet to be built. `model.compile_metrics` will be empty until you train or evaluate the model.\n"
          ]
        },
        {
          "name": "stdout",
          "output_type": "stream",
          "text": [
            "122/122 [==============================] - 40s 323ms/step - g_loss: 1.6894 - d_loss: 2.1159 - g_mae: 29.8429 - val_g_loss: 0.3836 - val_d_loss: 1.7387 - val_g_mae: 0.9722\n",
            "Epoch 69/200\n",
            "122/122 [==============================] - ETA: 0s - g_loss: 1.1870 - d_loss: 2.1642 - g_mae: 2.2821"
          ]
        },
        {
          "name": "stderr",
          "output_type": "stream",
          "text": [
            "WARNING:tensorflow:Compiled the loaded model, but the compiled metrics have yet to be built. `model.compile_metrics` will be empty until you train or evaluate the model.\n",
            "WARNING:tensorflow:Compiled the loaded model, but the compiled metrics have yet to be built. `model.compile_metrics` will be empty until you train or evaluate the model.\n"
          ]
        },
        {
          "name": "stdout",
          "output_type": "stream",
          "text": [
            "122/122 [==============================] - 40s 323ms/step - g_loss: 1.1866 - d_loss: 2.1624 - g_mae: 2.2844 - val_g_loss: 0.8145 - val_d_loss: 1.2904 - val_g_mae: 3.1676\n",
            "Epoch 70/200\n",
            "122/122 [==============================] - ETA: 0s - g_loss: 1.0635 - d_loss: 1.7765 - g_mae: 3.5383"
          ]
        },
        {
          "name": "stderr",
          "output_type": "stream",
          "text": [
            "WARNING:tensorflow:Compiled the loaded model, but the compiled metrics have yet to be built. `model.compile_metrics` will be empty until you train or evaluate the model.\n",
            "WARNING:tensorflow:Compiled the loaded model, but the compiled metrics have yet to be built. `model.compile_metrics` will be empty until you train or evaluate the model.\n"
          ]
        },
        {
          "name": "stdout",
          "output_type": "stream",
          "text": [
            "122/122 [==============================] - 39s 323ms/step - g_loss: 1.0633 - d_loss: 1.7769 - g_mae: 3.5342 - val_g_loss: 0.9131 - val_d_loss: 1.2040 - val_g_mae: 1.7480\n",
            "Epoch 71/200\n",
            "122/122 [==============================] - ETA: 0s - g_loss: 1.1672 - d_loss: 1.7117 - g_mae: 2.5146"
          ]
        },
        {
          "name": "stderr",
          "output_type": "stream",
          "text": [
            "WARNING:tensorflow:Compiled the loaded model, but the compiled metrics have yet to be built. `model.compile_metrics` will be empty until you train or evaluate the model.\n",
            "WARNING:tensorflow:Compiled the loaded model, but the compiled metrics have yet to be built. `model.compile_metrics` will be empty until you train or evaluate the model.\n"
          ]
        },
        {
          "name": "stdout",
          "output_type": "stream",
          "text": [
            "122/122 [==============================] - 40s 323ms/step - g_loss: 1.1683 - d_loss: 1.7107 - g_mae: 2.5139 - val_g_loss: 1.2898 - val_d_loss: 1.0408 - val_g_mae: 1.2425\n",
            "Epoch 72/200\n",
            "122/122 [==============================] - ETA: 0s - g_loss: 1.7570 - d_loss: 1.3027 - g_mae: 2.4354"
          ]
        },
        {
          "name": "stderr",
          "output_type": "stream",
          "text": [
            "WARNING:tensorflow:Compiled the loaded model, but the compiled metrics have yet to be built. `model.compile_metrics` will be empty until you train or evaluate the model.\n",
            "WARNING:tensorflow:Compiled the loaded model, but the compiled metrics have yet to be built. `model.compile_metrics` will be empty until you train or evaluate the model.\n"
          ]
        },
        {
          "name": "stdout",
          "output_type": "stream",
          "text": [
            "122/122 [==============================] - 39s 323ms/step - g_loss: 1.7581 - d_loss: 1.3019 - g_mae: 2.4367 - val_g_loss: 1.4018 - val_d_loss: 0.8387 - val_g_mae: 2.2060\n",
            "Epoch 73/200\n",
            "122/122 [==============================] - ETA: 0s - g_loss: 2.0275 - d_loss: 1.1192 - g_mae: 2.4188"
          ]
        },
        {
          "name": "stderr",
          "output_type": "stream",
          "text": [
            "WARNING:tensorflow:Compiled the loaded model, but the compiled metrics have yet to be built. `model.compile_metrics` will be empty until you train or evaluate the model.\n",
            "WARNING:tensorflow:Compiled the loaded model, but the compiled metrics have yet to be built. `model.compile_metrics` will be empty until you train or evaluate the model.\n"
          ]
        },
        {
          "name": "stdout",
          "output_type": "stream",
          "text": [
            "122/122 [==============================] - 39s 323ms/step - g_loss: 2.0277 - d_loss: 1.1190 - g_mae: 2.4185 - val_g_loss: 1.5809 - val_d_loss: 0.9251 - val_g_mae: 1.2245\n",
            "Epoch 74/200\n",
            "122/122 [==============================] - ETA: 0s - g_loss: 2.1615 - d_loss: 1.0545 - g_mae: 2.3293"
          ]
        },
        {
          "name": "stderr",
          "output_type": "stream",
          "text": [
            "WARNING:tensorflow:Compiled the loaded model, but the compiled metrics have yet to be built. `model.compile_metrics` will be empty until you train or evaluate the model.\n",
            "WARNING:tensorflow:Compiled the loaded model, but the compiled metrics have yet to be built. `model.compile_metrics` will be empty until you train or evaluate the model.\n"
          ]
        },
        {
          "name": "stdout",
          "output_type": "stream",
          "text": [
            "122/122 [==============================] - 40s 323ms/step - g_loss: 2.1622 - d_loss: 1.0544 - g_mae: 2.3304 - val_g_loss: 1.5939 - val_d_loss: 0.8295 - val_g_mae: 1.6448\n",
            "Epoch 75/200\n",
            "122/122 [==============================] - ETA: 0s - g_loss: 2.1735 - d_loss: 1.0831 - g_mae: 2.3745"
          ]
        },
        {
          "name": "stderr",
          "output_type": "stream",
          "text": [
            "WARNING:tensorflow:Compiled the loaded model, but the compiled metrics have yet to be built. `model.compile_metrics` will be empty until you train or evaluate the model.\n",
            "WARNING:tensorflow:Compiled the loaded model, but the compiled metrics have yet to be built. `model.compile_metrics` will be empty until you train or evaluate the model.\n"
          ]
        },
        {
          "name": "stdout",
          "output_type": "stream",
          "text": [
            "122/122 [==============================] - 40s 323ms/step - g_loss: 2.1735 - d_loss: 1.0832 - g_mae: 2.3746 - val_g_loss: 1.7363 - val_d_loss: 1.0887 - val_g_mae: 1.4433\n",
            "Epoch 76/200\n",
            "122/122 [==============================] - ETA: 0s - g_loss: 2.1599 - d_loss: 1.1182 - g_mae: 2.5524"
          ]
        },
        {
          "name": "stderr",
          "output_type": "stream",
          "text": [
            "WARNING:tensorflow:Compiled the loaded model, but the compiled metrics have yet to be built. `model.compile_metrics` will be empty until you train or evaluate the model.\n",
            "WARNING:tensorflow:Compiled the loaded model, but the compiled metrics have yet to be built. `model.compile_metrics` will be empty until you train or evaluate the model.\n"
          ]
        },
        {
          "name": "stdout",
          "output_type": "stream",
          "text": [
            "122/122 [==============================] - 40s 324ms/step - g_loss: 2.1600 - d_loss: 1.1188 - g_mae: 2.5551 - val_g_loss: 2.7986 - val_d_loss: 0.5213 - val_g_mae: 4.2600\n",
            "Epoch 77/200\n",
            "122/122 [==============================] - ETA: 0s - g_loss: 2.2822 - d_loss: 1.1650 - g_mae: 2.9707"
          ]
        },
        {
          "name": "stderr",
          "output_type": "stream",
          "text": [
            "WARNING:tensorflow:Compiled the loaded model, but the compiled metrics have yet to be built. `model.compile_metrics` will be empty until you train or evaluate the model.\n",
            "WARNING:tensorflow:Compiled the loaded model, but the compiled metrics have yet to be built. `model.compile_metrics` will be empty until you train or evaluate the model.\n"
          ]
        },
        {
          "name": "stdout",
          "output_type": "stream",
          "text": [
            "122/122 [==============================] - 39s 323ms/step - g_loss: 2.2787 - d_loss: 1.1653 - g_mae: 2.9669 - val_g_loss: 1.1601 - val_d_loss: 1.0432 - val_g_mae: 1.3146\n",
            "Epoch 78/200\n",
            "122/122 [==============================] - ETA: 0s - g_loss: 1.7341 - d_loss: 1.1428 - g_mae: 2.3307"
          ]
        },
        {
          "name": "stderr",
          "output_type": "stream",
          "text": [
            "WARNING:tensorflow:Compiled the loaded model, but the compiled metrics have yet to be built. `model.compile_metrics` will be empty until you train or evaluate the model.\n",
            "WARNING:tensorflow:Compiled the loaded model, but the compiled metrics have yet to be built. `model.compile_metrics` will be empty until you train or evaluate the model.\n"
          ]
        },
        {
          "name": "stdout",
          "output_type": "stream",
          "text": [
            "122/122 [==============================] - 40s 323ms/step - g_loss: 1.7352 - d_loss: 1.1425 - g_mae: 2.3306 - val_g_loss: 1.1770 - val_d_loss: 1.1273 - val_g_mae: 1.4311\n",
            "Epoch 79/200\n",
            "122/122 [==============================] - ETA: 0s - g_loss: 1.9294 - d_loss: 1.0870 - g_mae: 2.3323"
          ]
        },
        {
          "name": "stderr",
          "output_type": "stream",
          "text": [
            "WARNING:tensorflow:Compiled the loaded model, but the compiled metrics have yet to be built. `model.compile_metrics` will be empty until you train or evaluate the model.\n",
            "WARNING:tensorflow:Compiled the loaded model, but the compiled metrics have yet to be built. `model.compile_metrics` will be empty until you train or evaluate the model.\n"
          ]
        },
        {
          "name": "stdout",
          "output_type": "stream",
          "text": [
            "122/122 [==============================] - 40s 323ms/step - g_loss: 1.9298 - d_loss: 1.0868 - g_mae: 2.3322 - val_g_loss: 1.2160 - val_d_loss: 1.1342 - val_g_mae: 1.0178\n",
            "Epoch 80/200\n",
            "122/122 [==============================] - ETA: 0s - g_loss: 2.1277 - d_loss: 1.0460 - g_mae: 2.2803"
          ]
        },
        {
          "name": "stderr",
          "output_type": "stream",
          "text": [
            "WARNING:tensorflow:Compiled the loaded model, but the compiled metrics have yet to be built. `model.compile_metrics` will be empty until you train or evaluate the model.\n",
            "WARNING:tensorflow:Compiled the loaded model, but the compiled metrics have yet to be built. `model.compile_metrics` will be empty until you train or evaluate the model.\n"
          ]
        },
        {
          "name": "stdout",
          "output_type": "stream",
          "text": [
            "122/122 [==============================] - 40s 323ms/step - g_loss: 2.1279 - d_loss: 1.0460 - g_mae: 2.2804 - val_g_loss: 1.3203 - val_d_loss: 1.0998 - val_g_mae: 1.4167\n",
            "Epoch 81/200\n",
            "122/122 [==============================] - ETA: 0s - g_loss: 2.1016 - d_loss: 1.0915 - g_mae: 2.4137"
          ]
        },
        {
          "name": "stderr",
          "output_type": "stream",
          "text": [
            "WARNING:tensorflow:Compiled the loaded model, but the compiled metrics have yet to be built. `model.compile_metrics` will be empty until you train or evaluate the model.\n",
            "WARNING:tensorflow:Compiled the loaded model, but the compiled metrics have yet to be built. `model.compile_metrics` will be empty until you train or evaluate the model.\n"
          ]
        },
        {
          "name": "stdout",
          "output_type": "stream",
          "text": [
            "122/122 [==============================] - 40s 323ms/step - g_loss: 2.1029 - d_loss: 1.0917 - g_mae: 2.4150 - val_g_loss: 2.1465 - val_d_loss: 0.7956 - val_g_mae: 1.6986\n",
            "Epoch 82/200\n",
            "122/122 [==============================] - ETA: 0s - g_loss: 1.8258 - d_loss: 1.3375 - g_mae: 2.3334"
          ]
        },
        {
          "name": "stderr",
          "output_type": "stream",
          "text": [
            "WARNING:tensorflow:Compiled the loaded model, but the compiled metrics have yet to be built. `model.compile_metrics` will be empty until you train or evaluate the model.\n",
            "WARNING:tensorflow:Compiled the loaded model, but the compiled metrics have yet to be built. `model.compile_metrics` will be empty until you train or evaluate the model.\n"
          ]
        },
        {
          "name": "stdout",
          "output_type": "stream",
          "text": [
            "122/122 [==============================] - 39s 322ms/step - g_loss: 1.8260 - d_loss: 1.3363 - g_mae: 2.3344 - val_g_loss: 1.2258 - val_d_loss: 1.0310 - val_g_mae: 1.0828\n",
            "Epoch 83/200\n",
            "122/122 [==============================] - ETA: 0s - g_loss: 2.0252 - d_loss: 1.0934 - g_mae: 2.4187"
          ]
        },
        {
          "name": "stderr",
          "output_type": "stream",
          "text": [
            "WARNING:tensorflow:Compiled the loaded model, but the compiled metrics have yet to be built. `model.compile_metrics` will be empty until you train or evaluate the model.\n",
            "WARNING:tensorflow:Compiled the loaded model, but the compiled metrics have yet to be built. `model.compile_metrics` will be empty until you train or evaluate the model.\n"
          ]
        },
        {
          "name": "stdout",
          "output_type": "stream",
          "text": [
            "122/122 [==============================] - 39s 323ms/step - g_loss: 2.0258 - d_loss: 1.0937 - g_mae: 2.4191 - val_g_loss: 1.0524 - val_d_loss: 1.0335 - val_g_mae: 1.1202\n",
            "Epoch 84/200\n",
            "122/122 [==============================] - ETA: 0s - g_loss: 1.9312 - d_loss: 1.0692 - g_mae: 2.4030"
          ]
        },
        {
          "name": "stderr",
          "output_type": "stream",
          "text": [
            "WARNING:tensorflow:Compiled the loaded model, but the compiled metrics have yet to be built. `model.compile_metrics` will be empty until you train or evaluate the model.\n",
            "WARNING:tensorflow:Compiled the loaded model, but the compiled metrics have yet to be built. `model.compile_metrics` will be empty until you train or evaluate the model.\n"
          ]
        },
        {
          "name": "stdout",
          "output_type": "stream",
          "text": [
            "122/122 [==============================] - 39s 323ms/step - g_loss: 1.9318 - d_loss: 1.0698 - g_mae: 2.4039 - val_g_loss: 1.4741 - val_d_loss: 1.2174 - val_g_mae: 1.2463\n",
            "Epoch 85/200\n",
            "122/122 [==============================] - ETA: 0s - g_loss: 1.9543 - d_loss: 1.2500 - g_mae: 2.5041"
          ]
        },
        {
          "name": "stderr",
          "output_type": "stream",
          "text": [
            "WARNING:tensorflow:Compiled the loaded model, but the compiled metrics have yet to be built. `model.compile_metrics` will be empty until you train or evaluate the model.\n",
            "WARNING:tensorflow:Compiled the loaded model, but the compiled metrics have yet to be built. `model.compile_metrics` will be empty until you train or evaluate the model.\n"
          ]
        },
        {
          "name": "stdout",
          "output_type": "stream",
          "text": [
            "122/122 [==============================] - 40s 323ms/step - g_loss: 1.9542 - d_loss: 1.2496 - g_mae: 2.5037 - val_g_loss: 1.7680 - val_d_loss: 0.7733 - val_g_mae: 1.8086\n",
            "Epoch 86/200\n",
            "122/122 [==============================] - ETA: 0s - g_loss: 2.1523 - d_loss: 1.0981 - g_mae: 2.7152"
          ]
        },
        {
          "name": "stderr",
          "output_type": "stream",
          "text": [
            "WARNING:tensorflow:Compiled the loaded model, but the compiled metrics have yet to be built. `model.compile_metrics` will be empty until you train or evaluate the model.\n",
            "WARNING:tensorflow:Compiled the loaded model, but the compiled metrics have yet to be built. `model.compile_metrics` will be empty until you train or evaluate the model.\n"
          ]
        },
        {
          "name": "stdout",
          "output_type": "stream",
          "text": [
            "122/122 [==============================] - 39s 323ms/step - g_loss: 2.1518 - d_loss: 1.0981 - g_mae: 2.7137 - val_g_loss: 1.6917 - val_d_loss: 0.8857 - val_g_mae: 0.9578\n",
            "Epoch 87/200\n",
            "122/122 [==============================] - ETA: 0s - g_loss: 2.4245 - d_loss: 0.9664 - g_mae: 2.2924"
          ]
        },
        {
          "name": "stderr",
          "output_type": "stream",
          "text": [
            "WARNING:tensorflow:Compiled the loaded model, but the compiled metrics have yet to be built. `model.compile_metrics` will be empty until you train or evaluate the model.\n",
            "WARNING:tensorflow:Compiled the loaded model, but the compiled metrics have yet to be built. `model.compile_metrics` will be empty until you train or evaluate the model.\n"
          ]
        },
        {
          "name": "stdout",
          "output_type": "stream",
          "text": [
            "122/122 [==============================] - 40s 323ms/step - g_loss: 2.4224 - d_loss: 0.9669 - g_mae: 2.2925 - val_g_loss: 1.5894 - val_d_loss: 0.9949 - val_g_mae: 1.2274\n",
            "Epoch 88/200\n",
            "122/122 [==============================] - ETA: 0s - g_loss: 2.1735 - d_loss: 0.9859 - g_mae: 2.2368"
          ]
        },
        {
          "name": "stderr",
          "output_type": "stream",
          "text": [
            "WARNING:tensorflow:Compiled the loaded model, but the compiled metrics have yet to be built. `model.compile_metrics` will be empty until you train or evaluate the model.\n",
            "WARNING:tensorflow:Compiled the loaded model, but the compiled metrics have yet to be built. `model.compile_metrics` will be empty until you train or evaluate the model.\n"
          ]
        },
        {
          "name": "stdout",
          "output_type": "stream",
          "text": [
            "122/122 [==============================] - 39s 323ms/step - g_loss: 2.1736 - d_loss: 0.9862 - g_mae: 2.2371 - val_g_loss: 1.6086 - val_d_loss: 1.0036 - val_g_mae: 1.3116\n",
            "Epoch 89/200\n",
            "122/122 [==============================] - ETA: 0s - g_loss: 2.2216 - d_loss: 1.0523 - g_mae: 2.3808"
          ]
        },
        {
          "name": "stderr",
          "output_type": "stream",
          "text": [
            "WARNING:tensorflow:Compiled the loaded model, but the compiled metrics have yet to be built. `model.compile_metrics` will be empty until you train or evaluate the model.\n",
            "WARNING:tensorflow:Compiled the loaded model, but the compiled metrics have yet to be built. `model.compile_metrics` will be empty until you train or evaluate the model.\n"
          ]
        },
        {
          "name": "stdout",
          "output_type": "stream",
          "text": [
            "122/122 [==============================] - 39s 323ms/step - g_loss: 2.2216 - d_loss: 1.0526 - g_mae: 2.3816 - val_g_loss: 1.8122 - val_d_loss: 1.0922 - val_g_mae: 1.2993\n",
            "Epoch 90/200\n",
            "122/122 [==============================] - ETA: 0s - g_loss: 2.0076 - d_loss: 1.1254 - g_mae: 2.4027"
          ]
        },
        {
          "name": "stderr",
          "output_type": "stream",
          "text": [
            "WARNING:tensorflow:Compiled the loaded model, but the compiled metrics have yet to be built. `model.compile_metrics` will be empty until you train or evaluate the model.\n",
            "WARNING:tensorflow:Compiled the loaded model, but the compiled metrics have yet to be built. `model.compile_metrics` will be empty until you train or evaluate the model.\n"
          ]
        },
        {
          "name": "stdout",
          "output_type": "stream",
          "text": [
            "122/122 [==============================] - 40s 323ms/step - g_loss: 2.0081 - d_loss: 1.1252 - g_mae: 2.4030 - val_g_loss: 1.2410 - val_d_loss: 0.8705 - val_g_mae: 1.4178\n",
            "Epoch 91/200\n",
            "122/122 [==============================] - ETA: 0s - g_loss: 2.0699 - d_loss: 1.0299 - g_mae: 2.3217"
          ]
        },
        {
          "name": "stderr",
          "output_type": "stream",
          "text": [
            "WARNING:tensorflow:Compiled the loaded model, but the compiled metrics have yet to be built. `model.compile_metrics` will be empty until you train or evaluate the model.\n",
            "WARNING:tensorflow:Compiled the loaded model, but the compiled metrics have yet to be built. `model.compile_metrics` will be empty until you train or evaluate the model.\n"
          ]
        },
        {
          "name": "stdout",
          "output_type": "stream",
          "text": [
            "122/122 [==============================] - 40s 323ms/step - g_loss: 2.0707 - d_loss: 1.0297 - g_mae: 2.3213 - val_g_loss: 1.3079 - val_d_loss: 0.9773 - val_g_mae: 1.3609\n",
            "Epoch 92/200\n",
            "122/122 [==============================] - ETA: 0s - g_loss: 2.3022 - d_loss: 0.9689 - g_mae: 2.3812"
          ]
        },
        {
          "name": "stderr",
          "output_type": "stream",
          "text": [
            "WARNING:tensorflow:Compiled the loaded model, but the compiled metrics have yet to be built. `model.compile_metrics` will be empty until you train or evaluate the model.\n",
            "WARNING:tensorflow:Compiled the loaded model, but the compiled metrics have yet to be built. `model.compile_metrics` will be empty until you train or evaluate the model.\n"
          ]
        },
        {
          "name": "stdout",
          "output_type": "stream",
          "text": [
            "122/122 [==============================] - 40s 323ms/step - g_loss: 2.3027 - d_loss: 0.9688 - g_mae: 2.3807 - val_g_loss: 1.5111 - val_d_loss: 0.9642 - val_g_mae: 1.0415\n",
            "Epoch 93/200\n",
            "122/122 [==============================] - ETA: 0s - g_loss: 2.5463 - d_loss: 0.9244 - g_mae: 2.2802"
          ]
        },
        {
          "name": "stderr",
          "output_type": "stream",
          "text": [
            "WARNING:tensorflow:Compiled the loaded model, but the compiled metrics have yet to be built. `model.compile_metrics` will be empty until you train or evaluate the model.\n",
            "WARNING:tensorflow:Compiled the loaded model, but the compiled metrics have yet to be built. `model.compile_metrics` will be empty until you train or evaluate the model.\n"
          ]
        },
        {
          "name": "stdout",
          "output_type": "stream",
          "text": [
            "122/122 [==============================] - 40s 323ms/step - g_loss: 2.5459 - d_loss: 0.9244 - g_mae: 2.2809 - val_g_loss: 1.6641 - val_d_loss: 0.9747 - val_g_mae: 1.1939\n",
            "Epoch 94/200\n",
            "122/122 [==============================] - ETA: 0s - g_loss: 2.5311 - d_loss: 0.8872 - g_mae: 2.2121"
          ]
        },
        {
          "name": "stderr",
          "output_type": "stream",
          "text": [
            "WARNING:tensorflow:Compiled the loaded model, but the compiled metrics have yet to be built. `model.compile_metrics` will be empty until you train or evaluate the model.\n",
            "WARNING:tensorflow:Compiled the loaded model, but the compiled metrics have yet to be built. `model.compile_metrics` will be empty until you train or evaluate the model.\n"
          ]
        },
        {
          "name": "stdout",
          "output_type": "stream",
          "text": [
            "122/122 [==============================] - 40s 323ms/step - g_loss: 2.5310 - d_loss: 0.8872 - g_mae: 2.2120 - val_g_loss: 1.5529 - val_d_loss: 0.9116 - val_g_mae: 1.0229\n",
            "Epoch 95/200\n",
            "122/122 [==============================] - ETA: 0s - g_loss: 2.6148 - d_loss: 0.8532 - g_mae: 2.2005"
          ]
        },
        {
          "name": "stderr",
          "output_type": "stream",
          "text": [
            "WARNING:tensorflow:Compiled the loaded model, but the compiled metrics have yet to be built. `model.compile_metrics` will be empty until you train or evaluate the model.\n",
            "WARNING:tensorflow:Compiled the loaded model, but the compiled metrics have yet to be built. `model.compile_metrics` will be empty until you train or evaluate the model.\n"
          ]
        },
        {
          "name": "stdout",
          "output_type": "stream",
          "text": [
            "122/122 [==============================] - 40s 323ms/step - g_loss: 2.6149 - d_loss: 0.8532 - g_mae: 2.2011 - val_g_loss: 1.8149 - val_d_loss: 0.9342 - val_g_mae: 1.4638\n",
            "Epoch 96/200\n",
            "122/122 [==============================] - ETA: 0s - g_loss: 2.6448 - d_loss: 0.8957 - g_mae: 2.3229"
          ]
        },
        {
          "name": "stderr",
          "output_type": "stream",
          "text": [
            "WARNING:tensorflow:Compiled the loaded model, but the compiled metrics have yet to be built. `model.compile_metrics` will be empty until you train or evaluate the model.\n",
            "WARNING:tensorflow:Compiled the loaded model, but the compiled metrics have yet to be built. `model.compile_metrics` will be empty until you train or evaluate the model.\n"
          ]
        },
        {
          "name": "stdout",
          "output_type": "stream",
          "text": [
            "122/122 [==============================] - 40s 323ms/step - g_loss: 2.6445 - d_loss: 0.8957 - g_mae: 2.3232 - val_g_loss: 1.9476 - val_d_loss: 0.9107 - val_g_mae: 1.2687\n",
            "Epoch 97/200\n",
            "122/122 [==============================] - ETA: 0s - g_loss: 2.5777 - d_loss: 0.9149 - g_mae: 2.5559"
          ]
        },
        {
          "name": "stderr",
          "output_type": "stream",
          "text": [
            "WARNING:tensorflow:Compiled the loaded model, but the compiled metrics have yet to be built. `model.compile_metrics` will be empty until you train or evaluate the model.\n",
            "WARNING:tensorflow:Compiled the loaded model, but the compiled metrics have yet to be built. `model.compile_metrics` will be empty until you train or evaluate the model.\n"
          ]
        },
        {
          "name": "stdout",
          "output_type": "stream",
          "text": [
            "122/122 [==============================] - 40s 323ms/step - g_loss: 2.5780 - d_loss: 0.9147 - g_mae: 2.5555 - val_g_loss: 1.6492 - val_d_loss: 0.8678 - val_g_mae: 1.4137\n",
            "Epoch 98/200\n",
            "122/122 [==============================] - ETA: 0s - g_loss: 2.4944 - d_loss: 0.8877 - g_mae: 2.3378"
          ]
        },
        {
          "name": "stderr",
          "output_type": "stream",
          "text": [
            "WARNING:tensorflow:Compiled the loaded model, but the compiled metrics have yet to be built. `model.compile_metrics` will be empty until you train or evaluate the model.\n",
            "WARNING:tensorflow:Compiled the loaded model, but the compiled metrics have yet to be built. `model.compile_metrics` will be empty until you train or evaluate the model.\n"
          ]
        },
        {
          "name": "stdout",
          "output_type": "stream",
          "text": [
            "122/122 [==============================] - 40s 323ms/step - g_loss: 2.4948 - d_loss: 0.8877 - g_mae: 2.3381 - val_g_loss: 1.6899 - val_d_loss: 0.9248 - val_g_mae: 1.0468\n",
            "Epoch 99/200\n",
            "122/122 [==============================] - ETA: 0s - g_loss: 2.5963 - d_loss: 0.9111 - g_mae: 2.2669"
          ]
        },
        {
          "name": "stderr",
          "output_type": "stream",
          "text": [
            "WARNING:tensorflow:Compiled the loaded model, but the compiled metrics have yet to be built. `model.compile_metrics` will be empty until you train or evaluate the model.\n",
            "WARNING:tensorflow:Compiled the loaded model, but the compiled metrics have yet to be built. `model.compile_metrics` will be empty until you train or evaluate the model.\n"
          ]
        },
        {
          "name": "stdout",
          "output_type": "stream",
          "text": [
            "122/122 [==============================] - 40s 323ms/step - g_loss: 2.5963 - d_loss: 0.9108 - g_mae: 2.2667 - val_g_loss: 1.9534 - val_d_loss: 0.9046 - val_g_mae: 1.3016\n",
            "Epoch 100/200\n",
            "122/122 [==============================] - ETA: 0s - g_loss: 2.6043 - d_loss: 0.9026 - g_mae: 2.3300"
          ]
        },
        {
          "name": "stderr",
          "output_type": "stream",
          "text": [
            "WARNING:tensorflow:Compiled the loaded model, but the compiled metrics have yet to be built. `model.compile_metrics` will be empty until you train or evaluate the model.\n",
            "WARNING:tensorflow:Compiled the loaded model, but the compiled metrics have yet to be built. `model.compile_metrics` will be empty until you train or evaluate the model.\n"
          ]
        },
        {
          "name": "stdout",
          "output_type": "stream",
          "text": [
            "122/122 [==============================] - 40s 324ms/step - g_loss: 2.6039 - d_loss: 0.9024 - g_mae: 2.3302 - val_g_loss: 2.2587 - val_d_loss: 0.9228 - val_g_mae: 1.3330\n",
            "Epoch 101/200\n",
            "122/122 [==============================] - ETA: 0s - g_loss: 2.6549 - d_loss: 0.8600 - g_mae: 2.3072"
          ]
        },
        {
          "name": "stderr",
          "output_type": "stream",
          "text": [
            "WARNING:tensorflow:Compiled the loaded model, but the compiled metrics have yet to be built. `model.compile_metrics` will be empty until you train or evaluate the model.\n",
            "WARNING:tensorflow:Compiled the loaded model, but the compiled metrics have yet to be built. `model.compile_metrics` will be empty until you train or evaluate the model.\n"
          ]
        },
        {
          "name": "stdout",
          "output_type": "stream",
          "text": [
            "122/122 [==============================] - 40s 324ms/step - g_loss: 2.6551 - d_loss: 0.8599 - g_mae: 2.3075 - val_g_loss: 1.4706 - val_d_loss: 0.9224 - val_g_mae: 1.4044\n",
            "Epoch 102/200\n",
            "122/122 [==============================] - ETA: 0s - g_loss: 2.8228 - d_loss: 0.8517 - g_mae: 2.5003"
          ]
        },
        {
          "name": "stderr",
          "output_type": "stream",
          "text": [
            "WARNING:tensorflow:Compiled the loaded model, but the compiled metrics have yet to be built. `model.compile_metrics` will be empty until you train or evaluate the model.\n",
            "WARNING:tensorflow:Compiled the loaded model, but the compiled metrics have yet to be built. `model.compile_metrics` will be empty until you train or evaluate the model.\n"
          ]
        },
        {
          "name": "stdout",
          "output_type": "stream",
          "text": [
            "122/122 [==============================] - 40s 324ms/step - g_loss: 2.8227 - d_loss: 0.8516 - g_mae: 2.4999 - val_g_loss: 1.6328 - val_d_loss: 0.8845 - val_g_mae: 1.3612\n",
            "Epoch 103/200\n",
            "122/122 [==============================] - ETA: 0s - g_loss: 2.7680 - d_loss: 0.8214 - g_mae: 2.3277"
          ]
        },
        {
          "name": "stderr",
          "output_type": "stream",
          "text": [
            "WARNING:tensorflow:Compiled the loaded model, but the compiled metrics have yet to be built. `model.compile_metrics` will be empty until you train or evaluate the model.\n",
            "WARNING:tensorflow:Compiled the loaded model, but the compiled metrics have yet to be built. `model.compile_metrics` will be empty until you train or evaluate the model.\n"
          ]
        },
        {
          "name": "stdout",
          "output_type": "stream",
          "text": [
            "122/122 [==============================] - 40s 323ms/step - g_loss: 2.7682 - d_loss: 0.8215 - g_mae: 2.3272 - val_g_loss: 1.8277 - val_d_loss: 0.9392 - val_g_mae: 1.1724\n",
            "Epoch 104/200\n",
            "122/122 [==============================] - ETA: 0s - g_loss: 2.7204 - d_loss: 0.8398 - g_mae: 2.2479"
          ]
        },
        {
          "name": "stderr",
          "output_type": "stream",
          "text": [
            "WARNING:tensorflow:Compiled the loaded model, but the compiled metrics have yet to be built. `model.compile_metrics` will be empty until you train or evaluate the model.\n",
            "WARNING:tensorflow:Compiled the loaded model, but the compiled metrics have yet to be built. `model.compile_metrics` will be empty until you train or evaluate the model.\n"
          ]
        },
        {
          "name": "stdout",
          "output_type": "stream",
          "text": [
            "122/122 [==============================] - 39s 323ms/step - g_loss: 2.7205 - d_loss: 0.8399 - g_mae: 2.2486 - val_g_loss: 1.5561 - val_d_loss: 0.9533 - val_g_mae: 1.4402\n",
            "Epoch 105/200\n",
            "122/122 [==============================] - ETA: 0s - g_loss: 2.6977 - d_loss: 0.8738 - g_mae: 2.3236"
          ]
        },
        {
          "name": "stderr",
          "output_type": "stream",
          "text": [
            "WARNING:tensorflow:Compiled the loaded model, but the compiled metrics have yet to be built. `model.compile_metrics` will be empty until you train or evaluate the model.\n",
            "WARNING:tensorflow:Compiled the loaded model, but the compiled metrics have yet to be built. `model.compile_metrics` will be empty until you train or evaluate the model.\n"
          ]
        },
        {
          "name": "stdout",
          "output_type": "stream",
          "text": [
            "122/122 [==============================] - 40s 323ms/step - g_loss: 2.6982 - d_loss: 0.8737 - g_mae: 2.3237 - val_g_loss: 1.6064 - val_d_loss: 0.9808 - val_g_mae: 1.3712\n",
            "Epoch 106/200\n",
            "122/122 [==============================] - ETA: 0s - g_loss: 2.6968 - d_loss: 0.8977 - g_mae: 2.3953"
          ]
        },
        {
          "name": "stderr",
          "output_type": "stream",
          "text": [
            "WARNING:tensorflow:Compiled the loaded model, but the compiled metrics have yet to be built. `model.compile_metrics` will be empty until you train or evaluate the model.\n",
            "WARNING:tensorflow:Compiled the loaded model, but the compiled metrics have yet to be built. `model.compile_metrics` will be empty until you train or evaluate the model.\n"
          ]
        },
        {
          "name": "stdout",
          "output_type": "stream",
          "text": [
            "122/122 [==============================] - 40s 324ms/step - g_loss: 2.6966 - d_loss: 0.8979 - g_mae: 2.3958 - val_g_loss: 1.5046 - val_d_loss: 0.9140 - val_g_mae: 1.4056\n",
            "Epoch 107/200\n",
            "122/122 [==============================] - ETA: 0s - g_loss: 2.6112 - d_loss: 0.9473 - g_mae: 2.2984"
          ]
        },
        {
          "name": "stderr",
          "output_type": "stream",
          "text": [
            "WARNING:tensorflow:Compiled the loaded model, but the compiled metrics have yet to be built. `model.compile_metrics` will be empty until you train or evaluate the model.\n",
            "WARNING:tensorflow:Compiled the loaded model, but the compiled metrics have yet to be built. `model.compile_metrics` will be empty until you train or evaluate the model.\n"
          ]
        },
        {
          "name": "stdout",
          "output_type": "stream",
          "text": [
            "122/122 [==============================] - 40s 323ms/step - g_loss: 2.6107 - d_loss: 0.9472 - g_mae: 2.2985 - val_g_loss: 1.7324 - val_d_loss: 0.9221 - val_g_mae: 1.2089\n",
            "Epoch 108/200\n",
            "122/122 [==============================] - ETA: 0s - g_loss: 2.5873 - d_loss: 0.8902 - g_mae: 2.3659"
          ]
        },
        {
          "name": "stderr",
          "output_type": "stream",
          "text": [
            "WARNING:tensorflow:Compiled the loaded model, but the compiled metrics have yet to be built. `model.compile_metrics` will be empty until you train or evaluate the model.\n",
            "WARNING:tensorflow:Compiled the loaded model, but the compiled metrics have yet to be built. `model.compile_metrics` will be empty until you train or evaluate the model.\n"
          ]
        },
        {
          "name": "stdout",
          "output_type": "stream",
          "text": [
            "122/122 [==============================] - 40s 324ms/step - g_loss: 2.5876 - d_loss: 0.8901 - g_mae: 2.3662 - val_g_loss: 1.8056 - val_d_loss: 0.8560 - val_g_mae: 1.9535\n",
            "Epoch 109/200\n",
            "122/122 [==============================] - ETA: 0s - g_loss: 2.8421 - d_loss: 0.8292 - g_mae: 2.4035"
          ]
        },
        {
          "name": "stderr",
          "output_type": "stream",
          "text": [
            "WARNING:tensorflow:Compiled the loaded model, but the compiled metrics have yet to be built. `model.compile_metrics` will be empty until you train or evaluate the model.\n",
            "WARNING:tensorflow:Compiled the loaded model, but the compiled metrics have yet to be built. `model.compile_metrics` will be empty until you train or evaluate the model.\n"
          ]
        },
        {
          "name": "stdout",
          "output_type": "stream",
          "text": [
            "122/122 [==============================] - 40s 324ms/step - g_loss: 2.8418 - d_loss: 0.8292 - g_mae: 2.4027 - val_g_loss: 1.9458 - val_d_loss: 0.8160 - val_g_mae: 1.0872\n",
            "Epoch 110/200\n",
            "122/122 [==============================] - ETA: 0s - g_loss: 2.9318 - d_loss: 0.8132 - g_mae: 2.1937"
          ]
        },
        {
          "name": "stderr",
          "output_type": "stream",
          "text": [
            "WARNING:tensorflow:Compiled the loaded model, but the compiled metrics have yet to be built. `model.compile_metrics` will be empty until you train or evaluate the model.\n",
            "WARNING:tensorflow:Compiled the loaded model, but the compiled metrics have yet to be built. `model.compile_metrics` will be empty until you train or evaluate the model.\n"
          ]
        },
        {
          "name": "stdout",
          "output_type": "stream",
          "text": [
            "122/122 [==============================] - 40s 323ms/step - g_loss: 2.9317 - d_loss: 0.8132 - g_mae: 2.1943 - val_g_loss: 1.7075 - val_d_loss: 0.9381 - val_g_mae: 1.3671\n",
            "Epoch 111/200\n",
            "122/122 [==============================] - ETA: 0s - g_loss: 2.9942 - d_loss: 0.7852 - g_mae: 2.4774"
          ]
        },
        {
          "name": "stderr",
          "output_type": "stream",
          "text": [
            "WARNING:tensorflow:Compiled the loaded model, but the compiled metrics have yet to be built. `model.compile_metrics` will be empty until you train or evaluate the model.\n",
            "WARNING:tensorflow:Compiled the loaded model, but the compiled metrics have yet to be built. `model.compile_metrics` will be empty until you train or evaluate the model.\n"
          ]
        },
        {
          "name": "stdout",
          "output_type": "stream",
          "text": [
            "122/122 [==============================] - 40s 323ms/step - g_loss: 2.9940 - d_loss: 0.7854 - g_mae: 2.4774 - val_g_loss: 1.8348 - val_d_loss: 0.8333 - val_g_mae: 1.3106\n",
            "Epoch 112/200\n",
            "122/122 [==============================] - ETA: 0s - g_loss: 2.9692 - d_loss: 0.7869 - g_mae: 2.4339"
          ]
        },
        {
          "name": "stderr",
          "output_type": "stream",
          "text": [
            "WARNING:tensorflow:Compiled the loaded model, but the compiled metrics have yet to be built. `model.compile_metrics` will be empty until you train or evaluate the model.\n",
            "WARNING:tensorflow:Compiled the loaded model, but the compiled metrics have yet to be built. `model.compile_metrics` will be empty until you train or evaluate the model.\n"
          ]
        },
        {
          "name": "stdout",
          "output_type": "stream",
          "text": [
            "122/122 [==============================] - 40s 324ms/step - g_loss: 2.9687 - d_loss: 0.7870 - g_mae: 2.4334 - val_g_loss: 1.6814 - val_d_loss: 0.8090 - val_g_mae: 1.4792\n",
            "Epoch 113/200\n",
            "122/122 [==============================] - ETA: 0s - g_loss: 2.8796 - d_loss: 0.8431 - g_mae: 2.4661"
          ]
        },
        {
          "name": "stderr",
          "output_type": "stream",
          "text": [
            "WARNING:tensorflow:Compiled the loaded model, but the compiled metrics have yet to be built. `model.compile_metrics` will be empty until you train or evaluate the model.\n",
            "WARNING:tensorflow:Compiled the loaded model, but the compiled metrics have yet to be built. `model.compile_metrics` will be empty until you train or evaluate the model.\n"
          ]
        },
        {
          "name": "stdout",
          "output_type": "stream",
          "text": [
            "122/122 [==============================] - 40s 323ms/step - g_loss: 2.8793 - d_loss: 0.8432 - g_mae: 2.4658 - val_g_loss: 1.6058 - val_d_loss: 0.8851 - val_g_mae: 1.4141\n",
            "Epoch 114/200\n",
            "122/122 [==============================] - ETA: 0s - g_loss: 2.8081 - d_loss: 0.8275 - g_mae: 2.3426"
          ]
        },
        {
          "name": "stderr",
          "output_type": "stream",
          "text": [
            "WARNING:tensorflow:Compiled the loaded model, but the compiled metrics have yet to be built. `model.compile_metrics` will be empty until you train or evaluate the model.\n",
            "WARNING:tensorflow:Compiled the loaded model, but the compiled metrics have yet to be built. `model.compile_metrics` will be empty until you train or evaluate the model.\n"
          ]
        },
        {
          "name": "stdout",
          "output_type": "stream",
          "text": [
            "122/122 [==============================] - 40s 323ms/step - g_loss: 2.8085 - d_loss: 0.8274 - g_mae: 2.3425 - val_g_loss: 1.4626 - val_d_loss: 1.1377 - val_g_mae: 1.1763\n",
            "Epoch 115/200\n",
            "122/122 [==============================] - ETA: 0s - g_loss: 2.9004 - d_loss: 0.8183 - g_mae: 2.3519"
          ]
        },
        {
          "name": "stderr",
          "output_type": "stream",
          "text": [
            "WARNING:tensorflow:Compiled the loaded model, but the compiled metrics have yet to be built. `model.compile_metrics` will be empty until you train or evaluate the model.\n",
            "WARNING:tensorflow:Compiled the loaded model, but the compiled metrics have yet to be built. `model.compile_metrics` will be empty until you train or evaluate the model.\n"
          ]
        },
        {
          "name": "stdout",
          "output_type": "stream",
          "text": [
            "122/122 [==============================] - 40s 323ms/step - g_loss: 2.9000 - d_loss: 0.8183 - g_mae: 2.3508 - val_g_loss: 1.7368 - val_d_loss: 0.9085 - val_g_mae: 0.8947\n",
            "Epoch 116/200\n",
            "122/122 [==============================] - ETA: 0s - g_loss: 2.9952 - d_loss: 0.7792 - g_mae: 2.1540"
          ]
        },
        {
          "name": "stderr",
          "output_type": "stream",
          "text": [
            "WARNING:tensorflow:Compiled the loaded model, but the compiled metrics have yet to be built. `model.compile_metrics` will be empty until you train or evaluate the model.\n",
            "WARNING:tensorflow:Compiled the loaded model, but the compiled metrics have yet to be built. `model.compile_metrics` will be empty until you train or evaluate the model.\n"
          ]
        },
        {
          "name": "stdout",
          "output_type": "stream",
          "text": [
            "122/122 [==============================] - 40s 324ms/step - g_loss: 2.9944 - d_loss: 0.7796 - g_mae: 2.1552 - val_g_loss: 1.8257 - val_d_loss: 0.9844 - val_g_mae: 1.1455\n",
            "Epoch 117/200\n",
            "122/122 [==============================] - ETA: 0s - g_loss: 2.7070 - d_loss: 0.8559 - g_mae: 2.3680"
          ]
        },
        {
          "name": "stderr",
          "output_type": "stream",
          "text": [
            "WARNING:tensorflow:Compiled the loaded model, but the compiled metrics have yet to be built. `model.compile_metrics` will be empty until you train or evaluate the model.\n",
            "WARNING:tensorflow:Compiled the loaded model, but the compiled metrics have yet to be built. `model.compile_metrics` will be empty until you train or evaluate the model.\n"
          ]
        },
        {
          "name": "stdout",
          "output_type": "stream",
          "text": [
            "122/122 [==============================] - 40s 324ms/step - g_loss: 2.7076 - d_loss: 0.8558 - g_mae: 2.3679 - val_g_loss: 1.6887 - val_d_loss: 0.8744 - val_g_mae: 1.0679\n",
            "Epoch 118/200\n",
            "122/122 [==============================] - ETA: 0s - g_loss: 2.9404 - d_loss: 0.8171 - g_mae: 2.3795"
          ]
        },
        {
          "name": "stderr",
          "output_type": "stream",
          "text": [
            "WARNING:tensorflow:Compiled the loaded model, but the compiled metrics have yet to be built. `model.compile_metrics` will be empty until you train or evaluate the model.\n",
            "WARNING:tensorflow:Compiled the loaded model, but the compiled metrics have yet to be built. `model.compile_metrics` will be empty until you train or evaluate the model.\n"
          ]
        },
        {
          "name": "stdout",
          "output_type": "stream",
          "text": [
            "122/122 [==============================] - 40s 323ms/step - g_loss: 2.9398 - d_loss: 0.8171 - g_mae: 2.3787 - val_g_loss: 1.7279 - val_d_loss: 0.9409 - val_g_mae: 0.9846\n",
            "Epoch 119/200\n",
            "122/122 [==============================] - ETA: 0s - g_loss: 2.9657 - d_loss: 0.7883 - g_mae: 2.2290"
          ]
        },
        {
          "name": "stderr",
          "output_type": "stream",
          "text": [
            "WARNING:tensorflow:Compiled the loaded model, but the compiled metrics have yet to be built. `model.compile_metrics` will be empty until you train or evaluate the model.\n",
            "WARNING:tensorflow:Compiled the loaded model, but the compiled metrics have yet to be built. `model.compile_metrics` will be empty until you train or evaluate the model.\n"
          ]
        },
        {
          "name": "stdout",
          "output_type": "stream",
          "text": [
            "122/122 [==============================] - 40s 324ms/step - g_loss: 2.9654 - d_loss: 0.7885 - g_mae: 2.2288 - val_g_loss: 1.5277 - val_d_loss: 1.0058 - val_g_mae: 1.1560\n",
            "Epoch 120/200\n",
            "122/122 [==============================] - ETA: 0s - g_loss: 2.7576 - d_loss: 0.8452 - g_mae: 2.2482"
          ]
        },
        {
          "name": "stderr",
          "output_type": "stream",
          "text": [
            "WARNING:tensorflow:Compiled the loaded model, but the compiled metrics have yet to be built. `model.compile_metrics` will be empty until you train or evaluate the model.\n",
            "WARNING:tensorflow:Compiled the loaded model, but the compiled metrics have yet to be built. `model.compile_metrics` will be empty until you train or evaluate the model.\n"
          ]
        },
        {
          "name": "stdout",
          "output_type": "stream",
          "text": [
            "122/122 [==============================] - 40s 323ms/step - g_loss: 2.7581 - d_loss: 0.8451 - g_mae: 2.2481 - val_g_loss: 1.8840 - val_d_loss: 0.9947 - val_g_mae: 1.3295\n",
            "Epoch 121/200\n",
            "122/122 [==============================] - ETA: 0s - g_loss: 3.0037 - d_loss: 0.7845 - g_mae: 2.2220"
          ]
        },
        {
          "name": "stderr",
          "output_type": "stream",
          "text": [
            "WARNING:tensorflow:Compiled the loaded model, but the compiled metrics have yet to be built. `model.compile_metrics` will be empty until you train or evaluate the model.\n",
            "WARNING:tensorflow:Compiled the loaded model, but the compiled metrics have yet to be built. `model.compile_metrics` will be empty until you train or evaluate the model.\n"
          ]
        },
        {
          "name": "stdout",
          "output_type": "stream",
          "text": [
            "122/122 [==============================] - 40s 323ms/step - g_loss: 3.0042 - d_loss: 0.7844 - g_mae: 2.2221 - val_g_loss: 1.8192 - val_d_loss: 0.9877 - val_g_mae: 1.2709\n",
            "Epoch 122/200\n",
            "122/122 [==============================] - ETA: 0s - g_loss: 3.1408 - d_loss: 0.7741 - g_mae: 2.3017"
          ]
        },
        {
          "name": "stderr",
          "output_type": "stream",
          "text": [
            "WARNING:tensorflow:Compiled the loaded model, but the compiled metrics have yet to be built. `model.compile_metrics` will be empty until you train or evaluate the model.\n",
            "WARNING:tensorflow:Compiled the loaded model, but the compiled metrics have yet to be built. `model.compile_metrics` will be empty until you train or evaluate the model.\n"
          ]
        },
        {
          "name": "stdout",
          "output_type": "stream",
          "text": [
            "122/122 [==============================] - 40s 323ms/step - g_loss: 3.1401 - d_loss: 0.7742 - g_mae: 2.3012 - val_g_loss: 2.0378 - val_d_loss: 0.8846 - val_g_mae: 1.3991\n",
            "Epoch 123/200\n",
            "122/122 [==============================] - ETA: 0s - g_loss: 3.1034 - d_loss: 0.7866 - g_mae: 2.2298"
          ]
        },
        {
          "name": "stderr",
          "output_type": "stream",
          "text": [
            "WARNING:tensorflow:Compiled the loaded model, but the compiled metrics have yet to be built. `model.compile_metrics` will be empty until you train or evaluate the model.\n",
            "WARNING:tensorflow:Compiled the loaded model, but the compiled metrics have yet to be built. `model.compile_metrics` will be empty until you train or evaluate the model.\n"
          ]
        },
        {
          "name": "stdout",
          "output_type": "stream",
          "text": [
            "122/122 [==============================] - 40s 323ms/step - g_loss: 3.1033 - d_loss: 0.7867 - g_mae: 2.2304 - val_g_loss: 1.6654 - val_d_loss: 0.9258 - val_g_mae: 1.2024\n",
            "Epoch 124/200\n",
            "122/122 [==============================] - ETA: 0s - g_loss: 3.0156 - d_loss: 0.8281 - g_mae: 2.3456"
          ]
        },
        {
          "name": "stderr",
          "output_type": "stream",
          "text": [
            "WARNING:tensorflow:Compiled the loaded model, but the compiled metrics have yet to be built. `model.compile_metrics` will be empty until you train or evaluate the model.\n",
            "WARNING:tensorflow:Compiled the loaded model, but the compiled metrics have yet to be built. `model.compile_metrics` will be empty until you train or evaluate the model.\n"
          ]
        },
        {
          "name": "stdout",
          "output_type": "stream",
          "text": [
            "122/122 [==============================] - 40s 323ms/step - g_loss: 3.0152 - d_loss: 0.8279 - g_mae: 2.3452 - val_g_loss: 1.8772 - val_d_loss: 0.9333 - val_g_mae: 1.0924\n",
            "Epoch 125/200\n",
            "122/122 [==============================] - ETA: 0s - g_loss: 3.0060 - d_loss: 0.7954 - g_mae: 2.2348"
          ]
        },
        {
          "name": "stderr",
          "output_type": "stream",
          "text": [
            "WARNING:tensorflow:Compiled the loaded model, but the compiled metrics have yet to be built. `model.compile_metrics` will be empty until you train or evaluate the model.\n",
            "WARNING:tensorflow:Compiled the loaded model, but the compiled metrics have yet to be built. `model.compile_metrics` will be empty until you train or evaluate the model.\n"
          ]
        },
        {
          "name": "stdout",
          "output_type": "stream",
          "text": [
            "122/122 [==============================] - 40s 323ms/step - g_loss: 3.0059 - d_loss: 0.7955 - g_mae: 2.2352 - val_g_loss: 2.0073 - val_d_loss: 0.8997 - val_g_mae: 1.0437\n",
            "Epoch 126/200\n",
            "122/122 [==============================] - ETA: 0s - g_loss: 3.1555 - d_loss: 0.7865 - g_mae: 2.1834"
          ]
        },
        {
          "name": "stderr",
          "output_type": "stream",
          "text": [
            "WARNING:tensorflow:Compiled the loaded model, but the compiled metrics have yet to be built. `model.compile_metrics` will be empty until you train or evaluate the model.\n",
            "WARNING:tensorflow:Compiled the loaded model, but the compiled metrics have yet to be built. `model.compile_metrics` will be empty until you train or evaluate the model.\n"
          ]
        },
        {
          "name": "stdout",
          "output_type": "stream",
          "text": [
            "122/122 [==============================] - 40s 323ms/step - g_loss: 3.1552 - d_loss: 0.7863 - g_mae: 2.1833 - val_g_loss: 1.7612 - val_d_loss: 0.8520 - val_g_mae: 1.0035\n",
            "Epoch 127/200\n",
            "122/122 [==============================] - ETA: 0s - g_loss: 3.0184 - d_loss: 0.8178 - g_mae: 2.3534"
          ]
        },
        {
          "name": "stderr",
          "output_type": "stream",
          "text": [
            "WARNING:tensorflow:Compiled the loaded model, but the compiled metrics have yet to be built. `model.compile_metrics` will be empty until you train or evaluate the model.\n",
            "WARNING:tensorflow:Compiled the loaded model, but the compiled metrics have yet to be built. `model.compile_metrics` will be empty until you train or evaluate the model.\n"
          ]
        },
        {
          "name": "stdout",
          "output_type": "stream",
          "text": [
            "122/122 [==============================] - 40s 323ms/step - g_loss: 3.0181 - d_loss: 0.8177 - g_mae: 2.3532 - val_g_loss: 2.0568 - val_d_loss: 0.8616 - val_g_mae: 1.0650\n",
            "Epoch 128/200\n",
            "122/122 [==============================] - ETA: 0s - g_loss: 2.9809 - d_loss: 0.8114 - g_mae: 2.2040"
          ]
        },
        {
          "name": "stderr",
          "output_type": "stream",
          "text": [
            "WARNING:tensorflow:Compiled the loaded model, but the compiled metrics have yet to be built. `model.compile_metrics` will be empty until you train or evaluate the model.\n",
            "WARNING:tensorflow:Compiled the loaded model, but the compiled metrics have yet to be built. `model.compile_metrics` will be empty until you train or evaluate the model.\n"
          ]
        },
        {
          "name": "stdout",
          "output_type": "stream",
          "text": [
            "122/122 [==============================] - 39s 323ms/step - g_loss: 2.9813 - d_loss: 0.8114 - g_mae: 2.2043 - val_g_loss: 1.9848 - val_d_loss: 1.0855 - val_g_mae: 1.1197\n",
            "Epoch 129/200\n",
            "122/122 [==============================] - ETA: 0s - g_loss: 2.8934 - d_loss: 0.8396 - g_mae: 2.2540"
          ]
        },
        {
          "name": "stderr",
          "output_type": "stream",
          "text": [
            "WARNING:tensorflow:Compiled the loaded model, but the compiled metrics have yet to be built. `model.compile_metrics` will be empty until you train or evaluate the model.\n",
            "WARNING:tensorflow:Compiled the loaded model, but the compiled metrics have yet to be built. `model.compile_metrics` will be empty until you train or evaluate the model.\n"
          ]
        },
        {
          "name": "stdout",
          "output_type": "stream",
          "text": [
            "122/122 [==============================] - 40s 323ms/step - g_loss: 2.8936 - d_loss: 0.8395 - g_mae: 2.2539 - val_g_loss: 1.6779 - val_d_loss: 0.9704 - val_g_mae: 1.0283\n",
            "Epoch 130/200\n",
            "122/122 [==============================] - ETA: 0s - g_loss: 3.0656 - d_loss: 0.7689 - g_mae: 2.1451"
          ]
        },
        {
          "name": "stderr",
          "output_type": "stream",
          "text": [
            "WARNING:tensorflow:Compiled the loaded model, but the compiled metrics have yet to be built. `model.compile_metrics` will be empty until you train or evaluate the model.\n",
            "WARNING:tensorflow:Compiled the loaded model, but the compiled metrics have yet to be built. `model.compile_metrics` will be empty until you train or evaluate the model.\n"
          ]
        },
        {
          "name": "stdout",
          "output_type": "stream",
          "text": [
            "122/122 [==============================] - 40s 323ms/step - g_loss: 3.0656 - d_loss: 0.7690 - g_mae: 2.1453 - val_g_loss: 1.7718 - val_d_loss: 0.9849 - val_g_mae: 1.2146\n",
            "Epoch 131/200\n",
            "122/122 [==============================] - ETA: 0s - g_loss: 3.0586 - d_loss: 0.7758 - g_mae: 2.2150"
          ]
        },
        {
          "name": "stderr",
          "output_type": "stream",
          "text": [
            "WARNING:tensorflow:Compiled the loaded model, but the compiled metrics have yet to be built. `model.compile_metrics` will be empty until you train or evaluate the model.\n",
            "WARNING:tensorflow:Compiled the loaded model, but the compiled metrics have yet to be built. `model.compile_metrics` will be empty until you train or evaluate the model.\n"
          ]
        },
        {
          "name": "stdout",
          "output_type": "stream",
          "text": [
            "122/122 [==============================] - 40s 323ms/step - g_loss: 3.0586 - d_loss: 0.7761 - g_mae: 2.2156 - val_g_loss: 1.7546 - val_d_loss: 0.9868 - val_g_mae: 1.4963\n",
            "Epoch 132/200\n",
            "122/122 [==============================] - ETA: 0s - g_loss: 3.0700 - d_loss: 0.8232 - g_mae: 2.2941"
          ]
        },
        {
          "name": "stderr",
          "output_type": "stream",
          "text": [
            "WARNING:tensorflow:Compiled the loaded model, but the compiled metrics have yet to be built. `model.compile_metrics` will be empty until you train or evaluate the model.\n",
            "WARNING:tensorflow:Compiled the loaded model, but the compiled metrics have yet to be built. `model.compile_metrics` will be empty until you train or evaluate the model.\n"
          ]
        },
        {
          "name": "stdout",
          "output_type": "stream",
          "text": [
            "122/122 [==============================] - 40s 323ms/step - g_loss: 3.0702 - d_loss: 0.8230 - g_mae: 2.2942 - val_g_loss: 1.7754 - val_d_loss: 0.9023 - val_g_mae: 1.0856\n",
            "Epoch 133/200\n",
            "122/122 [==============================] - ETA: 0s - g_loss: 2.9602 - d_loss: 0.8095 - g_mae: 2.3389"
          ]
        },
        {
          "name": "stderr",
          "output_type": "stream",
          "text": [
            "WARNING:tensorflow:Compiled the loaded model, but the compiled metrics have yet to be built. `model.compile_metrics` will be empty until you train or evaluate the model.\n",
            "WARNING:tensorflow:Compiled the loaded model, but the compiled metrics have yet to be built. `model.compile_metrics` will be empty until you train or evaluate the model.\n"
          ]
        },
        {
          "name": "stdout",
          "output_type": "stream",
          "text": [
            "122/122 [==============================] - 40s 324ms/step - g_loss: 2.9600 - d_loss: 0.8095 - g_mae: 2.3384 - val_g_loss: 2.0433 - val_d_loss: 1.0214 - val_g_mae: 0.9645\n",
            "Epoch 134/200\n",
            "122/122 [==============================] - ETA: 0s - g_loss: 3.0447 - d_loss: 0.8188 - g_mae: 2.2465"
          ]
        },
        {
          "name": "stderr",
          "output_type": "stream",
          "text": [
            "WARNING:tensorflow:Compiled the loaded model, but the compiled metrics have yet to be built. `model.compile_metrics` will be empty until you train or evaluate the model.\n",
            "WARNING:tensorflow:Compiled the loaded model, but the compiled metrics have yet to be built. `model.compile_metrics` will be empty until you train or evaluate the model.\n"
          ]
        },
        {
          "name": "stdout",
          "output_type": "stream",
          "text": [
            "122/122 [==============================] - 39s 323ms/step - g_loss: 3.0447 - d_loss: 0.8188 - g_mae: 2.2464 - val_g_loss: 1.8369 - val_d_loss: 1.0469 - val_g_mae: 1.1916\n",
            "Epoch 135/200\n",
            "122/122 [==============================] - ETA: 0s - g_loss: 2.9409 - d_loss: 0.8527 - g_mae: 2.3038"
          ]
        },
        {
          "name": "stderr",
          "output_type": "stream",
          "text": [
            "WARNING:tensorflow:Compiled the loaded model, but the compiled metrics have yet to be built. `model.compile_metrics` will be empty until you train or evaluate the model.\n",
            "WARNING:tensorflow:Compiled the loaded model, but the compiled metrics have yet to be built. `model.compile_metrics` will be empty until you train or evaluate the model.\n"
          ]
        },
        {
          "name": "stdout",
          "output_type": "stream",
          "text": [
            "122/122 [==============================] - 40s 323ms/step - g_loss: 2.9407 - d_loss: 0.8527 - g_mae: 2.3038 - val_g_loss: 1.7125 - val_d_loss: 0.9059 - val_g_mae: 1.3564\n",
            "Epoch 136/200\n",
            "122/122 [==============================] - ETA: 0s - g_loss: 2.9135 - d_loss: 0.8576 - g_mae: 2.2556"
          ]
        },
        {
          "name": "stderr",
          "output_type": "stream",
          "text": [
            "WARNING:tensorflow:Compiled the loaded model, but the compiled metrics have yet to be built. `model.compile_metrics` will be empty until you train or evaluate the model.\n",
            "WARNING:tensorflow:Compiled the loaded model, but the compiled metrics have yet to be built. `model.compile_metrics` will be empty until you train or evaluate the model.\n"
          ]
        },
        {
          "name": "stdout",
          "output_type": "stream",
          "text": [
            "122/122 [==============================] - 40s 323ms/step - g_loss: 2.9136 - d_loss: 0.8574 - g_mae: 2.2557 - val_g_loss: 1.5452 - val_d_loss: 0.8710 - val_g_mae: 1.0017\n",
            "Epoch 137/200\n",
            "122/122 [==============================] - ETA: 0s - g_loss: 3.0754 - d_loss: 0.8071 - g_mae: 2.2549"
          ]
        },
        {
          "name": "stderr",
          "output_type": "stream",
          "text": [
            "WARNING:tensorflow:Compiled the loaded model, but the compiled metrics have yet to be built. `model.compile_metrics` will be empty until you train or evaluate the model.\n",
            "WARNING:tensorflow:Compiled the loaded model, but the compiled metrics have yet to be built. `model.compile_metrics` will be empty until you train or evaluate the model.\n"
          ]
        },
        {
          "name": "stdout",
          "output_type": "stream",
          "text": [
            "122/122 [==============================] - 40s 323ms/step - g_loss: 3.0754 - d_loss: 0.8072 - g_mae: 2.2551 - val_g_loss: 2.0718 - val_d_loss: 0.8689 - val_g_mae: 1.2116\n",
            "Epoch 138/200\n",
            "122/122 [==============================] - ETA: 0s - g_loss: 3.1402 - d_loss: 0.8246 - g_mae: 2.3137"
          ]
        },
        {
          "name": "stderr",
          "output_type": "stream",
          "text": [
            "WARNING:tensorflow:Compiled the loaded model, but the compiled metrics have yet to be built. `model.compile_metrics` will be empty until you train or evaluate the model.\n",
            "WARNING:tensorflow:Compiled the loaded model, but the compiled metrics have yet to be built. `model.compile_metrics` will be empty until you train or evaluate the model.\n"
          ]
        },
        {
          "name": "stdout",
          "output_type": "stream",
          "text": [
            "122/122 [==============================] - 40s 324ms/step - g_loss: 3.1401 - d_loss: 0.8246 - g_mae: 2.3141 - val_g_loss: 1.8257 - val_d_loss: 0.8391 - val_g_mae: 0.9922\n",
            "Epoch 139/200\n",
            "122/122 [==============================] - ETA: 0s - g_loss: 2.8721 - d_loss: 0.7752 - g_mae: 2.0921"
          ]
        },
        {
          "name": "stderr",
          "output_type": "stream",
          "text": [
            "WARNING:tensorflow:Compiled the loaded model, but the compiled metrics have yet to be built. `model.compile_metrics` will be empty until you train or evaluate the model.\n",
            "WARNING:tensorflow:Compiled the loaded model, but the compiled metrics have yet to be built. `model.compile_metrics` will be empty until you train or evaluate the model.\n"
          ]
        },
        {
          "name": "stdout",
          "output_type": "stream",
          "text": [
            "122/122 [==============================] - 40s 324ms/step - g_loss: 2.8731 - d_loss: 0.7750 - g_mae: 2.0924 - val_g_loss: 1.9047 - val_d_loss: 0.8607 - val_g_mae: 0.9711\n",
            "Epoch 140/200\n",
            "122/122 [==============================] - ETA: 0s - g_loss: 3.2032 - d_loss: 0.7805 - g_mae: 2.1802"
          ]
        },
        {
          "name": "stderr",
          "output_type": "stream",
          "text": [
            "WARNING:tensorflow:Compiled the loaded model, but the compiled metrics have yet to be built. `model.compile_metrics` will be empty until you train or evaluate the model.\n",
            "WARNING:tensorflow:Compiled the loaded model, but the compiled metrics have yet to be built. `model.compile_metrics` will be empty until you train or evaluate the model.\n"
          ]
        },
        {
          "name": "stdout",
          "output_type": "stream",
          "text": [
            "122/122 [==============================] - 40s 324ms/step - g_loss: 3.2027 - d_loss: 0.7806 - g_mae: 2.1809 - val_g_loss: 1.9991 - val_d_loss: 0.8747 - val_g_mae: 1.0032\n",
            "Epoch 141/200\n",
            "122/122 [==============================] - ETA: 0s - g_loss: 3.1397 - d_loss: 0.7890 - g_mae: 2.3727"
          ]
        },
        {
          "name": "stderr",
          "output_type": "stream",
          "text": [
            "WARNING:tensorflow:Compiled the loaded model, but the compiled metrics have yet to be built. `model.compile_metrics` will be empty until you train or evaluate the model.\n",
            "WARNING:tensorflow:Compiled the loaded model, but the compiled metrics have yet to be built. `model.compile_metrics` will be empty until you train or evaluate the model.\n"
          ]
        },
        {
          "name": "stdout",
          "output_type": "stream",
          "text": [
            "122/122 [==============================] - 40s 323ms/step - g_loss: 3.1396 - d_loss: 0.7891 - g_mae: 2.3725 - val_g_loss: 2.1308 - val_d_loss: 0.9265 - val_g_mae: 1.3119\n",
            "Epoch 142/200\n",
            "122/122 [==============================] - ETA: 0s - g_loss: 3.1857 - d_loss: 0.7899 - g_mae: 2.3364"
          ]
        },
        {
          "name": "stderr",
          "output_type": "stream",
          "text": [
            "WARNING:tensorflow:Compiled the loaded model, but the compiled metrics have yet to be built. `model.compile_metrics` will be empty until you train or evaluate the model.\n",
            "WARNING:tensorflow:Compiled the loaded model, but the compiled metrics have yet to be built. `model.compile_metrics` will be empty until you train or evaluate the model.\n"
          ]
        },
        {
          "name": "stdout",
          "output_type": "stream",
          "text": [
            "122/122 [==============================] - 40s 323ms/step - g_loss: 3.1854 - d_loss: 0.7899 - g_mae: 2.3364 - val_g_loss: 2.0407 - val_d_loss: 0.9058 - val_g_mae: 1.0944\n",
            "Epoch 143/200\n",
            "122/122 [==============================] - ETA: 0s - g_loss: 3.1777 - d_loss: 0.7540 - g_mae: 2.2130"
          ]
        },
        {
          "name": "stderr",
          "output_type": "stream",
          "text": [
            "WARNING:tensorflow:Compiled the loaded model, but the compiled metrics have yet to be built. `model.compile_metrics` will be empty until you train or evaluate the model.\n",
            "WARNING:tensorflow:Compiled the loaded model, but the compiled metrics have yet to be built. `model.compile_metrics` will be empty until you train or evaluate the model.\n"
          ]
        },
        {
          "name": "stdout",
          "output_type": "stream",
          "text": [
            "122/122 [==============================] - 40s 323ms/step - g_loss: 3.1777 - d_loss: 0.7541 - g_mae: 2.2130 - val_g_loss: 1.9624 - val_d_loss: 0.8893 - val_g_mae: 1.1447\n",
            "Epoch 144/200\n",
            "122/122 [==============================] - ETA: 0s - g_loss: 3.2047 - d_loss: 0.7757 - g_mae: 2.2582"
          ]
        },
        {
          "name": "stderr",
          "output_type": "stream",
          "text": [
            "WARNING:tensorflow:Compiled the loaded model, but the compiled metrics have yet to be built. `model.compile_metrics` will be empty until you train or evaluate the model.\n",
            "WARNING:tensorflow:Compiled the loaded model, but the compiled metrics have yet to be built. `model.compile_metrics` will be empty until you train or evaluate the model.\n"
          ]
        },
        {
          "name": "stdout",
          "output_type": "stream",
          "text": [
            "122/122 [==============================] - 40s 323ms/step - g_loss: 3.2049 - d_loss: 0.7756 - g_mae: 2.2585 - val_g_loss: 1.6397 - val_d_loss: 0.8929 - val_g_mae: 1.0102\n",
            "Epoch 145/200\n",
            "122/122 [==============================] - ETA: 0s - g_loss: 3.2699 - d_loss: 0.7546 - g_mae: 2.2321"
          ]
        },
        {
          "name": "stderr",
          "output_type": "stream",
          "text": [
            "WARNING:tensorflow:Compiled the loaded model, but the compiled metrics have yet to be built. `model.compile_metrics` will be empty until you train or evaluate the model.\n",
            "WARNING:tensorflow:Compiled the loaded model, but the compiled metrics have yet to be built. `model.compile_metrics` will be empty until you train or evaluate the model.\n"
          ]
        },
        {
          "name": "stdout",
          "output_type": "stream",
          "text": [
            "122/122 [==============================] - 40s 323ms/step - g_loss: 3.2696 - d_loss: 0.7547 - g_mae: 2.2321 - val_g_loss: 2.1763 - val_d_loss: 0.8530 - val_g_mae: 1.2747\n",
            "Epoch 146/200\n",
            "122/122 [==============================] - ETA: 0s - g_loss: 3.2535 - d_loss: 0.7327 - g_mae: 2.1226"
          ]
        },
        {
          "name": "stderr",
          "output_type": "stream",
          "text": [
            "WARNING:tensorflow:Compiled the loaded model, but the compiled metrics have yet to be built. `model.compile_metrics` will be empty until you train or evaluate the model.\n",
            "WARNING:tensorflow:Compiled the loaded model, but the compiled metrics have yet to be built. `model.compile_metrics` will be empty until you train or evaluate the model.\n"
          ]
        },
        {
          "name": "stdout",
          "output_type": "stream",
          "text": [
            "122/122 [==============================] - 40s 323ms/step - g_loss: 3.2537 - d_loss: 0.7328 - g_mae: 2.1231 - val_g_loss: 2.0112 - val_d_loss: 0.8576 - val_g_mae: 1.4339\n",
            "Epoch 147/200\n",
            "122/122 [==============================] - ETA: 0s - g_loss: 3.3571 - d_loss: 0.7360 - g_mae: 2.2884"
          ]
        },
        {
          "name": "stderr",
          "output_type": "stream",
          "text": [
            "WARNING:tensorflow:Compiled the loaded model, but the compiled metrics have yet to be built. `model.compile_metrics` will be empty until you train or evaluate the model.\n",
            "WARNING:tensorflow:Compiled the loaded model, but the compiled metrics have yet to be built. `model.compile_metrics` will be empty until you train or evaluate the model.\n"
          ]
        },
        {
          "name": "stdout",
          "output_type": "stream",
          "text": [
            "122/122 [==============================] - 40s 323ms/step - g_loss: 3.3570 - d_loss: 0.7360 - g_mae: 2.2878 - val_g_loss: 2.2025 - val_d_loss: 0.8397 - val_g_mae: 1.1697\n",
            "Epoch 148/200\n",
            "122/122 [==============================] - ETA: 0s - g_loss: 3.3560 - d_loss: 0.7447 - g_mae: 2.2245"
          ]
        },
        {
          "name": "stderr",
          "output_type": "stream",
          "text": [
            "WARNING:tensorflow:Compiled the loaded model, but the compiled metrics have yet to be built. `model.compile_metrics` will be empty until you train or evaluate the model.\n",
            "WARNING:tensorflow:Compiled the loaded model, but the compiled metrics have yet to be built. `model.compile_metrics` will be empty until you train or evaluate the model.\n"
          ]
        },
        {
          "name": "stdout",
          "output_type": "stream",
          "text": [
            "122/122 [==============================] - 40s 323ms/step - g_loss: 3.3561 - d_loss: 0.7446 - g_mae: 2.2248 - val_g_loss: 2.4122 - val_d_loss: 0.8969 - val_g_mae: 1.1142\n",
            "Epoch 149/200\n",
            "122/122 [==============================] - ETA: 0s - g_loss: 3.5476 - d_loss: 0.6852 - g_mae: 2.0377"
          ]
        },
        {
          "name": "stderr",
          "output_type": "stream",
          "text": [
            "WARNING:tensorflow:Compiled the loaded model, but the compiled metrics have yet to be built. `model.compile_metrics` will be empty until you train or evaluate the model.\n",
            "WARNING:tensorflow:Compiled the loaded model, but the compiled metrics have yet to be built. `model.compile_metrics` will be empty until you train or evaluate the model.\n"
          ]
        },
        {
          "name": "stdout",
          "output_type": "stream",
          "text": [
            "122/122 [==============================] - 40s 324ms/step - g_loss: 3.5477 - d_loss: 0.6852 - g_mae: 2.0381 - val_g_loss: 1.7386 - val_d_loss: 0.8552 - val_g_mae: 1.0397\n",
            "Epoch 150/200\n",
            "122/122 [==============================] - ETA: 0s - g_loss: 3.1786 - d_loss: 0.7866 - g_mae: 2.2148"
          ]
        },
        {
          "name": "stderr",
          "output_type": "stream",
          "text": [
            "WARNING:tensorflow:Compiled the loaded model, but the compiled metrics have yet to be built. `model.compile_metrics` will be empty until you train or evaluate the model.\n",
            "WARNING:tensorflow:Compiled the loaded model, but the compiled metrics have yet to be built. `model.compile_metrics` will be empty until you train or evaluate the model.\n"
          ]
        },
        {
          "name": "stdout",
          "output_type": "stream",
          "text": [
            "122/122 [==============================] - 40s 323ms/step - g_loss: 3.1793 - d_loss: 0.7863 - g_mae: 2.2151 - val_g_loss: 2.3032 - val_d_loss: 0.8792 - val_g_mae: 1.1592\n",
            "Epoch 151/200\n",
            "122/122 [==============================] - ETA: 0s - g_loss: 3.4627 - d_loss: 0.7213 - g_mae: 2.2172"
          ]
        },
        {
          "name": "stderr",
          "output_type": "stream",
          "text": [
            "WARNING:tensorflow:Compiled the loaded model, but the compiled metrics have yet to be built. `model.compile_metrics` will be empty until you train or evaluate the model.\n",
            "WARNING:tensorflow:Compiled the loaded model, but the compiled metrics have yet to be built. `model.compile_metrics` will be empty until you train or evaluate the model.\n"
          ]
        },
        {
          "name": "stdout",
          "output_type": "stream",
          "text": [
            "122/122 [==============================] - 40s 323ms/step - g_loss: 3.4623 - d_loss: 0.7213 - g_mae: 2.2173 - val_g_loss: 2.2259 - val_d_loss: 0.8813 - val_g_mae: 1.2194\n",
            "Epoch 152/200\n",
            "122/122 [==============================] - ETA: 0s - g_loss: 3.3939 - d_loss: 0.7377 - g_mae: 2.2598"
          ]
        },
        {
          "name": "stderr",
          "output_type": "stream",
          "text": [
            "WARNING:tensorflow:Compiled the loaded model, but the compiled metrics have yet to be built. `model.compile_metrics` will be empty until you train or evaluate the model.\n",
            "WARNING:tensorflow:Compiled the loaded model, but the compiled metrics have yet to be built. `model.compile_metrics` will be empty until you train or evaluate the model.\n"
          ]
        },
        {
          "name": "stdout",
          "output_type": "stream",
          "text": [
            "122/122 [==============================] - 40s 323ms/step - g_loss: 3.3939 - d_loss: 0.7377 - g_mae: 2.2598 - val_g_loss: 1.8580 - val_d_loss: 0.9137 - val_g_mae: 1.1882\n",
            "Epoch 153/200\n",
            "122/122 [==============================] - ETA: 0s - g_loss: 3.4272 - d_loss: 0.7174 - g_mae: 2.2241"
          ]
        },
        {
          "name": "stderr",
          "output_type": "stream",
          "text": [
            "WARNING:tensorflow:Compiled the loaded model, but the compiled metrics have yet to be built. `model.compile_metrics` will be empty until you train or evaluate the model.\n",
            "WARNING:tensorflow:Compiled the loaded model, but the compiled metrics have yet to be built. `model.compile_metrics` will be empty until you train or evaluate the model.\n"
          ]
        },
        {
          "name": "stdout",
          "output_type": "stream",
          "text": [
            "122/122 [==============================] - 40s 324ms/step - g_loss: 3.4271 - d_loss: 0.7175 - g_mae: 2.2237 - val_g_loss: 1.7738 - val_d_loss: 0.9798 - val_g_mae: 1.1048\n",
            "Epoch 154/200\n",
            "122/122 [==============================] - ETA: 0s - g_loss: 3.4558 - d_loss: 0.7290 - g_mae: 2.2845"
          ]
        },
        {
          "name": "stderr",
          "output_type": "stream",
          "text": [
            "WARNING:tensorflow:Compiled the loaded model, but the compiled metrics have yet to be built. `model.compile_metrics` will be empty until you train or evaluate the model.\n",
            "WARNING:tensorflow:Compiled the loaded model, but the compiled metrics have yet to be built. `model.compile_metrics` will be empty until you train or evaluate the model.\n"
          ]
        },
        {
          "name": "stdout",
          "output_type": "stream",
          "text": [
            "122/122 [==============================] - 40s 324ms/step - g_loss: 3.4557 - d_loss: 0.7292 - g_mae: 2.2843 - val_g_loss: 2.2898 - val_d_loss: 0.8655 - val_g_mae: 1.1030\n",
            "Epoch 155/200\n",
            "122/122 [==============================] - ETA: 0s - g_loss: 3.3729 - d_loss: 0.7417 - g_mae: 2.2674"
          ]
        },
        {
          "name": "stderr",
          "output_type": "stream",
          "text": [
            "WARNING:tensorflow:Compiled the loaded model, but the compiled metrics have yet to be built. `model.compile_metrics` will be empty until you train or evaluate the model.\n",
            "WARNING:tensorflow:Compiled the loaded model, but the compiled metrics have yet to be built. `model.compile_metrics` will be empty until you train or evaluate the model.\n"
          ]
        },
        {
          "name": "stdout",
          "output_type": "stream",
          "text": [
            "122/122 [==============================] - 40s 323ms/step - g_loss: 3.3726 - d_loss: 0.7418 - g_mae: 2.2668 - val_g_loss: 2.0293 - val_d_loss: 0.8567 - val_g_mae: 1.0670\n",
            "Epoch 156/200\n",
            "122/122 [==============================] - ETA: 0s - g_loss: 3.4139 - d_loss: 0.7791 - g_mae: 2.2448"
          ]
        },
        {
          "name": "stderr",
          "output_type": "stream",
          "text": [
            "WARNING:tensorflow:Compiled the loaded model, but the compiled metrics have yet to be built. `model.compile_metrics` will be empty until you train or evaluate the model.\n",
            "WARNING:tensorflow:Compiled the loaded model, but the compiled metrics have yet to be built. `model.compile_metrics` will be empty until you train or evaluate the model.\n"
          ]
        },
        {
          "name": "stdout",
          "output_type": "stream",
          "text": [
            "122/122 [==============================] - 40s 323ms/step - g_loss: 3.4136 - d_loss: 0.7790 - g_mae: 2.2447 - val_g_loss: 2.1248 - val_d_loss: 0.8573 - val_g_mae: 1.0767\n",
            "Epoch 157/200\n",
            "122/122 [==============================] - ETA: 0s - g_loss: 3.3465 - d_loss: 0.7510 - g_mae: 2.1817"
          ]
        },
        {
          "name": "stderr",
          "output_type": "stream",
          "text": [
            "WARNING:tensorflow:Compiled the loaded model, but the compiled metrics have yet to be built. `model.compile_metrics` will be empty until you train or evaluate the model.\n",
            "WARNING:tensorflow:Compiled the loaded model, but the compiled metrics have yet to be built. `model.compile_metrics` will be empty until you train or evaluate the model.\n"
          ]
        },
        {
          "name": "stdout",
          "output_type": "stream",
          "text": [
            "122/122 [==============================] - 40s 323ms/step - g_loss: 3.3460 - d_loss: 0.7510 - g_mae: 2.1813 - val_g_loss: 2.1700 - val_d_loss: 0.8981 - val_g_mae: 1.0074\n",
            "Epoch 158/200\n",
            "122/122 [==============================] - ETA: 0s - g_loss: 3.3541 - d_loss: 0.7583 - g_mae: 2.2276"
          ]
        },
        {
          "name": "stderr",
          "output_type": "stream",
          "text": [
            "WARNING:tensorflow:Compiled the loaded model, but the compiled metrics have yet to be built. `model.compile_metrics` will be empty until you train or evaluate the model.\n",
            "WARNING:tensorflow:Compiled the loaded model, but the compiled metrics have yet to be built. `model.compile_metrics` will be empty until you train or evaluate the model.\n"
          ]
        },
        {
          "name": "stdout",
          "output_type": "stream",
          "text": [
            "122/122 [==============================] - 40s 323ms/step - g_loss: 3.3540 - d_loss: 0.7582 - g_mae: 2.2277 - val_g_loss: 1.9704 - val_d_loss: 0.8532 - val_g_mae: 0.9325\n",
            "Epoch 159/200\n",
            "122/122 [==============================] - ETA: 0s - g_loss: 3.4341 - d_loss: 0.7032 - g_mae: 2.0774"
          ]
        },
        {
          "name": "stderr",
          "output_type": "stream",
          "text": [
            "WARNING:tensorflow:Compiled the loaded model, but the compiled metrics have yet to be built. `model.compile_metrics` will be empty until you train or evaluate the model.\n",
            "WARNING:tensorflow:Compiled the loaded model, but the compiled metrics have yet to be built. `model.compile_metrics` will be empty until you train or evaluate the model.\n"
          ]
        },
        {
          "name": "stdout",
          "output_type": "stream",
          "text": [
            "122/122 [==============================] - 39s 323ms/step - g_loss: 3.4341 - d_loss: 0.7034 - g_mae: 2.0781 - val_g_loss: 2.1862 - val_d_loss: 0.7864 - val_g_mae: 0.9940\n",
            "Epoch 160/200\n",
            "122/122 [==============================] - ETA: 0s - g_loss: 3.4237 - d_loss: 0.7590 - g_mae: 2.2189"
          ]
        },
        {
          "name": "stderr",
          "output_type": "stream",
          "text": [
            "WARNING:tensorflow:Compiled the loaded model, but the compiled metrics have yet to be built. `model.compile_metrics` will be empty until you train or evaluate the model.\n",
            "WARNING:tensorflow:Compiled the loaded model, but the compiled metrics have yet to be built. `model.compile_metrics` will be empty until you train or evaluate the model.\n"
          ]
        },
        {
          "name": "stdout",
          "output_type": "stream",
          "text": [
            "122/122 [==============================] - 40s 324ms/step - g_loss: 3.4234 - d_loss: 0.7589 - g_mae: 2.2194 - val_g_loss: 2.0181 - val_d_loss: 0.7701 - val_g_mae: 1.2320\n",
            "Epoch 161/200\n",
            "122/122 [==============================] - ETA: 0s - g_loss: 3.3315 - d_loss: 0.7574 - g_mae: 2.3533"
          ]
        },
        {
          "name": "stderr",
          "output_type": "stream",
          "text": [
            "WARNING:tensorflow:Compiled the loaded model, but the compiled metrics have yet to be built. `model.compile_metrics` will be empty until you train or evaluate the model.\n",
            "WARNING:tensorflow:Compiled the loaded model, but the compiled metrics have yet to be built. `model.compile_metrics` will be empty until you train or evaluate the model.\n"
          ]
        },
        {
          "name": "stdout",
          "output_type": "stream",
          "text": [
            "122/122 [==============================] - 40s 323ms/step - g_loss: 3.3311 - d_loss: 0.7574 - g_mae: 2.3532 - val_g_loss: 1.8795 - val_d_loss: 0.8319 - val_g_mae: 1.0941\n",
            "Epoch 162/200\n",
            "122/122 [==============================] - ETA: 0s - g_loss: 3.3124 - d_loss: 0.7386 - g_mae: 2.2872"
          ]
        },
        {
          "name": "stderr",
          "output_type": "stream",
          "text": [
            "WARNING:tensorflow:Compiled the loaded model, but the compiled metrics have yet to be built. `model.compile_metrics` will be empty until you train or evaluate the model.\n",
            "WARNING:tensorflow:Compiled the loaded model, but the compiled metrics have yet to be built. `model.compile_metrics` will be empty until you train or evaluate the model.\n"
          ]
        },
        {
          "name": "stdout",
          "output_type": "stream",
          "text": [
            "122/122 [==============================] - 40s 323ms/step - g_loss: 3.3129 - d_loss: 0.7385 - g_mae: 2.2866 - val_g_loss: 1.5278 - val_d_loss: 0.9805 - val_g_mae: 1.0855\n",
            "Epoch 163/200\n",
            "122/122 [==============================] - ETA: 0s - g_loss: 3.4988 - d_loss: 0.7142 - g_mae: 2.2525"
          ]
        },
        {
          "name": "stderr",
          "output_type": "stream",
          "text": [
            "WARNING:tensorflow:Compiled the loaded model, but the compiled metrics have yet to be built. `model.compile_metrics` will be empty until you train or evaluate the model.\n",
            "WARNING:tensorflow:Compiled the loaded model, but the compiled metrics have yet to be built. `model.compile_metrics` will be empty until you train or evaluate the model.\n"
          ]
        },
        {
          "name": "stdout",
          "output_type": "stream",
          "text": [
            "122/122 [==============================] - 40s 323ms/step - g_loss: 3.4987 - d_loss: 0.7143 - g_mae: 2.2524 - val_g_loss: 1.7486 - val_d_loss: 0.8336 - val_g_mae: 1.1180\n",
            "Epoch 164/200\n",
            "122/122 [==============================] - ETA: 0s - g_loss: 3.3619 - d_loss: 0.7307 - g_mae: 2.2438"
          ]
        },
        {
          "name": "stderr",
          "output_type": "stream",
          "text": [
            "WARNING:tensorflow:Compiled the loaded model, but the compiled metrics have yet to be built. `model.compile_metrics` will be empty until you train or evaluate the model.\n",
            "WARNING:tensorflow:Compiled the loaded model, but the compiled metrics have yet to be built. `model.compile_metrics` will be empty until you train or evaluate the model.\n"
          ]
        },
        {
          "name": "stdout",
          "output_type": "stream",
          "text": [
            "122/122 [==============================] - 40s 324ms/step - g_loss: 3.3620 - d_loss: 0.7307 - g_mae: 2.2435 - val_g_loss: 1.9404 - val_d_loss: 0.8886 - val_g_mae: 1.1149\n",
            "Epoch 165/200\n",
            "122/122 [==============================] - ETA: 0s - g_loss: 3.3515 - d_loss: 0.7453 - g_mae: 2.2481"
          ]
        },
        {
          "name": "stderr",
          "output_type": "stream",
          "text": [
            "WARNING:tensorflow:Compiled the loaded model, but the compiled metrics have yet to be built. `model.compile_metrics` will be empty until you train or evaluate the model.\n",
            "WARNING:tensorflow:Compiled the loaded model, but the compiled metrics have yet to be built. `model.compile_metrics` will be empty until you train or evaluate the model.\n"
          ]
        },
        {
          "name": "stdout",
          "output_type": "stream",
          "text": [
            "122/122 [==============================] - 40s 324ms/step - g_loss: 3.3513 - d_loss: 0.7452 - g_mae: 2.2479 - val_g_loss: 2.1395 - val_d_loss: 0.9135 - val_g_mae: 0.9933\n",
            "Epoch 166/200\n",
            "122/122 [==============================] - ETA: 0s - g_loss: 3.4926 - d_loss: 0.7179 - g_mae: 2.2440"
          ]
        },
        {
          "name": "stderr",
          "output_type": "stream",
          "text": [
            "WARNING:tensorflow:Compiled the loaded model, but the compiled metrics have yet to be built. `model.compile_metrics` will be empty until you train or evaluate the model.\n",
            "WARNING:tensorflow:Compiled the loaded model, but the compiled metrics have yet to be built. `model.compile_metrics` will be empty until you train or evaluate the model.\n"
          ]
        },
        {
          "name": "stdout",
          "output_type": "stream",
          "text": [
            "122/122 [==============================] - 40s 323ms/step - g_loss: 3.4927 - d_loss: 0.7181 - g_mae: 2.2444 - val_g_loss: 1.9011 - val_d_loss: 0.9817 - val_g_mae: 1.1234\n",
            "Epoch 167/200\n",
            "122/122 [==============================] - ETA: 0s - g_loss: 3.1197 - d_loss: 0.7878 - g_mae: 2.2427"
          ]
        },
        {
          "name": "stderr",
          "output_type": "stream",
          "text": [
            "WARNING:tensorflow:Compiled the loaded model, but the compiled metrics have yet to be built. `model.compile_metrics` will be empty until you train or evaluate the model.\n",
            "WARNING:tensorflow:Compiled the loaded model, but the compiled metrics have yet to be built. `model.compile_metrics` will be empty until you train or evaluate the model.\n"
          ]
        },
        {
          "name": "stdout",
          "output_type": "stream",
          "text": [
            "122/122 [==============================] - 40s 323ms/step - g_loss: 3.1206 - d_loss: 0.7875 - g_mae: 2.2427 - val_g_loss: 1.7046 - val_d_loss: 1.0103 - val_g_mae: 1.0908\n",
            "Epoch 168/200\n",
            "122/122 [==============================] - ETA: 0s - g_loss: 3.4239 - d_loss: 0.7262 - g_mae: 2.2456"
          ]
        },
        {
          "name": "stderr",
          "output_type": "stream",
          "text": [
            "WARNING:tensorflow:Compiled the loaded model, but the compiled metrics have yet to be built. `model.compile_metrics` will be empty until you train or evaluate the model.\n",
            "WARNING:tensorflow:Compiled the loaded model, but the compiled metrics have yet to be built. `model.compile_metrics` will be empty until you train or evaluate the model.\n"
          ]
        },
        {
          "name": "stdout",
          "output_type": "stream",
          "text": [
            "122/122 [==============================] - 40s 323ms/step - g_loss: 3.4248 - d_loss: 0.7261 - g_mae: 2.2454 - val_g_loss: 2.1129 - val_d_loss: 0.8496 - val_g_mae: 0.9559\n",
            "Epoch 169/200\n",
            "122/122 [==============================] - ETA: 0s - g_loss: 3.5598 - d_loss: 0.6926 - g_mae: 2.1658"
          ]
        },
        {
          "name": "stderr",
          "output_type": "stream",
          "text": [
            "WARNING:tensorflow:Compiled the loaded model, but the compiled metrics have yet to be built. `model.compile_metrics` will be empty until you train or evaluate the model.\n",
            "WARNING:tensorflow:Compiled the loaded model, but the compiled metrics have yet to be built. `model.compile_metrics` will be empty until you train or evaluate the model.\n"
          ]
        },
        {
          "name": "stdout",
          "output_type": "stream",
          "text": [
            "122/122 [==============================] - 40s 324ms/step - g_loss: 3.5584 - d_loss: 0.6932 - g_mae: 2.1663 - val_g_loss: 1.6622 - val_d_loss: 0.8696 - val_g_mae: 1.3361\n",
            "Epoch 170/200\n",
            "122/122 [==============================] - ETA: 0s - g_loss: 3.0973 - d_loss: 0.8340 - g_mae: 2.4920"
          ]
        },
        {
          "name": "stderr",
          "output_type": "stream",
          "text": [
            "WARNING:tensorflow:Compiled the loaded model, but the compiled metrics have yet to be built. `model.compile_metrics` will be empty until you train or evaluate the model.\n",
            "WARNING:tensorflow:Compiled the loaded model, but the compiled metrics have yet to be built. `model.compile_metrics` will be empty until you train or evaluate the model.\n"
          ]
        },
        {
          "name": "stdout",
          "output_type": "stream",
          "text": [
            "122/122 [==============================] - 40s 324ms/step - g_loss: 3.0984 - d_loss: 0.8337 - g_mae: 2.4912 - val_g_loss: 1.9273 - val_d_loss: 0.8822 - val_g_mae: 1.2092\n",
            "Epoch 171/200\n",
            "122/122 [==============================] - ETA: 0s - g_loss: 3.2682 - d_loss: 0.7392 - g_mae: 2.2843"
          ]
        },
        {
          "name": "stderr",
          "output_type": "stream",
          "text": [
            "WARNING:tensorflow:Compiled the loaded model, but the compiled metrics have yet to be built. `model.compile_metrics` will be empty until you train or evaluate the model.\n",
            "WARNING:tensorflow:Compiled the loaded model, but the compiled metrics have yet to be built. `model.compile_metrics` will be empty until you train or evaluate the model.\n"
          ]
        },
        {
          "name": "stdout",
          "output_type": "stream",
          "text": [
            "122/122 [==============================] - 40s 324ms/step - g_loss: 3.2693 - d_loss: 0.7390 - g_mae: 2.2837 - val_g_loss: 2.2064 - val_d_loss: 0.8430 - val_g_mae: 1.0056\n",
            "Epoch 172/200\n",
            "122/122 [==============================] - ETA: 0s - g_loss: 3.5490 - d_loss: 0.6840 - g_mae: 2.2364"
          ]
        },
        {
          "name": "stderr",
          "output_type": "stream",
          "text": [
            "WARNING:tensorflow:Compiled the loaded model, but the compiled metrics have yet to be built. `model.compile_metrics` will be empty until you train or evaluate the model.\n",
            "WARNING:tensorflow:Compiled the loaded model, but the compiled metrics have yet to be built. `model.compile_metrics` will be empty until you train or evaluate the model.\n"
          ]
        },
        {
          "name": "stdout",
          "output_type": "stream",
          "text": [
            "122/122 [==============================] - 40s 324ms/step - g_loss: 3.5487 - d_loss: 0.6840 - g_mae: 2.2360 - val_g_loss: 2.5618 - val_d_loss: 0.7885 - val_g_mae: 1.0768\n",
            "Epoch 173/200\n",
            "122/122 [==============================] - ETA: 0s - g_loss: 3.5809 - d_loss: 0.6874 - g_mae: 2.2018"
          ]
        },
        {
          "name": "stderr",
          "output_type": "stream",
          "text": [
            "WARNING:tensorflow:Compiled the loaded model, but the compiled metrics have yet to be built. `model.compile_metrics` will be empty until you train or evaluate the model.\n",
            "WARNING:tensorflow:Compiled the loaded model, but the compiled metrics have yet to be built. `model.compile_metrics` will be empty until you train or evaluate the model.\n"
          ]
        },
        {
          "name": "stdout",
          "output_type": "stream",
          "text": [
            "122/122 [==============================] - 40s 323ms/step - g_loss: 3.5812 - d_loss: 0.6873 - g_mae: 2.2018 - val_g_loss: 1.6775 - val_d_loss: 0.9533 - val_g_mae: 0.9626\n",
            "Epoch 174/200\n",
            "122/122 [==============================] - ETA: 0s - g_loss: 3.2791 - d_loss: 0.7456 - g_mae: 2.1570"
          ]
        },
        {
          "name": "stderr",
          "output_type": "stream",
          "text": [
            "WARNING:tensorflow:Compiled the loaded model, but the compiled metrics have yet to be built. `model.compile_metrics` will be empty until you train or evaluate the model.\n",
            "WARNING:tensorflow:Compiled the loaded model, but the compiled metrics have yet to be built. `model.compile_metrics` will be empty until you train or evaluate the model.\n"
          ]
        },
        {
          "name": "stdout",
          "output_type": "stream",
          "text": [
            "122/122 [==============================] - 40s 323ms/step - g_loss: 3.2784 - d_loss: 0.7457 - g_mae: 2.1576 - val_g_loss: 1.9165 - val_d_loss: 0.9896 - val_g_mae: 1.0094\n",
            "Epoch 175/200\n",
            "122/122 [==============================] - ETA: 0s - g_loss: 3.3070 - d_loss: 0.7604 - g_mae: 2.2717"
          ]
        },
        {
          "name": "stderr",
          "output_type": "stream",
          "text": [
            "WARNING:tensorflow:Compiled the loaded model, but the compiled metrics have yet to be built. `model.compile_metrics` will be empty until you train or evaluate the model.\n",
            "WARNING:tensorflow:Compiled the loaded model, but the compiled metrics have yet to be built. `model.compile_metrics` will be empty until you train or evaluate the model.\n"
          ]
        },
        {
          "name": "stdout",
          "output_type": "stream",
          "text": [
            "122/122 [==============================] - 40s 324ms/step - g_loss: 3.3077 - d_loss: 0.7603 - g_mae: 2.2717 - val_g_loss: 2.2347 - val_d_loss: 0.9749 - val_g_mae: 1.0463\n",
            "Epoch 176/200\n",
            "122/122 [==============================] - ETA: 0s - g_loss: 3.5747 - d_loss: 0.6871 - g_mae: 2.1342"
          ]
        },
        {
          "name": "stderr",
          "output_type": "stream",
          "text": [
            "WARNING:tensorflow:Compiled the loaded model, but the compiled metrics have yet to be built. `model.compile_metrics` will be empty until you train or evaluate the model.\n",
            "WARNING:tensorflow:Compiled the loaded model, but the compiled metrics have yet to be built. `model.compile_metrics` will be empty until you train or evaluate the model.\n"
          ]
        },
        {
          "name": "stdout",
          "output_type": "stream",
          "text": [
            "122/122 [==============================] - 40s 324ms/step - g_loss: 3.5745 - d_loss: 0.6870 - g_mae: 2.1344 - val_g_loss: 2.2414 - val_d_loss: 0.7545 - val_g_mae: 1.1620\n",
            "Epoch 177/200\n",
            "122/122 [==============================] - ETA: 0s - g_loss: 3.3741 - d_loss: 0.7072 - g_mae: 2.2679"
          ]
        },
        {
          "name": "stderr",
          "output_type": "stream",
          "text": [
            "WARNING:tensorflow:Compiled the loaded model, but the compiled metrics have yet to be built. `model.compile_metrics` will be empty until you train or evaluate the model.\n",
            "WARNING:tensorflow:Compiled the loaded model, but the compiled metrics have yet to be built. `model.compile_metrics` will be empty until you train or evaluate the model.\n"
          ]
        },
        {
          "name": "stdout",
          "output_type": "stream",
          "text": [
            "122/122 [==============================] - 40s 323ms/step - g_loss: 3.3745 - d_loss: 0.7071 - g_mae: 2.2671 - val_g_loss: 2.6931 - val_d_loss: 0.4975 - val_g_mae: 1.0134\n",
            "Epoch 178/200\n",
            "122/122 [==============================] - ETA: 0s - g_loss: 3.5775 - d_loss: 0.6682 - g_mae: 2.1430"
          ]
        },
        {
          "name": "stderr",
          "output_type": "stream",
          "text": [
            "WARNING:tensorflow:Compiled the loaded model, but the compiled metrics have yet to be built. `model.compile_metrics` will be empty until you train or evaluate the model.\n",
            "WARNING:tensorflow:Compiled the loaded model, but the compiled metrics have yet to be built. `model.compile_metrics` will be empty until you train or evaluate the model.\n"
          ]
        },
        {
          "name": "stdout",
          "output_type": "stream",
          "text": [
            "122/122 [==============================] - 40s 324ms/step - g_loss: 3.5773 - d_loss: 0.6681 - g_mae: 2.1432 - val_g_loss: 2.7019 - val_d_loss: 0.8154 - val_g_mae: 0.9915\n",
            "Epoch 179/200\n",
            "122/122 [==============================] - ETA: 0s - g_loss: 3.5977 - d_loss: 0.6702 - g_mae: 2.2426"
          ]
        },
        {
          "name": "stderr",
          "output_type": "stream",
          "text": [
            "WARNING:tensorflow:Compiled the loaded model, but the compiled metrics have yet to be built. `model.compile_metrics` will be empty until you train or evaluate the model.\n",
            "WARNING:tensorflow:Compiled the loaded model, but the compiled metrics have yet to be built. `model.compile_metrics` will be empty until you train or evaluate the model.\n"
          ]
        },
        {
          "name": "stdout",
          "output_type": "stream",
          "text": [
            "122/122 [==============================] - 40s 323ms/step - g_loss: 3.5964 - d_loss: 0.6706 - g_mae: 2.2426 - val_g_loss: 1.7660 - val_d_loss: 0.9190 - val_g_mae: 1.0046\n",
            "Epoch 180/200\n",
            "122/122 [==============================] - ETA: 0s - g_loss: 3.3542 - d_loss: 0.7515 - g_mae: 2.2521"
          ]
        },
        {
          "name": "stderr",
          "output_type": "stream",
          "text": [
            "WARNING:tensorflow:Compiled the loaded model, but the compiled metrics have yet to be built. `model.compile_metrics` will be empty until you train or evaluate the model.\n",
            "WARNING:tensorflow:Compiled the loaded model, but the compiled metrics have yet to be built. `model.compile_metrics` will be empty until you train or evaluate the model.\n"
          ]
        },
        {
          "name": "stdout",
          "output_type": "stream",
          "text": [
            "122/122 [==============================] - 40s 323ms/step - g_loss: 3.3544 - d_loss: 0.7513 - g_mae: 2.2523 - val_g_loss: 3.0007 - val_d_loss: 0.6968 - val_g_mae: 1.1116\n",
            "Epoch 181/200\n",
            "122/122 [==============================] - ETA: 0s - g_loss: 3.6008 - d_loss: 0.6862 - g_mae: 2.2078"
          ]
        },
        {
          "name": "stderr",
          "output_type": "stream",
          "text": [
            "WARNING:tensorflow:Compiled the loaded model, but the compiled metrics have yet to be built. `model.compile_metrics` will be empty until you train or evaluate the model.\n",
            "WARNING:tensorflow:Compiled the loaded model, but the compiled metrics have yet to be built. `model.compile_metrics` will be empty until you train or evaluate the model.\n"
          ]
        },
        {
          "name": "stdout",
          "output_type": "stream",
          "text": [
            "122/122 [==============================] - 40s 324ms/step - g_loss: 3.6017 - d_loss: 0.6860 - g_mae: 2.2075 - val_g_loss: 1.9308 - val_d_loss: 0.8156 - val_g_mae: 0.9145\n",
            "Epoch 182/200\n",
            "122/122 [==============================] - ETA: 0s - g_loss: 3.9134 - d_loss: 0.6042 - g_mae: 2.1439"
          ]
        },
        {
          "name": "stderr",
          "output_type": "stream",
          "text": [
            "WARNING:tensorflow:Compiled the loaded model, but the compiled metrics have yet to be built. `model.compile_metrics` will be empty until you train or evaluate the model.\n",
            "WARNING:tensorflow:Compiled the loaded model, but the compiled metrics have yet to be built. `model.compile_metrics` will be empty until you train or evaluate the model.\n"
          ]
        },
        {
          "name": "stdout",
          "output_type": "stream",
          "text": [
            "122/122 [==============================] - 40s 324ms/step - g_loss: 3.9129 - d_loss: 0.6045 - g_mae: 2.1444 - val_g_loss: 1.2604 - val_d_loss: 0.8913 - val_g_mae: 1.2029\n",
            "Epoch 183/200\n",
            "122/122 [==============================] - ETA: 0s - g_loss: 3.4208 - d_loss: 0.7102 - g_mae: 2.5065"
          ]
        },
        {
          "name": "stderr",
          "output_type": "stream",
          "text": [
            "WARNING:tensorflow:Compiled the loaded model, but the compiled metrics have yet to be built. `model.compile_metrics` will be empty until you train or evaluate the model.\n",
            "WARNING:tensorflow:Compiled the loaded model, but the compiled metrics have yet to be built. `model.compile_metrics` will be empty until you train or evaluate the model.\n"
          ]
        },
        {
          "name": "stdout",
          "output_type": "stream",
          "text": [
            "122/122 [==============================] - 40s 323ms/step - g_loss: 3.4211 - d_loss: 0.7102 - g_mae: 2.5070 - val_g_loss: 3.5356 - val_d_loss: 0.3377 - val_g_mae: 1.3207\n",
            "Epoch 184/200\n",
            "122/122 [==============================] - ETA: 0s - g_loss: 3.7421 - d_loss: 0.6571 - g_mae: 2.6604"
          ]
        },
        {
          "name": "stderr",
          "output_type": "stream",
          "text": [
            "WARNING:tensorflow:Compiled the loaded model, but the compiled metrics have yet to be built. `model.compile_metrics` will be empty until you train or evaluate the model.\n",
            "WARNING:tensorflow:Compiled the loaded model, but the compiled metrics have yet to be built. `model.compile_metrics` will be empty until you train or evaluate the model.\n"
          ]
        },
        {
          "name": "stdout",
          "output_type": "stream",
          "text": [
            "122/122 [==============================] - 40s 323ms/step - g_loss: 3.7411 - d_loss: 0.6572 - g_mae: 2.6596 - val_g_loss: 1.3250 - val_d_loss: 1.1098 - val_g_mae: 1.1366\n",
            "Epoch 185/200\n",
            "122/122 [==============================] - ETA: 0s - g_loss: 3.5657 - d_loss: 0.7176 - g_mae: 2.2233"
          ]
        },
        {
          "name": "stderr",
          "output_type": "stream",
          "text": [
            "WARNING:tensorflow:Compiled the loaded model, but the compiled metrics have yet to be built. `model.compile_metrics` will be empty until you train or evaluate the model.\n",
            "WARNING:tensorflow:Compiled the loaded model, but the compiled metrics have yet to be built. `model.compile_metrics` will be empty until you train or evaluate the model.\n"
          ]
        },
        {
          "name": "stdout",
          "output_type": "stream",
          "text": [
            "122/122 [==============================] - 40s 323ms/step - g_loss: 3.5655 - d_loss: 0.7173 - g_mae: 2.2235 - val_g_loss: 2.8836 - val_d_loss: 0.7676 - val_g_mae: 0.9751\n",
            "Epoch 186/200\n",
            "122/122 [==============================] - ETA: 0s - g_loss: 3.8162 - d_loss: 0.6438 - g_mae: 2.1635"
          ]
        },
        {
          "name": "stderr",
          "output_type": "stream",
          "text": [
            "WARNING:tensorflow:Compiled the loaded model, but the compiled metrics have yet to be built. `model.compile_metrics` will be empty until you train or evaluate the model.\n",
            "WARNING:tensorflow:Compiled the loaded model, but the compiled metrics have yet to be built. `model.compile_metrics` will be empty until you train or evaluate the model.\n"
          ]
        },
        {
          "name": "stdout",
          "output_type": "stream",
          "text": [
            "122/122 [==============================] - 40s 324ms/step - g_loss: 3.8150 - d_loss: 0.6442 - g_mae: 2.1645 - val_g_loss: 1.8791 - val_d_loss: 0.9501 - val_g_mae: 1.1439\n",
            "Epoch 187/200\n",
            "122/122 [==============================] - ETA: 0s - g_loss: 3.2539 - d_loss: 0.7520 - g_mae: 2.3459"
          ]
        },
        {
          "name": "stderr",
          "output_type": "stream",
          "text": [
            "WARNING:tensorflow:Compiled the loaded model, but the compiled metrics have yet to be built. `model.compile_metrics` will be empty until you train or evaluate the model.\n",
            "WARNING:tensorflow:Compiled the loaded model, but the compiled metrics have yet to be built. `model.compile_metrics` will be empty until you train or evaluate the model.\n"
          ]
        },
        {
          "name": "stdout",
          "output_type": "stream",
          "text": [
            "122/122 [==============================] - 40s 324ms/step - g_loss: 3.2554 - d_loss: 0.7517 - g_mae: 2.3456 - val_g_loss: 3.3031 - val_d_loss: 0.3967 - val_g_mae: 1.1143\n",
            "Epoch 188/200\n",
            "122/122 [==============================] - ETA: 0s - g_loss: 3.6913 - d_loss: 0.6547 - g_mae: 2.2471"
          ]
        },
        {
          "name": "stderr",
          "output_type": "stream",
          "text": [
            "WARNING:tensorflow:Compiled the loaded model, but the compiled metrics have yet to be built. `model.compile_metrics` will be empty until you train or evaluate the model.\n",
            "WARNING:tensorflow:Compiled the loaded model, but the compiled metrics have yet to be built. `model.compile_metrics` will be empty until you train or evaluate the model.\n"
          ]
        },
        {
          "name": "stdout",
          "output_type": "stream",
          "text": [
            "122/122 [==============================] - 40s 323ms/step - g_loss: 3.6922 - d_loss: 0.6546 - g_mae: 2.2480 - val_g_loss: 2.0272 - val_d_loss: 0.7038 - val_g_mae: 1.3482\n",
            "Epoch 189/200\n",
            "122/122 [==============================] - ETA: 0s - g_loss: 3.7210 - d_loss: 0.6704 - g_mae: 2.3206"
          ]
        },
        {
          "name": "stderr",
          "output_type": "stream",
          "text": [
            "WARNING:tensorflow:Compiled the loaded model, but the compiled metrics have yet to be built. `model.compile_metrics` will be empty until you train or evaluate the model.\n",
            "WARNING:tensorflow:Compiled the loaded model, but the compiled metrics have yet to be built. `model.compile_metrics` will be empty until you train or evaluate the model.\n"
          ]
        },
        {
          "name": "stdout",
          "output_type": "stream",
          "text": [
            "122/122 [==============================] - 40s 323ms/step - g_loss: 3.7214 - d_loss: 0.6703 - g_mae: 2.3198 - val_g_loss: 1.6239 - val_d_loss: 0.9070 - val_g_mae: 1.0482\n",
            "Epoch 190/200\n",
            "122/122 [==============================] - ETA: 0s - g_loss: 3.5796 - d_loss: 0.6729 - g_mae: 2.2992"
          ]
        },
        {
          "name": "stderr",
          "output_type": "stream",
          "text": [
            "WARNING:tensorflow:Compiled the loaded model, but the compiled metrics have yet to be built. `model.compile_metrics` will be empty until you train or evaluate the model.\n",
            "WARNING:tensorflow:Compiled the loaded model, but the compiled metrics have yet to be built. `model.compile_metrics` will be empty until you train or evaluate the model.\n"
          ]
        },
        {
          "name": "stdout",
          "output_type": "stream",
          "text": [
            "122/122 [==============================] - 40s 324ms/step - g_loss: 3.5791 - d_loss: 0.6730 - g_mae: 2.2987 - val_g_loss: 2.4125 - val_d_loss: 0.9478 - val_g_mae: 1.3718\n",
            "Epoch 191/200\n",
            "122/122 [==============================] - ETA: 0s - g_loss: 3.5104 - d_loss: 0.6992 - g_mae: 2.3223"
          ]
        },
        {
          "name": "stderr",
          "output_type": "stream",
          "text": [
            "WARNING:tensorflow:Compiled the loaded model, but the compiled metrics have yet to be built. `model.compile_metrics` will be empty until you train or evaluate the model.\n",
            "WARNING:tensorflow:Compiled the loaded model, but the compiled metrics have yet to be built. `model.compile_metrics` will be empty until you train or evaluate the model.\n"
          ]
        },
        {
          "name": "stdout",
          "output_type": "stream",
          "text": [
            "122/122 [==============================] - 40s 324ms/step - g_loss: 3.5111 - d_loss: 0.6992 - g_mae: 2.3214 - val_g_loss: 2.4325 - val_d_loss: 0.8909 - val_g_mae: 1.0697\n",
            "Epoch 192/200\n",
            "122/122 [==============================] - ETA: 0s - g_loss: 3.9242 - d_loss: 0.6392 - g_mae: 2.1930"
          ]
        },
        {
          "name": "stderr",
          "output_type": "stream",
          "text": [
            "WARNING:tensorflow:Compiled the loaded model, but the compiled metrics have yet to be built. `model.compile_metrics` will be empty until you train or evaluate the model.\n",
            "WARNING:tensorflow:Compiled the loaded model, but the compiled metrics have yet to be built. `model.compile_metrics` will be empty until you train or evaluate the model.\n"
          ]
        },
        {
          "name": "stdout",
          "output_type": "stream",
          "text": [
            "122/122 [==============================] - 40s 324ms/step - g_loss: 3.9234 - d_loss: 0.6394 - g_mae: 2.1929 - val_g_loss: 2.9358 - val_d_loss: 0.7253 - val_g_mae: 1.2085\n",
            "Epoch 193/200\n",
            "122/122 [==============================] - ETA: 0s - g_loss: 3.5290 - d_loss: 0.7123 - g_mae: 2.2922"
          ]
        },
        {
          "name": "stderr",
          "output_type": "stream",
          "text": [
            "WARNING:tensorflow:Compiled the loaded model, but the compiled metrics have yet to be built. `model.compile_metrics` will be empty until you train or evaluate the model.\n",
            "WARNING:tensorflow:Compiled the loaded model, but the compiled metrics have yet to be built. `model.compile_metrics` will be empty until you train or evaluate the model.\n"
          ]
        },
        {
          "name": "stdout",
          "output_type": "stream",
          "text": [
            "122/122 [==============================] - 40s 323ms/step - g_loss: 3.5272 - d_loss: 0.7125 - g_mae: 2.2917 - val_g_loss: 3.2136 - val_d_loss: 0.5415 - val_g_mae: 1.2497\n",
            "Epoch 194/200\n",
            "122/122 [==============================] - ETA: 0s - g_loss: 3.4999 - d_loss: 0.6565 - g_mae: 2.1569"
          ]
        },
        {
          "name": "stderr",
          "output_type": "stream",
          "text": [
            "WARNING:tensorflow:Compiled the loaded model, but the compiled metrics have yet to be built. `model.compile_metrics` will be empty until you train or evaluate the model.\n",
            "WARNING:tensorflow:Compiled the loaded model, but the compiled metrics have yet to be built. `model.compile_metrics` will be empty until you train or evaluate the model.\n"
          ]
        },
        {
          "name": "stdout",
          "output_type": "stream",
          "text": [
            "122/122 [==============================] - 40s 323ms/step - g_loss: 3.5005 - d_loss: 0.6564 - g_mae: 2.1569 - val_g_loss: 2.1338 - val_d_loss: 0.7988 - val_g_mae: 1.3066\n",
            "Epoch 195/200\n",
            "122/122 [==============================] - ETA: 0s - g_loss: 3.7265 - d_loss: 0.6503 - g_mae: 2.2586"
          ]
        },
        {
          "name": "stderr",
          "output_type": "stream",
          "text": [
            "WARNING:tensorflow:Compiled the loaded model, but the compiled metrics have yet to be built. `model.compile_metrics` will be empty until you train or evaluate the model.\n",
            "WARNING:tensorflow:Compiled the loaded model, but the compiled metrics have yet to be built. `model.compile_metrics` will be empty until you train or evaluate the model.\n"
          ]
        },
        {
          "name": "stdout",
          "output_type": "stream",
          "text": [
            "122/122 [==============================] - 40s 323ms/step - g_loss: 3.7270 - d_loss: 0.6503 - g_mae: 2.2582 - val_g_loss: 6.0306 - val_d_loss: 0.3618 - val_g_mae: 1.2567\n",
            "Epoch 196/200\n",
            "122/122 [==============================] - ETA: 0s - g_loss: 4.1730 - d_loss: 0.6230 - g_mae: 2.2579"
          ]
        },
        {
          "name": "stderr",
          "output_type": "stream",
          "text": [
            "WARNING:tensorflow:Compiled the loaded model, but the compiled metrics have yet to be built. `model.compile_metrics` will be empty until you train or evaluate the model.\n",
            "WARNING:tensorflow:Compiled the loaded model, but the compiled metrics have yet to be built. `model.compile_metrics` will be empty until you train or evaluate the model.\n"
          ]
        },
        {
          "name": "stdout",
          "output_type": "stream",
          "text": [
            "122/122 [==============================] - 39s 323ms/step - g_loss: 4.1717 - d_loss: 0.6230 - g_mae: 2.2578 - val_g_loss: 2.4956 - val_d_loss: 0.6318 - val_g_mae: 1.0852\n",
            "Epoch 197/200\n",
            "122/122 [==============================] - ETA: 0s - g_loss: 3.8107 - d_loss: 0.6383 - g_mae: 2.1346"
          ]
        },
        {
          "name": "stderr",
          "output_type": "stream",
          "text": [
            "WARNING:tensorflow:Compiled the loaded model, but the compiled metrics have yet to be built. `model.compile_metrics` will be empty until you train or evaluate the model.\n",
            "WARNING:tensorflow:Compiled the loaded model, but the compiled metrics have yet to be built. `model.compile_metrics` will be empty until you train or evaluate the model.\n"
          ]
        },
        {
          "name": "stdout",
          "output_type": "stream",
          "text": [
            "122/122 [==============================] - 40s 323ms/step - g_loss: 3.8097 - d_loss: 0.6385 - g_mae: 2.1347 - val_g_loss: 1.3978 - val_d_loss: 1.0315 - val_g_mae: 1.0263\n",
            "Epoch 198/200\n",
            "122/122 [==============================] - ETA: 0s - g_loss: 3.7488 - d_loss: 0.6252 - g_mae: 2.1076"
          ]
        },
        {
          "name": "stderr",
          "output_type": "stream",
          "text": [
            "WARNING:tensorflow:Compiled the loaded model, but the compiled metrics have yet to be built. `model.compile_metrics` will be empty until you train or evaluate the model.\n",
            "WARNING:tensorflow:Compiled the loaded model, but the compiled metrics have yet to be built. `model.compile_metrics` will be empty until you train or evaluate the model.\n"
          ]
        },
        {
          "name": "stdout",
          "output_type": "stream",
          "text": [
            "122/122 [==============================] - 40s 323ms/step - g_loss: 3.7509 - d_loss: 0.6249 - g_mae: 2.1076 - val_g_loss: 2.9446 - val_d_loss: 0.4781 - val_g_mae: 1.1593\n",
            "Epoch 199/200\n",
            "122/122 [==============================] - ETA: 0s - g_loss: 3.9072 - d_loss: 0.6040 - g_mae: 2.1181"
          ]
        },
        {
          "name": "stderr",
          "output_type": "stream",
          "text": [
            "WARNING:tensorflow:Compiled the loaded model, but the compiled metrics have yet to be built. `model.compile_metrics` will be empty until you train or evaluate the model.\n",
            "WARNING:tensorflow:Compiled the loaded model, but the compiled metrics have yet to be built. `model.compile_metrics` will be empty until you train or evaluate the model.\n"
          ]
        },
        {
          "name": "stdout",
          "output_type": "stream",
          "text": [
            "122/122 [==============================] - 40s 324ms/step - g_loss: 3.9057 - d_loss: 0.6045 - g_mae: 2.1181 - val_g_loss: 1.7737 - val_d_loss: 0.9355 - val_g_mae: 1.0748\n",
            "Epoch 200/200\n",
            "122/122 [==============================] - ETA: 0s - g_loss: 3.4566 - d_loss: 0.7050 - g_mae: 2.2156"
          ]
        },
        {
          "name": "stderr",
          "output_type": "stream",
          "text": [
            "WARNING:tensorflow:Compiled the loaded model, but the compiled metrics have yet to be built. `model.compile_metrics` will be empty until you train or evaluate the model.\n",
            "WARNING:tensorflow:Compiled the loaded model, but the compiled metrics have yet to be built. `model.compile_metrics` will be empty until you train or evaluate the model.\n"
          ]
        },
        {
          "name": "stdout",
          "output_type": "stream",
          "text": [
            "\b\b\b\b\b\b\b\b\b\b\b\b\b\b\b\b\b\b\b\b\b\b\b\b\b\b\b\b\b\b\b\b\b\b\b\b\b\b\b\b\b\b\b\b\b\b\b\b\b\b\b\b\b\b\b\b\b\b\b\b\b\b\b\b\b\b\b\b\b\b\b\b\b\b\b\b\b\b\b\b\b\b\b\b\b\b\b\b\b\b\b\b\b\b\b\b\b\b\b\b\r122/122 [==============================] - 40s 323ms/step - g_loss: 3.4572 - d_loss: 0.7048 - g_mae: 2.2151 - val_g_loss: 1.4935 - val_d_loss: 0.9619 - val_g_mae: 1.0405\n"
          ]
        },
        {
          "name": "stderr",
          "output_type": "stream",
          "text": [
            "WARNING:tensorflow:Compiled the loaded model, but the compiled metrics have yet to be built. `model.compile_metrics` will be empty until you train or evaluate the model.\n",
            "WARNING:tensorflow:Compiled the loaded model, but the compiled metrics have yet to be built. `model.compile_metrics` will be empty until you train or evaluate the model.\n"
          ]
        }
      ],
      "source": [
        "hist = radar_gan.fit(train_dataset, epochs=200, validation_data=val_dataset, callbacks=[callback])\n",
        "with open('drive/MyDrive/saved_models/0_train_history.pickle', 'wb') as file_pi:\n",
        "    pickle.dump(hist.history, file_pi)"
      ]
    },
    {
      "cell_type": "code",
      "execution_count": null,
      "metadata": {
        "colab": {
          "background_save": true
        },
        "id": "2Y3gSarEWcCy"
      },
      "outputs": [],
      "source": [
        "# radar_gan.generator.save('drive/MyDrive/radargan_generator_300323.hdf5')\n",
        "# radar_gan.discriminator.save('drive/MyDrive/radargan_discriminator_300323.hdf5')"
      ]
    },
    {
      "cell_type": "code",
      "execution_count": null,
      "metadata": {
        "colab": {
          "background_save": true
        },
        "id": "B0pZ6C6oWdkG"
      },
      "outputs": [],
      "source": [
        "import matplotlib.pyplot as plt\n",
        "\n",
        "def plot_output(gan, dataset, n_examples=5):\n",
        "    dataset = dataset.as_numpy_iterator()\n",
        "    figure, axis = plt.subplots(2, n_examples)\n",
        "\n",
        "    x, y = dataset.next()\n",
        "    x_p_l = x[:,:,:,0:1]\n",
        "    x_qflg = x[:,:,:,1:2]\n",
        "\n",
        "    fake = radar_gan.generator.predict([x_p_l, x_qflg])\n",
        "    d_real = radar_gan.discriminator.predict([x_p_l, y, x_qflg])\n",
        "    d_fake = radar_gan.discriminator.predict([x_p_l, fake, x_qflg])\n",
        "    \n",
        "    for i in range(n_examples):\n",
        "\n",
        "        # шум\n",
        "        # p = tf.constant([0.8])\n",
        "        # r = tf.random.uniform(shape=tf.shape(x), maxval=1)\n",
        "        # b = tf.math.greater(p, r)\n",
        "        # f = tf.cast(b, dtype=tf.dtypes.float64)\n",
        "        # x = tf.math.multiply(x, f)\n",
        "\n",
        "\n",
        "        axis[0, i].imshow(y[i, :, :, 0])\n",
        "        axis[0, i].set_title(\"Real\")\n",
        "\n",
        "        axis[1, i].imshow(fake[i, :, :, 0])\n",
        "        axis[1, i].set_title(\"Generated\")\n",
        "\n",
        "    plt.show()\n",
        "    plt.hist"
      ]
    },
    {
      "cell_type": "code",
      "execution_count": null,
      "metadata": {
        "colab": {
          "background_save": true
        },
        "id": "GLcLVLuXWf-h",
        "outputId": "66cc8363-c486-4dcb-8714-43fa4015ca4f"
      },
      "outputs": [
        {
          "name": "stdout",
          "output_type": "stream",
          "text": [
            "1/1 [==============================] - 0s 171ms/step\n",
            "1/1 [==============================] - 0s 139ms/step\n",
            "1/1 [==============================] - 0s 37ms/step\n"
          ]
        },
        {
          "data": {
            "image/png": "[encoded data removed]",
            "text/plain": [
              "<Figure size 640x480 with 10 Axes>"
            ]
          },
          "metadata": {},
          "output_type": "display_data"
        }
      ],
      "source": [
        "plot_output(radar_gan, train_dataset)"
      ]
    },
    {
      "cell_type": "code",
      "execution_count": null,
      "metadata": {
        "colab": {
          "background_save": true
        },
        "id": "SgfVPvLPWjSy",
        "outputId": "56a87d5a-fe68-4ce0-8575-ec6380d92b61"
      },
      "outputs": [
        {
          "name": "stdout",
          "output_type": "stream",
          "text": [
            "1/1 [==============================] - 0s 34ms/step\n",
            "1/1 [==============================] - 0s 31ms/step\n",
            "1/1 [==============================] - 0s 30ms/step\n"
          ]
        },
        {
          "data": {
            "image/png": "[encoded data removed]",
            "text/plain": [
              "<Figure size 640x480 with 10 Axes>"
            ]
          },
          "metadata": {},
          "output_type": "display_data"
        }
      ],
      "source": [
        "plot_output(radar_gan, val_dataset)"
      ]
    },
    {
      "cell_type": "code",
      "execution_count": null,
      "metadata": {
        "colab": {
          "background_save": true
        },
        "id": "Ltp7s8TbWoCc",
        "outputId": "33dff2ad-31ab-4989-dd97-93f70c4d4af5"
      },
      "outputs": [
        {
          "data": {
            "image/png": "[encoded data removed]",
            "text/plain": [
              "<Figure size 640x480 with 1 Axes>"
            ]
          },
          "metadata": {},
          "output_type": "display_data"
        }
      ],
      "source": [
        "\n",
        "plt.plot(hist.history['g_mae'])\n",
        "plt.plot(hist.history['val_g_mae'])\n",
        "plt.title('generator MAE')\n",
        "plt.ylabel('MAE')\n",
        "plt.xlabel('epoch')\n",
        "plt.legend(['train', 'val'], loc='upper left')\n",
        "plt.show()"
      ]
    },
    {
      "cell_type": "code",
      "execution_count": null,
      "metadata": {
        "colab": {
          "background_save": true
        },
        "id": "ecMNPu4tWqqA",
        "outputId": "4c16028c-fba9-4de6-d146-69089c7d6e35"
      },
      "outputs": [
        {
          "data": {
            "image/png": "[encoded data removed]",
            "text/plain": [
              "<Figure size 640x480 with 1 Axes>"
            ]
          },
          "metadata": {},
          "output_type": "display_data"
        }
      ],
      "source": [
        "plt.plot(hist.history['g_loss'])\n",
        "plt.plot(hist.history['d_loss'])\n",
        "plt.title('g and d training')\n",
        "plt.ylabel('loss')\n",
        "plt.xlabel('epoch')\n",
        "plt.legend(['generator', 'discriminator'], loc='upper left')\n",
        "plt.show()"
      ]
    },
    {
      "cell_type": "code",
      "execution_count": null,
      "metadata": {
        "colab": {
          "background_save": true
        },
        "id": "PvIqsXNEWsc2",
        "outputId": "2c57646e-dd33-47c0-d4cb-b1a38f2be62a"
      },
      "outputs": [
        {
          "data": {
            "image/png": "[encoded data removed]",
            "text/plain": [
              "<Figure size 640x480 with 1 Axes>"
            ]
          },
          "metadata": {},
          "output_type": "display_data"
        }
      ],
      "source": [
        "plt.plot(hist.history['val_g_loss'])\n",
        "plt.plot(hist.history['val_d_loss'])\n",
        "plt.title('g and d validation')\n",
        "plt.ylabel('loss')\n",
        "plt.xlabel('epoch')\n",
        "plt.legend(['generator', 'discriminator'], loc='upper left')\n",
        "plt.show()"
      ]
    },
    {
      "cell_type": "code",
      "execution_count": null,
      "metadata": {
        "colab": {
          "background_save": true
        },
        "id": "-ASDFcpqusdZ",
        "outputId": "c7f8bcf1-9aad-4311-f9e1-4117e6194d6b"
      },
      "outputs": [
        {
          "name": "stdout",
          "output_type": "stream",
          "text": [
            "  adding: drive/MyDrive/saved_models/0_train_history.pickle (deflated 53%)\n",
            "  adding: drive/MyDrive/saved_models/saved_discriminator_0_1.2020.hdf5 (deflated 15%)\n",
            "  adding: drive/MyDrive/saved_models/saved_discriminator_100_0.9224.hdf5 (deflated 15%)\n",
            "  adding: drive/MyDrive/saved_models/saved_discriminator_10_0.6841.hdf5 (deflated 15%)\n",
            "  adding: drive/MyDrive/saved_models/saved_discriminator_101_0.8845.hdf5 (deflated 15%)\n",
            "  adding: drive/MyDrive/saved_models/saved_discriminator_102_0.9392.hdf5 (deflated 15%)\n",
            "  adding: drive/MyDrive/saved_models/saved_discriminator_103_0.9533.hdf5 (deflated 15%)\n",
            "  adding: drive/MyDrive/saved_models/saved_discriminator_104_0.9808.hdf5 (deflated 15%)\n",
            "  adding: drive/MyDrive/saved_models/saved_discriminator_105_0.9140.hdf5 (deflated 15%)\n",
            "  adding: drive/MyDrive/saved_models/saved_discriminator_106_0.9221.hdf5 (deflated 15%)\n",
            "  adding: drive/MyDrive/saved_models/saved_discriminator_107_0.8560.hdf5 (deflated 15%)\n",
            "  adding: drive/MyDrive/saved_models/saved_discriminator_108_0.8160.hdf5 (deflated 15%)\n",
            "  adding: drive/MyDrive/saved_models/saved_discriminator_109_0.9381.hdf5 (deflated 15%)\n",
            "  adding: drive/MyDrive/saved_models/saved_discriminator_110_0.8333.hdf5 (deflated 15%)\n",
            "  adding: drive/MyDrive/saved_models/saved_discriminator_11_0.5824.hdf5 (deflated 15%)\n",
            "  adding: drive/MyDrive/saved_models/saved_discriminator_111_0.8090.hdf5 (deflated 15%)\n",
            "  adding: drive/MyDrive/saved_models/saved_discriminator_112_0.8851.hdf5 (deflated 15%)\n",
            "  adding: drive/MyDrive/saved_models/saved_discriminator_113_1.1377.hdf5 (deflated 15%)\n",
            "  adding: drive/MyDrive/saved_models/saved_discriminator_114_0.9085.hdf5 (deflated 15%)\n",
            "  adding: drive/MyDrive/saved_models/saved_discriminator_115_0.9844.hdf5 (deflated 15%)\n",
            "  adding: drive/MyDrive/saved_models/saved_discriminator_116_0.8744.hdf5 (deflated 15%)\n",
            "  adding: drive/MyDrive/saved_models/saved_discriminator_117_0.9409.hdf5 (deflated 15%)\n",
            "  adding: drive/MyDrive/saved_models/saved_discriminator_118_1.0058.hdf5 (deflated 15%)\n",
            "  adding: drive/MyDrive/saved_models/saved_discriminator_119_0.9947.hdf5 (deflated 15%)\n",
            "  adding: drive/MyDrive/saved_models/saved_discriminator_120_0.9877.hdf5 (deflated 15%)\n",
            "  adding: drive/MyDrive/saved_models/saved_discriminator_12_0.8549.hdf5 (deflated 15%)\n",
            "  adding: drive/MyDrive/saved_models/saved_discriminator_121_0.8846.hdf5 (deflated 15%)\n",
            "  adding: drive/MyDrive/saved_models/saved_discriminator_122_0.9258.hdf5 (deflated 15%)\n",
            "  adding: drive/MyDrive/saved_models/saved_discriminator_123_0.9333.hdf5 (deflated 15%)\n",
            "  adding: drive/MyDrive/saved_models/saved_discriminator_124_0.8997.hdf5 (deflated 15%)\n",
            "  adding: drive/MyDrive/saved_models/saved_discriminator_125_0.8520.hdf5 (deflated 15%)\n",
            "  adding: drive/MyDrive/saved_models/saved_discriminator_126_0.8616.hdf5 (deflated 15%)\n",
            "  adding: drive/MyDrive/saved_models/saved_discriminator_127_1.0855.hdf5 (deflated 15%)\n",
            "  adding: drive/MyDrive/saved_models/saved_discriminator_128_0.9704.hdf5 (deflated 15%)\n",
            "  adding: drive/MyDrive/saved_models/saved_discriminator_129_0.9849.hdf5 (deflated 15%)\n",
            "  adding: drive/MyDrive/saved_models/saved_discriminator_130_0.9868.hdf5 (deflated 15%)\n",
            "  adding: drive/MyDrive/saved_models/saved_discriminator_13_1.0822.hdf5 (deflated 15%)\n",
            "  adding: drive/MyDrive/saved_models/saved_discriminator_131_0.9023.hdf5 (deflated 15%)\n",
            "  adding: drive/MyDrive/saved_models/saved_discriminator_1_3.1678.hdf5 (deflated 15%)\n",
            "  adding: drive/MyDrive/saved_models/saved_discriminator_132_1.0214.hdf5 (deflated 15%)\n",
            "  adding: drive/MyDrive/saved_models/saved_discriminator_133_1.0469.hdf5 (deflated 15%)\n",
            "  adding: drive/MyDrive/saved_models/saved_discriminator_134_0.9059.hdf5 (deflated 15%)\n",
            "  adding: drive/MyDrive/saved_models/saved_discriminator_135_0.8710.hdf5 (deflated 15%)\n",
            "  adding: drive/MyDrive/saved_models/saved_discriminator_136_0.8689.hdf5 (deflated 14%)\n",
            "  adding: drive/MyDrive/saved_models/saved_discriminator_137_0.8391.hdf5 (deflated 14%)\n",
            "  adding: drive/MyDrive/saved_models/saved_discriminator_138_0.8607.hdf5 (deflated 14%)\n",
            "  adding: drive/MyDrive/saved_models/saved_discriminator_139_0.8747.hdf5 (deflated 14%)\n",
            "  adding: drive/MyDrive/saved_models/saved_discriminator_140_0.9265.hdf5 (deflated 14%)\n",
            "  adding: drive/MyDrive/saved_models/saved_discriminator_14_0.7086.hdf5 (deflated 15%)\n",
            "  adding: drive/MyDrive/saved_models/saved_discriminator_141_0.9058.hdf5 (deflated 14%)\n",
            "  adding: drive/MyDrive/saved_models/saved_discriminator_142_0.8893.hdf5 (deflated 14%)\n",
            "  adding: drive/MyDrive/saved_models/saved_discriminator_143_0.8929.hdf5 (deflated 14%)\n",
            "  adding: drive/MyDrive/saved_models/saved_discriminator_144_0.8530.hdf5 (deflated 14%)\n",
            "  adding: drive/MyDrive/saved_models/saved_discriminator_145_0.8576.hdf5 (deflated 14%)\n",
            "  adding: drive/MyDrive/saved_models/saved_discriminator_146_0.8397.hdf5 (deflated 14%)\n",
            "  adding: drive/MyDrive/saved_models/saved_discriminator_147_0.8969.hdf5 (deflated 14%)\n",
            "  adding: drive/MyDrive/saved_models/saved_discriminator_148_0.8552.hdf5 (deflated 14%)\n",
            "  adding: drive/MyDrive/saved_models/saved_discriminator_149_0.8792.hdf5 (deflated 14%)\n",
            "  adding: drive/MyDrive/saved_models/saved_discriminator_150_0.8813.hdf5 (deflated 14%)\n",
            "  adding: drive/MyDrive/saved_models/saved_discriminator_151_0.9137.hdf5 (deflated 14%)\n",
            "  adding: drive/MyDrive/saved_models/saved_discriminator_15_1.2857.hdf5 (deflated 15%)\n",
            "  adding: drive/MyDrive/saved_models/saved_discriminator_152_0.9798.hdf5 (deflated 14%)\n",
            "  adding: drive/MyDrive/saved_models/saved_discriminator_153_0.8655.hdf5 (deflated 14%)\n",
            "  adding: drive/MyDrive/saved_models/saved_discriminator_154_0.8567.hdf5 (deflated 14%)\n",
            "  adding: drive/MyDrive/saved_models/saved_discriminator_155_0.8573.hdf5 (deflated 14%)\n",
            "  adding: drive/MyDrive/saved_models/saved_discriminator_156_0.8981.hdf5 (deflated 14%)\n",
            "  adding: drive/MyDrive/saved_models/saved_discriminator_157_0.8532.hdf5 (deflated 14%)\n",
            "  adding: drive/MyDrive/saved_models/saved_discriminator_158_0.7864.hdf5 (deflated 14%)\n",
            "  adding: drive/MyDrive/saved_models/saved_discriminator_159_0.7701.hdf5 (deflated 14%)\n",
            "  adding: drive/MyDrive/saved_models/saved_discriminator_160_0.8319.hdf5 (deflated 14%)\n",
            "  adding: drive/MyDrive/saved_models/saved_discriminator_161_0.9805.hdf5 (deflated 14%)\n",
            "  adding: drive/MyDrive/saved_models/saved_discriminator_16_1.3208.hdf5 (deflated 15%)\n",
            "  adding: drive/MyDrive/saved_models/saved_discriminator_162_0.8336.hdf5 (deflated 14%)\n",
            "  adding: drive/MyDrive/saved_models/saved_discriminator_163_0.8886.hdf5 (deflated 14%)\n",
            "  adding: drive/MyDrive/saved_models/saved_discriminator_164_0.9135.hdf5 (deflated 14%)\n",
            "  adding: drive/MyDrive/saved_models/saved_discriminator_165_0.9817.hdf5 (deflated 14%)\n",
            "  adding: drive/MyDrive/saved_models/saved_discriminator_166_1.0103.hdf5 (deflated 14%)\n",
            "  adding: drive/MyDrive/saved_models/saved_discriminator_167_0.8496.hdf5 (deflated 14%)\n",
            "  adding: drive/MyDrive/saved_models/saved_discriminator_168_0.8696.hdf5 (deflated 14%)\n",
            "  adding: drive/MyDrive/saved_models/saved_discriminator_169_0.8822.hdf5 (deflated 14%)\n",
            "  adding: drive/MyDrive/saved_models/saved_discriminator_170_0.8430.hdf5 (deflated 14%)\n",
            "  adding: drive/MyDrive/saved_models/saved_discriminator_17_1.0373.hdf5 (deflated 15%)\n",
            "  adding: drive/MyDrive/saved_models/saved_discriminator_171_0.7885.hdf5 (deflated 14%)\n",
            "  adding: drive/MyDrive/saved_models/saved_discriminator_172_0.9533.hdf5 (deflated 14%)\n",
            "  adding: drive/MyDrive/saved_models/saved_discriminator_173_0.9896.hdf5 (deflated 14%)\n",
            "  adding: drive/MyDrive/saved_models/saved_discriminator_174_0.9749.hdf5 (deflated 14%)\n",
            "  adding: drive/MyDrive/saved_models/saved_discriminator_175_0.7545.hdf5 (deflated 14%)\n",
            "  adding: drive/MyDrive/saved_models/saved_discriminator_176_0.4975.hdf5 (deflated 14%)\n",
            "  adding: drive/MyDrive/saved_models/saved_discriminator_177_0.8154.hdf5 (deflated 14%)\n",
            "  adding: drive/MyDrive/saved_models/saved_discriminator_178_0.9190.hdf5 (deflated 14%)\n",
            "  adding: drive/MyDrive/saved_models/saved_discriminator_179_0.6968.hdf5 (deflated 14%)\n",
            "  adding: drive/MyDrive/saved_models/saved_discriminator_180_0.8156.hdf5 (deflated 14%)\n",
            "  adding: drive/MyDrive/saved_models/saved_discriminator_181_0.8913.hdf5 (deflated 14%)\n",
            "  adding: drive/MyDrive/saved_models/saved_discriminator_18_1.4031.hdf5 (deflated 15%)\n",
            "  adding: drive/MyDrive/saved_models/saved_discriminator_182_0.3377.hdf5 (deflated 14%)\n",
            "  adding: drive/MyDrive/saved_models/saved_discriminator_183_1.1098.hdf5 (deflated 14%)\n",
            "  adding: drive/MyDrive/saved_models/saved_discriminator_184_0.7676.hdf5 (deflated 14%)\n",
            "  adding: drive/MyDrive/saved_models/saved_discriminator_185_0.9501.hdf5 (deflated 14%)\n",
            "  adding: drive/MyDrive/saved_models/saved_discriminator_186_0.3967.hdf5 (deflated 14%)\n",
            "  adding: drive/MyDrive/saved_models/saved_discriminator_187_0.7038.hdf5 (deflated 14%)\n",
            "  adding: drive/MyDrive/saved_models/saved_discriminator_188_0.9070.hdf5 (deflated 14%)\n",
            "  adding: drive/MyDrive/saved_models/saved_discriminator_189_0.9478.hdf5 (deflated 14%)\n",
            "  adding: drive/MyDrive/saved_models/saved_discriminator_190_0.8909.hdf5 (deflated 14%)\n",
            "  adding: drive/MyDrive/saved_models/saved_discriminator_191_0.7253.hdf5 (deflated 14%)\n",
            "  adding: drive/MyDrive/saved_models/saved_discriminator_19_1.4818.hdf5 (deflated 15%)\n",
            "  adding: drive/MyDrive/saved_models/saved_discriminator_192_0.5415.hdf5 (deflated 14%)\n",
            "  adding: drive/MyDrive/saved_models/saved_discriminator_193_0.7988.hdf5 (deflated 14%)\n",
            "  adding: drive/MyDrive/saved_models/saved_discriminator_194_0.3618.hdf5 (deflated 14%)\n",
            "  adding: drive/MyDrive/saved_models/saved_discriminator_195_0.6318.hdf5 (deflated 14%)\n",
            "  adding: drive/MyDrive/saved_models/saved_discriminator_196_1.0315.hdf5 (deflated 14%)\n",
            "  adding: drive/MyDrive/saved_models/saved_discriminator_197_0.4781.hdf5 (deflated 14%)\n",
            "  adding: drive/MyDrive/saved_models/saved_discriminator_198_0.9355.hdf5 (deflated 14%)\n",
            "  adding: drive/MyDrive/saved_models/saved_discriminator_199_0.9619.hdf5 (deflated 14%)\n",
            "  adding: drive/MyDrive/saved_models/saved_discriminator_20_1.3519.hdf5 (deflated 15%)\n",
            "  adding: drive/MyDrive/saved_models/saved_discriminator_21_1.0853.hdf5 (deflated 15%)\n",
            "  adding: drive/MyDrive/saved_models/saved_discriminator_2_1.3064.hdf5 (deflated 15%)\n",
            "  adding: drive/MyDrive/saved_models/saved_discriminator_22_1.0114.hdf5 (deflated 15%)\n",
            "  adding: drive/MyDrive/saved_models/saved_discriminator_23_1.0832.hdf5 (deflated 15%)\n",
            "  adding: drive/MyDrive/saved_models/saved_discriminator_24_1.1298.hdf5 (deflated 15%)\n",
            "  adding: drive/MyDrive/saved_models/saved_discriminator_25_1.1702.hdf5 (deflated 15%)\n",
            "  adding: drive/MyDrive/saved_models/saved_discriminator_26_1.0175.hdf5 (deflated 15%)\n",
            "  adding: drive/MyDrive/saved_models/saved_discriminator_27_0.9875.hdf5 (deflated 15%)\n",
            "  adding: drive/MyDrive/saved_models/saved_discriminator_28_1.0853.hdf5 (deflated 15%)\n",
            "  adding: drive/MyDrive/saved_models/saved_discriminator_29_1.0391.hdf5 (deflated 15%)\n",
            "  adding: drive/MyDrive/saved_models/saved_discriminator_30_1.0578.hdf5 (deflated 15%)\n",
            "  adding: drive/MyDrive/saved_models/saved_discriminator_31_0.8248.hdf5 (deflated 15%)\n",
            "  adding: drive/MyDrive/saved_models/saved_discriminator_3_1.1200.hdf5 (deflated 15%)\n",
            "  adding: drive/MyDrive/saved_models/saved_discriminator_32_0.7922.hdf5 (deflated 15%)\n",
            "  adding: drive/MyDrive/saved_models/saved_discriminator_33_0.8662.hdf5 (deflated 15%)\n",
            "  adding: drive/MyDrive/saved_models/saved_discriminator_34_0.9561.hdf5 (deflated 15%)\n",
            "  adding: drive/MyDrive/saved_models/saved_discriminator_35_0.8436.hdf5 (deflated 15%)\n",
            "  adding: drive/MyDrive/saved_models/saved_discriminator_36_0.8168.hdf5 (deflated 15%)\n",
            "  adding: drive/MyDrive/saved_models/saved_discriminator_37_0.8521.hdf5 (deflated 15%)\n",
            "  adding: drive/MyDrive/saved_models/saved_discriminator_38_0.9506.hdf5 (deflated 15%)\n",
            "  adding: drive/MyDrive/saved_models/saved_discriminator_39_0.9383.hdf5 (deflated 15%)\n",
            "  adding: drive/MyDrive/saved_models/saved_discriminator_40_0.8255.hdf5 (deflated 15%)\n",
            "  adding: drive/MyDrive/saved_models/saved_discriminator_4_0.6118.hdf5 (deflated 15%)\n",
            "  adding: drive/MyDrive/saved_models/saved_discriminator_41_1.0713.hdf5 (deflated 15%)\n",
            "  adding: drive/MyDrive/saved_models/saved_discriminator_42_0.9803.hdf5 (deflated 15%)\n",
            "  adding: drive/MyDrive/saved_models/saved_discriminator_43_0.3651.hdf5 (deflated 15%)\n",
            "  adding: drive/MyDrive/saved_models/saved_discriminator_44_0.8092.hdf5 (deflated 15%)\n",
            "  adding: drive/MyDrive/saved_models/saved_discriminator_45_1.0390.hdf5 (deflated 15%)\n",
            "  adding: drive/MyDrive/saved_models/saved_discriminator_46_0.7131.hdf5 (deflated 15%)\n",
            "  adding: drive/MyDrive/saved_models/saved_discriminator_47_1.1013.hdf5 (deflated 15%)\n",
            "  adding: drive/MyDrive/saved_models/saved_discriminator_48_0.7796.hdf5 (deflated 15%)\n",
            "  adding: drive/MyDrive/saved_models/saved_discriminator_49_1.1496.hdf5 (deflated 15%)\n",
            "  adding: drive/MyDrive/saved_models/saved_discriminator_50_0.9956.hdf5 (deflated 15%)\n",
            "  adding: drive/MyDrive/saved_models/saved_discriminator_5_0.9140.hdf5 (deflated 15%)\n",
            "  adding: drive/MyDrive/saved_models/saved_discriminator_51_0.9231.hdf5 (deflated 15%)\n",
            "  adding: drive/MyDrive/saved_models/saved_discriminator_52_1.1618.hdf5 (deflated 15%)\n",
            "  adding: drive/MyDrive/saved_models/saved_discriminator_53_0.8969.hdf5 (deflated 15%)\n",
            "  adding: drive/MyDrive/saved_models/saved_discriminator_54_0.8703.hdf5 (deflated 15%)\n",
            "  adding: drive/MyDrive/saved_models/saved_discriminator_55_0.9016.hdf5 (deflated 15%)\n",
            "  adding: drive/MyDrive/saved_models/saved_discriminator_56_0.7587.hdf5 (deflated 15%)\n",
            "  adding: drive/MyDrive/saved_models/saved_discriminator_57_1.1526.hdf5 (deflated 15%)\n",
            "  adding: drive/MyDrive/saved_models/saved_discriminator_58_0.8132.hdf5 (deflated 15%)\n",
            "  adding: drive/MyDrive/saved_models/saved_discriminator_59_1.0709.hdf5 (deflated 15%)\n",
            "  adding: drive/MyDrive/saved_models/saved_discriminator_60_1.0737.hdf5 (deflated 15%)\n",
            "  adding: drive/MyDrive/saved_models/saved_discriminator_6_0.6302.hdf5 (deflated 15%)\n",
            "  adding: drive/MyDrive/saved_models/saved_discriminator_61_0.8748.hdf5 (deflated 15%)\n",
            "  adding: drive/MyDrive/saved_models/saved_discriminator_62_0.8465.hdf5 (deflated 15%)\n",
            "  adding: drive/MyDrive/saved_models/saved_discriminator_63_0.9980.hdf5 (deflated 15%)\n",
            "  adding: drive/MyDrive/saved_models/saved_discriminator_64_0.9036.hdf5 (deflated 15%)\n",
            "  adding: drive/MyDrive/saved_models/saved_discriminator_65_0.7516.hdf5 (deflated 15%)\n",
            "  adding: drive/MyDrive/saved_models/saved_discriminator_66_1.3084.hdf5 (deflated 15%)\n",
            "  adding: drive/MyDrive/saved_models/saved_discriminator_67_1.7387.hdf5 (deflated 15%)\n",
            "  adding: drive/MyDrive/saved_models/saved_discriminator_68_1.2904.hdf5 (deflated 15%)\n",
            "  adding: drive/MyDrive/saved_models/saved_discriminator_69_1.2040.hdf5 (deflated 15%)\n",
            "  adding: drive/MyDrive/saved_models/saved_discriminator_70_1.0408.hdf5 (deflated 15%)\n",
            "  adding: drive/MyDrive/saved_models/saved_discriminator_7_0.6951.hdf5 (deflated 15%)\n",
            "  adding: drive/MyDrive/saved_models/saved_discriminator_71_0.8387.hdf5 (deflated 15%)\n",
            "  adding: drive/MyDrive/saved_models/saved_discriminator_72_0.9251.hdf5 (deflated 15%)\n",
            "  adding: drive/MyDrive/saved_models/saved_discriminator_73_0.8295.hdf5 (deflated 15%)\n",
            "  adding: drive/MyDrive/saved_models/saved_discriminator_74_1.0887.hdf5 (deflated 15%)\n",
            "  adding: drive/MyDrive/saved_models/saved_discriminator_75_0.5213.hdf5 (deflated 15%)\n",
            "  adding: drive/MyDrive/saved_models/saved_discriminator_76_1.0432.hdf5 (deflated 15%)\n",
            "  adding: drive/MyDrive/saved_models/saved_discriminator_77_1.1273.hdf5 (deflated 15%)\n",
            "  adding: drive/MyDrive/saved_models/saved_discriminator_78_1.1342.hdf5 (deflated 15%)\n",
            "  adding: drive/MyDrive/saved_models/saved_discriminator_79_1.0998.hdf5 (deflated 15%)\n",
            "  adding: drive/MyDrive/saved_models/saved_discriminator_80_0.7956.hdf5 (deflated 15%)\n",
            "  adding: drive/MyDrive/saved_models/saved_discriminator_81_1.0310.hdf5 (deflated 15%)\n",
            "  adding: drive/MyDrive/saved_models/saved_discriminator_8_1.3838.hdf5 (deflated 15%)\n",
            "  adding: drive/MyDrive/saved_models/saved_discriminator_82_1.0335.hdf5 (deflated 15%)\n",
            "  adding: drive/MyDrive/saved_models/saved_discriminator_83_1.2174.hdf5 (deflated 15%)\n",
            "  adding: drive/MyDrive/saved_models/saved_discriminator_84_0.7733.hdf5 (deflated 15%)\n",
            "  adding: drive/MyDrive/saved_models/saved_discriminator_85_0.8857.hdf5 (deflated 15%)\n",
            "  adding: drive/MyDrive/saved_models/saved_discriminator_86_0.9949.hdf5 (deflated 15%)\n",
            "  adding: drive/MyDrive/saved_models/saved_discriminator_87_1.0036.hdf5 (deflated 15%)\n",
            "  adding: drive/MyDrive/saved_models/saved_discriminator_88_1.0922.hdf5 (deflated 15%)\n",
            "  adding: drive/MyDrive/saved_models/saved_discriminator_89_0.8705.hdf5 (deflated 15%)\n",
            "  adding: drive/MyDrive/saved_models/saved_discriminator_90_0.9773.hdf5 (deflated 15%)\n",
            "  adding: drive/MyDrive/saved_models/saved_discriminator_9_0.5314.hdf5 (deflated 15%)\n",
            "  adding: drive/MyDrive/saved_models/saved_discriminator_91_0.9642.hdf5 (deflated 15%)\n",
            "  adding: drive/MyDrive/saved_models/saved_discriminator_92_0.9747.hdf5 (deflated 15%)\n",
            "  adding: drive/MyDrive/saved_models/saved_discriminator_93_0.9116.hdf5 (deflated 15%)\n",
            "  adding: drive/MyDrive/saved_models/saved_discriminator_94_0.9342.hdf5 (deflated 15%)\n",
            "  adding: drive/MyDrive/saved_models/saved_discriminator_95_0.9107.hdf5 (deflated 15%)\n",
            "  adding: drive/MyDrive/saved_models/saved_discriminator_96_0.8678.hdf5 (deflated 15%)\n",
            "  adding: drive/MyDrive/saved_models/saved_discriminator_97_0.9248.hdf5 (deflated 15%)\n",
            "  adding: drive/MyDrive/saved_models/saved_discriminator_98_0.9046.hdf5 (deflated 15%)\n",
            "  adding: drive/MyDrive/saved_models/saved_discriminator_99_0.9228.hdf5 (deflated 15%)\n",
            "  adding: drive/MyDrive/saved_models/saved_discriminator_end_0.9619.hdf5 (deflated 14%)\n",
            "  adding: drive/MyDrive/saved_models/saved_generator_0_0.9285.hdf5 (deflated 14%)\n",
            "  adding: drive/MyDrive/saved_models/saved_generator_100_1.4706.hdf5 (deflated 14%)\n",
            "  adding: drive/MyDrive/saved_models/saved_generator_101_1.6328.hdf5 (deflated 14%)\n",
            "  adding: drive/MyDrive/saved_models/saved_generator_10_1.9121.hdf5 (deflated 14%)\n",
            "  adding: drive/MyDrive/saved_models/saved_generator_1_0.1999.hdf5 (deflated 14%)\n",
            "  adding: drive/MyDrive/saved_models/saved_generator_102_1.8277.hdf5 (deflated 14%)\n",
            "  adding: drive/MyDrive/saved_models/saved_generator_103_1.5561.hdf5 (deflated 14%)\n",
            "  adding: drive/MyDrive/saved_models/saved_generator_104_1.6064.hdf5 (deflated 14%)\n",
            "  adding: drive/MyDrive/saved_models/saved_generator_105_1.5046.hdf5 (deflated 14%)\n",
            "  adding: drive/MyDrive/saved_models/saved_generator_106_1.7324.hdf5 (deflated 14%)\n",
            "  adding: drive/MyDrive/saved_models/saved_generator_107_1.8056.hdf5 (deflated 14%)\n",
            "  adding: drive/MyDrive/saved_models/saved_generator_108_1.9458.hdf5 (deflated 14%)\n",
            "  adding: drive/MyDrive/saved_models/saved_generator_109_1.7075.hdf5 (deflated 14%)\n",
            "  adding: drive/MyDrive/saved_models/saved_generator_110_1.8348.hdf5 (deflated 14%)\n",
            "  adding: drive/MyDrive/saved_models/saved_generator_111_1.6814.hdf5 (deflated 14%)\n",
            "  adding: drive/MyDrive/saved_models/saved_generator_11_1.7909.hdf5 (deflated 14%)\n",
            "  adding: drive/MyDrive/saved_models/saved_generator_112_1.6058.hdf5 (deflated 14%)\n",
            "  adding: drive/MyDrive/saved_models/saved_generator_113_1.4626.hdf5 (deflated 14%)\n",
            "  adding: drive/MyDrive/saved_models/saved_generator_114_1.7368.hdf5 (deflated 14%)\n",
            "  adding: drive/MyDrive/saved_models/saved_generator_115_1.8257.hdf5 (deflated 14%)\n",
            "  adding: drive/MyDrive/saved_models/saved_generator_116_1.6887.hdf5 (deflated 14%)\n",
            "  adding: drive/MyDrive/saved_models/saved_generator_117_1.7279.hdf5 (deflated 14%)\n",
            "  adding: drive/MyDrive/saved_models/saved_generator_118_1.5277.hdf5 (deflated 14%)\n",
            "  adding: drive/MyDrive/saved_models/saved_generator_119_1.8840.hdf5 (deflated 14%)\n",
            "  adding: drive/MyDrive/saved_models/saved_generator_120_1.8192.hdf5 (deflated 14%)\n",
            "  adding: drive/MyDrive/saved_models/saved_generator_121_2.0378.hdf5 (deflated 14%)\n",
            "  adding: drive/MyDrive/saved_models/saved_generator_12_1.6173.hdf5 (deflated 14%)\n",
            "  adding: drive/MyDrive/saved_models/saved_generator_122_1.6654.hdf5 (deflated 14%)\n",
            "  adding: drive/MyDrive/saved_models/saved_generator_123_1.8772.hdf5 (deflated 14%)\n",
            "  adding: drive/MyDrive/saved_models/saved_generator_124_2.0073.hdf5 (deflated 14%)\n",
            "  adding: drive/MyDrive/saved_models/saved_generator_125_1.7612.hdf5 (deflated 14%)\n",
            "  adding: drive/MyDrive/saved_models/saved_generator_126_2.0568.hdf5 (deflated 14%)\n",
            "  adding: drive/MyDrive/saved_models/saved_generator_127_1.9848.hdf5 (deflated 14%)\n",
            "  adding: drive/MyDrive/saved_models/saved_generator_128_1.6779.hdf5 (deflated 14%)\n",
            "  adding: drive/MyDrive/saved_models/saved_generator_129_1.7718.hdf5 (deflated 14%)\n",
            "  adding: drive/MyDrive/saved_models/saved_generator_130_1.7546.hdf5 (deflated 14%)\n",
            "  adding: drive/MyDrive/saved_models/saved_generator_13_1.1757.hdf5 (deflated 14%)\n",
            "  adding: drive/MyDrive/saved_models/saved_generator_131_1.7754.hdf5 (deflated 14%)\n",
            "  adding: drive/MyDrive/saved_models/saved_generator_132_2.0433.hdf5 (deflated 14%)\n",
            "  adding: drive/MyDrive/saved_models/saved_generator_133_1.8369.hdf5 (deflated 14%)\n",
            "  adding: drive/MyDrive/saved_models/saved_generator_134_1.7125.hdf5 (deflated 14%)\n",
            "  adding: drive/MyDrive/saved_models/saved_generator_135_1.5452.hdf5 (deflated 14%)\n",
            "  adding: drive/MyDrive/saved_models/saved_generator_136_2.0718.hdf5 (deflated 14%)\n",
            "  adding: drive/MyDrive/saved_models/saved_generator_137_1.8257.hdf5 (deflated 14%)\n",
            "  adding: drive/MyDrive/saved_models/saved_generator_138_1.9047.hdf5 (deflated 14%)\n",
            "  adding: drive/MyDrive/saved_models/saved_generator_139_1.9991.hdf5 (deflated 14%)\n",
            "  adding: drive/MyDrive/saved_models/saved_generator_140_2.1308.hdf5 (deflated 14%)\n",
            "  adding: drive/MyDrive/saved_models/saved_generator_141_2.0407.hdf5 (deflated 14%)\n",
            "  adding: drive/MyDrive/saved_models/saved_generator_14_2.0897.hdf5 (deflated 14%)\n",
            "  adding: drive/MyDrive/saved_models/saved_generator_142_1.9624.hdf5 (deflated 14%)\n",
            "  adding: drive/MyDrive/saved_models/saved_generator_143_1.6397.hdf5 (deflated 14%)\n",
            "  adding: drive/MyDrive/saved_models/saved_generator_144_2.1763.hdf5 (deflated 14%)\n",
            "  adding: drive/MyDrive/saved_models/saved_generator_145_2.0112.hdf5 (deflated 14%)\n",
            "  adding: drive/MyDrive/saved_models/saved_generator_146_2.2025.hdf5 (deflated 14%)\n",
            "  adding: drive/MyDrive/saved_models/saved_generator_147_2.4122.hdf5 (deflated 14%)\n",
            "  adding: drive/MyDrive/saved_models/saved_generator_148_1.7386.hdf5 (deflated 14%)\n",
            "  adding: drive/MyDrive/saved_models/saved_generator_149_2.3032.hdf5 (deflated 14%)\n",
            "  adding: drive/MyDrive/saved_models/saved_generator_150_2.2259.hdf5 (deflated 14%)\n",
            "  adding: drive/MyDrive/saved_models/saved_generator_151_1.8580.hdf5 (deflated 14%)\n",
            "  adding: drive/MyDrive/saved_models/saved_generator_15_1.3209.hdf5 (deflated 14%)\n",
            "  adding: drive/MyDrive/saved_models/saved_generator_152_1.7738.hdf5 (deflated 14%)\n",
            "  adding: drive/MyDrive/saved_models/saved_generator_153_2.2898.hdf5 (deflated 14%)\n",
            "  adding: drive/MyDrive/saved_models/saved_generator_154_2.0293.hdf5 (deflated 14%)\n",
            "  adding: drive/MyDrive/saved_models/saved_generator_155_2.1248.hdf5 (deflated 14%)\n",
            "  adding: drive/MyDrive/saved_models/saved_generator_156_2.1700.hdf5 (deflated 14%)\n",
            "  adding: drive/MyDrive/saved_models/saved_generator_157_1.9704.hdf5 (deflated 14%)\n",
            "  adding: drive/MyDrive/saved_models/saved_generator_158_2.1862.hdf5 (deflated 14%)\n",
            "  adding: drive/MyDrive/saved_models/saved_generator_159_2.0181.hdf5 (deflated 14%)\n",
            "  adding: drive/MyDrive/saved_models/saved_generator_160_1.8795.hdf5 (deflated 14%)\n",
            "  adding: drive/MyDrive/saved_models/saved_generator_16_0.8485.hdf5 (deflated 14%)\n",
            "  adding: drive/MyDrive/saved_models/saved_generator_161_1.5278.hdf5 (deflated 14%)\n",
            "  adding: drive/MyDrive/saved_models/saved_generator_162_1.7486.hdf5 (deflated 14%)\n",
            "  adding: drive/MyDrive/saved_models/saved_generator_163_1.9404.hdf5 (deflated 14%)\n",
            "  adding: drive/MyDrive/saved_models/saved_generator_164_2.1395.hdf5 (deflated 14%)\n",
            "  adding: drive/MyDrive/saved_models/saved_generator_165_1.9011.hdf5 (deflated 14%)\n",
            "  adding: drive/MyDrive/saved_models/saved_generator_166_1.7046.hdf5 (deflated 14%)\n",
            "  adding: drive/MyDrive/saved_models/saved_generator_167_2.1129.hdf5 (deflated 14%)\n",
            "  adding: drive/MyDrive/saved_models/saved_generator_168_1.6622.hdf5 (deflated 14%)\n",
            "  adding: drive/MyDrive/saved_models/saved_generator_169_1.9273.hdf5 (deflated 14%)\n",
            "  adding: drive/MyDrive/saved_models/saved_generator_170_2.2064.hdf5 (deflated 14%)\n",
            "  adding: drive/MyDrive/saved_models/saved_generator_171_2.5618.hdf5 (deflated 14%)\n",
            "  adding: drive/MyDrive/saved_models/saved_generator_17_1.4192.hdf5 (deflated 14%)\n",
            "  adding: drive/MyDrive/saved_models/saved_generator_172_1.6775.hdf5 (deflated 14%)\n",
            "  adding: drive/MyDrive/saved_models/saved_generator_173_1.9165.hdf5 (deflated 14%)\n",
            "  adding: drive/MyDrive/saved_models/saved_generator_174_2.2347.hdf5 (deflated 14%)\n",
            "  adding: drive/MyDrive/saved_models/saved_generator_175_2.2414.hdf5 (deflated 14%)\n",
            "  adding: drive/MyDrive/saved_models/saved_generator_176_2.6931.hdf5 (deflated 14%)\n",
            "  adding: drive/MyDrive/saved_models/saved_generator_177_2.7019.hdf5 (deflated 14%)\n",
            "  adding: drive/MyDrive/saved_models/saved_generator_178_1.7660.hdf5 (deflated 14%)\n",
            "  adding: drive/MyDrive/saved_models/saved_generator_179_3.0007.hdf5 (deflated 14%)\n",
            "  adding: drive/MyDrive/saved_models/saved_generator_180_1.9308.hdf5 (deflated 14%)\n",
            "  adding: drive/MyDrive/saved_models/saved_generator_18_0.5791.hdf5 (deflated 14%)\n",
            "  adding: drive/MyDrive/saved_models/saved_generator_181_1.2604.hdf5 (deflated 14%)\n",
            "  adding: drive/MyDrive/saved_models/saved_generator_182_3.5356.hdf5 (deflated 14%)\n",
            "  adding: drive/MyDrive/saved_models/saved_generator_183_1.3250.hdf5 (deflated 14%)\n",
            "  adding: drive/MyDrive/saved_models/saved_generator_184_2.8836.hdf5 (deflated 14%)\n",
            "  adding: drive/MyDrive/saved_models/saved_generator_185_1.8791.hdf5 (deflated 14%)\n",
            "  adding: drive/MyDrive/saved_models/saved_generator_186_3.3031.hdf5 (deflated 14%)\n",
            "  adding: drive/MyDrive/saved_models/saved_generator_187_2.0272.hdf5 (deflated 14%)\n",
            "  adding: drive/MyDrive/saved_models/saved_generator_188_1.6239.hdf5 (deflated 14%)\n",
            "  adding: drive/MyDrive/saved_models/saved_generator_189_2.4125.hdf5 (deflated 14%)\n",
            "  adding: drive/MyDrive/saved_models/saved_generator_190_2.4325.hdf5 (deflated 14%)\n",
            "  adding: drive/MyDrive/saved_models/saved_generator_19_0.9466.hdf5 (deflated 14%)\n",
            "  adding: drive/MyDrive/saved_models/saved_generator_191_2.9358.hdf5 (deflated 14%)\n",
            "  adding: drive/MyDrive/saved_models/saved_generator_192_3.2136.hdf5 (deflated 14%)\n",
            "  adding: drive/MyDrive/saved_models/saved_generator_193_2.1338.hdf5 (deflated 14%)\n",
            "  adding: drive/MyDrive/saved_models/saved_generator_194_6.0306.hdf5 (deflated 14%)\n",
            "  adding: drive/MyDrive/saved_models/saved_generator_195_2.4956.hdf5 (deflated 14%)\n",
            "  adding: drive/MyDrive/saved_models/saved_generator_196_1.3978.hdf5 (deflated 14%)\n",
            "  adding: drive/MyDrive/saved_models/saved_generator_197_2.9446.hdf5 (deflated 14%)\n",
            "  adding: drive/MyDrive/saved_models/saved_generator_198_1.7737.hdf5 (deflated 14%)\n",
            "  adding: drive/MyDrive/saved_models/saved_generator_199_1.4935.hdf5 (deflated 14%)\n",
            "  adding: drive/MyDrive/saved_models/saved_generator_20_1.3959.hdf5 (deflated 14%)\n",
            "  adding: drive/MyDrive/saved_models/saved_generator_2_0.7203.hdf5 (deflated 14%)\n",
            "  adding: drive/MyDrive/saved_models/saved_generator_21_0.9851.hdf5 (deflated 14%)\n",
            "  adding: drive/MyDrive/saved_models/saved_generator_22_1.6706.hdf5 (deflated 14%)\n",
            "  adding: drive/MyDrive/saved_models/saved_generator_23_1.4572.hdf5 (deflated 14%)\n",
            "  adding: drive/MyDrive/saved_models/saved_generator_24_1.2728.hdf5 (deflated 14%)\n",
            "  adding: drive/MyDrive/saved_models/saved_generator_25_1.0968.hdf5 (deflated 14%)\n",
            "  adding: drive/MyDrive/saved_models/saved_generator_26_1.2885.hdf5 (deflated 14%)\n",
            "  adding: drive/MyDrive/saved_models/saved_generator_27_1.2000.hdf5 (deflated 14%)\n",
            "  adding: drive/MyDrive/saved_models/saved_generator_28_1.4295.hdf5 (deflated 14%)\n",
            "  adding: drive/MyDrive/saved_models/saved_generator_29_2.1989.hdf5 (deflated 14%)\n",
            "  adding: drive/MyDrive/saved_models/saved_generator_30_1.6371.hdf5 (deflated 14%)\n",
            "  adding: drive/MyDrive/saved_models/saved_generator_3_1.2062.hdf5 (deflated 14%)\n",
            "  adding: drive/MyDrive/saved_models/saved_generator_31_2.1138.hdf5 (deflated 14%)\n",
            "  adding: drive/MyDrive/saved_models/saved_generator_32_1.5050.hdf5 (deflated 14%)\n",
            "  adding: drive/MyDrive/saved_models/saved_generator_33_2.0741.hdf5 (deflated 14%)\n",
            "  adding: drive/MyDrive/saved_models/saved_generator_34_1.5505.hdf5 (deflated 14%)\n",
            "  adding: drive/MyDrive/saved_models/saved_generator_35_1.2504.hdf5 (deflated 14%)\n",
            "  adding: drive/MyDrive/saved_models/saved_generator_36_1.9483.hdf5 (deflated 14%)\n",
            "  adding: drive/MyDrive/saved_models/saved_generator_37_1.2382.hdf5 (deflated 14%)\n",
            "  adding: drive/MyDrive/saved_models/saved_generator_38_1.8905.hdf5 (deflated 14%)\n",
            "  adding: drive/MyDrive/saved_models/saved_generator_39_1.5986.hdf5 (deflated 14%)\n",
            "  adding: drive/MyDrive/saved_models/saved_generator_40_1.6928.hdf5 (deflated 14%)\n",
            "  adding: drive/MyDrive/saved_models/saved_generator_41_1.6043.hdf5 (deflated 14%)\n",
            "  adding: drive/MyDrive/saved_models/saved_generator_4_1.7218.hdf5 (deflated 14%)\n",
            "  adding: drive/MyDrive/saved_models/saved_generator_42_1.8508.hdf5 (deflated 14%)\n",
            "  adding: drive/MyDrive/saved_models/saved_generator_43_2.0063.hdf5 (deflated 14%)\n",
            "  adding: drive/MyDrive/saved_models/saved_generator_44_1.7023.hdf5 (deflated 14%)\n",
            "  adding: drive/MyDrive/saved_models/saved_generator_45_1.2743.hdf5 (deflated 14%)\n",
            "  adding: drive/MyDrive/saved_models/saved_generator_46_1.3961.hdf5 (deflated 14%)\n",
            "  adding: drive/MyDrive/saved_models/saved_generator_47_1.5712.hdf5 (deflated 14%)\n",
            "  adding: drive/MyDrive/saved_models/saved_generator_48_1.0559.hdf5 (deflated 14%)\n",
            "  adding: drive/MyDrive/saved_models/saved_generator_49_1.9148.hdf5 (deflated 14%)\n",
            "  adding: drive/MyDrive/saved_models/saved_generator_50_1.9823.hdf5 (deflated 14%)\n",
            "  adding: drive/MyDrive/saved_models/saved_generator_5_0.9076.hdf5 (deflated 14%)\n",
            "  adding: drive/MyDrive/saved_models/saved_generator_51_1.4746.hdf5 (deflated 14%)\n",
            "  adding: drive/MyDrive/saved_models/saved_generator_52_0.7740.hdf5 (deflated 14%)\n",
            "  adding: drive/MyDrive/saved_models/saved_generator_53_1.1132.hdf5 (deflated 14%)\n",
            "  adding: drive/MyDrive/saved_models/saved_generator_54_1.5874.hdf5 (deflated 14%)\n",
            "  adding: drive/MyDrive/saved_models/saved_generator_55_1.4370.hdf5 (deflated 14%)\n",
            "  adding: drive/MyDrive/saved_models/saved_generator_56_1.5351.hdf5 (deflated 14%)\n",
            "  adding: drive/MyDrive/saved_models/saved_generator_57_1.7038.hdf5 (deflated 14%)\n",
            "  adding: drive/MyDrive/saved_models/saved_generator_58_1.4110.hdf5 (deflated 14%)\n",
            "  adding: drive/MyDrive/saved_models/saved_generator_59_1.6554.hdf5 (deflated 14%)\n",
            "  adding: drive/MyDrive/saved_models/saved_generator_60_1.2207.hdf5 (deflated 14%)\n",
            "  adding: drive/MyDrive/saved_models/saved_generator_61_1.4923.hdf5 (deflated 14%)\n",
            "  adding: drive/MyDrive/saved_models/saved_generator_6_1.5679.hdf5 (deflated 14%)\n",
            "  adding: drive/MyDrive/saved_models/saved_generator_62_1.9080.hdf5 (deflated 14%)\n",
            "  adding: drive/MyDrive/saved_models/saved_generator_63_1.4736.hdf5 (deflated 14%)\n",
            "  adding: drive/MyDrive/saved_models/saved_generator_64_1.3888.hdf5 (deflated 14%)\n",
            "  adding: drive/MyDrive/saved_models/saved_generator_65_1.9693.hdf5 (deflated 14%)\n",
            "  adding: drive/MyDrive/saved_models/saved_generator_66_1.4618.hdf5 (deflated 14%)\n",
            "  adding: drive/MyDrive/saved_models/saved_generator_67_0.3836.hdf5 (deflated 14%)\n",
            "  adding: drive/MyDrive/saved_models/saved_generator_68_0.8145.hdf5 (deflated 14%)\n",
            "  adding: drive/MyDrive/saved_models/saved_generator_69_0.9131.hdf5 (deflated 14%)\n",
            "  adding: drive/MyDrive/saved_models/saved_generator_70_1.2898.hdf5 (deflated 14%)\n",
            "  adding: drive/MyDrive/saved_models/saved_generator_71_1.4018.hdf5 (deflated 14%)\n",
            "  adding: drive/MyDrive/saved_models/saved_generator_72_1.5809.hdf5 (deflated 14%)\n",
            "  adding: drive/MyDrive/saved_models/saved_generator_7_2.1922.hdf5 (deflated 14%)\n",
            "  adding: drive/MyDrive/saved_models/saved_generator_73_1.5939.hdf5 (deflated 14%)\n",
            "  adding: drive/MyDrive/saved_models/saved_generator_74_1.7363.hdf5 (deflated 14%)\n",
            "  adding: drive/MyDrive/saved_models/saved_generator_75_2.7986.hdf5 (deflated 14%)\n",
            "  adding: drive/MyDrive/saved_models/saved_generator_76_1.1601.hdf5 (deflated 14%)\n",
            "  adding: drive/MyDrive/saved_models/saved_generator_77_1.1770.hdf5 (deflated 14%)\n",
            "  adding: drive/MyDrive/saved_models/saved_generator_78_1.2160.hdf5 (deflated 14%)\n",
            "  adding: drive/MyDrive/saved_models/saved_generator_79_1.3203.hdf5 (deflated 14%)\n",
            "  adding: drive/MyDrive/saved_models/saved_generator_80_2.1465.hdf5 (deflated 14%)\n",
            "  adding: drive/MyDrive/saved_models/saved_generator_8_0.8427.hdf5 (deflated 14%)\n",
            "  adding: drive/MyDrive/saved_models/saved_generator_81_1.2258.hdf5 (deflated 14%)\n",
            "  adding: drive/MyDrive/saved_models/saved_generator_82_1.0524.hdf5 (deflated 14%)\n",
            "  adding: drive/MyDrive/saved_models/saved_generator_83_1.4741.hdf5 (deflated 14%)\n",
            "  adding: drive/MyDrive/saved_models/saved_generator_84_1.7680.hdf5 (deflated 14%)\n",
            "  adding: drive/MyDrive/saved_models/saved_generator_85_1.6917.hdf5 (deflated 14%)\n",
            "  adding: drive/MyDrive/saved_models/saved_generator_86_1.5894.hdf5 (deflated 14%)\n",
            "  adding: drive/MyDrive/saved_models/saved_generator_87_1.6086.hdf5 (deflated 14%)\n",
            "  adding: drive/MyDrive/saved_models/saved_generator_88_1.8122.hdf5 (deflated 14%)\n",
            "  adding: drive/MyDrive/saved_models/saved_generator_89_1.2410.hdf5 (deflated 14%)\n",
            "  adding: drive/MyDrive/saved_models/saved_generator_90_1.3079.hdf5 (deflated 14%)\n",
            "  adding: drive/MyDrive/saved_models/saved_generator_91_1.5111.hdf5 (deflated 14%)\n",
            "  adding: drive/MyDrive/saved_models/saved_generator_9_1.5594.hdf5 (deflated 14%)\n",
            "  adding: drive/MyDrive/saved_models/saved_generator_92_1.6641.hdf5 (deflated 14%)\n",
            "  adding: drive/MyDrive/saved_models/saved_generator_93_1.5529.hdf5 (deflated 14%)\n",
            "  adding: drive/MyDrive/saved_models/saved_generator_94_1.8149.hdf5 (deflated 14%)\n",
            "  adding: drive/MyDrive/saved_models/saved_generator_95_1.9476.hdf5 (deflated 14%)\n",
            "  adding: drive/MyDrive/saved_models/saved_generator_96_1.6492.hdf5 (deflated 14%)\n",
            "  adding: drive/MyDrive/saved_models/saved_generator_97_1.6899.hdf5 (deflated 14%)\n",
            "  adding: drive/MyDrive/saved_models/saved_generator_98_1.9534.hdf5 (deflated 14%)\n",
            "  adding: drive/MyDrive/saved_models/saved_generator_99_2.2587.hdf5 (deflated 14%)\n",
            "  adding: drive/MyDrive/saved_models/saved_generator_end_1.4935.hdf5 (deflated 14%)\n"
          ]
        }
      ],
      "source": [
        "!zip saved_models.zip drive/MyDrive/saved_models/*"
      ]
    },
    {
      "cell_type": "code",
      "execution_count": null,
      "metadata": {
        "colab": {
          "background_save": true
        },
        "id": "AAWEgsYzx0-w"
      },
      "outputs": [],
      "source": [
        "!mv saved_models.zip drive/MyDrive/"
      ]
    }
  ],
  "metadata": {
    "accelerator": "GPU",
    "colab": {
      "machine_shape": "hm",
      "provenance": [],
      "include_colab_link": true
    },
    "kernelspec": {
      "display_name": "Python 3",
      "name": "python3"
    },
    "language_info": {
      "name": "python"
    }
  },
  "nbformat": 4,
  "nbformat_minor": 0
}