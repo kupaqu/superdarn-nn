{
  "cells": [
    {
      "cell_type": "markdown",
      "metadata": {
        "id": "view-in-github",
        "colab_type": "text"
      },
      "source": [
        "<a href=\"https://colab.research.google.com/github/kupaqu/superdarn-nn/blob/main/25mar_supedarn_nn_new_loader_p_l.ipynb\" target=\"_parent\"><img src=\"https://colab.research.google.com/assets/colab-badge.svg\" alt=\"Open In Colab\"/></a>"
      ]
    },
    {
      "cell_type": "code",
      "execution_count": null,
      "metadata": {
        "id": "-XYWWz3mg2Kz"
      },
      "outputs": [],
      "source": [
        "import os\n",
        "import numpy as np\n",
        "from datetime import datetime, timedelta\n",
        "import random\n",
        "import tensorflow as tf\n",
        "import matplotlib.pyplot as plt"
      ]
    },
    {
      "cell_type": "code",
      "execution_count": null,
      "metadata": {
        "colab": {
          "base_uri": "https://localhost:8080/"
        },
        "id": "ofOVS8uRnJ6c",
        "outputId": "761574ab-a67c-401a-a364-2d4a90209b5f"
      },
      "outputs": [
        {
          "name": "stdout",
          "output_type": "stream",
          "text": [
            "Drive already mounted at /content/drive; to attempt to forcibly remount, call drive.mount(\"/content/drive\", force_remount=True).\n"
          ]
        }
      ],
      "source": [
        "from google.colab import drive\n",
        "drive.mount('/content/drive')"
      ]
    },
    {
      "cell_type": "code",
      "execution_count": null,
      "metadata": {
        "id": "pzAVo_TOnS7q"
      },
      "outputs": [],
      "source": [
        "class DataLoader:\n",
        "    def __init__(self,\n",
        "                 paths,\n",
        "                 shuffle=True):\n",
        "        self.shuffle = shuffle\n",
        "        self.data = {}\n",
        "\n",
        "        # загрузка всего датасета в память\n",
        "        for path in paths:\n",
        "            for root, _, files in os.walk(path):\n",
        "                for name in files:\n",
        "                    filename = name.split('.')\n",
        "                    key = (filename[0] + filename[1][:2], filename[4]) # ключ – кортеж вида (дата и час, луч)\n",
        "                    arr = np.load(os.path.join(root, name))\n",
        "                    self.data[key] = arr\n",
        "\n",
        "    def __call__(self):\n",
        "        target_datetime = list(self.data.keys())\n",
        "        if self.shuffle:\n",
        "            random.shuffle(target_datetime)\n",
        "\n",
        "        # итерация по ключам в словаре self.data, где ключи – название файла\n",
        "        for key in target_datetime:\n",
        "            seq = self.__getSequence(key) # ключи исторических данных\n",
        "            arrays = []\n",
        "            missData = False\n",
        "\n",
        "            for item in seq:\n",
        "                try:\n",
        "                    arrays.append(self.data[item])\n",
        "\n",
        "                # некоторые исторические данные могут отсутствовать\n",
        "                except KeyError:\n",
        "                    missData = True\n",
        "                    break\n",
        "            \n",
        "            # если есть пропуски, то пропускаем пример\n",
        "            if missData:\n",
        "                continue\n",
        "            else:\n",
        "                x = np.concatenate(arrays, axis=1)\n",
        "                y = self.data[key]\n",
        "                yield np.concatenate([x[:,:,2:3], x[:,:,1:2]], axis=-1), y[:,:,2:3]*y[:,:,1:2] \n",
        "\n",
        "    def __getSequence(self, key):\n",
        "        filename_datetime = datetime.strptime(key[0], '%Y%m%d%H')\n",
        "\n",
        "        # список массивов за день до целевого массива\n",
        "        dayBefore = []\n",
        "        for i in range(24, 0, -2):\n",
        "            hoursBefore = ((filename_datetime-timedelta(hours=i)).strftime('%Y%m%d%H'), key[1])\n",
        "            dayBefore.append(hoursBefore)\n",
        "\n",
        "        # тот же час, но за неделю до целевого массива\n",
        "        weekBeforeInThatHour = []\n",
        "        for i in range(7, 1, -1):\n",
        "            thatHour = ((filename_datetime-timedelta(days=i)).strftime('%Y%m%d%H'), key[1])\n",
        "            weekBeforeInThatHour.append(thatHour)\n",
        "\n",
        "        return dayBefore + weekBeforeInThatHour\n",
        "\n",
        "        # список массивов за неделю до целевого массива\n",
        "        # weekBefore = []\n",
        "        # for i in range(24*7, 0, -2):\n",
        "        #     hoursBefore = ((filename_datetime-timedelta(hours=i)).strftime('%Y%m%d%H'), key[1])\n",
        "        #     weekBefore.append(hoursBefore)\n",
        "        \n",
        "        return weekBefore"
      ]
    },
    {
      "cell_type": "code",
      "execution_count": null,
      "metadata": {
        "id": "thMFYMJt3IFS"
      },
      "outputs": [],
      "source": [
        "batch_size = 32\n",
        "\n",
        "train_loader = DataLoader(paths=['drive/MyDrive/2018-converted/2018-01',\n",
        "                                 'drive/MyDrive/2018-converted/2018-02',\n",
        "                                 'drive/MyDrive/2018-converted/2018-03',\n",
        "                                 'drive/MyDrive/2018-converted/2018-04',\n",
        "                                 'drive/MyDrive/2018-converted/2018-05',\n",
        "                                 'drive/MyDrive/2018-converted/2018-06',\n",
        "                                 'drive/MyDrive/2018-converted/2018-07',])\n",
        "val_loader = DataLoader(paths=['drive/MyDrive/2018-converted/2018-08',\n",
        "                               'drive/MyDrive/2018-converted/2018-09',])\n",
        "\n",
        "train_dataset = tf.data.Dataset.from_generator(train_loader, output_types=(tf.float64, tf.float64)).batch(batch_size)\n",
        "val_dataset = tf.data.Dataset.from_generator(val_loader, output_types=(tf.float64, tf.float64)).batch(batch_size)"
      ]
    },
    {
      "cell_type": "code",
      "execution_count": null,
      "metadata": {
        "id": "_ao3dk8OjvR9"
      },
      "outputs": [],
      "source": [
        "cnt = 0\n",
        "for _ in train_dataset:\n",
        "    cnt += 1\n",
        "print(f'Number of batches on train: {cnt}')\n",
        "\n",
        "cnt = 0\n",
        "for _ in val_dataset:\n",
        "    cnt += 1\n",
        "print(f'Number of batches on validation: {cnt}')"
      ]
    },
    {
      "cell_type": "code",
      "execution_count": null,
      "metadata": {
        "id": "rqd0z3XwNWb0"
      },
      "outputs": [],
      "source": [
        "# генератор\n",
        "def get_generator(regularizer_lambda=1e-5):\n",
        "\n",
        "    # по каналу p_l\n",
        "    p_l_history = tf.keras.layers.Input(shape=(100, 1080, 1))\n",
        "\n",
        "    p_l = tf.keras.layers.Conv2D(\n",
        "        filters=32,\n",
        "        kernel_size=5,\n",
        "        activation='relu',\n",
        "        padding='same',\n",
        "        kernel_regularizer=tf.keras.regularizers.L2(regularizer_lambda)\n",
        "    )(p_l_history)\n",
        "\n",
        "    p_l = tf.keras.layers.Conv2D(\n",
        "        filters=32,\n",
        "        kernel_size=(1, 12),\n",
        "        dilation_rate=(1, 60),\n",
        "        activation='relu',\n",
        "        kernel_regularizer=tf.keras.regularizers.L2(regularizer_lambda)\n",
        "    )(p_l)\n",
        "\n",
        "    p_l = tf.keras.layers.Conv2D(\n",
        "        filters=32,\n",
        "        kernel_size=5,\n",
        "        activation='relu',\n",
        "        padding='same',\n",
        "    )(p_l)\n",
        "\n",
        "    # по каналу qflg0\n",
        "    qflg_history = tf.keras.layers.Input(shape=(100, 1080, 1))\n",
        "\n",
        "    qflg = tf.keras.layers.Conv2D(\n",
        "        filters=32,\n",
        "        kernel_size=5,\n",
        "        activation='relu',\n",
        "        padding='same',\n",
        "        kernel_regularizer=tf.keras.regularizers.L2(regularizer_lambda)\n",
        "    )(qflg_history)\n",
        "\n",
        "    qflg = tf.keras.layers.Conv2D(\n",
        "        filters=32,\n",
        "        kernel_size=(1, 12),\n",
        "        dilation_rate=(1, 60),\n",
        "        activation='relu',\n",
        "        kernel_regularizer=tf.keras.regularizers.L2(regularizer_lambda)\n",
        "    )(qflg)\n",
        "\n",
        "    qflg = tf.keras.layers.Conv2D(\n",
        "        filters=32,\n",
        "        kernel_size=5,\n",
        "        activation='relu',\n",
        "        padding='same',\n",
        "    )(qflg)\n",
        "\n",
        "    # соединение и выход\n",
        "    x = tf.keras.layers.Concatenate(\n",
        "        axis=-1\n",
        "    )([p_l, qflg])\n",
        "\n",
        "    x = tf.keras.layers.Conv2D(\n",
        "        filters=32,\n",
        "        kernel_size=(1, 7),\n",
        "        dilation_rate=(1, 60),\n",
        "        activation='relu',\n",
        "    )(x)\n",
        "\n",
        "    x = tf.keras.layers.Conv2D(\n",
        "        filters=32,\n",
        "        kernel_size=5,\n",
        "        activation='relu',\n",
        "        padding='same',\n",
        "    )(x)\n",
        "\n",
        "    output = tf.keras.layers.Conv2D(\n",
        "        filters=1,\n",
        "        kernel_size=1,\n",
        "        activation='linear'\n",
        "    )(x)\n",
        "\n",
        "    generator = tf.keras.models.Model([p_l_history, qflg_history], output, name='generator')\n",
        "\n",
        "    return generator\n",
        "\n",
        "# дискриминатор\n",
        "def get_discriminator(regularizer_lambda=1e-5):\n",
        "\n",
        "    # по каналу p_l\n",
        "    p_l_history = tf.keras.layers.Input(shape=(100, 1080, 1))\n",
        "    p_l_target = tf.keras.layers.Input(shape=(100, 60, 1))\n",
        "    p_l_concat = tf.keras.layers.Concatenate(axis=2)([p_l_history, p_l_target])\n",
        "\n",
        "    p_l = tf.keras.layers.Conv2D(\n",
        "        filters=32,\n",
        "        kernel_size=5,\n",
        "        activation='relu',\n",
        "        padding='same',\n",
        "        kernel_regularizer=tf.keras.regularizers.L2(regularizer_lambda)\n",
        "    )(p_l_concat)\n",
        "\n",
        "    p_l = tf.keras.layers.Conv2D(\n",
        "        filters=32,\n",
        "        kernel_size=(1, 13),\n",
        "        dilation_rate=(1, 60),\n",
        "        activation='relu',\n",
        "        kernel_regularizer=tf.keras.regularizers.L2(regularizer_lambda)\n",
        "    )(p_l)\n",
        "\n",
        "    p_l = tf.keras.layers.Conv2D(\n",
        "        filters=32,\n",
        "        kernel_size=5,\n",
        "        activation='relu',\n",
        "        padding='same',\n",
        "    )(p_l)\n",
        "\n",
        "    # по каналу qflg0\n",
        "    qflg_history = tf.keras.layers.Input(shape=(100, 1080, 1))\n",
        "\n",
        "    qflg = tf.keras.layers.Conv2D(\n",
        "        filters=32,\n",
        "        kernel_size=5,\n",
        "        activation='relu',\n",
        "        padding='same',\n",
        "        kernel_regularizer=tf.keras.regularizers.L2(regularizer_lambda)\n",
        "    )(qflg_history)\n",
        "\n",
        "    qflg = tf.keras.layers.Conv2D(\n",
        "        filters=32,\n",
        "        kernel_size=(1, 12),\n",
        "        dilation_rate=(1, 60),\n",
        "        activation='relu',\n",
        "        kernel_regularizer=tf.keras.regularizers.L2(regularizer_lambda)\n",
        "    )(qflg)\n",
        "\n",
        "    qflg = tf.keras.layers.Conv2D(\n",
        "        filters=32,\n",
        "        kernel_size=5,\n",
        "        activation='relu',\n",
        "        padding='same',\n",
        "    )(qflg)\n",
        "\n",
        "    # соединение и выход\n",
        "    x = tf.keras.layers.Concatenate(\n",
        "        axis=-1\n",
        "    )([p_l, qflg])\n",
        "\n",
        "    x = tf.keras.layers.Conv2D(\n",
        "        filters=32,\n",
        "        kernel_size=(1, 7),\n",
        "        dilation_rate=(1, 60),\n",
        "        activation='relu',\n",
        "    )(x)\n",
        "\n",
        "    x = tf.keras.layers.Conv2D(\n",
        "        filters=32,\n",
        "        kernel_size=5,\n",
        "        activation='relu',\n",
        "        padding='same',\n",
        "    )(x)\n",
        "\n",
        "    x = tf.keras.layers.Conv2D(\n",
        "        filters=1,\n",
        "        kernel_size=(100, 1),\n",
        "        activation='sigmoid'\n",
        "    )(x)\n",
        "\n",
        "    output = tf.keras.layers.Flatten()(x)\n",
        "    \n",
        "    discriminator = tf.keras.models.Model([p_l_history, p_l_target, qflg_history], output, name='discriminator')\n",
        "\n",
        "    return discriminator"
      ]
    },
    {
      "cell_type": "code",
      "execution_count": null,
      "metadata": {
        "id": "S4pRPN48V9kK"
      },
      "outputs": [],
      "source": [
        "class RadarGAN(tf.keras.Model):\n",
        "    def __init__(self, discriminator, generator):\n",
        "        super(RadarGAN, self).__init__()\n",
        "        self.discriminator = discriminator\n",
        "        self.generator = generator\n",
        "        self.gen_loss_tracker = tf.keras.metrics.Mean(name=\"generator_loss\")\n",
        "        self.disc_loss_tracker = tf.keras.metrics.Mean(name=\"discriminator_loss\")\n",
        "        self.gen_mae_tracker = tf.keras.metrics.Mean(name=\"generator_mae\")\n",
        "\n",
        "    @property\n",
        "    def metrics(self):\n",
        "        return [self.gen_loss_tracker, self.disc_loss_tracker, self.gen_mae_tracker]\n",
        "\n",
        "    def compile(self, d_optimizer, g_optimizer, loss_fn):\n",
        "        super(RadarGAN, self).compile()\n",
        "        self.d_optimizer = d_optimizer\n",
        "        self.g_optimizer = g_optimizer\n",
        "        self.loss_fn = loss_fn\n",
        "        self.mae = tf.keras.losses.MeanAbsoluteError()\n",
        "\n",
        "    def train_step(self, data):\n",
        "\n",
        "        # класс 1 - настоящие данные, класс 0 - дискриминированные данные\n",
        "        x, y = data\n",
        "        x_p_l = x[:, :, :, 0:1]\n",
        "        x_qflg = x[:, :, :, 1:2]\n",
        "        x_shape = tf.shape(x_p_l)\n",
        "        y_shape = tf.shape(y)\n",
        "\n",
        "        # обучение дискриминатора\n",
        "        for step in range(1):\n",
        "            \n",
        "            # маска по Бернулли\n",
        "            p = tf.constant([0.8])\n",
        "            r = tf.random.uniform(shape=x_shape, maxval=1)\n",
        "            b = tf.math.greater(p, r)\n",
        "            f = tf.cast(b, dtype=tf.dtypes.float64)\n",
        "\n",
        "            # выход генератора\n",
        "            generated = tf.cast(self.generator([tf.math.multiply(x_p_l, f), tf.math.multiply(x_qflg, f)]), dtype=tf.dtypes.float64)\n",
        "\n",
        "            with tf.GradientTape() as tape:\n",
        "                real = self.discriminator([x_p_l, y, x_qflg])\n",
        "                fake = self.discriminator([x_p_l, generated, x_qflg])\n",
        "                \n",
        "                # значения потерь на чистых данных\n",
        "                loss_on_real = self.loss_fn(tf.ones_like(real), real)\n",
        "                loss_on_fake = self.loss_fn(tf.zeros_like(fake), fake)\n",
        "                \n",
        "                # целевое значение дискриминатора\n",
        "                real_mixed = tf.math.round(tf.random.uniform(shape=(y_shape[0], y_shape[2]), minval=0, maxval=1, dtype=tf.dtypes.float64))\n",
        "\n",
        "                # маска для реальных данных\n",
        "                real_mask_mixed = tf.reshape(real_mixed, shape=(y_shape[0], 1, y_shape[2], 1))\n",
        "                real_mask_mixed = tf.repeat(real_mask_mixed, repeats=y_shape[1], axis=1)\n",
        "                real_mask_mixed = tf.repeat(real_mask_mixed, repeats=y_shape[3], axis=3)\n",
        "                # маска для фейковых данных\n",
        "                fake_mask_mixed = tf.math.subtract(tf.ones(shape=tf.shape(real_mask_mixed), dtype=tf.dtypes.float64), real_mask_mixed)\n",
        "\n",
        "                # перемешивание данных\n",
        "                mixed = tf.math.add(tf.math.multiply(real_mask_mixed, y), tf.math.multiply(fake_mask_mixed, generated))\n",
        "\n",
        "                predictions = self.discriminator([x_p_l, mixed, x_qflg])\n",
        "\n",
        "                loss_on_mixed = self.loss_fn(real, predictions)\n",
        "\n",
        "                d_loss = loss_on_real + loss_on_fake + loss_on_mixed\n",
        "\n",
        "            grads = tape.gradient(d_loss, self.discriminator.trainable_weights)\n",
        "            self.d_optimizer.apply_gradients(\n",
        "                zip(grads, self.discriminator.trainable_weights)\n",
        "            )\n",
        "        \n",
        "        # таргет генератора как выход дискриминатора\n",
        "        g_target = tf.ones(shape=tf.shape(real), dtype=tf.dtypes.float64)\n",
        "\n",
        "        # тренировка генератора\n",
        "        for step in range(1):\n",
        "            with tf.GradientTape() as tape:\n",
        "\n",
        "                # Бернулли\n",
        "                p = tf.constant([0.8])\n",
        "                r = tf.random.uniform(shape=x_shape, maxval=1)\n",
        "                b = tf.math.greater(p, r)\n",
        "                f = tf.cast(b, dtype=tf.dtypes.float64)\n",
        "\n",
        "                generated = tf.cast(self.generator([tf.math.multiply(x_p_l, f), tf.math.multiply(x_qflg, f)]), dtype=tf.dtypes.float64)\n",
        "\n",
        "                discriminated = self.discriminator([x_p_l, generated, x_qflg])\n",
        "                g_loss = self.loss_fn(g_target, discriminated)\n",
        "                g_mae = self.mae(y, generated)\n",
        "                \n",
        "            grads = tape.gradient(g_loss, self.generator.trainable_weights)\n",
        "            self.g_optimizer.apply_gradients(zip(grads, self.generator.trainable_weights))\n",
        "\n",
        "        # Monitor loss.\n",
        "        self.gen_loss_tracker.update_state(g_loss)\n",
        "        self.disc_loss_tracker.update_state(d_loss)\n",
        "        self.gen_mae_tracker.update_state(g_mae)\n",
        "        return {\n",
        "            \"g_loss\": self.gen_loss_tracker.result(),\n",
        "            \"d_loss\": self.disc_loss_tracker.result(),\n",
        "            \"g_mae\": self.gen_mae_tracker.result()\n",
        "            }\n",
        "\n",
        "    def test_step(self, data):\n",
        "        # Unpack the data\n",
        "        x, y = data\n",
        "        x_p_l = x[:, :, :, 0:1]\n",
        "        x_qflg = x[:, :, :, 1:2]\n",
        "        y_shape = tf.shape(y)\n",
        "\n",
        "        # Compute predictions\n",
        "        generated = self.generator([x_p_l, x_qflg])\n",
        "        real = self.discriminator([x_p_l, y, x_qflg], training=False)\n",
        "        fake = self.discriminator([x_p_l, generated, x_qflg], training=False)\n",
        "\n",
        "        # Compute losses\n",
        "        g_target = tf.ones(shape=tf.shape(real), dtype=tf.dtypes.float64)\n",
        "        g_loss = self.loss_fn(g_target, fake)\n",
        "        g_mae = self.mae(y, generated)\n",
        "\n",
        "        loss_on_real = self.loss_fn(tf.ones_like(real), real)\n",
        "        loss_on_fake = self.loss_fn(tf.zeros_like(fake), fake)\n",
        "        \n",
        "        d_loss = loss_on_real + loss_on_fake\n",
        "\n",
        "        # Update losses\n",
        "        self.gen_loss_tracker.update_state(g_loss)\n",
        "        self.disc_loss_tracker.update_state(d_loss)\n",
        "        self.gen_mae_tracker.update_state(g_mae)\n",
        "\n",
        "        return {\n",
        "            \"g_loss\": self.gen_loss_tracker.result(),\n",
        "            \"d_loss\": self.disc_loss_tracker.result(),\n",
        "            \"g_mae\": self.gen_mae_tracker.result()\n",
        "            }"
      ]
    },
    {
      "cell_type": "code",
      "execution_count": null,
      "metadata": {
        "id": "2Dv3G-wzWCGN"
      },
      "outputs": [],
      "source": [
        "# если обучать с нуля\n",
        "radar_gan = RadarGAN(discriminator=get_discriminator(), generator=get_generator())\n",
        "\n",
        "# дообучение\n",
        "# radar_gan = RadarGAN(discriminator=tf.keras.models.load_model('drive/MyDrive/radargan_discriminator_250323.hdf5'), generator=tf.keras.models.load_model('drive/MyDrive/radargan_generator_250323.hdf5'))\n",
        "\n",
        "# графическое изображение структуры\n",
        "tf.keras.utils.plot_model(radar_gan.generator, to_file='g.png', show_shapes=True)\n",
        "tf.keras.utils.plot_model(radar_gan.discriminator, to_file='d.png', show_shapes=True)\n",
        "\n",
        "radar_gan.compile(\n",
        "    d_optimizer=tf.keras.optimizers.Adam(learning_rate=0.0003),\n",
        "    g_optimizer=tf.keras.optimizers.Adam(learning_rate=0.0003),\n",
        "    loss_fn=tf.keras.losses.BinaryCrossentropy()\n",
        ")"
      ]
    },
    {
      "cell_type": "code",
      "execution_count": null,
      "metadata": {
        "id": "puJj47y-WHHC"
      },
      "outputs": [],
      "source": [
        "radar_gan.generator.summary()"
      ]
    },
    {
      "cell_type": "code",
      "execution_count": null,
      "metadata": {
        "id": "3BLbXZBJWJr7"
      },
      "outputs": [],
      "source": [
        "radar_gan.discriminator.summary()"
      ]
    },
    {
      "cell_type": "code",
      "execution_count": null,
      "metadata": {
        "id": "lj77P_FlbVFq"
      },
      "outputs": [],
      "source": [
        "class CheckpointGAN(tf.keras.callbacks.Callback):\n",
        "\n",
        "    def __init__(self):\n",
        "        super().__init__()\n",
        "\n",
        "    def on_epoch_end(self, epoch, logs=None):\n",
        "        self.model.generator.save(f'drive/MyDrive/saved_generator_{epoch}_{logs[\"val_g_loss\"]:.4f}.hdf5')\n",
        "        self.model.discriminator.save(f'drive/MyDrive/saved_discriminator_{epoch}_{logs[\"val_d_loss\"]:.4f}.hdf5')\n",
        "\n",
        "    def on_train_end(self, logs=None):\n",
        "        self.model.generator.save(f'drive/MyDrive/saved_generator_end_{logs[\"val_g_loss\"]:.4f}.hdf5')\n",
        "        self.model.discriminator.save(f'drive/MyDrive/saved_discriminator_end_{logs[\"val_d_loss\"]:.4f}.hdf5')\n",
        "\n",
        "callback = CheckpointGAN()"
      ]
    },
    {
      "cell_type": "code",
      "execution_count": null,
      "metadata": {
        "colab": {
          "base_uri": "https://localhost:8080/"
        },
        "id": "JWreC4qaWUj-",
        "outputId": "0e709859-6684-4e39-e588-540249d75d5c"
      },
      "outputs": [
        {
          "name": "stdout",
          "output_type": "stream",
          "text": [
            "Epoch 1/200\n",
            "    122/Unknown - 248s 2s/step - g_loss: 0.8063 - d_loss: 2.0602 - g_mae: 6.4327"
          ]
        },
        {
          "name": "stderr",
          "output_type": "stream",
          "text": [
            "WARNING:tensorflow:Compiled the loaded model, but the compiled metrics have yet to be built. `model.compile_metrics` will be empty until you train or evaluate the model.\n",
            "WARNING:tensorflow:Compiled the loaded model, but the compiled metrics have yet to be built. `model.compile_metrics` will be empty until you train or evaluate the model.\n"
          ]
        },
        {
          "name": "stdout",
          "output_type": "stream",
          "text": [
            "122/122 [==============================] - 253s 2s/step - g_loss: 0.8088 - d_loss: 2.0579 - g_mae: 6.4173 - val_g_loss: 0.6554 - val_d_loss: 1.3748 - val_g_mae: 1.2495\n",
            "Epoch 2/200\n",
            "122/122 [==============================] - ETA: 0s - g_loss: 1.7930 - d_loss: 3.5844 - g_mae: 49.9040"
          ]
        },
        {
          "name": "stderr",
          "output_type": "stream",
          "text": [
            "WARNING:tensorflow:Compiled the loaded model, but the compiled metrics have yet to be built. `model.compile_metrics` will be empty until you train or evaluate the model.\n",
            "WARNING:tensorflow:Compiled the loaded model, but the compiled metrics have yet to be built. `model.compile_metrics` will be empty until you train or evaluate the model.\n"
          ]
        },
        {
          "name": "stdout",
          "output_type": "stream",
          "text": [
            "122/122 [==============================] - 231s 2s/step - g_loss: 1.7886 - d_loss: 3.5757 - g_mae: 49.7516 - val_g_loss: 0.9119 - val_d_loss: 1.0013 - val_g_mae: 1.0546\n",
            "Epoch 3/200\n",
            "122/122 [==============================] - ETA: 0s - g_loss: 1.8951 - d_loss: 1.0776 - g_mae: 2.3313"
          ]
        },
        {
          "name": "stderr",
          "output_type": "stream",
          "text": [
            "WARNING:tensorflow:Compiled the loaded model, but the compiled metrics have yet to be built. `model.compile_metrics` will be empty until you train or evaluate the model.\n",
            "WARNING:tensorflow:Compiled the loaded model, but the compiled metrics have yet to be built. `model.compile_metrics` will be empty until you train or evaluate the model.\n"
          ]
        },
        {
          "name": "stdout",
          "output_type": "stream",
          "text": [
            "122/122 [==============================] - 230s 2s/step - g_loss: 1.8966 - d_loss: 1.0789 - g_mae: 2.3315 - val_g_loss: 1.5619 - val_d_loss: 0.5027 - val_g_mae: 1.0777\n",
            "Epoch 4/200\n",
            "122/122 [==============================] - ETA: 0s - g_loss: 2.4898 - d_loss: 1.0822 - g_mae: 7.9864"
          ]
        },
        {
          "name": "stderr",
          "output_type": "stream",
          "text": [
            "WARNING:tensorflow:Compiled the loaded model, but the compiled metrics have yet to be built. `model.compile_metrics` will be empty until you train or evaluate the model.\n",
            "WARNING:tensorflow:Compiled the loaded model, but the compiled metrics have yet to be built. `model.compile_metrics` will be empty until you train or evaluate the model.\n"
          ]
        },
        {
          "name": "stdout",
          "output_type": "stream",
          "text": [
            "122/122 [==============================] - 230s 2s/step - g_loss: 2.4865 - d_loss: 1.0847 - g_mae: 7.9820 - val_g_loss: 0.7503 - val_d_loss: 0.8941 - val_g_mae: 0.9042\n",
            "Epoch 5/200\n",
            "122/122 [==============================] - ETA: 0s - g_loss: 1.4090 - d_loss: 2.1855 - g_mae: 15.6188"
          ]
        },
        {
          "name": "stderr",
          "output_type": "stream",
          "text": [
            "WARNING:tensorflow:Compiled the loaded model, but the compiled metrics have yet to be built. `model.compile_metrics` will be empty until you train or evaluate the model.\n",
            "WARNING:tensorflow:Compiled the loaded model, but the compiled metrics have yet to be built. `model.compile_metrics` will be empty until you train or evaluate the model.\n"
          ]
        },
        {
          "name": "stdout",
          "output_type": "stream",
          "text": [
            "122/122 [==============================] - 229s 2s/step - g_loss: 1.4115 - d_loss: 2.1827 - g_mae: 15.6012 - val_g_loss: 1.3370 - val_d_loss: 1.5585 - val_g_mae: 2.3633\n",
            "Epoch 6/200\n",
            "122/122 [==============================] - ETA: 0s - g_loss: 3.4269 - d_loss: 1.8668 - g_mae: 14.0209"
          ]
        },
        {
          "name": "stderr",
          "output_type": "stream",
          "text": [
            "WARNING:tensorflow:Compiled the loaded model, but the compiled metrics have yet to be built. `model.compile_metrics` will be empty until you train or evaluate the model.\n",
            "WARNING:tensorflow:Compiled the loaded model, but the compiled metrics have yet to be built. `model.compile_metrics` will be empty until you train or evaluate the model.\n"
          ]
        },
        {
          "name": "stdout",
          "output_type": "stream",
          "text": [
            "122/122 [==============================] - 229s 2s/step - g_loss: 3.4178 - d_loss: 1.8683 - g_mae: 13.9843 - val_g_loss: 0.5521 - val_d_loss: 1.4056 - val_g_mae: 1.0045\n",
            "Epoch 7/200\n",
            "122/122 [==============================] - ETA: 0s - g_loss: 1.3545 - d_loss: 1.4221 - g_mae: 6.9189"
          ]
        },
        {
          "name": "stderr",
          "output_type": "stream",
          "text": [
            "WARNING:tensorflow:Compiled the loaded model, but the compiled metrics have yet to be built. `model.compile_metrics` will be empty until you train or evaluate the model.\n",
            "WARNING:tensorflow:Compiled the loaded model, but the compiled metrics have yet to be built. `model.compile_metrics` will be empty until you train or evaluate the model.\n"
          ]
        },
        {
          "name": "stdout",
          "output_type": "stream",
          "text": [
            "122/122 [==============================] - 228s 2s/step - g_loss: 1.3534 - d_loss: 1.4236 - g_mae: 6.9583 - val_g_loss: 0.8475 - val_d_loss: 1.3524 - val_g_mae: 2.5452\n",
            "Epoch 8/200\n",
            "122/122 [==============================] - ETA: 0s - g_loss: 0.8526 - d_loss: 1.8989 - g_mae: 3.5907"
          ]
        },
        {
          "name": "stderr",
          "output_type": "stream",
          "text": [
            "WARNING:tensorflow:Compiled the loaded model, but the compiled metrics have yet to be built. `model.compile_metrics` will be empty until you train or evaluate the model.\n",
            "WARNING:tensorflow:Compiled the loaded model, but the compiled metrics have yet to be built. `model.compile_metrics` will be empty until you train or evaluate the model.\n"
          ]
        },
        {
          "name": "stdout",
          "output_type": "stream",
          "text": [
            "122/122 [==============================] - 229s 2s/step - g_loss: 0.8524 - d_loss: 1.8993 - g_mae: 3.5895 - val_g_loss: 0.7803 - val_d_loss: 1.3743 - val_g_mae: 0.9214\n",
            "Epoch 9/200\n",
            "122/122 [==============================] - ETA: 0s - g_loss: 1.5293 - d_loss: 1.3197 - g_mae: 2.8222"
          ]
        },
        {
          "name": "stderr",
          "output_type": "stream",
          "text": [
            "WARNING:tensorflow:Compiled the loaded model, but the compiled metrics have yet to be built. `model.compile_metrics` will be empty until you train or evaluate the model.\n",
            "WARNING:tensorflow:Compiled the loaded model, but the compiled metrics have yet to be built. `model.compile_metrics` will be empty until you train or evaluate the model.\n"
          ]
        },
        {
          "name": "stdout",
          "output_type": "stream",
          "text": [
            "122/122 [==============================] - 229s 2s/step - g_loss: 1.5301 - d_loss: 1.3203 - g_mae: 2.8324 - val_g_loss: 1.1908 - val_d_loss: 2.0107 - val_g_mae: 1.0384\n",
            "Epoch 10/200\n",
            "122/122 [==============================] - ETA: 0s - g_loss: 1.2127 - d_loss: 1.3852 - g_mae: 6.5273"
          ]
        },
        {
          "name": "stderr",
          "output_type": "stream",
          "text": [
            "WARNING:tensorflow:Compiled the loaded model, but the compiled metrics have yet to be built. `model.compile_metrics` will be empty until you train or evaluate the model.\n",
            "WARNING:tensorflow:Compiled the loaded model, but the compiled metrics have yet to be built. `model.compile_metrics` will be empty until you train or evaluate the model.\n"
          ]
        },
        {
          "name": "stdout",
          "output_type": "stream",
          "text": [
            "122/122 [==============================] - 228s 2s/step - g_loss: 1.2128 - d_loss: 1.3859 - g_mae: 6.5516 - val_g_loss: 0.7708 - val_d_loss: 1.3164 - val_g_mae: 0.9606\n",
            "Epoch 11/200\n",
            "122/122 [==============================] - ETA: 0s - g_loss: 1.4901 - d_loss: 1.3666 - g_mae: 2.4598"
          ]
        },
        {
          "name": "stderr",
          "output_type": "stream",
          "text": [
            "WARNING:tensorflow:Compiled the loaded model, but the compiled metrics have yet to be built. `model.compile_metrics` will be empty until you train or evaluate the model.\n",
            "WARNING:tensorflow:Compiled the loaded model, but the compiled metrics have yet to be built. `model.compile_metrics` will be empty until you train or evaluate the model.\n"
          ]
        },
        {
          "name": "stdout",
          "output_type": "stream",
          "text": [
            "122/122 [==============================] - 228s 2s/step - g_loss: 1.4943 - d_loss: 1.3644 - g_mae: 2.4615 - val_g_loss: 0.7457 - val_d_loss: 2.4495 - val_g_mae: 1.3493\n",
            "Epoch 12/200\n",
            "122/122 [==============================] - ETA: 0s - g_loss: 2.5189 - d_loss: 2.3747 - g_mae: 12.2262"
          ]
        },
        {
          "name": "stderr",
          "output_type": "stream",
          "text": [
            "WARNING:tensorflow:Compiled the loaded model, but the compiled metrics have yet to be built. `model.compile_metrics` will be empty until you train or evaluate the model.\n",
            "WARNING:tensorflow:Compiled the loaded model, but the compiled metrics have yet to be built. `model.compile_metrics` will be empty until you train or evaluate the model.\n"
          ]
        },
        {
          "name": "stdout",
          "output_type": "stream",
          "text": [
            "122/122 [==============================] - 228s 2s/step - g_loss: 2.5144 - d_loss: 2.3698 - g_mae: 12.1971 - val_g_loss: 1.1970 - val_d_loss: 0.6802 - val_g_mae: 1.7459\n",
            "Epoch 13/200\n",
            "122/122 [==============================] - ETA: 0s - g_loss: 2.1133 - d_loss: 0.9868 - g_mae: 2.6351"
          ]
        },
        {
          "name": "stderr",
          "output_type": "stream",
          "text": [
            "WARNING:tensorflow:Compiled the loaded model, but the compiled metrics have yet to be built. `model.compile_metrics` will be empty until you train or evaluate the model.\n",
            "WARNING:tensorflow:Compiled the loaded model, but the compiled metrics have yet to be built. `model.compile_metrics` will be empty until you train or evaluate the model.\n"
          ]
        },
        {
          "name": "stdout",
          "output_type": "stream",
          "text": [
            "122/122 [==============================] - 228s 2s/step - g_loss: 2.1178 - d_loss: 0.9851 - g_mae: 2.6350 - val_g_loss: 4.1987 - val_d_loss: 0.9765 - val_g_mae: 1.9901\n",
            "Epoch 14/200\n",
            "122/122 [==============================] - ETA: 0s - g_loss: 3.6122 - d_loss: 0.6308 - g_mae: 3.3866"
          ]
        },
        {
          "name": "stderr",
          "output_type": "stream",
          "text": [
            "WARNING:tensorflow:Compiled the loaded model, but the compiled metrics have yet to be built. `model.compile_metrics` will be empty until you train or evaluate the model.\n",
            "WARNING:tensorflow:Compiled the loaded model, but the compiled metrics have yet to be built. `model.compile_metrics` will be empty until you train or evaluate the model.\n"
          ]
        },
        {
          "name": "stdout",
          "output_type": "stream",
          "text": [
            "122/122 [==============================] - 228s 2s/step - g_loss: 3.6137 - d_loss: 0.6301 - g_mae: 3.3894 - val_g_loss: 1.2125 - val_d_loss: 0.6891 - val_g_mae: 1.0359\n",
            "Epoch 15/200\n",
            "122/122 [==============================] - ETA: 0s - g_loss: 3.9056 - d_loss: 0.4562 - g_mae: 2.5046"
          ]
        },
        {
          "name": "stderr",
          "output_type": "stream",
          "text": [
            "WARNING:tensorflow:Compiled the loaded model, but the compiled metrics have yet to be built. `model.compile_metrics` will be empty until you train or evaluate the model.\n",
            "WARNING:tensorflow:Compiled the loaded model, but the compiled metrics have yet to be built. `model.compile_metrics` will be empty until you train or evaluate the model.\n"
          ]
        },
        {
          "name": "stdout",
          "output_type": "stream",
          "text": [
            "122/122 [==============================] - 228s 2s/step - g_loss: 3.9052 - d_loss: 0.4564 - g_mae: 2.5067 - val_g_loss: 3.1359 - val_d_loss: 0.4096 - val_g_mae: 1.7820\n",
            "Epoch 16/200\n",
            "122/122 [==============================] - ETA: 0s - g_loss: 3.3048 - d_loss: 0.8477 - g_mae: 4.1475"
          ]
        },
        {
          "name": "stderr",
          "output_type": "stream",
          "text": [
            "WARNING:tensorflow:Compiled the loaded model, but the compiled metrics have yet to be built. `model.compile_metrics` will be empty until you train or evaluate the model.\n",
            "WARNING:tensorflow:Compiled the loaded model, but the compiled metrics have yet to be built. `model.compile_metrics` will be empty until you train or evaluate the model.\n"
          ]
        },
        {
          "name": "stdout",
          "output_type": "stream",
          "text": [
            "122/122 [==============================] - 227s 2s/step - g_loss: 3.3056 - d_loss: 0.8470 - g_mae: 4.1590 - val_g_loss: 3.2218 - val_d_loss: 0.2910 - val_g_mae: 1.4082\n",
            "Epoch 17/200\n",
            "122/122 [==============================] - ETA: 0s - g_loss: 4.3356 - d_loss: 0.3679 - g_mae: 2.2274"
          ]
        },
        {
          "name": "stderr",
          "output_type": "stream",
          "text": [
            "WARNING:tensorflow:Compiled the loaded model, but the compiled metrics have yet to be built. `model.compile_metrics` will be empty until you train or evaluate the model.\n",
            "WARNING:tensorflow:Compiled the loaded model, but the compiled metrics have yet to be built. `model.compile_metrics` will be empty until you train or evaluate the model.\n"
          ]
        },
        {
          "name": "stdout",
          "output_type": "stream",
          "text": [
            "122/122 [==============================] - 227s 2s/step - g_loss: 4.3389 - d_loss: 0.3671 - g_mae: 2.2266 - val_g_loss: 4.3551 - val_d_loss: 0.4412 - val_g_mae: 0.9167\n",
            "Epoch 18/200\n",
            "122/122 [==============================] - ETA: 0s - g_loss: 4.9050 - d_loss: 0.1636 - g_mae: 2.0597"
          ]
        },
        {
          "name": "stderr",
          "output_type": "stream",
          "text": [
            "WARNING:tensorflow:Compiled the loaded model, but the compiled metrics have yet to be built. `model.compile_metrics` will be empty until you train or evaluate the model.\n",
            "WARNING:tensorflow:Compiled the loaded model, but the compiled metrics have yet to be built. `model.compile_metrics` will be empty until you train or evaluate the model.\n"
          ]
        },
        {
          "name": "stdout",
          "output_type": "stream",
          "text": [
            "122/122 [==============================] - 227s 2s/step - g_loss: 4.9048 - d_loss: 0.1635 - g_mae: 2.0601 - val_g_loss: 3.4977 - val_d_loss: 0.4081 - val_g_mae: 0.9161\n",
            "Epoch 19/200\n",
            "122/122 [==============================] - ETA: 0s - g_loss: 4.7542 - d_loss: 0.1406 - g_mae: 2.0794"
          ]
        },
        {
          "name": "stderr",
          "output_type": "stream",
          "text": [
            "WARNING:tensorflow:Compiled the loaded model, but the compiled metrics have yet to be built. `model.compile_metrics` will be empty until you train or evaluate the model.\n",
            "WARNING:tensorflow:Compiled the loaded model, but the compiled metrics have yet to be built. `model.compile_metrics` will be empty until you train or evaluate the model.\n"
          ]
        },
        {
          "name": "stdout",
          "output_type": "stream",
          "text": [
            "122/122 [==============================] - 227s 2s/step - g_loss: 4.7551 - d_loss: 0.1405 - g_mae: 2.0795 - val_g_loss: 4.1401 - val_d_loss: 0.4303 - val_g_mae: 0.9160\n",
            "Epoch 20/200\n",
            "122/122 [==============================] - ETA: 0s - g_loss: 4.9865 - d_loss: 0.1212 - g_mae: 2.1000"
          ]
        },
        {
          "name": "stderr",
          "output_type": "stream",
          "text": [
            "WARNING:tensorflow:Compiled the loaded model, but the compiled metrics have yet to be built. `model.compile_metrics` will be empty until you train or evaluate the model.\n",
            "WARNING:tensorflow:Compiled the loaded model, but the compiled metrics have yet to be built. `model.compile_metrics` will be empty until you train or evaluate the model.\n"
          ]
        },
        {
          "name": "stdout",
          "output_type": "stream",
          "text": [
            "122/122 [==============================] - 227s 2s/step - g_loss: 4.9866 - d_loss: 0.1212 - g_mae: 2.1000 - val_g_loss: 3.8782 - val_d_loss: 0.4124 - val_g_mae: 0.9160\n",
            "Epoch 21/200\n",
            "122/122 [==============================] - ETA: 0s - g_loss: 4.8929 - d_loss: 0.1184 - g_mae: 2.1266"
          ]
        },
        {
          "name": "stderr",
          "output_type": "stream",
          "text": [
            "WARNING:tensorflow:Compiled the loaded model, but the compiled metrics have yet to be built. `model.compile_metrics` will be empty until you train or evaluate the model.\n",
            "WARNING:tensorflow:Compiled the loaded model, but the compiled metrics have yet to be built. `model.compile_metrics` will be empty until you train or evaluate the model.\n"
          ]
        },
        {
          "name": "stdout",
          "output_type": "stream",
          "text": [
            "122/122 [==============================] - 228s 2s/step - g_loss: 4.8948 - d_loss: 0.1183 - g_mae: 2.1263 - val_g_loss: 4.5618 - val_d_loss: 0.4450 - val_g_mae: 0.9159\n",
            "Epoch 22/200\n",
            "122/122 [==============================] - ETA: 0s - g_loss: 5.3294 - d_loss: 0.0987 - g_mae: 2.0974"
          ]
        },
        {
          "name": "stderr",
          "output_type": "stream",
          "text": [
            "WARNING:tensorflow:Compiled the loaded model, but the compiled metrics have yet to be built. `model.compile_metrics` will be empty until you train or evaluate the model.\n",
            "WARNING:tensorflow:Compiled the loaded model, but the compiled metrics have yet to be built. `model.compile_metrics` will be empty until you train or evaluate the model.\n"
          ]
        },
        {
          "name": "stdout",
          "output_type": "stream",
          "text": [
            "122/122 [==============================] - 228s 2s/step - g_loss: 5.3285 - d_loss: 0.0987 - g_mae: 2.0974 - val_g_loss: 3.7530 - val_d_loss: 0.4135 - val_g_mae: 0.9159\n",
            "Epoch 23/200\n",
            "122/122 [==============================] - ETA: 0s - g_loss: 5.3380 - d_loss: 0.0951 - g_mae: 2.0867"
          ]
        },
        {
          "name": "stderr",
          "output_type": "stream",
          "text": [
            "WARNING:tensorflow:Compiled the loaded model, but the compiled metrics have yet to be built. `model.compile_metrics` will be empty until you train or evaluate the model.\n",
            "WARNING:tensorflow:Compiled the loaded model, but the compiled metrics have yet to be built. `model.compile_metrics` will be empty until you train or evaluate the model.\n"
          ]
        },
        {
          "name": "stdout",
          "output_type": "stream",
          "text": [
            "122/122 [==============================] - 227s 2s/step - g_loss: 5.3382 - d_loss: 0.0951 - g_mae: 2.0868 - val_g_loss: 5.1700 - val_d_loss: 0.4821 - val_g_mae: 0.9159\n",
            "Epoch 24/200\n",
            "122/122 [==============================] - ETA: 0s - g_loss: 5.6708 - d_loss: 0.0911 - g_mae: 2.1255"
          ]
        },
        {
          "name": "stderr",
          "output_type": "stream",
          "text": [
            "WARNING:tensorflow:Compiled the loaded model, but the compiled metrics have yet to be built. `model.compile_metrics` will be empty until you train or evaluate the model.\n",
            "WARNING:tensorflow:Compiled the loaded model, but the compiled metrics have yet to be built. `model.compile_metrics` will be empty until you train or evaluate the model.\n"
          ]
        },
        {
          "name": "stdout",
          "output_type": "stream",
          "text": [
            "122/122 [==============================] - 227s 2s/step - g_loss: 5.6689 - d_loss: 0.0912 - g_mae: 2.1254 - val_g_loss: 4.7750 - val_d_loss: 0.4686 - val_g_mae: 0.9158\n",
            "Epoch 25/200\n",
            "122/122 [==============================] - ETA: 0s - g_loss: 5.5939 - d_loss: 0.0883 - g_mae: 2.1001"
          ]
        },
        {
          "name": "stderr",
          "output_type": "stream",
          "text": [
            "WARNING:tensorflow:Compiled the loaded model, but the compiled metrics have yet to be built. `model.compile_metrics` will be empty until you train or evaluate the model.\n",
            "WARNING:tensorflow:Compiled the loaded model, but the compiled metrics have yet to be built. `model.compile_metrics` will be empty until you train or evaluate the model.\n"
          ]
        },
        {
          "name": "stdout",
          "output_type": "stream",
          "text": [
            "122/122 [==============================] - 227s 2s/step - g_loss: 5.5934 - d_loss: 0.0883 - g_mae: 2.1001 - val_g_loss: 4.8655 - val_d_loss: 0.4814 - val_g_mae: 0.9210\n",
            "Epoch 26/200\n",
            "122/122 [==============================] - ETA: 0s - g_loss: 5.5521 - d_loss: 0.3846 - g_mae: 4.4644"
          ]
        },
        {
          "name": "stderr",
          "output_type": "stream",
          "text": [
            "WARNING:tensorflow:Compiled the loaded model, but the compiled metrics have yet to be built. `model.compile_metrics` will be empty until you train or evaluate the model.\n",
            "WARNING:tensorflow:Compiled the loaded model, but the compiled metrics have yet to be built. `model.compile_metrics` will be empty until you train or evaluate the model.\n"
          ]
        },
        {
          "name": "stdout",
          "output_type": "stream",
          "text": [
            "122/122 [==============================] - 228s 2s/step - g_loss: 5.5519 - d_loss: 0.3845 - g_mae: 4.4657 - val_g_loss: 2.8278 - val_d_loss: 0.2920 - val_g_mae: 3.3933\n",
            "Epoch 27/200\n",
            "122/122 [==============================] - ETA: 0s - g_loss: 4.4762 - d_loss: 0.2324 - g_mae: 2.4273"
          ]
        },
        {
          "name": "stderr",
          "output_type": "stream",
          "text": [
            "WARNING:tensorflow:Compiled the loaded model, but the compiled metrics have yet to be built. `model.compile_metrics` will be empty until you train or evaluate the model.\n",
            "WARNING:tensorflow:Compiled the loaded model, but the compiled metrics have yet to be built. `model.compile_metrics` will be empty until you train or evaluate the model.\n"
          ]
        },
        {
          "name": "stdout",
          "output_type": "stream",
          "text": [
            "122/122 [==============================] - 227s 2s/step - g_loss: 4.4792 - d_loss: 0.2319 - g_mae: 2.4254 - val_g_loss: 3.5923 - val_d_loss: 0.5157 - val_g_mae: 0.9196\n",
            "Epoch 28/200\n",
            "122/122 [==============================] - ETA: 0s - g_loss: 4.9332 - d_loss: 0.3139 - g_mae: 2.7087"
          ]
        },
        {
          "name": "stderr",
          "output_type": "stream",
          "text": [
            "WARNING:tensorflow:Compiled the loaded model, but the compiled metrics have yet to be built. `model.compile_metrics` will be empty until you train or evaluate the model.\n",
            "WARNING:tensorflow:Compiled the loaded model, but the compiled metrics have yet to be built. `model.compile_metrics` will be empty until you train or evaluate the model.\n"
          ]
        },
        {
          "name": "stdout",
          "output_type": "stream",
          "text": [
            "122/122 [==============================] - 228s 2s/step - g_loss: 4.9333 - d_loss: 0.3134 - g_mae: 2.7075 - val_g_loss: 3.9759 - val_d_loss: 0.3946 - val_g_mae: 0.9158\n",
            "Epoch 29/200\n",
            "122/122 [==============================] - ETA: 0s - g_loss: 4.8524 - d_loss: 0.0990 - g_mae: 2.1410"
          ]
        },
        {
          "name": "stderr",
          "output_type": "stream",
          "text": [
            "WARNING:tensorflow:Compiled the loaded model, but the compiled metrics have yet to be built. `model.compile_metrics` will be empty until you train or evaluate the model.\n",
            "WARNING:tensorflow:Compiled the loaded model, but the compiled metrics have yet to be built. `model.compile_metrics` will be empty until you train or evaluate the model.\n"
          ]
        },
        {
          "name": "stdout",
          "output_type": "stream",
          "text": [
            "122/122 [==============================] - 227s 2s/step - g_loss: 4.8544 - d_loss: 0.0989 - g_mae: 2.1407 - val_g_loss: 4.7053 - val_d_loss: 0.4191 - val_g_mae: 0.9158\n",
            "Epoch 30/200\n",
            "122/122 [==============================] - ETA: 0s - g_loss: 5.3789 - d_loss: 0.0902 - g_mae: 2.0966"
          ]
        },
        {
          "name": "stderr",
          "output_type": "stream",
          "text": [
            "WARNING:tensorflow:Compiled the loaded model, but the compiled metrics have yet to be built. `model.compile_metrics` will be empty until you train or evaluate the model.\n",
            "WARNING:tensorflow:Compiled the loaded model, but the compiled metrics have yet to be built. `model.compile_metrics` will be empty until you train or evaluate the model.\n"
          ]
        },
        {
          "name": "stdout",
          "output_type": "stream",
          "text": [
            "122/122 [==============================] - 227s 2s/step - g_loss: 5.3793 - d_loss: 0.0901 - g_mae: 2.0966 - val_g_loss: 4.4405 - val_d_loss: 0.3844 - val_g_mae: 0.9158\n",
            "Epoch 31/200\n",
            "122/122 [==============================] - ETA: 0s - g_loss: 5.7513 - d_loss: 0.0741 - g_mae: 2.1286"
          ]
        },
        {
          "name": "stderr",
          "output_type": "stream",
          "text": [
            "WARNING:tensorflow:Compiled the loaded model, but the compiled metrics have yet to be built. `model.compile_metrics` will be empty until you train or evaluate the model.\n",
            "WARNING:tensorflow:Compiled the loaded model, but the compiled metrics have yet to be built. `model.compile_metrics` will be empty until you train or evaluate the model.\n"
          ]
        },
        {
          "name": "stdout",
          "output_type": "stream",
          "text": [
            "122/122 [==============================] - 227s 2s/step - g_loss: 5.7502 - d_loss: 0.0741 - g_mae: 2.1283 - val_g_loss: 4.5243 - val_d_loss: 0.3853 - val_g_mae: 0.9158\n",
            "Epoch 32/200\n",
            "122/122 [==============================] - ETA: 0s - g_loss: 5.6972 - d_loss: 0.0742 - g_mae: 2.1295"
          ]
        },
        {
          "name": "stderr",
          "output_type": "stream",
          "text": [
            "WARNING:tensorflow:Compiled the loaded model, but the compiled metrics have yet to be built. `model.compile_metrics` will be empty until you train or evaluate the model.\n",
            "WARNING:tensorflow:Compiled the loaded model, but the compiled metrics have yet to be built. `model.compile_metrics` will be empty until you train or evaluate the model.\n"
          ]
        },
        {
          "name": "stdout",
          "output_type": "stream",
          "text": [
            "122/122 [==============================] - 227s 2s/step - g_loss: 5.6977 - d_loss: 0.0742 - g_mae: 2.1293 - val_g_loss: 3.7726 - val_d_loss: 0.3543 - val_g_mae: 0.9158\n",
            "Epoch 33/200\n",
            "122/122 [==============================] - ETA: 0s - g_loss: 5.5415 - d_loss: 0.0687 - g_mae: 2.1533"
          ]
        },
        {
          "name": "stderr",
          "output_type": "stream",
          "text": [
            "WARNING:tensorflow:Compiled the loaded model, but the compiled metrics have yet to be built. `model.compile_metrics` will be empty until you train or evaluate the model.\n",
            "WARNING:tensorflow:Compiled the loaded model, but the compiled metrics have yet to be built. `model.compile_metrics` will be empty until you train or evaluate the model.\n"
          ]
        },
        {
          "name": "stdout",
          "output_type": "stream",
          "text": [
            "122/122 [==============================] - 226s 2s/step - g_loss: 5.5431 - d_loss: 0.0687 - g_mae: 2.1528 - val_g_loss: 5.2617 - val_d_loss: 0.4560 - val_g_mae: 0.9158\n",
            "Epoch 34/200\n",
            "122/122 [==============================] - ETA: 0s - g_loss: 5.8881 - d_loss: 0.0687 - g_mae: 2.0923"
          ]
        },
        {
          "name": "stderr",
          "output_type": "stream",
          "text": [
            "WARNING:tensorflow:Compiled the loaded model, but the compiled metrics have yet to be built. `model.compile_metrics` will be empty until you train or evaluate the model.\n",
            "WARNING:tensorflow:Compiled the loaded model, but the compiled metrics have yet to be built. `model.compile_metrics` will be empty until you train or evaluate the model.\n"
          ]
        },
        {
          "name": "stdout",
          "output_type": "stream",
          "text": [
            "122/122 [==============================] - 226s 2s/step - g_loss: 5.8866 - d_loss: 0.0688 - g_mae: 2.0923 - val_g_loss: 3.9852 - val_d_loss: 0.3940 - val_g_mae: 0.9158\n",
            "Epoch 35/200\n",
            "122/122 [==============================] - ETA: 0s - g_loss: 5.7920 - d_loss: 0.0695 - g_mae: 2.0783"
          ]
        },
        {
          "name": "stderr",
          "output_type": "stream",
          "text": [
            "WARNING:tensorflow:Compiled the loaded model, but the compiled metrics have yet to be built. `model.compile_metrics` will be empty until you train or evaluate the model.\n",
            "WARNING:tensorflow:Compiled the loaded model, but the compiled metrics have yet to be built. `model.compile_metrics` will be empty until you train or evaluate the model.\n"
          ]
        },
        {
          "name": "stdout",
          "output_type": "stream",
          "text": [
            "122/122 [==============================] - 226s 2s/step - g_loss: 5.7924 - d_loss: 0.0694 - g_mae: 2.0785 - val_g_loss: 5.3390 - val_d_loss: 0.4680 - val_g_mae: 0.9158\n",
            "Epoch 36/200\n",
            "122/122 [==============================] - ETA: 0s - g_loss: 5.9320 - d_loss: 0.0787 - g_mae: 2.0593"
          ]
        },
        {
          "name": "stderr",
          "output_type": "stream",
          "text": [
            "WARNING:tensorflow:Compiled the loaded model, but the compiled metrics have yet to be built. `model.compile_metrics` will be empty until you train or evaluate the model.\n",
            "WARNING:tensorflow:Compiled the loaded model, but the compiled metrics have yet to be built. `model.compile_metrics` will be empty until you train or evaluate the model.\n"
          ]
        },
        {
          "name": "stdout",
          "output_type": "stream",
          "text": [
            "122/122 [==============================] - 227s 2s/step - g_loss: 5.9296 - d_loss: 0.0794 - g_mae: 2.0600 - val_g_loss: 0.7401 - val_d_loss: 1.5461 - val_g_mae: 3.1702\n",
            "Epoch 37/200\n",
            "122/122 [==============================] - ETA: 0s - g_loss: 4.3907 - d_loss: 0.6244 - g_mae: 6.8162"
          ]
        },
        {
          "name": "stderr",
          "output_type": "stream",
          "text": [
            "WARNING:tensorflow:Compiled the loaded model, but the compiled metrics have yet to be built. `model.compile_metrics` will be empty until you train or evaluate the model.\n",
            "WARNING:tensorflow:Compiled the loaded model, but the compiled metrics have yet to be built. `model.compile_metrics` will be empty until you train or evaluate the model.\n"
          ]
        },
        {
          "name": "stdout",
          "output_type": "stream",
          "text": [
            "122/122 [==============================] - 228s 2s/step - g_loss: 4.3959 - d_loss: 0.6223 - g_mae: 6.7948 - val_g_loss: 3.2229 - val_d_loss: 0.4581 - val_g_mae: 1.0832\n",
            "Epoch 38/200\n",
            "122/122 [==============================] - ETA: 0s - g_loss: 4.9887 - d_loss: 0.1874 - g_mae: 2.2430"
          ]
        },
        {
          "name": "stderr",
          "output_type": "stream",
          "text": [
            "WARNING:tensorflow:Compiled the loaded model, but the compiled metrics have yet to be built. `model.compile_metrics` will be empty until you train or evaluate the model.\n",
            "WARNING:tensorflow:Compiled the loaded model, but the compiled metrics have yet to be built. `model.compile_metrics` will be empty until you train or evaluate the model.\n"
          ]
        },
        {
          "name": "stdout",
          "output_type": "stream",
          "text": [
            "122/122 [==============================] - 228s 2s/step - g_loss: 4.9880 - d_loss: 0.1874 - g_mae: 2.2427 - val_g_loss: 3.7650 - val_d_loss: 0.4281 - val_g_mae: 1.0127\n",
            "Epoch 39/200\n",
            "122/122 [==============================] - ETA: 0s - g_loss: 4.8949 - d_loss: 0.1389 - g_mae: 2.2013"
          ]
        },
        {
          "name": "stderr",
          "output_type": "stream",
          "text": [
            "WARNING:tensorflow:Compiled the loaded model, but the compiled metrics have yet to be built. `model.compile_metrics` will be empty until you train or evaluate the model.\n",
            "WARNING:tensorflow:Compiled the loaded model, but the compiled metrics have yet to be built. `model.compile_metrics` will be empty until you train or evaluate the model.\n"
          ]
        },
        {
          "name": "stdout",
          "output_type": "stream",
          "text": [
            "122/122 [==============================] - 228s 2s/step - g_loss: 4.8952 - d_loss: 0.1389 - g_mae: 2.2012 - val_g_loss: 3.3112 - val_d_loss: 0.4517 - val_g_mae: 0.9651\n",
            "Epoch 40/200\n",
            "122/122 [==============================] - ETA: 0s - g_loss: 4.8045 - d_loss: 0.1811 - g_mae: 2.0901"
          ]
        },
        {
          "name": "stderr",
          "output_type": "stream",
          "text": [
            "WARNING:tensorflow:Compiled the loaded model, but the compiled metrics have yet to be built. `model.compile_metrics` will be empty until you train or evaluate the model.\n",
            "WARNING:tensorflow:Compiled the loaded model, but the compiled metrics have yet to be built. `model.compile_metrics` will be empty until you train or evaluate the model.\n"
          ]
        },
        {
          "name": "stdout",
          "output_type": "stream",
          "text": [
            "122/122 [==============================] - 228s 2s/step - g_loss: 4.8033 - d_loss: 0.1818 - g_mae: 2.0912 - val_g_loss: 2.2496 - val_d_loss: 0.6527 - val_g_mae: 2.2452\n",
            "Epoch 41/200\n",
            "122/122 [==============================] - ETA: 0s - g_loss: 2.0727 - d_loss: 1.4240 - g_mae: 4.3592"
          ]
        },
        {
          "name": "stderr",
          "output_type": "stream",
          "text": [
            "WARNING:tensorflow:Compiled the loaded model, but the compiled metrics have yet to be built. `model.compile_metrics` will be empty until you train or evaluate the model.\n",
            "WARNING:tensorflow:Compiled the loaded model, but the compiled metrics have yet to be built. `model.compile_metrics` will be empty until you train or evaluate the model.\n"
          ]
        },
        {
          "name": "stdout",
          "output_type": "stream",
          "text": [
            "122/122 [==============================] - 228s 2s/step - g_loss: 2.0695 - d_loss: 1.4258 - g_mae: 4.3633 - val_g_loss: 0.9108 - val_d_loss: 1.1974 - val_g_mae: 1.5154\n",
            "Epoch 42/200\n",
            "122/122 [==============================] - ETA: 0s - g_loss: 0.9661 - d_loss: 1.8365 - g_mae: 2.6248"
          ]
        },
        {
          "name": "stderr",
          "output_type": "stream",
          "text": [
            "WARNING:tensorflow:Compiled the loaded model, but the compiled metrics have yet to be built. `model.compile_metrics` will be empty until you train or evaluate the model.\n",
            "WARNING:tensorflow:Compiled the loaded model, but the compiled metrics have yet to be built. `model.compile_metrics` will be empty until you train or evaluate the model.\n"
          ]
        },
        {
          "name": "stdout",
          "output_type": "stream",
          "text": [
            "122/122 [==============================] - 228s 2s/step - g_loss: 0.9675 - d_loss: 1.8351 - g_mae: 2.6260 - val_g_loss: 1.0109 - val_d_loss: 2.2528 - val_g_mae: 1.0091\n",
            "Epoch 43/200\n",
            "122/122 [==============================] - ETA: 0s - g_loss: 1.8195 - d_loss: 1.6802 - g_mae: 3.8522"
          ]
        },
        {
          "name": "stderr",
          "output_type": "stream",
          "text": [
            "WARNING:tensorflow:Compiled the loaded model, but the compiled metrics have yet to be built. `model.compile_metrics` will be empty until you train or evaluate the model.\n",
            "WARNING:tensorflow:Compiled the loaded model, but the compiled metrics have yet to be built. `model.compile_metrics` will be empty until you train or evaluate the model.\n"
          ]
        },
        {
          "name": "stdout",
          "output_type": "stream",
          "text": [
            "122/122 [==============================] - 228s 2s/step - g_loss: 1.8161 - d_loss: 1.6800 - g_mae: 3.8502 - val_g_loss: 0.9424 - val_d_loss: 1.2061 - val_g_mae: 1.6386\n",
            "Epoch 44/200\n",
            "122/122 [==============================] - ETA: 0s - g_loss: 1.2500 - d_loss: 1.7143 - g_mae: 2.8255"
          ]
        },
        {
          "name": "stderr",
          "output_type": "stream",
          "text": [
            "WARNING:tensorflow:Compiled the loaded model, but the compiled metrics have yet to be built. `model.compile_metrics` will be empty until you train or evaluate the model.\n",
            "WARNING:tensorflow:Compiled the loaded model, but the compiled metrics have yet to be built. `model.compile_metrics` will be empty until you train or evaluate the model.\n"
          ]
        },
        {
          "name": "stdout",
          "output_type": "stream",
          "text": [
            "122/122 [==============================] - 227s 2s/step - g_loss: 1.2490 - d_loss: 1.7144 - g_mae: 2.8269 - val_g_loss: 0.7209 - val_d_loss: 1.3730 - val_g_mae: 1.7254\n",
            "Epoch 45/200\n",
            "122/122 [==============================] - ETA: 0s - g_loss: 1.2090 - d_loss: 1.5188 - g_mae: 2.9593"
          ]
        },
        {
          "name": "stderr",
          "output_type": "stream",
          "text": [
            "WARNING:tensorflow:Compiled the loaded model, but the compiled metrics have yet to be built. `model.compile_metrics` will be empty until you train or evaluate the model.\n",
            "WARNING:tensorflow:Compiled the loaded model, but the compiled metrics have yet to be built. `model.compile_metrics` will be empty until you train or evaluate the model.\n"
          ]
        },
        {
          "name": "stdout",
          "output_type": "stream",
          "text": [
            "122/122 [==============================] - 228s 2s/step - g_loss: 1.2091 - d_loss: 1.5187 - g_mae: 2.9587 - val_g_loss: 0.9129 - val_d_loss: 1.0782 - val_g_mae: 1.2540\n",
            "Epoch 46/200\n",
            "122/122 [==============================] - ETA: 0s - g_loss: 1.7256 - d_loss: 1.3021 - g_mae: 2.4119"
          ]
        },
        {
          "name": "stderr",
          "output_type": "stream",
          "text": [
            "WARNING:tensorflow:Compiled the loaded model, but the compiled metrics have yet to be built. `model.compile_metrics` will be empty until you train or evaluate the model.\n",
            "WARNING:tensorflow:Compiled the loaded model, but the compiled metrics have yet to be built. `model.compile_metrics` will be empty until you train or evaluate the model.\n"
          ]
        },
        {
          "name": "stdout",
          "output_type": "stream",
          "text": [
            "122/122 [==============================] - 227s 2s/step - g_loss: 1.7253 - d_loss: 1.3022 - g_mae: 2.4130 - val_g_loss: 1.4882 - val_d_loss: 1.0982 - val_g_mae: 1.7249\n",
            "Epoch 47/200\n",
            "122/122 [==============================] - ETA: 0s - g_loss: 1.4813 - d_loss: 1.2546 - g_mae: 2.7543"
          ]
        },
        {
          "name": "stderr",
          "output_type": "stream",
          "text": [
            "WARNING:tensorflow:Compiled the loaded model, but the compiled metrics have yet to be built. `model.compile_metrics` will be empty until you train or evaluate the model.\n",
            "WARNING:tensorflow:Compiled the loaded model, but the compiled metrics have yet to be built. `model.compile_metrics` will be empty until you train or evaluate the model.\n"
          ]
        },
        {
          "name": "stdout",
          "output_type": "stream",
          "text": [
            "122/122 [==============================] - 228s 2s/step - g_loss: 1.4816 - d_loss: 1.2546 - g_mae: 2.7557 - val_g_loss: 1.2215 - val_d_loss: 0.9055 - val_g_mae: 1.7422\n",
            "Epoch 48/200\n",
            "122/122 [==============================] - ETA: 0s - g_loss: 1.7717 - d_loss: 1.1158 - g_mae: 2.5757"
          ]
        },
        {
          "name": "stderr",
          "output_type": "stream",
          "text": [
            "WARNING:tensorflow:Compiled the loaded model, but the compiled metrics have yet to be built. `model.compile_metrics` will be empty until you train or evaluate the model.\n",
            "WARNING:tensorflow:Compiled the loaded model, but the compiled metrics have yet to be built. `model.compile_metrics` will be empty until you train or evaluate the model.\n"
          ]
        },
        {
          "name": "stdout",
          "output_type": "stream",
          "text": [
            "122/122 [==============================] - 227s 2s/step - g_loss: 1.7723 - d_loss: 1.1159 - g_mae: 2.5772 - val_g_loss: 1.0338 - val_d_loss: 0.8655 - val_g_mae: 1.6442\n",
            "Epoch 49/200\n",
            "122/122 [==============================] - ETA: 0s - g_loss: 1.8166 - d_loss: 1.1195 - g_mae: 2.6014"
          ]
        },
        {
          "name": "stderr",
          "output_type": "stream",
          "text": [
            "WARNING:tensorflow:Compiled the loaded model, but the compiled metrics have yet to be built. `model.compile_metrics` will be empty until you train or evaluate the model.\n",
            "WARNING:tensorflow:Compiled the loaded model, but the compiled metrics have yet to be built. `model.compile_metrics` will be empty until you train or evaluate the model.\n"
          ]
        },
        {
          "name": "stdout",
          "output_type": "stream",
          "text": [
            "122/122 [==============================] - 228s 2s/step - g_loss: 1.8165 - d_loss: 1.1195 - g_mae: 2.6024 - val_g_loss: 1.0369 - val_d_loss: 0.9193 - val_g_mae: 1.9880\n",
            "Epoch 50/200\n",
            "122/122 [==============================] - ETA: 0s - g_loss: 1.7605 - d_loss: 1.0981 - g_mae: 2.7576"
          ]
        },
        {
          "name": "stderr",
          "output_type": "stream",
          "text": [
            "WARNING:tensorflow:Compiled the loaded model, but the compiled metrics have yet to be built. `model.compile_metrics` will be empty until you train or evaluate the model.\n",
            "WARNING:tensorflow:Compiled the loaded model, but the compiled metrics have yet to be built. `model.compile_metrics` will be empty until you train or evaluate the model.\n"
          ]
        },
        {
          "name": "stdout",
          "output_type": "stream",
          "text": [
            "122/122 [==============================] - 227s 2s/step - g_loss: 1.7605 - d_loss: 1.0983 - g_mae: 2.7572 - val_g_loss: 1.3435 - val_d_loss: 1.1560 - val_g_mae: 1.2176\n",
            "Epoch 51/200\n",
            "122/122 [==============================] - ETA: 0s - g_loss: 2.0987 - d_loss: 1.2995 - g_mae: 4.3203"
          ]
        },
        {
          "name": "stderr",
          "output_type": "stream",
          "text": [
            "WARNING:tensorflow:Compiled the loaded model, but the compiled metrics have yet to be built. `model.compile_metrics` will be empty until you train or evaluate the model.\n",
            "WARNING:tensorflow:Compiled the loaded model, but the compiled metrics have yet to be built. `model.compile_metrics` will be empty until you train or evaluate the model.\n"
          ]
        },
        {
          "name": "stdout",
          "output_type": "stream",
          "text": [
            "122/122 [==============================] - 227s 2s/step - g_loss: 2.0954 - d_loss: 1.2998 - g_mae: 4.3139 - val_g_loss: 0.9535 - val_d_loss: 1.1056 - val_g_mae: 1.9421\n",
            "Epoch 52/200\n",
            "122/122 [==============================] - ETA: 0s - g_loss: 1.4322 - d_loss: 1.2182 - g_mae: 2.7542"
          ]
        },
        {
          "name": "stderr",
          "output_type": "stream",
          "text": [
            "WARNING:tensorflow:Compiled the loaded model, but the compiled metrics have yet to be built. `model.compile_metrics` will be empty until you train or evaluate the model.\n",
            "WARNING:tensorflow:Compiled the loaded model, but the compiled metrics have yet to be built. `model.compile_metrics` will be empty until you train or evaluate the model.\n"
          ]
        },
        {
          "name": "stdout",
          "output_type": "stream",
          "text": [
            "122/122 [==============================] - 227s 2s/step - g_loss: 1.4367 - d_loss: 1.2172 - g_mae: 2.7541 - val_g_loss: 1.4608 - val_d_loss: 1.4894 - val_g_mae: 4.1035\n",
            "Epoch 53/200\n",
            "122/122 [==============================] - ETA: 0s - g_loss: 1.6593 - d_loss: 1.2423 - g_mae: 3.6591"
          ]
        },
        {
          "name": "stderr",
          "output_type": "stream",
          "text": [
            "WARNING:tensorflow:Compiled the loaded model, but the compiled metrics have yet to be built. `model.compile_metrics` will be empty until you train or evaluate the model.\n",
            "WARNING:tensorflow:Compiled the loaded model, but the compiled metrics have yet to be built. `model.compile_metrics` will be empty until you train or evaluate the model.\n"
          ]
        },
        {
          "name": "stdout",
          "output_type": "stream",
          "text": [
            "122/122 [==============================] - 227s 2s/step - g_loss: 1.6615 - d_loss: 1.2407 - g_mae: 3.6537 - val_g_loss: 2.5756 - val_d_loss: 1.3148 - val_g_mae: 1.1918\n",
            "Epoch 54/200\n",
            "122/122 [==============================] - ETA: 0s - g_loss: 2.1623 - d_loss: 1.1128 - g_mae: 2.8600"
          ]
        },
        {
          "name": "stderr",
          "output_type": "stream",
          "text": [
            "WARNING:tensorflow:Compiled the loaded model, but the compiled metrics have yet to be built. `model.compile_metrics` will be empty until you train or evaluate the model.\n",
            "WARNING:tensorflow:Compiled the loaded model, but the compiled metrics have yet to be built. `model.compile_metrics` will be empty until you train or evaluate the model.\n"
          ]
        },
        {
          "name": "stdout",
          "output_type": "stream",
          "text": [
            "122/122 [==============================] - 227s 2s/step - g_loss: 2.1606 - d_loss: 1.1123 - g_mae: 2.8595 - val_g_loss: 1.9204 - val_d_loss: 0.9470 - val_g_mae: 1.0868\n",
            "Epoch 55/200\n",
            "122/122 [==============================] - ETA: 0s - g_loss: 2.0844 - d_loss: 1.1633 - g_mae: 3.0572"
          ]
        },
        {
          "name": "stderr",
          "output_type": "stream",
          "text": [
            "WARNING:tensorflow:Compiled the loaded model, but the compiled metrics have yet to be built. `model.compile_metrics` will be empty until you train or evaluate the model.\n",
            "WARNING:tensorflow:Compiled the loaded model, but the compiled metrics have yet to be built. `model.compile_metrics` will be empty until you train or evaluate the model.\n"
          ]
        },
        {
          "name": "stdout",
          "output_type": "stream",
          "text": [
            "122/122 [==============================] - 227s 2s/step - g_loss: 2.0821 - d_loss: 1.1631 - g_mae: 3.0567 - val_g_loss: 1.4446 - val_d_loss: 0.7008 - val_g_mae: 2.1210\n",
            "Epoch 56/200\n",
            "122/122 [==============================] - ETA: 0s - g_loss: 1.9069 - d_loss: 0.9577 - g_mae: 2.4331"
          ]
        },
        {
          "name": "stderr",
          "output_type": "stream",
          "text": [
            "WARNING:tensorflow:Compiled the loaded model, but the compiled metrics have yet to be built. `model.compile_metrics` will be empty until you train or evaluate the model.\n",
            "WARNING:tensorflow:Compiled the loaded model, but the compiled metrics have yet to be built. `model.compile_metrics` will be empty until you train or evaluate the model.\n"
          ]
        },
        {
          "name": "stdout",
          "output_type": "stream",
          "text": [
            "122/122 [==============================] - 227s 2s/step - g_loss: 1.9065 - d_loss: 0.9581 - g_mae: 2.4337 - val_g_loss: 1.5991 - val_d_loss: 0.9435 - val_g_mae: 1.1860\n",
            "Epoch 57/200\n",
            "122/122 [==============================] - ETA: 0s - g_loss: 1.8721 - d_loss: 1.0791 - g_mae: 2.5335"
          ]
        },
        {
          "name": "stderr",
          "output_type": "stream",
          "text": [
            "WARNING:tensorflow:Compiled the loaded model, but the compiled metrics have yet to be built. `model.compile_metrics` will be empty until you train or evaluate the model.\n",
            "WARNING:tensorflow:Compiled the loaded model, but the compiled metrics have yet to be built. `model.compile_metrics` will be empty until you train or evaluate the model.\n"
          ]
        },
        {
          "name": "stdout",
          "output_type": "stream",
          "text": [
            "122/122 [==============================] - 227s 2s/step - g_loss: 1.8716 - d_loss: 1.0800 - g_mae: 2.5365 - val_g_loss: 1.0524 - val_d_loss: 0.9011 - val_g_mae: 1.5240\n",
            "Epoch 58/200\n",
            "122/122 [==============================] - ETA: 0s - g_loss: 1.7210 - d_loss: 1.0587 - g_mae: 2.5114"
          ]
        },
        {
          "name": "stderr",
          "output_type": "stream",
          "text": [
            "WARNING:tensorflow:Compiled the loaded model, but the compiled metrics have yet to be built. `model.compile_metrics` will be empty until you train or evaluate the model.\n",
            "WARNING:tensorflow:Compiled the loaded model, but the compiled metrics have yet to be built. `model.compile_metrics` will be empty until you train or evaluate the model.\n"
          ]
        },
        {
          "name": "stdout",
          "output_type": "stream",
          "text": [
            "122/122 [==============================] - 227s 2s/step - g_loss: 1.7204 - d_loss: 1.0592 - g_mae: 2.5127 - val_g_loss: 1.2721 - val_d_loss: 0.9497 - val_g_mae: 1.4786\n",
            "Epoch 59/200\n",
            "122/122 [==============================] - ETA: 0s - g_loss: 1.7857 - d_loss: 1.0548 - g_mae: 2.4942"
          ]
        },
        {
          "name": "stderr",
          "output_type": "stream",
          "text": [
            "WARNING:tensorflow:Compiled the loaded model, but the compiled metrics have yet to be built. `model.compile_metrics` will be empty until you train or evaluate the model.\n",
            "WARNING:tensorflow:Compiled the loaded model, but the compiled metrics have yet to be built. `model.compile_metrics` will be empty until you train or evaluate the model.\n"
          ]
        },
        {
          "name": "stdout",
          "output_type": "stream",
          "text": [
            "122/122 [==============================] - 227s 2s/step - g_loss: 1.7868 - d_loss: 1.0550 - g_mae: 2.4948 - val_g_loss: 1.5213 - val_d_loss: 1.3557 - val_g_mae: 1.3180\n",
            "Epoch 60/200\n",
            "122/122 [==============================] - ETA: 0s - g_loss: 1.4541 - d_loss: 1.5766 - g_mae: 3.1834"
          ]
        },
        {
          "name": "stderr",
          "output_type": "stream",
          "text": [
            "WARNING:tensorflow:Compiled the loaded model, but the compiled metrics have yet to be built. `model.compile_metrics` will be empty until you train or evaluate the model.\n",
            "WARNING:tensorflow:Compiled the loaded model, but the compiled metrics have yet to be built. `model.compile_metrics` will be empty until you train or evaluate the model.\n"
          ]
        },
        {
          "name": "stdout",
          "output_type": "stream",
          "text": [
            "122/122 [==============================] - 227s 2s/step - g_loss: 1.4538 - d_loss: 1.5755 - g_mae: 3.1822 - val_g_loss: 1.4079 - val_d_loss: 1.0091 - val_g_mae: 0.9880\n",
            "Epoch 61/200\n",
            "122/122 [==============================] - ETA: 0s - g_loss: 1.8293 - d_loss: 1.2033 - g_mae: 2.8017"
          ]
        },
        {
          "name": "stderr",
          "output_type": "stream",
          "text": [
            "WARNING:tensorflow:Compiled the loaded model, but the compiled metrics have yet to be built. `model.compile_metrics` will be empty until you train or evaluate the model.\n",
            "WARNING:tensorflow:Compiled the loaded model, but the compiled metrics have yet to be built. `model.compile_metrics` will be empty until you train or evaluate the model.\n"
          ]
        },
        {
          "name": "stdout",
          "output_type": "stream",
          "text": [
            "122/122 [==============================] - 227s 2s/step - g_loss: 1.8294 - d_loss: 1.2049 - g_mae: 2.8062 - val_g_loss: 0.8035 - val_d_loss: 0.8213 - val_g_mae: 2.9603\n",
            "Epoch 62/200\n",
            "122/122 [==============================] - ETA: 0s - g_loss: 1.0046 - d_loss: 1.6123 - g_mae: 2.9718"
          ]
        },
        {
          "name": "stderr",
          "output_type": "stream",
          "text": [
            "WARNING:tensorflow:Compiled the loaded model, but the compiled metrics have yet to be built. `model.compile_metrics` will be empty until you train or evaluate the model.\n",
            "WARNING:tensorflow:Compiled the loaded model, but the compiled metrics have yet to be built. `model.compile_metrics` will be empty until you train or evaluate the model.\n"
          ]
        },
        {
          "name": "stdout",
          "output_type": "stream",
          "text": [
            "122/122 [==============================] - 227s 2s/step - g_loss: 1.0048 - d_loss: 1.6130 - g_mae: 2.9714 - val_g_loss: 0.6647 - val_d_loss: 1.2726 - val_g_mae: 1.1194\n",
            "Epoch 63/200\n",
            "122/122 [==============================] - ETA: 0s - g_loss: 0.9836 - d_loss: 1.7166 - g_mae: 2.4910"
          ]
        },
        {
          "name": "stderr",
          "output_type": "stream",
          "text": [
            "WARNING:tensorflow:Compiled the loaded model, but the compiled metrics have yet to be built. `model.compile_metrics` will be empty until you train or evaluate the model.\n",
            "WARNING:tensorflow:Compiled the loaded model, but the compiled metrics have yet to be built. `model.compile_metrics` will be empty until you train or evaluate the model.\n"
          ]
        },
        {
          "name": "stdout",
          "output_type": "stream",
          "text": [
            "122/122 [==============================] - 226s 2s/step - g_loss: 0.9848 - d_loss: 1.7155 - g_mae: 2.4917 - val_g_loss: 1.3261 - val_d_loss: 1.1827 - val_g_mae: 1.3709\n",
            "Epoch 64/200\n",
            "122/122 [==============================] - ETA: 0s - g_loss: 1.3217 - d_loss: 1.4542 - g_mae: 2.7016"
          ]
        },
        {
          "name": "stderr",
          "output_type": "stream",
          "text": [
            "WARNING:tensorflow:Compiled the loaded model, but the compiled metrics have yet to be built. `model.compile_metrics` will be empty until you train or evaluate the model.\n",
            "WARNING:tensorflow:Compiled the loaded model, but the compiled metrics have yet to be built. `model.compile_metrics` will be empty until you train or evaluate the model.\n"
          ]
        },
        {
          "name": "stdout",
          "output_type": "stream",
          "text": [
            "122/122 [==============================] - 227s 2s/step - g_loss: 1.3215 - d_loss: 1.4542 - g_mae: 2.7024 - val_g_loss: 0.7154 - val_d_loss: 1.1037 - val_g_mae: 1.6459\n",
            "Epoch 65/200\n",
            "122/122 [==============================] - ETA: 0s - g_loss: 1.3041 - d_loss: 1.2520 - g_mae: 2.6182"
          ]
        },
        {
          "name": "stderr",
          "output_type": "stream",
          "text": [
            "WARNING:tensorflow:Compiled the loaded model, but the compiled metrics have yet to be built. `model.compile_metrics` will be empty until you train or evaluate the model.\n",
            "WARNING:tensorflow:Compiled the loaded model, but the compiled metrics have yet to be built. `model.compile_metrics` will be empty until you train or evaluate the model.\n"
          ]
        },
        {
          "name": "stdout",
          "output_type": "stream",
          "text": [
            "122/122 [==============================] - 227s 2s/step - g_loss: 1.3052 - d_loss: 1.2519 - g_mae: 2.6186 - val_g_loss: 1.2565 - val_d_loss: 0.9211 - val_g_mae: 1.1091\n",
            "Epoch 66/200\n",
            "122/122 [==============================] - ETA: 0s - g_loss: 1.7955 - d_loss: 1.2562 - g_mae: 2.7849"
          ]
        },
        {
          "name": "stderr",
          "output_type": "stream",
          "text": [
            "WARNING:tensorflow:Compiled the loaded model, but the compiled metrics have yet to be built. `model.compile_metrics` will be empty until you train or evaluate the model.\n",
            "WARNING:tensorflow:Compiled the loaded model, but the compiled metrics have yet to be built. `model.compile_metrics` will be empty until you train or evaluate the model.\n"
          ]
        },
        {
          "name": "stdout",
          "output_type": "stream",
          "text": [
            "122/122 [==============================] - 227s 2s/step - g_loss: 1.7944 - d_loss: 1.2574 - g_mae: 2.7863 - val_g_loss: 1.0522 - val_d_loss: 1.1323 - val_g_mae: 2.1407\n",
            "Epoch 67/200\n",
            "122/122 [==============================] - ETA: 0s - g_loss: 1.3667 - d_loss: 1.4396 - g_mae: 2.8696"
          ]
        },
        {
          "name": "stderr",
          "output_type": "stream",
          "text": [
            "WARNING:tensorflow:Compiled the loaded model, but the compiled metrics have yet to be built. `model.compile_metrics` will be empty until you train or evaluate the model.\n",
            "WARNING:tensorflow:Compiled the loaded model, but the compiled metrics have yet to be built. `model.compile_metrics` will be empty until you train or evaluate the model.\n"
          ]
        },
        {
          "name": "stdout",
          "output_type": "stream",
          "text": [
            "122/122 [==============================] - 227s 2s/step - g_loss: 1.3671 - d_loss: 1.4386 - g_mae: 2.8690 - val_g_loss: 1.1244 - val_d_loss: 0.8940 - val_g_mae: 1.9491\n",
            "Epoch 68/200\n",
            "122/122 [==============================] - ETA: 0s - g_loss: 1.6448 - d_loss: 1.2171 - g_mae: 2.6397"
          ]
        },
        {
          "name": "stderr",
          "output_type": "stream",
          "text": [
            "WARNING:tensorflow:Compiled the loaded model, but the compiled metrics have yet to be built. `model.compile_metrics` will be empty until you train or evaluate the model.\n",
            "WARNING:tensorflow:Compiled the loaded model, but the compiled metrics have yet to be built. `model.compile_metrics` will be empty until you train or evaluate the model.\n"
          ]
        },
        {
          "name": "stdout",
          "output_type": "stream",
          "text": [
            "122/122 [==============================] - 227s 2s/step - g_loss: 1.6445 - d_loss: 1.2176 - g_mae: 2.6403 - val_g_loss: 1.9043 - val_d_loss: 0.8391 - val_g_mae: 0.9612\n",
            "Epoch 69/200\n",
            "122/122 [==============================] - ETA: 0s - g_loss: 1.8361 - d_loss: 1.3863 - g_mae: 3.1688"
          ]
        },
        {
          "name": "stderr",
          "output_type": "stream",
          "text": [
            "WARNING:tensorflow:Compiled the loaded model, but the compiled metrics have yet to be built. `model.compile_metrics` will be empty until you train or evaluate the model.\n",
            "WARNING:tensorflow:Compiled the loaded model, but the compiled metrics have yet to be built. `model.compile_metrics` will be empty until you train or evaluate the model.\n"
          ]
        },
        {
          "name": "stdout",
          "output_type": "stream",
          "text": [
            "122/122 [==============================] - 227s 2s/step - g_loss: 1.8341 - d_loss: 1.3861 - g_mae: 3.1684 - val_g_loss: 2.0435 - val_d_loss: 1.2996 - val_g_mae: 1.2337\n",
            "Epoch 70/200\n",
            "122/122 [==============================] - ETA: 0s - g_loss: 1.5813 - d_loss: 1.2260 - g_mae: 2.6626"
          ]
        },
        {
          "name": "stderr",
          "output_type": "stream",
          "text": [
            "WARNING:tensorflow:Compiled the loaded model, but the compiled metrics have yet to be built. `model.compile_metrics` will be empty until you train or evaluate the model.\n",
            "WARNING:tensorflow:Compiled the loaded model, but the compiled metrics have yet to be built. `model.compile_metrics` will be empty until you train or evaluate the model.\n"
          ]
        },
        {
          "name": "stdout",
          "output_type": "stream",
          "text": [
            "122/122 [==============================] - 227s 2s/step - g_loss: 1.5819 - d_loss: 1.2258 - g_mae: 2.6627 - val_g_loss: 1.6576 - val_d_loss: 1.0308 - val_g_mae: 1.2375\n",
            "Epoch 71/200\n",
            "122/122 [==============================] - ETA: 0s - g_loss: 1.6787 - d_loss: 1.3266 - g_mae: 2.8018"
          ]
        },
        {
          "name": "stderr",
          "output_type": "stream",
          "text": [
            "WARNING:tensorflow:Compiled the loaded model, but the compiled metrics have yet to be built. `model.compile_metrics` will be empty until you train or evaluate the model.\n",
            "WARNING:tensorflow:Compiled the loaded model, but the compiled metrics have yet to be built. `model.compile_metrics` will be empty until you train or evaluate the model.\n"
          ]
        },
        {
          "name": "stdout",
          "output_type": "stream",
          "text": [
            "122/122 [==============================] - 227s 2s/step - g_loss: 1.6791 - d_loss: 1.3267 - g_mae: 2.8016 - val_g_loss: 0.8244 - val_d_loss: 0.9982 - val_g_mae: 2.0834\n",
            "Epoch 72/200\n",
            "122/122 [==============================] - ETA: 0s - g_loss: 1.4270 - d_loss: 1.2774 - g_mae: 2.8900"
          ]
        },
        {
          "name": "stderr",
          "output_type": "stream",
          "text": [
            "WARNING:tensorflow:Compiled the loaded model, but the compiled metrics have yet to be built. `model.compile_metrics` will be empty until you train or evaluate the model.\n",
            "WARNING:tensorflow:Compiled the loaded model, but the compiled metrics have yet to be built. `model.compile_metrics` will be empty until you train or evaluate the model.\n"
          ]
        },
        {
          "name": "stdout",
          "output_type": "stream",
          "text": [
            "122/122 [==============================] - 227s 2s/step - g_loss: 1.4291 - d_loss: 1.2771 - g_mae: 2.8894 - val_g_loss: 1.1524 - val_d_loss: 1.1876 - val_g_mae: 1.0249\n",
            "Epoch 73/200\n",
            "122/122 [==============================] - ETA: 0s - g_loss: 1.7975 - d_loss: 1.1255 - g_mae: 2.5793"
          ]
        },
        {
          "name": "stderr",
          "output_type": "stream",
          "text": [
            "WARNING:tensorflow:Compiled the loaded model, but the compiled metrics have yet to be built. `model.compile_metrics` will be empty until you train or evaluate the model.\n",
            "WARNING:tensorflow:Compiled the loaded model, but the compiled metrics have yet to be built. `model.compile_metrics` will be empty until you train or evaluate the model.\n"
          ]
        },
        {
          "name": "stdout",
          "output_type": "stream",
          "text": [
            "122/122 [==============================] - 227s 2s/step - g_loss: 1.7967 - d_loss: 1.1258 - g_mae: 2.5804 - val_g_loss: 1.6312 - val_d_loss: 0.8839 - val_g_mae: 0.9882\n",
            "Epoch 74/200\n",
            "122/122 [==============================] - ETA: 0s - g_loss: 2.0004 - d_loss: 1.0371 - g_mae: 2.5233"
          ]
        },
        {
          "name": "stderr",
          "output_type": "stream",
          "text": [
            "WARNING:tensorflow:Compiled the loaded model, but the compiled metrics have yet to be built. `model.compile_metrics` will be empty until you train or evaluate the model.\n",
            "WARNING:tensorflow:Compiled the loaded model, but the compiled metrics have yet to be built. `model.compile_metrics` will be empty until you train or evaluate the model.\n"
          ]
        },
        {
          "name": "stdout",
          "output_type": "stream",
          "text": [
            "122/122 [==============================] - 227s 2s/step - g_loss: 2.0003 - d_loss: 1.0374 - g_mae: 2.5234 - val_g_loss: 1.8934 - val_d_loss: 1.2605 - val_g_mae: 1.6392\n",
            "Epoch 75/200\n",
            "122/122 [==============================] - ETA: 0s - g_loss: 1.6520 - d_loss: 1.3052 - g_mae: 2.9570"
          ]
        },
        {
          "name": "stderr",
          "output_type": "stream",
          "text": [
            "WARNING:tensorflow:Compiled the loaded model, but the compiled metrics have yet to be built. `model.compile_metrics` will be empty until you train or evaluate the model.\n",
            "WARNING:tensorflow:Compiled the loaded model, but the compiled metrics have yet to be built. `model.compile_metrics` will be empty until you train or evaluate the model.\n"
          ]
        },
        {
          "name": "stdout",
          "output_type": "stream",
          "text": [
            "122/122 [==============================] - 227s 2s/step - g_loss: 1.6533 - d_loss: 1.3035 - g_mae: 2.9549 - val_g_loss: 2.0642 - val_d_loss: 1.0312 - val_g_mae: 1.2221\n",
            "Epoch 76/200\n",
            "122/122 [==============================] - ETA: 0s - g_loss: 1.8887 - d_loss: 1.0851 - g_mae: 2.5290"
          ]
        },
        {
          "name": "stderr",
          "output_type": "stream",
          "text": [
            "WARNING:tensorflow:Compiled the loaded model, but the compiled metrics have yet to be built. `model.compile_metrics` will be empty until you train or evaluate the model.\n",
            "WARNING:tensorflow:Compiled the loaded model, but the compiled metrics have yet to be built. `model.compile_metrics` will be empty until you train or evaluate the model.\n"
          ]
        },
        {
          "name": "stdout",
          "output_type": "stream",
          "text": [
            "122/122 [==============================] - 227s 2s/step - g_loss: 1.8887 - d_loss: 1.0848 - g_mae: 2.5286 - val_g_loss: 1.1716 - val_d_loss: 0.9146 - val_g_mae: 1.7296\n",
            "Epoch 77/200\n",
            "122/122 [==============================] - ETA: 0s - g_loss: 1.7865 - d_loss: 1.0550 - g_mae: 2.5143"
          ]
        },
        {
          "name": "stderr",
          "output_type": "stream",
          "text": [
            "WARNING:tensorflow:Compiled the loaded model, but the compiled metrics have yet to be built. `model.compile_metrics` will be empty until you train or evaluate the model.\n",
            "WARNING:tensorflow:Compiled the loaded model, but the compiled metrics have yet to be built. `model.compile_metrics` will be empty until you train or evaluate the model.\n"
          ]
        },
        {
          "name": "stdout",
          "output_type": "stream",
          "text": [
            "122/122 [==============================] - 228s 2s/step - g_loss: 1.7866 - d_loss: 1.0553 - g_mae: 2.5139 - val_g_loss: 1.5699 - val_d_loss: 0.9478 - val_g_mae: 1.2497\n",
            "Epoch 78/200\n",
            "122/122 [==============================] - ETA: 0s - g_loss: 1.8647 - d_loss: 1.0812 - g_mae: 2.5330"
          ]
        },
        {
          "name": "stderr",
          "output_type": "stream",
          "text": [
            "WARNING:tensorflow:Compiled the loaded model, but the compiled metrics have yet to be built. `model.compile_metrics` will be empty until you train or evaluate the model.\n",
            "WARNING:tensorflow:Compiled the loaded model, but the compiled metrics have yet to be built. `model.compile_metrics` will be empty until you train or evaluate the model.\n"
          ]
        },
        {
          "name": "stdout",
          "output_type": "stream",
          "text": [
            "122/122 [==============================] - 228s 2s/step - g_loss: 1.8653 - d_loss: 1.0810 - g_mae: 2.5329 - val_g_loss: 1.7624 - val_d_loss: 0.9909 - val_g_mae: 1.6883\n",
            "Epoch 79/200\n",
            "122/122 [==============================] - ETA: 0s - g_loss: 1.9319 - d_loss: 1.1281 - g_mae: 2.6622"
          ]
        },
        {
          "name": "stderr",
          "output_type": "stream",
          "text": [
            "WARNING:tensorflow:Compiled the loaded model, but the compiled metrics have yet to be built. `model.compile_metrics` will be empty until you train or evaluate the model.\n",
            "WARNING:tensorflow:Compiled the loaded model, but the compiled metrics have yet to be built. `model.compile_metrics` will be empty until you train or evaluate the model.\n"
          ]
        },
        {
          "name": "stdout",
          "output_type": "stream",
          "text": [
            "122/122 [==============================] - 228s 2s/step - g_loss: 1.9330 - d_loss: 1.1290 - g_mae: 2.6621 - val_g_loss: 0.8347 - val_d_loss: 1.0413 - val_g_mae: 2.0928\n",
            "Epoch 80/200\n",
            "122/122 [==============================] - ETA: 0s - g_loss: 1.4090 - d_loss: 1.5574 - g_mae: 2.5642"
          ]
        },
        {
          "name": "stderr",
          "output_type": "stream",
          "text": [
            "WARNING:tensorflow:Compiled the loaded model, but the compiled metrics have yet to be built. `model.compile_metrics` will be empty until you train or evaluate the model.\n",
            "WARNING:tensorflow:Compiled the loaded model, but the compiled metrics have yet to be built. `model.compile_metrics` will be empty until you train or evaluate the model.\n"
          ]
        },
        {
          "name": "stdout",
          "output_type": "stream",
          "text": [
            "122/122 [==============================] - 228s 2s/step - g_loss: 1.4102 - d_loss: 1.5566 - g_mae: 2.5647 - val_g_loss: 0.9516 - val_d_loss: 1.2915 - val_g_mae: 1.5584\n",
            "Epoch 81/200\n",
            "122/122 [==============================] - ETA: 0s - g_loss: 1.6727 - d_loss: 1.1664 - g_mae: 2.6102"
          ]
        },
        {
          "name": "stderr",
          "output_type": "stream",
          "text": [
            "WARNING:tensorflow:Compiled the loaded model, but the compiled metrics have yet to be built. `model.compile_metrics` will be empty until you train or evaluate the model.\n",
            "WARNING:tensorflow:Compiled the loaded model, but the compiled metrics have yet to be built. `model.compile_metrics` will be empty until you train or evaluate the model.\n"
          ]
        },
        {
          "name": "stdout",
          "output_type": "stream",
          "text": [
            "122/122 [==============================] - 227s 2s/step - g_loss: 1.6725 - d_loss: 1.1667 - g_mae: 2.6112 - val_g_loss: 1.4152 - val_d_loss: 0.9221 - val_g_mae: 1.3898\n",
            "Epoch 82/200\n",
            "122/122 [==============================] - ETA: 0s - g_loss: 1.7627 - d_loss: 1.1845 - g_mae: 2.7484"
          ]
        },
        {
          "name": "stderr",
          "output_type": "stream",
          "text": [
            "WARNING:tensorflow:Compiled the loaded model, but the compiled metrics have yet to be built. `model.compile_metrics` will be empty until you train or evaluate the model.\n",
            "WARNING:tensorflow:Compiled the loaded model, but the compiled metrics have yet to be built. `model.compile_metrics` will be empty until you train or evaluate the model.\n"
          ]
        },
        {
          "name": "stdout",
          "output_type": "stream",
          "text": [
            "122/122 [==============================] - 228s 2s/step - g_loss: 1.7623 - d_loss: 1.1846 - g_mae: 2.7477 - val_g_loss: 1.1485 - val_d_loss: 0.9862 - val_g_mae: 1.3074\n",
            "Epoch 83/200\n",
            "122/122 [==============================] - ETA: 0s - g_loss: 1.7965 - d_loss: 1.0717 - g_mae: 2.4368"
          ]
        },
        {
          "name": "stderr",
          "output_type": "stream",
          "text": [
            "WARNING:tensorflow:Compiled the loaded model, but the compiled metrics have yet to be built. `model.compile_metrics` will be empty until you train or evaluate the model.\n",
            "WARNING:tensorflow:Compiled the loaded model, but the compiled metrics have yet to be built. `model.compile_metrics` will be empty until you train or evaluate the model.\n"
          ]
        },
        {
          "name": "stdout",
          "output_type": "stream",
          "text": [
            "122/122 [==============================] - 228s 2s/step - g_loss: 1.7972 - d_loss: 1.0717 - g_mae: 2.4370 - val_g_loss: 1.3892 - val_d_loss: 0.8397 - val_g_mae: 1.8599\n",
            "Epoch 84/200\n",
            "122/122 [==============================] - ETA: 0s - g_loss: 1.7790 - d_loss: 1.1926 - g_mae: 2.6173"
          ]
        },
        {
          "name": "stderr",
          "output_type": "stream",
          "text": [
            "WARNING:tensorflow:Compiled the loaded model, but the compiled metrics have yet to be built. `model.compile_metrics` will be empty until you train or evaluate the model.\n",
            "WARNING:tensorflow:Compiled the loaded model, but the compiled metrics have yet to be built. `model.compile_metrics` will be empty until you train or evaluate the model.\n"
          ]
        },
        {
          "name": "stdout",
          "output_type": "stream",
          "text": [
            "122/122 [==============================] - 228s 2s/step - g_loss: 1.7792 - d_loss: 1.1923 - g_mae: 2.6168 - val_g_loss: 1.6486 - val_d_loss: 1.1461 - val_g_mae: 1.1211\n",
            "Epoch 85/200\n",
            "122/122 [==============================] - ETA: 0s - g_loss: 1.8980 - d_loss: 1.1578 - g_mae: 2.4193"
          ]
        },
        {
          "name": "stderr",
          "output_type": "stream",
          "text": [
            "WARNING:tensorflow:Compiled the loaded model, but the compiled metrics have yet to be built. `model.compile_metrics` will be empty until you train or evaluate the model.\n",
            "WARNING:tensorflow:Compiled the loaded model, but the compiled metrics have yet to be built. `model.compile_metrics` will be empty until you train or evaluate the model.\n"
          ]
        },
        {
          "name": "stdout",
          "output_type": "stream",
          "text": [
            "122/122 [==============================] - 228s 2s/step - g_loss: 1.8972 - d_loss: 1.1576 - g_mae: 2.4196 - val_g_loss: 1.4298 - val_d_loss: 1.0062 - val_g_mae: 1.1373\n",
            "Epoch 86/200\n",
            "122/122 [==============================] - ETA: 0s - g_loss: 2.0024 - d_loss: 1.1499 - g_mae: 2.6609"
          ]
        },
        {
          "name": "stderr",
          "output_type": "stream",
          "text": [
            "WARNING:tensorflow:Compiled the loaded model, but the compiled metrics have yet to be built. `model.compile_metrics` will be empty until you train or evaluate the model.\n",
            "WARNING:tensorflow:Compiled the loaded model, but the compiled metrics have yet to be built. `model.compile_metrics` will be empty until you train or evaluate the model.\n"
          ]
        },
        {
          "name": "stdout",
          "output_type": "stream",
          "text": [
            "122/122 [==============================] - 228s 2s/step - g_loss: 2.0020 - d_loss: 1.1495 - g_mae: 2.6603 - val_g_loss: 1.2445 - val_d_loss: 1.1563 - val_g_mae: 1.2885\n",
            "Epoch 87/200\n",
            "122/122 [==============================] - ETA: 0s - g_loss: 1.8888 - d_loss: 1.2055 - g_mae: 2.8375"
          ]
        },
        {
          "name": "stderr",
          "output_type": "stream",
          "text": [
            "WARNING:tensorflow:Compiled the loaded model, but the compiled metrics have yet to be built. `model.compile_metrics` will be empty until you train or evaluate the model.\n",
            "WARNING:tensorflow:Compiled the loaded model, but the compiled metrics have yet to be built. `model.compile_metrics` will be empty until you train or evaluate the model.\n"
          ]
        },
        {
          "name": "stdout",
          "output_type": "stream",
          "text": [
            "122/122 [==============================] - 228s 2s/step - g_loss: 1.8886 - d_loss: 1.2058 - g_mae: 2.8369 - val_g_loss: 0.9758 - val_d_loss: 0.8929 - val_g_mae: 1.5701\n",
            "Epoch 88/200\n",
            "122/122 [==============================] - ETA: 0s - g_loss: 1.5168 - d_loss: 1.2617 - g_mae: 2.5355"
          ]
        },
        {
          "name": "stderr",
          "output_type": "stream",
          "text": [
            "WARNING:tensorflow:Compiled the loaded model, but the compiled metrics have yet to be built. `model.compile_metrics` will be empty until you train or evaluate the model.\n",
            "WARNING:tensorflow:Compiled the loaded model, but the compiled metrics have yet to be built. `model.compile_metrics` will be empty until you train or evaluate the model.\n"
          ]
        },
        {
          "name": "stdout",
          "output_type": "stream",
          "text": [
            "122/122 [==============================] - 228s 2s/step - g_loss: 1.5176 - d_loss: 1.2614 - g_mae: 2.5360 - val_g_loss: 1.3223 - val_d_loss: 0.9371 - val_g_mae: 1.1387\n",
            "Epoch 89/200\n",
            "122/122 [==============================] - ETA: 0s - g_loss: 1.9873 - d_loss: 1.0992 - g_mae: 2.5416"
          ]
        },
        {
          "name": "stderr",
          "output_type": "stream",
          "text": [
            "WARNING:tensorflow:Compiled the loaded model, but the compiled metrics have yet to be built. `model.compile_metrics` will be empty until you train or evaluate the model.\n",
            "WARNING:tensorflow:Compiled the loaded model, but the compiled metrics have yet to be built. `model.compile_metrics` will be empty until you train or evaluate the model.\n"
          ]
        },
        {
          "name": "stdout",
          "output_type": "stream",
          "text": [
            "122/122 [==============================] - 228s 2s/step - g_loss: 1.9865 - d_loss: 1.0995 - g_mae: 2.5418 - val_g_loss: 1.2426 - val_d_loss: 1.0657 - val_g_mae: 1.8608\n",
            "Epoch 90/200\n",
            "122/122 [==============================] - ETA: 0s - g_loss: 1.7128 - d_loss: 1.2796 - g_mae: 2.8623"
          ]
        },
        {
          "name": "stderr",
          "output_type": "stream",
          "text": [
            "WARNING:tensorflow:Compiled the loaded model, but the compiled metrics have yet to be built. `model.compile_metrics` will be empty until you train or evaluate the model.\n",
            "WARNING:tensorflow:Compiled the loaded model, but the compiled metrics have yet to be built. `model.compile_metrics` will be empty until you train or evaluate the model.\n"
          ]
        },
        {
          "name": "stdout",
          "output_type": "stream",
          "text": [
            "122/122 [==============================] - 228s 2s/step - g_loss: 1.7132 - d_loss: 1.2798 - g_mae: 2.8631 - val_g_loss: 1.2552 - val_d_loss: 1.0267 - val_g_mae: 1.3239\n",
            "Epoch 91/200\n",
            "122/122 [==============================] - ETA: 0s - g_loss: 1.5788 - d_loss: 1.3006 - g_mae: 2.5064"
          ]
        },
        {
          "name": "stderr",
          "output_type": "stream",
          "text": [
            "WARNING:tensorflow:Compiled the loaded model, but the compiled metrics have yet to be built. `model.compile_metrics` will be empty until you train or evaluate the model.\n",
            "WARNING:tensorflow:Compiled the loaded model, but the compiled metrics have yet to be built. `model.compile_metrics` will be empty until you train or evaluate the model.\n"
          ]
        },
        {
          "name": "stdout",
          "output_type": "stream",
          "text": [
            "122/122 [==============================] - 228s 2s/step - g_loss: 1.5784 - d_loss: 1.3009 - g_mae: 2.5066 - val_g_loss: 1.5969 - val_d_loss: 0.9411 - val_g_mae: 1.0031\n",
            "Epoch 92/200\n",
            "122/122 [==============================] - ETA: 0s - g_loss: 1.8616 - d_loss: 1.1433 - g_mae: 2.3987"
          ]
        },
        {
          "name": "stderr",
          "output_type": "stream",
          "text": [
            "WARNING:tensorflow:Compiled the loaded model, but the compiled metrics have yet to be built. `model.compile_metrics` will be empty until you train or evaluate the model.\n",
            "WARNING:tensorflow:Compiled the loaded model, but the compiled metrics have yet to be built. `model.compile_metrics` will be empty until you train or evaluate the model.\n"
          ]
        },
        {
          "name": "stdout",
          "output_type": "stream",
          "text": [
            "122/122 [==============================] - 228s 2s/step - g_loss: 1.8602 - d_loss: 1.1439 - g_mae: 2.3994 - val_g_loss: 1.4871 - val_d_loss: 1.0330 - val_g_mae: 1.2429\n",
            "Epoch 93/200\n",
            "122/122 [==============================] - ETA: 0s - g_loss: 1.7387 - d_loss: 1.1812 - g_mae: 2.5236"
          ]
        },
        {
          "name": "stderr",
          "output_type": "stream",
          "text": [
            "WARNING:tensorflow:Compiled the loaded model, but the compiled metrics have yet to be built. `model.compile_metrics` will be empty until you train or evaluate the model.\n",
            "WARNING:tensorflow:Compiled the loaded model, but the compiled metrics have yet to be built. `model.compile_metrics` will be empty until you train or evaluate the model.\n"
          ]
        },
        {
          "name": "stdout",
          "output_type": "stream",
          "text": [
            "122/122 [==============================] - 229s 2s/step - g_loss: 1.7386 - d_loss: 1.1813 - g_mae: 2.5244 - val_g_loss: 1.1851 - val_d_loss: 0.8726 - val_g_mae: 1.6922\n",
            "Epoch 94/200\n",
            "122/122 [==============================] - ETA: 0s - g_loss: 1.6876 - d_loss: 1.1435 - g_mae: 2.7280"
          ]
        },
        {
          "name": "stderr",
          "output_type": "stream",
          "text": [
            "WARNING:tensorflow:Compiled the loaded model, but the compiled metrics have yet to be built. `model.compile_metrics` will be empty until you train or evaluate the model.\n",
            "WARNING:tensorflow:Compiled the loaded model, but the compiled metrics have yet to be built. `model.compile_metrics` will be empty until you train or evaluate the model.\n"
          ]
        },
        {
          "name": "stdout",
          "output_type": "stream",
          "text": [
            "122/122 [==============================] - 229s 2s/step - g_loss: 1.6873 - d_loss: 1.1438 - g_mae: 2.7282 - val_g_loss: 0.8794 - val_d_loss: 0.9773 - val_g_mae: 0.9788\n",
            "Epoch 95/200\n",
            "122/122 [==============================] - ETA: 0s - g_loss: 1.7465 - d_loss: 1.0750 - g_mae: 2.3819"
          ]
        },
        {
          "name": "stderr",
          "output_type": "stream",
          "text": [
            "WARNING:tensorflow:Compiled the loaded model, but the compiled metrics have yet to be built. `model.compile_metrics` will be empty until you train or evaluate the model.\n",
            "WARNING:tensorflow:Compiled the loaded model, but the compiled metrics have yet to be built. `model.compile_metrics` will be empty until you train or evaluate the model.\n"
          ]
        },
        {
          "name": "stdout",
          "output_type": "stream",
          "text": [
            "122/122 [==============================] - 229s 2s/step - g_loss: 1.7469 - d_loss: 1.0754 - g_mae: 2.3829 - val_g_loss: 1.3342 - val_d_loss: 0.9785 - val_g_mae: 1.4540\n",
            "Epoch 96/200\n",
            "122/122 [==============================] - ETA: 0s - g_loss: 1.7464 - d_loss: 1.0978 - g_mae: 2.5280"
          ]
        },
        {
          "name": "stderr",
          "output_type": "stream",
          "text": [
            "WARNING:tensorflow:Compiled the loaded model, but the compiled metrics have yet to be built. `model.compile_metrics` will be empty until you train or evaluate the model.\n",
            "WARNING:tensorflow:Compiled the loaded model, but the compiled metrics have yet to be built. `model.compile_metrics` will be empty until you train or evaluate the model.\n"
          ]
        },
        {
          "name": "stdout",
          "output_type": "stream",
          "text": [
            "122/122 [==============================] - 229s 2s/step - g_loss: 1.7466 - d_loss: 1.0976 - g_mae: 2.5278 - val_g_loss: 1.2841 - val_d_loss: 0.8985 - val_g_mae: 1.3294\n",
            "Epoch 97/200\n",
            "122/122 [==============================] - ETA: 0s - g_loss: 1.7560 - d_loss: 1.0910 - g_mae: 2.4359"
          ]
        },
        {
          "name": "stderr",
          "output_type": "stream",
          "text": [
            "WARNING:tensorflow:Compiled the loaded model, but the compiled metrics have yet to be built. `model.compile_metrics` will be empty until you train or evaluate the model.\n",
            "WARNING:tensorflow:Compiled the loaded model, but the compiled metrics have yet to be built. `model.compile_metrics` will be empty until you train or evaluate the model.\n"
          ]
        },
        {
          "name": "stdout",
          "output_type": "stream",
          "text": [
            "122/122 [==============================] - 229s 2s/step - g_loss: 1.7569 - d_loss: 1.0910 - g_mae: 2.4362 - val_g_loss: 1.1237 - val_d_loss: 1.0765 - val_g_mae: 1.5190\n",
            "Epoch 98/200\n",
            "122/122 [==============================] - ETA: 0s - g_loss: 1.7166 - d_loss: 1.1739 - g_mae: 2.7203"
          ]
        },
        {
          "name": "stderr",
          "output_type": "stream",
          "text": [
            "WARNING:tensorflow:Compiled the loaded model, but the compiled metrics have yet to be built. `model.compile_metrics` will be empty until you train or evaluate the model.\n",
            "WARNING:tensorflow:Compiled the loaded model, but the compiled metrics have yet to be built. `model.compile_metrics` will be empty until you train or evaluate the model.\n"
          ]
        },
        {
          "name": "stdout",
          "output_type": "stream",
          "text": [
            "122/122 [==============================] - 228s 2s/step - g_loss: 1.7168 - d_loss: 1.1746 - g_mae: 2.7198 - val_g_loss: 0.9528 - val_d_loss: 1.1050 - val_g_mae: 1.1414\n",
            "Epoch 99/200\n",
            "122/122 [==============================] - ETA: 0s - g_loss: 1.6189 - d_loss: 1.1863 - g_mae: 2.6304"
          ]
        },
        {
          "name": "stderr",
          "output_type": "stream",
          "text": [
            "WARNING:tensorflow:Compiled the loaded model, but the compiled metrics have yet to be built. `model.compile_metrics` will be empty until you train or evaluate the model.\n",
            "WARNING:tensorflow:Compiled the loaded model, but the compiled metrics have yet to be built. `model.compile_metrics` will be empty until you train or evaluate the model.\n"
          ]
        },
        {
          "name": "stdout",
          "output_type": "stream",
          "text": [
            "122/122 [==============================] - 229s 2s/step - g_loss: 1.6198 - d_loss: 1.1858 - g_mae: 2.6302 - val_g_loss: 1.7072 - val_d_loss: 0.8545 - val_g_mae: 1.4647\n",
            "Epoch 100/200\n",
            "122/122 [==============================] - ETA: 0s - g_loss: 1.7654 - d_loss: 1.0687 - g_mae: 2.4548"
          ]
        },
        {
          "name": "stderr",
          "output_type": "stream",
          "text": [
            "WARNING:tensorflow:Compiled the loaded model, but the compiled metrics have yet to be built. `model.compile_metrics` will be empty until you train or evaluate the model.\n",
            "WARNING:tensorflow:Compiled the loaded model, but the compiled metrics have yet to be built. `model.compile_metrics` will be empty until you train or evaluate the model.\n"
          ]
        },
        {
          "name": "stdout",
          "output_type": "stream",
          "text": [
            "122/122 [==============================] - 229s 2s/step - g_loss: 1.7652 - d_loss: 1.0688 - g_mae: 2.4547 - val_g_loss: 1.3954 - val_d_loss: 1.0786 - val_g_mae: 1.0539\n",
            "Epoch 101/200\n",
            "122/122 [==============================] - ETA: 0s - g_loss: 1.9174 - d_loss: 1.1165 - g_mae: 2.3833"
          ]
        },
        {
          "name": "stderr",
          "output_type": "stream",
          "text": [
            "WARNING:tensorflow:Compiled the loaded model, but the compiled metrics have yet to be built. `model.compile_metrics` will be empty until you train or evaluate the model.\n",
            "WARNING:tensorflow:Compiled the loaded model, but the compiled metrics have yet to be built. `model.compile_metrics` will be empty until you train or evaluate the model.\n"
          ]
        },
        {
          "name": "stdout",
          "output_type": "stream",
          "text": [
            "122/122 [==============================] - 229s 2s/step - g_loss: 1.9168 - d_loss: 1.1167 - g_mae: 2.3845 - val_g_loss: 0.9075 - val_d_loss: 1.0364 - val_g_mae: 1.1680\n",
            "Epoch 102/200\n",
            "122/122 [==============================] - ETA: 0s - g_loss: 1.5959 - d_loss: 1.1452 - g_mae: 2.3415"
          ]
        },
        {
          "name": "stderr",
          "output_type": "stream",
          "text": [
            "WARNING:tensorflow:Compiled the loaded model, but the compiled metrics have yet to be built. `model.compile_metrics` will be empty until you train or evaluate the model.\n",
            "WARNING:tensorflow:Compiled the loaded model, but the compiled metrics have yet to be built. `model.compile_metrics` will be empty until you train or evaluate the model.\n"
          ]
        },
        {
          "name": "stdout",
          "output_type": "stream",
          "text": [
            "122/122 [==============================] - 228s 2s/step - g_loss: 1.5969 - d_loss: 1.1452 - g_mae: 2.3428 - val_g_loss: 1.2393 - val_d_loss: 0.9640 - val_g_mae: 1.2325\n",
            "Epoch 103/200\n",
            "122/122 [==============================] - ETA: 0s - g_loss: 1.7416 - d_loss: 1.0780 - g_mae: 2.3682"
          ]
        },
        {
          "name": "stderr",
          "output_type": "stream",
          "text": [
            "WARNING:tensorflow:Compiled the loaded model, but the compiled metrics have yet to be built. `model.compile_metrics` will be empty until you train or evaluate the model.\n",
            "WARNING:tensorflow:Compiled the loaded model, but the compiled metrics have yet to be built. `model.compile_metrics` will be empty until you train or evaluate the model.\n"
          ]
        },
        {
          "name": "stdout",
          "output_type": "stream",
          "text": [
            "122/122 [==============================] - 229s 2s/step - g_loss: 1.7418 - d_loss: 1.0782 - g_mae: 2.3683 - val_g_loss: 1.5236 - val_d_loss: 0.9941 - val_g_mae: 1.9596\n",
            "Epoch 104/200\n",
            "122/122 [==============================] - ETA: 0s - g_loss: 1.7027 - d_loss: 1.2603 - g_mae: 2.7968"
          ]
        },
        {
          "name": "stderr",
          "output_type": "stream",
          "text": [
            "WARNING:tensorflow:Compiled the loaded model, but the compiled metrics have yet to be built. `model.compile_metrics` will be empty until you train or evaluate the model.\n",
            "WARNING:tensorflow:Compiled the loaded model, but the compiled metrics have yet to be built. `model.compile_metrics` will be empty until you train or evaluate the model.\n"
          ]
        },
        {
          "name": "stdout",
          "output_type": "stream",
          "text": [
            "122/122 [==============================] - 228s 2s/step - g_loss: 1.7035 - d_loss: 1.2596 - g_mae: 2.7958 - val_g_loss: 1.7575 - val_d_loss: 0.8650 - val_g_mae: 1.2736\n",
            "Epoch 105/200\n",
            "122/122 [==============================] - ETA: 0s - g_loss: 1.8517 - d_loss: 1.0688 - g_mae: 2.4310"
          ]
        },
        {
          "name": "stderr",
          "output_type": "stream",
          "text": [
            "WARNING:tensorflow:Compiled the loaded model, but the compiled metrics have yet to be built. `model.compile_metrics` will be empty until you train or evaluate the model.\n",
            "WARNING:tensorflow:Compiled the loaded model, but the compiled metrics have yet to be built. `model.compile_metrics` will be empty until you train or evaluate the model.\n"
          ]
        },
        {
          "name": "stdout",
          "output_type": "stream",
          "text": [
            "122/122 [==============================] - 228s 2s/step - g_loss: 1.8508 - d_loss: 1.0689 - g_mae: 2.4309 - val_g_loss: 1.6124 - val_d_loss: 1.0289 - val_g_mae: 1.0617\n",
            "Epoch 106/200\n",
            "122/122 [==============================] - ETA: 0s - g_loss: 2.0207 - d_loss: 1.0854 - g_mae: 2.4543"
          ]
        },
        {
          "name": "stderr",
          "output_type": "stream",
          "text": [
            "WARNING:tensorflow:Compiled the loaded model, but the compiled metrics have yet to be built. `model.compile_metrics` will be empty until you train or evaluate the model.\n",
            "WARNING:tensorflow:Compiled the loaded model, but the compiled metrics have yet to be built. `model.compile_metrics` will be empty until you train or evaluate the model.\n"
          ]
        },
        {
          "name": "stdout",
          "output_type": "stream",
          "text": [
            "122/122 [==============================] - 228s 2s/step - g_loss: 2.0194 - d_loss: 1.0854 - g_mae: 2.4541 - val_g_loss: 1.1770 - val_d_loss: 1.1695 - val_g_mae: 1.4906\n",
            "Epoch 107/200\n",
            "122/122 [==============================] - ETA: 0s - g_loss: 1.6751 - d_loss: 1.1899 - g_mae: 2.5826"
          ]
        },
        {
          "name": "stderr",
          "output_type": "stream",
          "text": [
            "WARNING:tensorflow:Compiled the loaded model, but the compiled metrics have yet to be built. `model.compile_metrics` will be empty until you train or evaluate the model.\n",
            "WARNING:tensorflow:Compiled the loaded model, but the compiled metrics have yet to be built. `model.compile_metrics` will be empty until you train or evaluate the model.\n"
          ]
        },
        {
          "name": "stdout",
          "output_type": "stream",
          "text": [
            "122/122 [==============================] - 228s 2s/step - g_loss: 1.6749 - d_loss: 1.1895 - g_mae: 2.5822 - val_g_loss: 1.0406 - val_d_loss: 0.8943 - val_g_mae: 1.4589\n",
            "Epoch 108/200\n",
            "122/122 [==============================] - ETA: 0s - g_loss: 1.6071 - d_loss: 1.1349 - g_mae: 2.4160"
          ]
        },
        {
          "name": "stderr",
          "output_type": "stream",
          "text": [
            "WARNING:tensorflow:Compiled the loaded model, but the compiled metrics have yet to be built. `model.compile_metrics` will be empty until you train or evaluate the model.\n",
            "WARNING:tensorflow:Compiled the loaded model, but the compiled metrics have yet to be built. `model.compile_metrics` will be empty until you train or evaluate the model.\n"
          ]
        },
        {
          "name": "stdout",
          "output_type": "stream",
          "text": [
            "122/122 [==============================] - 229s 2s/step - g_loss: 1.6077 - d_loss: 1.1349 - g_mae: 2.4162 - val_g_loss: 1.5565 - val_d_loss: 1.0735 - val_g_mae: 1.1454\n",
            "Epoch 109/200\n",
            "122/122 [==============================] - ETA: 0s - g_loss: 1.7832 - d_loss: 1.0461 - g_mae: 2.4816"
          ]
        },
        {
          "name": "stderr",
          "output_type": "stream",
          "text": [
            "WARNING:tensorflow:Compiled the loaded model, but the compiled metrics have yet to be built. `model.compile_metrics` will be empty until you train or evaluate the model.\n",
            "WARNING:tensorflow:Compiled the loaded model, but the compiled metrics have yet to be built. `model.compile_metrics` will be empty until you train or evaluate the model.\n"
          ]
        },
        {
          "name": "stdout",
          "output_type": "stream",
          "text": [
            "122/122 [==============================] - 228s 2s/step - g_loss: 1.7824 - d_loss: 1.0465 - g_mae: 2.4816 - val_g_loss: 1.3465 - val_d_loss: 0.9775 - val_g_mae: 1.4305\n",
            "Epoch 110/200\n",
            "122/122 [==============================] - ETA: 0s - g_loss: 1.6317 - d_loss: 1.1485 - g_mae: 2.4678"
          ]
        },
        {
          "name": "stderr",
          "output_type": "stream",
          "text": [
            "WARNING:tensorflow:Compiled the loaded model, but the compiled metrics have yet to be built. `model.compile_metrics` will be empty until you train or evaluate the model.\n",
            "WARNING:tensorflow:Compiled the loaded model, but the compiled metrics have yet to be built. `model.compile_metrics` will be empty until you train or evaluate the model.\n"
          ]
        },
        {
          "name": "stdout",
          "output_type": "stream",
          "text": [
            "122/122 [==============================] - 229s 2s/step - g_loss: 1.6317 - d_loss: 1.1481 - g_mae: 2.4676 - val_g_loss: 1.1103 - val_d_loss: 1.0170 - val_g_mae: 1.1902\n",
            "Epoch 111/200\n",
            "122/122 [==============================] - ETA: 0s - g_loss: 1.9601 - d_loss: 1.0230 - g_mae: 2.3780"
          ]
        },
        {
          "name": "stderr",
          "output_type": "stream",
          "text": [
            "WARNING:tensorflow:Compiled the loaded model, but the compiled metrics have yet to be built. `model.compile_metrics` will be empty until you train or evaluate the model.\n",
            "WARNING:tensorflow:Compiled the loaded model, but the compiled metrics have yet to be built. `model.compile_metrics` will be empty until you train or evaluate the model.\n"
          ]
        },
        {
          "name": "stdout",
          "output_type": "stream",
          "text": [
            "122/122 [==============================] - 229s 2s/step - g_loss: 1.9594 - d_loss: 1.0231 - g_mae: 2.3786 - val_g_loss: 1.5406 - val_d_loss: 0.8646 - val_g_mae: 1.7174\n",
            "Epoch 112/200\n",
            "122/122 [==============================] - ETA: 0s - g_loss: 1.7138 - d_loss: 1.0786 - g_mae: 2.4671"
          ]
        },
        {
          "name": "stderr",
          "output_type": "stream",
          "text": [
            "WARNING:tensorflow:Compiled the loaded model, but the compiled metrics have yet to be built. `model.compile_metrics` will be empty until you train or evaluate the model.\n",
            "WARNING:tensorflow:Compiled the loaded model, but the compiled metrics have yet to be built. `model.compile_metrics` will be empty until you train or evaluate the model.\n"
          ]
        },
        {
          "name": "stdout",
          "output_type": "stream",
          "text": [
            "122/122 [==============================] - 229s 2s/step - g_loss: 1.7141 - d_loss: 1.0787 - g_mae: 2.4669 - val_g_loss: 1.4040 - val_d_loss: 0.8739 - val_g_mae: 1.3252\n",
            "Epoch 113/200\n",
            "122/122 [==============================] - ETA: 0s - g_loss: 1.7215 - d_loss: 1.2265 - g_mae: 2.5328"
          ]
        },
        {
          "name": "stderr",
          "output_type": "stream",
          "text": [
            "WARNING:tensorflow:Compiled the loaded model, but the compiled metrics have yet to be built. `model.compile_metrics` will be empty until you train or evaluate the model.\n",
            "WARNING:tensorflow:Compiled the loaded model, but the compiled metrics have yet to be built. `model.compile_metrics` will be empty until you train or evaluate the model.\n"
          ]
        },
        {
          "name": "stdout",
          "output_type": "stream",
          "text": [
            "122/122 [==============================] - 229s 2s/step - g_loss: 1.7205 - d_loss: 1.2263 - g_mae: 2.5321 - val_g_loss: 1.3534 - val_d_loss: 1.0587 - val_g_mae: 1.2648\n",
            "Epoch 114/200\n",
            "122/122 [==============================] - ETA: 0s - g_loss: 1.8911 - d_loss: 1.1474 - g_mae: 2.5989"
          ]
        },
        {
          "name": "stderr",
          "output_type": "stream",
          "text": [
            "WARNING:tensorflow:Compiled the loaded model, but the compiled metrics have yet to be built. `model.compile_metrics` will be empty until you train or evaluate the model.\n",
            "WARNING:tensorflow:Compiled the loaded model, but the compiled metrics have yet to be built. `model.compile_metrics` will be empty until you train or evaluate the model.\n"
          ]
        },
        {
          "name": "stdout",
          "output_type": "stream",
          "text": [
            "122/122 [==============================] - 229s 2s/step - g_loss: 1.8912 - d_loss: 1.1475 - g_mae: 2.5989 - val_g_loss: 1.4957 - val_d_loss: 0.9153 - val_g_mae: 1.4977\n",
            "Epoch 115/200\n",
            "122/122 [==============================] - ETA: 0s - g_loss: 1.6074 - d_loss: 1.2111 - g_mae: 2.6209"
          ]
        },
        {
          "name": "stderr",
          "output_type": "stream",
          "text": [
            "WARNING:tensorflow:Compiled the loaded model, but the compiled metrics have yet to be built. `model.compile_metrics` will be empty until you train or evaluate the model.\n",
            "WARNING:tensorflow:Compiled the loaded model, but the compiled metrics have yet to be built. `model.compile_metrics` will be empty until you train or evaluate the model.\n"
          ]
        },
        {
          "name": "stdout",
          "output_type": "stream",
          "text": [
            "122/122 [==============================] - 229s 2s/step - g_loss: 1.6074 - d_loss: 1.2107 - g_mae: 2.6199 - val_g_loss: 1.3618 - val_d_loss: 0.9344 - val_g_mae: 1.3788\n",
            "Epoch 116/200\n",
            "122/122 [==============================] - ETA: 0s - g_loss: 1.7644 - d_loss: 1.1172 - g_mae: 2.4974"
          ]
        },
        {
          "name": "stderr",
          "output_type": "stream",
          "text": [
            "WARNING:tensorflow:Compiled the loaded model, but the compiled metrics have yet to be built. `model.compile_metrics` will be empty until you train or evaluate the model.\n",
            "WARNING:tensorflow:Compiled the loaded model, but the compiled metrics have yet to be built. `model.compile_metrics` will be empty until you train or evaluate the model.\n"
          ]
        },
        {
          "name": "stdout",
          "output_type": "stream",
          "text": [
            "122/122 [==============================] - 229s 2s/step - g_loss: 1.7647 - d_loss: 1.1171 - g_mae: 2.4968 - val_g_loss: 1.8158 - val_d_loss: 0.8811 - val_g_mae: 1.5088\n",
            "Epoch 117/200\n",
            "122/122 [==============================] - ETA: 0s - g_loss: 1.6769 - d_loss: 1.1590 - g_mae: 2.5916"
          ]
        },
        {
          "name": "stderr",
          "output_type": "stream",
          "text": [
            "WARNING:tensorflow:Compiled the loaded model, but the compiled metrics have yet to be built. `model.compile_metrics` will be empty until you train or evaluate the model.\n",
            "WARNING:tensorflow:Compiled the loaded model, but the compiled metrics have yet to be built. `model.compile_metrics` will be empty until you train or evaluate the model.\n"
          ]
        },
        {
          "name": "stdout",
          "output_type": "stream",
          "text": [
            "122/122 [==============================] - 229s 2s/step - g_loss: 1.6769 - d_loss: 1.1585 - g_mae: 2.5909 - val_g_loss: 1.2012 - val_d_loss: 0.9234 - val_g_mae: 1.2871\n",
            "Epoch 118/200\n",
            "122/122 [==============================] - ETA: 0s - g_loss: 1.7832 - d_loss: 1.0102 - g_mae: 2.3746"
          ]
        },
        {
          "name": "stderr",
          "output_type": "stream",
          "text": [
            "WARNING:tensorflow:Compiled the loaded model, but the compiled metrics have yet to be built. `model.compile_metrics` will be empty until you train or evaluate the model.\n",
            "WARNING:tensorflow:Compiled the loaded model, but the compiled metrics have yet to be built. `model.compile_metrics` will be empty until you train or evaluate the model.\n"
          ]
        },
        {
          "name": "stdout",
          "output_type": "stream",
          "text": [
            "122/122 [==============================] - 229s 2s/step - g_loss: 1.7834 - d_loss: 1.0103 - g_mae: 2.3747 - val_g_loss: 1.4254 - val_d_loss: 1.1182 - val_g_mae: 1.1579\n",
            "Epoch 119/200\n",
            "122/122 [==============================] - ETA: 0s - g_loss: 2.0368 - d_loss: 1.0341 - g_mae: 2.4688"
          ]
        },
        {
          "name": "stderr",
          "output_type": "stream",
          "text": [
            "WARNING:tensorflow:Compiled the loaded model, but the compiled metrics have yet to be built. `model.compile_metrics` will be empty until you train or evaluate the model.\n",
            "WARNING:tensorflow:Compiled the loaded model, but the compiled metrics have yet to be built. `model.compile_metrics` will be empty until you train or evaluate the model.\n"
          ]
        },
        {
          "name": "stdout",
          "output_type": "stream",
          "text": [
            "122/122 [==============================] - 229s 2s/step - g_loss: 2.0359 - d_loss: 1.0342 - g_mae: 2.4688 - val_g_loss: 1.7239 - val_d_loss: 0.7775 - val_g_mae: 1.5485\n",
            "Epoch 120/200\n",
            "122/122 [==============================] - ETA: 0s - g_loss: 1.7861 - d_loss: 1.0581 - g_mae: 2.3636"
          ]
        },
        {
          "name": "stderr",
          "output_type": "stream",
          "text": [
            "WARNING:tensorflow:Compiled the loaded model, but the compiled metrics have yet to be built. `model.compile_metrics` will be empty until you train or evaluate the model.\n",
            "WARNING:tensorflow:Compiled the loaded model, but the compiled metrics have yet to be built. `model.compile_metrics` will be empty until you train or evaluate the model.\n"
          ]
        },
        {
          "name": "stdout",
          "output_type": "stream",
          "text": [
            "122/122 [==============================] - 229s 2s/step - g_loss: 1.7863 - d_loss: 1.0581 - g_mae: 2.3639 - val_g_loss: 1.0357 - val_d_loss: 1.0692 - val_g_mae: 1.1920\n",
            "Epoch 121/200\n",
            "122/122 [==============================] - ETA: 0s - g_loss: 1.9255 - d_loss: 1.1353 - g_mae: 2.4344"
          ]
        },
        {
          "name": "stderr",
          "output_type": "stream",
          "text": [
            "WARNING:tensorflow:Compiled the loaded model, but the compiled metrics have yet to be built. `model.compile_metrics` will be empty until you train or evaluate the model.\n",
            "WARNING:tensorflow:Compiled the loaded model, but the compiled metrics have yet to be built. `model.compile_metrics` will be empty until you train or evaluate the model.\n"
          ]
        },
        {
          "name": "stdout",
          "output_type": "stream",
          "text": [
            "122/122 [==============================] - 229s 2s/step - g_loss: 1.9243 - d_loss: 1.1362 - g_mae: 2.4351 - val_g_loss: 0.9047 - val_d_loss: 1.9197 - val_g_mae: 1.6082\n",
            "Epoch 122/200\n",
            "122/122 [==============================] - ETA: 0s - g_loss: 1.8028 - d_loss: 1.1123 - g_mae: 2.4598"
          ]
        },
        {
          "name": "stderr",
          "output_type": "stream",
          "text": [
            "WARNING:tensorflow:Compiled the loaded model, but the compiled metrics have yet to be built. `model.compile_metrics` will be empty until you train or evaluate the model.\n",
            "WARNING:tensorflow:Compiled the loaded model, but the compiled metrics have yet to be built. `model.compile_metrics` will be empty until you train or evaluate the model.\n"
          ]
        },
        {
          "name": "stdout",
          "output_type": "stream",
          "text": [
            "122/122 [==============================] - 229s 2s/step - g_loss: 1.8020 - d_loss: 1.1121 - g_mae: 2.4599 - val_g_loss: 1.1823 - val_d_loss: 0.9883 - val_g_mae: 0.9767\n",
            "Epoch 123/200\n",
            "122/122 [==============================] - ETA: 0s - g_loss: 1.8638 - d_loss: 1.0099 - g_mae: 2.4169"
          ]
        },
        {
          "name": "stderr",
          "output_type": "stream",
          "text": [
            "WARNING:tensorflow:Compiled the loaded model, but the compiled metrics have yet to be built. `model.compile_metrics` will be empty until you train or evaluate the model.\n",
            "WARNING:tensorflow:Compiled the loaded model, but the compiled metrics have yet to be built. `model.compile_metrics` will be empty until you train or evaluate the model.\n"
          ]
        },
        {
          "name": "stdout",
          "output_type": "stream",
          "text": [
            "122/122 [==============================] - 229s 2s/step - g_loss: 1.8633 - d_loss: 1.0100 - g_mae: 2.4169 - val_g_loss: 1.2319 - val_d_loss: 0.9640 - val_g_mae: 1.2232\n",
            "Epoch 124/200\n",
            "122/122 [==============================] - ETA: 0s - g_loss: 1.7982 - d_loss: 1.0219 - g_mae: 2.3221"
          ]
        },
        {
          "name": "stderr",
          "output_type": "stream",
          "text": [
            "WARNING:tensorflow:Compiled the loaded model, but the compiled metrics have yet to be built. `model.compile_metrics` will be empty until you train or evaluate the model.\n",
            "WARNING:tensorflow:Compiled the loaded model, but the compiled metrics have yet to be built. `model.compile_metrics` will be empty until you train or evaluate the model.\n"
          ]
        },
        {
          "name": "stdout",
          "output_type": "stream",
          "text": [
            "122/122 [==============================] - 229s 2s/step - g_loss: 1.7986 - d_loss: 1.0218 - g_mae: 2.3224 - val_g_loss: 1.4233 - val_d_loss: 1.1027 - val_g_mae: 1.2352\n",
            "Epoch 125/200\n",
            "122/122 [==============================] - ETA: 0s - g_loss: 1.8751 - d_loss: 1.1281 - g_mae: 2.5435"
          ]
        },
        {
          "name": "stderr",
          "output_type": "stream",
          "text": [
            "WARNING:tensorflow:Compiled the loaded model, but the compiled metrics have yet to be built. `model.compile_metrics` will be empty until you train or evaluate the model.\n",
            "WARNING:tensorflow:Compiled the loaded model, but the compiled metrics have yet to be built. `model.compile_metrics` will be empty until you train or evaluate the model.\n"
          ]
        },
        {
          "name": "stdout",
          "output_type": "stream",
          "text": [
            "122/122 [==============================] - 229s 2s/step - g_loss: 1.8746 - d_loss: 1.1278 - g_mae: 2.5432 - val_g_loss: 1.1328 - val_d_loss: 0.9866 - val_g_mae: 1.0869\n",
            "Epoch 126/200\n",
            "122/122 [==============================] - ETA: 0s - g_loss: 1.8182 - d_loss: 1.0511 - g_mae: 2.3401"
          ]
        },
        {
          "name": "stderr",
          "output_type": "stream",
          "text": [
            "WARNING:tensorflow:Compiled the loaded model, but the compiled metrics have yet to be built. `model.compile_metrics` will be empty until you train or evaluate the model.\n",
            "WARNING:tensorflow:Compiled the loaded model, but the compiled metrics have yet to be built. `model.compile_metrics` will be empty until you train or evaluate the model.\n"
          ]
        },
        {
          "name": "stdout",
          "output_type": "stream",
          "text": [
            "122/122 [==============================] - 229s 2s/step - g_loss: 1.8185 - d_loss: 1.0511 - g_mae: 2.3411 - val_g_loss: 1.4298 - val_d_loss: 0.8842 - val_g_mae: 1.5397\n",
            "Epoch 127/200\n",
            "122/122 [==============================] - ETA: 0s - g_loss: 1.8455 - d_loss: 1.0612 - g_mae: 2.4581"
          ]
        },
        {
          "name": "stderr",
          "output_type": "stream",
          "text": [
            "WARNING:tensorflow:Compiled the loaded model, but the compiled metrics have yet to be built. `model.compile_metrics` will be empty until you train or evaluate the model.\n",
            "WARNING:tensorflow:Compiled the loaded model, but the compiled metrics have yet to be built. `model.compile_metrics` will be empty until you train or evaluate the model.\n"
          ]
        },
        {
          "name": "stdout",
          "output_type": "stream",
          "text": [
            "122/122 [==============================] - 229s 2s/step - g_loss: 1.8453 - d_loss: 1.0612 - g_mae: 2.4581 - val_g_loss: 1.2783 - val_d_loss: 0.8383 - val_g_mae: 1.3679\n",
            "Epoch 128/200\n",
            "122/122 [==============================] - ETA: 0s - g_loss: 1.7830 - d_loss: 1.0309 - g_mae: 2.4342"
          ]
        },
        {
          "name": "stderr",
          "output_type": "stream",
          "text": [
            "WARNING:tensorflow:Compiled the loaded model, but the compiled metrics have yet to be built. `model.compile_metrics` will be empty until you train or evaluate the model.\n",
            "WARNING:tensorflow:Compiled the loaded model, but the compiled metrics have yet to be built. `model.compile_metrics` will be empty until you train or evaluate the model.\n"
          ]
        },
        {
          "name": "stdout",
          "output_type": "stream",
          "text": [
            "122/122 [==============================] - 229s 2s/step - g_loss: 1.7832 - d_loss: 1.0308 - g_mae: 2.4339 - val_g_loss: 1.2935 - val_d_loss: 1.1376 - val_g_mae: 1.0045\n",
            "Epoch 129/200\n",
            "122/122 [==============================] - ETA: 0s - g_loss: 1.9492 - d_loss: 1.0274 - g_mae: 2.3896"
          ]
        },
        {
          "name": "stderr",
          "output_type": "stream",
          "text": [
            "WARNING:tensorflow:Compiled the loaded model, but the compiled metrics have yet to be built. `model.compile_metrics` will be empty until you train or evaluate the model.\n",
            "WARNING:tensorflow:Compiled the loaded model, but the compiled metrics have yet to be built. `model.compile_metrics` will be empty until you train or evaluate the model.\n"
          ]
        },
        {
          "name": "stdout",
          "output_type": "stream",
          "text": [
            "122/122 [==============================] - 229s 2s/step - g_loss: 1.9488 - d_loss: 1.0275 - g_mae: 2.3899 - val_g_loss: 1.2906 - val_d_loss: 0.9046 - val_g_mae: 1.2743\n",
            "Epoch 130/200\n",
            "122/122 [==============================] - ETA: 0s - g_loss: 1.7832 - d_loss: 1.0669 - g_mae: 2.2958"
          ]
        },
        {
          "name": "stderr",
          "output_type": "stream",
          "text": [
            "WARNING:tensorflow:Compiled the loaded model, but the compiled metrics have yet to be built. `model.compile_metrics` will be empty until you train or evaluate the model.\n",
            "WARNING:tensorflow:Compiled the loaded model, but the compiled metrics have yet to be built. `model.compile_metrics` will be empty until you train or evaluate the model.\n"
          ]
        },
        {
          "name": "stdout",
          "output_type": "stream",
          "text": [
            "122/122 [==============================] - 229s 2s/step - g_loss: 1.7837 - d_loss: 1.0668 - g_mae: 2.2962 - val_g_loss: 1.1420 - val_d_loss: 1.3473 - val_g_mae: 1.2046\n",
            "Epoch 131/200\n",
            "122/122 [==============================] - ETA: 0s - g_loss: 1.9001 - d_loss: 1.1900 - g_mae: 2.6413"
          ]
        },
        {
          "name": "stderr",
          "output_type": "stream",
          "text": [
            "WARNING:tensorflow:Compiled the loaded model, but the compiled metrics have yet to be built. `model.compile_metrics` will be empty until you train or evaluate the model.\n",
            "WARNING:tensorflow:Compiled the loaded model, but the compiled metrics have yet to be built. `model.compile_metrics` will be empty until you train or evaluate the model.\n"
          ]
        },
        {
          "name": "stdout",
          "output_type": "stream",
          "text": [
            "122/122 [==============================] - 229s 2s/step - g_loss: 1.8993 - d_loss: 1.1895 - g_mae: 2.6407 - val_g_loss: 1.1519 - val_d_loss: 0.8808 - val_g_mae: 1.2579\n",
            "Epoch 132/200\n",
            "122/122 [==============================] - ETA: 0s - g_loss: 1.6967 - d_loss: 1.0600 - g_mae: 2.3650"
          ]
        },
        {
          "name": "stderr",
          "output_type": "stream",
          "text": [
            "WARNING:tensorflow:Compiled the loaded model, but the compiled metrics have yet to be built. `model.compile_metrics` will be empty until you train or evaluate the model.\n",
            "WARNING:tensorflow:Compiled the loaded model, but the compiled metrics have yet to be built. `model.compile_metrics` will be empty until you train or evaluate the model.\n"
          ]
        },
        {
          "name": "stdout",
          "output_type": "stream",
          "text": [
            "122/122 [==============================] - 229s 2s/step - g_loss: 1.6974 - d_loss: 1.0600 - g_mae: 2.3654 - val_g_loss: 1.3604 - val_d_loss: 0.9997 - val_g_mae: 0.9944\n",
            "Epoch 133/200\n",
            "122/122 [==============================] - ETA: 0s - g_loss: 1.9629 - d_loss: 1.0417 - g_mae: 2.4369"
          ]
        },
        {
          "name": "stderr",
          "output_type": "stream",
          "text": [
            "WARNING:tensorflow:Compiled the loaded model, but the compiled metrics have yet to be built. `model.compile_metrics` will be empty until you train or evaluate the model.\n",
            "WARNING:tensorflow:Compiled the loaded model, but the compiled metrics have yet to be built. `model.compile_metrics` will be empty until you train or evaluate the model.\n"
          ]
        },
        {
          "name": "stdout",
          "output_type": "stream",
          "text": [
            "122/122 [==============================] - 229s 2s/step - g_loss: 1.9626 - d_loss: 1.0419 - g_mae: 2.4372 - val_g_loss: 1.1947 - val_d_loss: 0.9673 - val_g_mae: 1.4808\n",
            "Epoch 134/200\n",
            "122/122 [==============================] - ETA: 0s - g_loss: 1.7640 - d_loss: 1.0678 - g_mae: 2.4827"
          ]
        },
        {
          "name": "stderr",
          "output_type": "stream",
          "text": [
            "WARNING:tensorflow:Compiled the loaded model, but the compiled metrics have yet to be built. `model.compile_metrics` will be empty until you train or evaluate the model.\n",
            "WARNING:tensorflow:Compiled the loaded model, but the compiled metrics have yet to be built. `model.compile_metrics` will be empty until you train or evaluate the model.\n"
          ]
        },
        {
          "name": "stdout",
          "output_type": "stream",
          "text": [
            "122/122 [==============================] - 229s 2s/step - g_loss: 1.7648 - d_loss: 1.0675 - g_mae: 2.4817 - val_g_loss: 1.6051 - val_d_loss: 1.0411 - val_g_mae: 1.4015\n",
            "Epoch 135/200\n",
            "122/122 [==============================] - ETA: 0s - g_loss: 1.9739 - d_loss: 1.0704 - g_mae: 2.5319"
          ]
        },
        {
          "name": "stderr",
          "output_type": "stream",
          "text": [
            "WARNING:tensorflow:Compiled the loaded model, but the compiled metrics have yet to be built. `model.compile_metrics` will be empty until you train or evaluate the model.\n",
            "WARNING:tensorflow:Compiled the loaded model, but the compiled metrics have yet to be built. `model.compile_metrics` will be empty until you train or evaluate the model.\n"
          ]
        },
        {
          "name": "stdout",
          "output_type": "stream",
          "text": [
            "122/122 [==============================] - 229s 2s/step - g_loss: 1.9734 - d_loss: 1.0703 - g_mae: 2.5313 - val_g_loss: 1.3801 - val_d_loss: 0.9937 - val_g_mae: 1.2339\n",
            "Epoch 136/200\n",
            "122/122 [==============================] - ETA: 0s - g_loss: 2.0077 - d_loss: 1.0274 - g_mae: 2.3164"
          ]
        },
        {
          "name": "stderr",
          "output_type": "stream",
          "text": [
            "WARNING:tensorflow:Compiled the loaded model, but the compiled metrics have yet to be built. `model.compile_metrics` will be empty until you train or evaluate the model.\n",
            "WARNING:tensorflow:Compiled the loaded model, but the compiled metrics have yet to be built. `model.compile_metrics` will be empty until you train or evaluate the model.\n"
          ]
        },
        {
          "name": "stdout",
          "output_type": "stream",
          "text": [
            "122/122 [==============================] - 229s 2s/step - g_loss: 2.0073 - d_loss: 1.0274 - g_mae: 2.3171 - val_g_loss: 1.3246 - val_d_loss: 0.9982 - val_g_mae: 1.3146\n",
            "Epoch 137/200\n",
            "122/122 [==============================] - ETA: 0s - g_loss: 1.9319 - d_loss: 1.0198 - g_mae: 2.4064"
          ]
        },
        {
          "name": "stderr",
          "output_type": "stream",
          "text": [
            "WARNING:tensorflow:Compiled the loaded model, but the compiled metrics have yet to be built. `model.compile_metrics` will be empty until you train or evaluate the model.\n",
            "WARNING:tensorflow:Compiled the loaded model, but the compiled metrics have yet to be built. `model.compile_metrics` will be empty until you train or evaluate the model.\n"
          ]
        },
        {
          "name": "stdout",
          "output_type": "stream",
          "text": [
            "122/122 [==============================] - 229s 2s/step - g_loss: 1.9320 - d_loss: 1.0200 - g_mae: 2.4062 - val_g_loss: 1.2564 - val_d_loss: 1.0965 - val_g_mae: 0.9649\n",
            "Epoch 138/200\n",
            "122/122 [==============================] - ETA: 0s - g_loss: 1.9427 - d_loss: 1.0092 - g_mae: 2.3790"
          ]
        },
        {
          "name": "stderr",
          "output_type": "stream",
          "text": [
            "WARNING:tensorflow:Compiled the loaded model, but the compiled metrics have yet to be built. `model.compile_metrics` will be empty until you train or evaluate the model.\n",
            "WARNING:tensorflow:Compiled the loaded model, but the compiled metrics have yet to be built. `model.compile_metrics` will be empty until you train or evaluate the model.\n"
          ]
        },
        {
          "name": "stdout",
          "output_type": "stream",
          "text": [
            "122/122 [==============================] - 229s 2s/step - g_loss: 1.9431 - d_loss: 1.0093 - g_mae: 2.3796 - val_g_loss: 1.5328 - val_d_loss: 0.8008 - val_g_mae: 1.9620\n",
            "Epoch 139/200\n",
            "122/122 [==============================] - ETA: 0s - g_loss: 1.7943 - d_loss: 0.9938 - g_mae: 2.4451"
          ]
        },
        {
          "name": "stderr",
          "output_type": "stream",
          "text": [
            "WARNING:tensorflow:Compiled the loaded model, but the compiled metrics have yet to be built. `model.compile_metrics` will be empty until you train or evaluate the model.\n",
            "WARNING:tensorflow:Compiled the loaded model, but the compiled metrics have yet to be built. `model.compile_metrics` will be empty until you train or evaluate the model.\n"
          ]
        },
        {
          "name": "stdout",
          "output_type": "stream",
          "text": [
            "122/122 [==============================] - 229s 2s/step - g_loss: 1.7949 - d_loss: 0.9937 - g_mae: 2.4446 - val_g_loss: 1.3199 - val_d_loss: 0.9468 - val_g_mae: 1.1179\n",
            "Epoch 140/200\n",
            "122/122 [==============================] - ETA: 0s - g_loss: 1.9361 - d_loss: 0.9662 - g_mae: 2.3680"
          ]
        },
        {
          "name": "stderr",
          "output_type": "stream",
          "text": [
            "WARNING:tensorflow:Compiled the loaded model, but the compiled metrics have yet to be built. `model.compile_metrics` will be empty until you train or evaluate the model.\n",
            "WARNING:tensorflow:Compiled the loaded model, but the compiled metrics have yet to be built. `model.compile_metrics` will be empty until you train or evaluate the model.\n"
          ]
        },
        {
          "name": "stdout",
          "output_type": "stream",
          "text": [
            "122/122 [==============================] - 229s 2s/step - g_loss: 1.9363 - d_loss: 0.9664 - g_mae: 2.3682 - val_g_loss: 1.1908 - val_d_loss: 0.9503 - val_g_mae: 1.2524\n",
            "Epoch 141/200\n",
            "122/122 [==============================] - ETA: 0s - g_loss: 1.9533 - d_loss: 1.0267 - g_mae: 2.4423"
          ]
        },
        {
          "name": "stderr",
          "output_type": "stream",
          "text": [
            "WARNING:tensorflow:Compiled the loaded model, but the compiled metrics have yet to be built. `model.compile_metrics` will be empty until you train or evaluate the model.\n",
            "WARNING:tensorflow:Compiled the loaded model, but the compiled metrics have yet to be built. `model.compile_metrics` will be empty until you train or evaluate the model.\n"
          ]
        },
        {
          "name": "stdout",
          "output_type": "stream",
          "text": [
            "122/122 [==============================] - 229s 2s/step - g_loss: 1.9551 - d_loss: 1.0277 - g_mae: 2.4430 - val_g_loss: 4.4211 - val_d_loss: 0.9071 - val_g_mae: 6.7180\n",
            "Epoch 142/200\n",
            "122/122 [==============================] - ETA: 0s - g_loss: 2.3192 - d_loss: 1.3351 - g_mae: 6.9452"
          ]
        },
        {
          "name": "stderr",
          "output_type": "stream",
          "text": [
            "WARNING:tensorflow:Compiled the loaded model, but the compiled metrics have yet to be built. `model.compile_metrics` will be empty until you train or evaluate the model.\n",
            "WARNING:tensorflow:Compiled the loaded model, but the compiled metrics have yet to be built. `model.compile_metrics` will be empty until you train or evaluate the model.\n"
          ]
        },
        {
          "name": "stdout",
          "output_type": "stream",
          "text": [
            "122/122 [==============================] - 229s 2s/step - g_loss: 2.3137 - d_loss: 1.3356 - g_mae: 6.9221 - val_g_loss: 1.0861 - val_d_loss: 1.0244 - val_g_mae: 1.2321\n",
            "Epoch 143/200\n",
            "122/122 [==============================] - ETA: 0s - g_loss: 1.6159 - d_loss: 1.0941 - g_mae: 2.3918"
          ]
        },
        {
          "name": "stderr",
          "output_type": "stream",
          "text": [
            "WARNING:tensorflow:Compiled the loaded model, but the compiled metrics have yet to be built. `model.compile_metrics` will be empty until you train or evaluate the model.\n",
            "WARNING:tensorflow:Compiled the loaded model, but the compiled metrics have yet to be built. `model.compile_metrics` will be empty until you train or evaluate the model.\n"
          ]
        },
        {
          "name": "stdout",
          "output_type": "stream",
          "text": [
            "122/122 [==============================] - 229s 2s/step - g_loss: 1.6162 - d_loss: 1.0942 - g_mae: 2.3913 - val_g_loss: 1.1981 - val_d_loss: 1.0576 - val_g_mae: 1.2003\n",
            "Epoch 144/200\n",
            "122/122 [==============================] - ETA: 0s - g_loss: 1.8485 - d_loss: 1.0559 - g_mae: 2.3915"
          ]
        },
        {
          "name": "stderr",
          "output_type": "stream",
          "text": [
            "WARNING:tensorflow:Compiled the loaded model, but the compiled metrics have yet to be built. `model.compile_metrics` will be empty until you train or evaluate the model.\n",
            "WARNING:tensorflow:Compiled the loaded model, but the compiled metrics have yet to be built. `model.compile_metrics` will be empty until you train or evaluate the model.\n"
          ]
        },
        {
          "name": "stdout",
          "output_type": "stream",
          "text": [
            "122/122 [==============================] - 229s 2s/step - g_loss: 1.8483 - d_loss: 1.0558 - g_mae: 2.3917 - val_g_loss: 1.3631 - val_d_loss: 0.9422 - val_g_mae: 1.4099\n",
            "Epoch 145/200\n",
            "122/122 [==============================] - ETA: 0s - g_loss: 1.8422 - d_loss: 0.9891 - g_mae: 2.3566"
          ]
        },
        {
          "name": "stderr",
          "output_type": "stream",
          "text": [
            "WARNING:tensorflow:Compiled the loaded model, but the compiled metrics have yet to be built. `model.compile_metrics` will be empty until you train or evaluate the model.\n",
            "WARNING:tensorflow:Compiled the loaded model, but the compiled metrics have yet to be built. `model.compile_metrics` will be empty until you train or evaluate the model.\n"
          ]
        },
        {
          "name": "stdout",
          "output_type": "stream",
          "text": [
            "122/122 [==============================] - 229s 2s/step - g_loss: 1.8426 - d_loss: 0.9890 - g_mae: 2.3567 - val_g_loss: 1.2756 - val_d_loss: 0.9598 - val_g_mae: 1.1803\n",
            "Epoch 146/200\n",
            "122/122 [==============================] - ETA: 0s - g_loss: 1.9219 - d_loss: 0.9908 - g_mae: 2.2864"
          ]
        },
        {
          "name": "stderr",
          "output_type": "stream",
          "text": [
            "WARNING:tensorflow:Compiled the loaded model, but the compiled metrics have yet to be built. `model.compile_metrics` will be empty until you train or evaluate the model.\n",
            "WARNING:tensorflow:Compiled the loaded model, but the compiled metrics have yet to be built. `model.compile_metrics` will be empty until you train or evaluate the model.\n"
          ]
        },
        {
          "name": "stdout",
          "output_type": "stream",
          "text": [
            "122/122 [==============================] - 229s 2s/step - g_loss: 1.9220 - d_loss: 0.9907 - g_mae: 2.2868 - val_g_loss: 1.5311 - val_d_loss: 0.9902 - val_g_mae: 1.3390\n",
            "Epoch 147/200\n",
            "122/122 [==============================] - ETA: 0s - g_loss: 1.9210 - d_loss: 0.9816 - g_mae: 2.3445"
          ]
        },
        {
          "name": "stderr",
          "output_type": "stream",
          "text": [
            "WARNING:tensorflow:Compiled the loaded model, but the compiled metrics have yet to be built. `model.compile_metrics` will be empty until you train or evaluate the model.\n",
            "WARNING:tensorflow:Compiled the loaded model, but the compiled metrics have yet to be built. `model.compile_metrics` will be empty until you train or evaluate the model.\n"
          ]
        },
        {
          "name": "stdout",
          "output_type": "stream",
          "text": [
            "122/122 [==============================] - 229s 2s/step - g_loss: 1.9215 - d_loss: 0.9815 - g_mae: 2.3446 - val_g_loss: 1.4705 - val_d_loss: 1.0134 - val_g_mae: 1.1844\n",
            "Epoch 148/200\n",
            "122/122 [==============================] - ETA: 0s - g_loss: 1.9607 - d_loss: 0.9820 - g_mae: 2.3791"
          ]
        },
        {
          "name": "stderr",
          "output_type": "stream",
          "text": [
            "WARNING:tensorflow:Compiled the loaded model, but the compiled metrics have yet to be built. `model.compile_metrics` will be empty until you train or evaluate the model.\n",
            "WARNING:tensorflow:Compiled the loaded model, but the compiled metrics have yet to be built. `model.compile_metrics` will be empty until you train or evaluate the model.\n"
          ]
        },
        {
          "name": "stdout",
          "output_type": "stream",
          "text": [
            "122/122 [==============================] - 229s 2s/step - g_loss: 1.9603 - d_loss: 0.9821 - g_mae: 2.3791 - val_g_loss: 1.1868 - val_d_loss: 1.0102 - val_g_mae: 1.2027\n",
            "Epoch 149/200\n",
            "122/122 [==============================] - ETA: 0s - g_loss: 1.9612 - d_loss: 0.9303 - g_mae: 2.3613"
          ]
        },
        {
          "name": "stderr",
          "output_type": "stream",
          "text": [
            "WARNING:tensorflow:Compiled the loaded model, but the compiled metrics have yet to be built. `model.compile_metrics` will be empty until you train or evaluate the model.\n",
            "WARNING:tensorflow:Compiled the loaded model, but the compiled metrics have yet to be built. `model.compile_metrics` will be empty until you train or evaluate the model.\n"
          ]
        },
        {
          "name": "stdout",
          "output_type": "stream",
          "text": [
            "122/122 [==============================] - 229s 2s/step - g_loss: 1.9614 - d_loss: 0.9304 - g_mae: 2.3615 - val_g_loss: 1.6369 - val_d_loss: 0.8045 - val_g_mae: 1.3701\n",
            "Epoch 150/200\n",
            "122/122 [==============================] - ETA: 0s - g_loss: 1.9899 - d_loss: 0.9665 - g_mae: 2.3178"
          ]
        },
        {
          "name": "stderr",
          "output_type": "stream",
          "text": [
            "WARNING:tensorflow:Compiled the loaded model, but the compiled metrics have yet to be built. `model.compile_metrics` will be empty until you train or evaluate the model.\n",
            "WARNING:tensorflow:Compiled the loaded model, but the compiled metrics have yet to be built. `model.compile_metrics` will be empty until you train or evaluate the model.\n"
          ]
        },
        {
          "name": "stdout",
          "output_type": "stream",
          "text": [
            "122/122 [==============================] - 229s 2s/step - g_loss: 1.9899 - d_loss: 0.9666 - g_mae: 2.3180 - val_g_loss: 1.1124 - val_d_loss: 1.1876 - val_g_mae: 1.5318\n",
            "Epoch 151/200\n",
            "122/122 [==============================] - ETA: 0s - g_loss: 1.8774 - d_loss: 0.9901 - g_mae: 2.4120"
          ]
        },
        {
          "name": "stderr",
          "output_type": "stream",
          "text": [
            "WARNING:tensorflow:Compiled the loaded model, but the compiled metrics have yet to be built. `model.compile_metrics` will be empty until you train or evaluate the model.\n",
            "WARNING:tensorflow:Compiled the loaded model, but the compiled metrics have yet to be built. `model.compile_metrics` will be empty until you train or evaluate the model.\n"
          ]
        },
        {
          "name": "stdout",
          "output_type": "stream",
          "text": [
            "122/122 [==============================] - 229s 2s/step - g_loss: 1.8779 - d_loss: 0.9898 - g_mae: 2.4116 - val_g_loss: 1.5861 - val_d_loss: 1.0119 - val_g_mae: 1.2341\n",
            "Epoch 152/200\n",
            "122/122 [==============================] - ETA: 0s - g_loss: 1.9983 - d_loss: 0.9627 - g_mae: 2.4143"
          ]
        },
        {
          "name": "stderr",
          "output_type": "stream",
          "text": [
            "WARNING:tensorflow:Compiled the loaded model, but the compiled metrics have yet to be built. `model.compile_metrics` will be empty until you train or evaluate the model.\n",
            "WARNING:tensorflow:Compiled the loaded model, but the compiled metrics have yet to be built. `model.compile_metrics` will be empty until you train or evaluate the model.\n"
          ]
        },
        {
          "name": "stdout",
          "output_type": "stream",
          "text": [
            "122/122 [==============================] - 229s 2s/step - g_loss: 1.9979 - d_loss: 0.9628 - g_mae: 2.4146 - val_g_loss: 1.4709 - val_d_loss: 0.8699 - val_g_mae: 1.2842\n",
            "Epoch 153/200\n",
            "122/122 [==============================] - ETA: 0s - g_loss: 1.9283 - d_loss: 0.9558 - g_mae: 2.3676"
          ]
        },
        {
          "name": "stderr",
          "output_type": "stream",
          "text": [
            "WARNING:tensorflow:Compiled the loaded model, but the compiled metrics have yet to be built. `model.compile_metrics` will be empty until you train or evaluate the model.\n",
            "WARNING:tensorflow:Compiled the loaded model, but the compiled metrics have yet to be built. `model.compile_metrics` will be empty until you train or evaluate the model.\n"
          ]
        },
        {
          "name": "stdout",
          "output_type": "stream",
          "text": [
            "122/122 [==============================] - 229s 2s/step - g_loss: 1.9284 - d_loss: 0.9561 - g_mae: 2.3680 - val_g_loss: 1.4387 - val_d_loss: 0.8992 - val_g_mae: 1.3795\n",
            "Epoch 154/200\n",
            "122/122 [==============================] - ETA: 0s - g_loss: 1.8448 - d_loss: 1.0546 - g_mae: 2.3395"
          ]
        },
        {
          "name": "stderr",
          "output_type": "stream",
          "text": [
            "WARNING:tensorflow:Compiled the loaded model, but the compiled metrics have yet to be built. `model.compile_metrics` will be empty until you train or evaluate the model.\n",
            "WARNING:tensorflow:Compiled the loaded model, but the compiled metrics have yet to be built. `model.compile_metrics` will be empty until you train or evaluate the model.\n"
          ]
        },
        {
          "name": "stdout",
          "output_type": "stream",
          "text": [
            "122/122 [==============================] - 229s 2s/step - g_loss: 1.8450 - d_loss: 1.0547 - g_mae: 2.3404 - val_g_loss: 1.2208 - val_d_loss: 0.8984 - val_g_mae: 1.1572\n",
            "Epoch 155/200\n",
            "122/122 [==============================] - ETA: 0s - g_loss: 1.8215 - d_loss: 1.0088 - g_mae: 2.3403"
          ]
        },
        {
          "name": "stderr",
          "output_type": "stream",
          "text": [
            "WARNING:tensorflow:Compiled the loaded model, but the compiled metrics have yet to be built. `model.compile_metrics` will be empty until you train or evaluate the model.\n",
            "WARNING:tensorflow:Compiled the loaded model, but the compiled metrics have yet to be built. `model.compile_metrics` will be empty until you train or evaluate the model.\n"
          ]
        },
        {
          "name": "stdout",
          "output_type": "stream",
          "text": [
            "122/122 [==============================] - 229s 2s/step - g_loss: 1.8224 - d_loss: 1.0087 - g_mae: 2.3405 - val_g_loss: 1.7434 - val_d_loss: 0.9888 - val_g_mae: 1.5851\n",
            "Epoch 156/200\n",
            "122/122 [==============================] - ETA: 0s - g_loss: 1.9013 - d_loss: 1.0156 - g_mae: 2.5447"
          ]
        },
        {
          "name": "stderr",
          "output_type": "stream",
          "text": [
            "WARNING:tensorflow:Compiled the loaded model, but the compiled metrics have yet to be built. `model.compile_metrics` will be empty until you train or evaluate the model.\n",
            "WARNING:tensorflow:Compiled the loaded model, but the compiled metrics have yet to be built. `model.compile_metrics` will be empty until you train or evaluate the model.\n"
          ]
        },
        {
          "name": "stdout",
          "output_type": "stream",
          "text": [
            "122/122 [==============================] - 229s 2s/step - g_loss: 1.9012 - d_loss: 1.0154 - g_mae: 2.5441 - val_g_loss: 1.5645 - val_d_loss: 0.9538 - val_g_mae: 1.2259\n",
            "Epoch 157/200\n",
            "122/122 [==============================] - ETA: 0s - g_loss: 1.9884 - d_loss: 0.9885 - g_mae: 2.3406"
          ]
        },
        {
          "name": "stderr",
          "output_type": "stream",
          "text": [
            "WARNING:tensorflow:Compiled the loaded model, but the compiled metrics have yet to be built. `model.compile_metrics` will be empty until you train or evaluate the model.\n",
            "WARNING:tensorflow:Compiled the loaded model, but the compiled metrics have yet to be built. `model.compile_metrics` will be empty until you train or evaluate the model.\n"
          ]
        },
        {
          "name": "stdout",
          "output_type": "stream",
          "text": [
            "122/122 [==============================] - 230s 2s/step - g_loss: 1.9881 - d_loss: 0.9887 - g_mae: 2.3407 - val_g_loss: 1.4590 - val_d_loss: 0.9932 - val_g_mae: 1.3108\n",
            "Epoch 158/200\n",
            "122/122 [==============================] - ETA: 0s - g_loss: 1.9029 - d_loss: 1.0156 - g_mae: 2.3777"
          ]
        },
        {
          "name": "stderr",
          "output_type": "stream",
          "text": [
            "WARNING:tensorflow:Compiled the loaded model, but the compiled metrics have yet to be built. `model.compile_metrics` will be empty until you train or evaluate the model.\n",
            "WARNING:tensorflow:Compiled the loaded model, but the compiled metrics have yet to be built. `model.compile_metrics` will be empty until you train or evaluate the model.\n"
          ]
        },
        {
          "name": "stdout",
          "output_type": "stream",
          "text": [
            "122/122 [==============================] - 229s 2s/step - g_loss: 1.9031 - d_loss: 1.0154 - g_mae: 2.3776 - val_g_loss: 1.5813 - val_d_loss: 0.9684 - val_g_mae: 1.2315\n",
            "Epoch 159/200\n",
            "122/122 [==============================] - ETA: 0s - g_loss: 1.9502 - d_loss: 0.9835 - g_mae: 2.3561"
          ]
        },
        {
          "name": "stderr",
          "output_type": "stream",
          "text": [
            "WARNING:tensorflow:Compiled the loaded model, but the compiled metrics have yet to be built. `model.compile_metrics` will be empty until you train or evaluate the model.\n",
            "WARNING:tensorflow:Compiled the loaded model, but the compiled metrics have yet to be built. `model.compile_metrics` will be empty until you train or evaluate the model.\n"
          ]
        },
        {
          "name": "stdout",
          "output_type": "stream",
          "text": [
            "122/122 [==============================] - 229s 2s/step - g_loss: 1.9502 - d_loss: 0.9838 - g_mae: 2.3563 - val_g_loss: 1.4957 - val_d_loss: 0.8933 - val_g_mae: 1.5674\n",
            "Epoch 160/200\n",
            "122/122 [==============================] - ETA: 0s - g_loss: 1.9119 - d_loss: 1.0446 - g_mae: 2.4213"
          ]
        },
        {
          "name": "stderr",
          "output_type": "stream",
          "text": [
            "WARNING:tensorflow:Compiled the loaded model, but the compiled metrics have yet to be built. `model.compile_metrics` will be empty until you train or evaluate the model.\n",
            "WARNING:tensorflow:Compiled the loaded model, but the compiled metrics have yet to be built. `model.compile_metrics` will be empty until you train or evaluate the model.\n"
          ]
        },
        {
          "name": "stdout",
          "output_type": "stream",
          "text": [
            "122/122 [==============================] - 229s 2s/step - g_loss: 1.9117 - d_loss: 1.0448 - g_mae: 2.4211 - val_g_loss: 1.5282 - val_d_loss: 1.1446 - val_g_mae: 1.6022\n",
            "Epoch 161/200\n",
            "122/122 [==============================] - ETA: 0s - g_loss: 1.9559 - d_loss: 1.1139 - g_mae: 2.5948"
          ]
        },
        {
          "name": "stderr",
          "output_type": "stream",
          "text": [
            "WARNING:tensorflow:Compiled the loaded model, but the compiled metrics have yet to be built. `model.compile_metrics` will be empty until you train or evaluate the model.\n",
            "WARNING:tensorflow:Compiled the loaded model, but the compiled metrics have yet to be built. `model.compile_metrics` will be empty until you train or evaluate the model.\n"
          ]
        },
        {
          "name": "stdout",
          "output_type": "stream",
          "text": [
            "122/122 [==============================] - 229s 2s/step - g_loss: 1.9556 - d_loss: 1.1133 - g_mae: 2.5938 - val_g_loss: 1.7013 - val_d_loss: 1.2668 - val_g_mae: 1.1576\n",
            "Epoch 162/200\n",
            "122/122 [==============================] - ETA: 0s - g_loss: 1.9722 - d_loss: 1.0591 - g_mae: 2.4638"
          ]
        },
        {
          "name": "stderr",
          "output_type": "stream",
          "text": [
            "WARNING:tensorflow:Compiled the loaded model, but the compiled metrics have yet to be built. `model.compile_metrics` will be empty until you train or evaluate the model.\n",
            "WARNING:tensorflow:Compiled the loaded model, but the compiled metrics have yet to be built. `model.compile_metrics` will be empty until you train or evaluate the model.\n"
          ]
        },
        {
          "name": "stdout",
          "output_type": "stream",
          "text": [
            "122/122 [==============================] - 229s 2s/step - g_loss: 1.9714 - d_loss: 1.0591 - g_mae: 2.4639 - val_g_loss: 0.9232 - val_d_loss: 1.0160 - val_g_mae: 1.2253\n",
            "Epoch 163/200\n",
            "122/122 [==============================] - ETA: 0s - g_loss: 1.8978 - d_loss: 0.9627 - g_mae: 2.3275"
          ]
        },
        {
          "name": "stderr",
          "output_type": "stream",
          "text": [
            "WARNING:tensorflow:Compiled the loaded model, but the compiled metrics have yet to be built. `model.compile_metrics` will be empty until you train or evaluate the model.\n",
            "WARNING:tensorflow:Compiled the loaded model, but the compiled metrics have yet to be built. `model.compile_metrics` will be empty until you train or evaluate the model.\n"
          ]
        },
        {
          "name": "stdout",
          "output_type": "stream",
          "text": [
            "122/122 [==============================] - 229s 2s/step - g_loss: 1.8985 - d_loss: 0.9628 - g_mae: 2.3276 - val_g_loss: 1.5157 - val_d_loss: 0.9622 - val_g_mae: 1.6547\n",
            "Epoch 164/200\n",
            "122/122 [==============================] - ETA: 0s - g_loss: 1.8498 - d_loss: 1.0190 - g_mae: 2.5619"
          ]
        },
        {
          "name": "stderr",
          "output_type": "stream",
          "text": [
            "WARNING:tensorflow:Compiled the loaded model, but the compiled metrics have yet to be built. `model.compile_metrics` will be empty until you train or evaluate the model.\n",
            "WARNING:tensorflow:Compiled the loaded model, but the compiled metrics have yet to be built. `model.compile_metrics` will be empty until you train or evaluate the model.\n"
          ]
        },
        {
          "name": "stdout",
          "output_type": "stream",
          "text": [
            "122/122 [==============================] - 229s 2s/step - g_loss: 1.8501 - d_loss: 1.0188 - g_mae: 2.5606 - val_g_loss: 1.2965 - val_d_loss: 1.0385 - val_g_mae: 1.2173\n",
            "Epoch 165/200\n",
            "122/122 [==============================] - ETA: 0s - g_loss: 1.9794 - d_loss: 0.9973 - g_mae: 2.3688"
          ]
        },
        {
          "name": "stderr",
          "output_type": "stream",
          "text": [
            "WARNING:tensorflow:Compiled the loaded model, but the compiled metrics have yet to be built. `model.compile_metrics` will be empty until you train or evaluate the model.\n",
            "WARNING:tensorflow:Compiled the loaded model, but the compiled metrics have yet to be built. `model.compile_metrics` will be empty until you train or evaluate the model.\n"
          ]
        },
        {
          "name": "stdout",
          "output_type": "stream",
          "text": [
            "122/122 [==============================] - 229s 2s/step - g_loss: 1.9794 - d_loss: 0.9971 - g_mae: 2.3687 - val_g_loss: 1.4541 - val_d_loss: 0.8561 - val_g_mae: 1.1595\n",
            "Epoch 166/200\n",
            "122/122 [==============================] - ETA: 0s - g_loss: 2.0369 - d_loss: 0.9404 - g_mae: 2.2869"
          ]
        },
        {
          "name": "stderr",
          "output_type": "stream",
          "text": [
            "WARNING:tensorflow:Compiled the loaded model, but the compiled metrics have yet to be built. `model.compile_metrics` will be empty until you train or evaluate the model.\n",
            "WARNING:tensorflow:Compiled the loaded model, but the compiled metrics have yet to be built. `model.compile_metrics` will be empty until you train or evaluate the model.\n"
          ]
        },
        {
          "name": "stdout",
          "output_type": "stream",
          "text": [
            "122/122 [==============================] - 229s 2s/step - g_loss: 2.0366 - d_loss: 0.9408 - g_mae: 2.2872 - val_g_loss: 1.3849 - val_d_loss: 0.9588 - val_g_mae: 1.2872\n",
            "Epoch 167/200\n",
            "122/122 [==============================] - ETA: 0s - g_loss: 1.9797 - d_loss: 1.0141 - g_mae: 2.3898"
          ]
        },
        {
          "name": "stderr",
          "output_type": "stream",
          "text": [
            "WARNING:tensorflow:Compiled the loaded model, but the compiled metrics have yet to be built. `model.compile_metrics` will be empty until you train or evaluate the model.\n",
            "WARNING:tensorflow:Compiled the loaded model, but the compiled metrics have yet to be built. `model.compile_metrics` will be empty until you train or evaluate the model.\n"
          ]
        },
        {
          "name": "stdout",
          "output_type": "stream",
          "text": [
            "122/122 [==============================] - 229s 2s/step - g_loss: 1.9793 - d_loss: 1.0142 - g_mae: 2.3900 - val_g_loss: 1.4600 - val_d_loss: 0.8436 - val_g_mae: 1.4375\n",
            "Epoch 168/200\n",
            "122/122 [==============================] - ETA: 0s - g_loss: 1.8522 - d_loss: 1.0126 - g_mae: 2.3719"
          ]
        },
        {
          "name": "stderr",
          "output_type": "stream",
          "text": [
            "WARNING:tensorflow:Compiled the loaded model, but the compiled metrics have yet to be built. `model.compile_metrics` will be empty until you train or evaluate the model.\n",
            "WARNING:tensorflow:Compiled the loaded model, but the compiled metrics have yet to be built. `model.compile_metrics` will be empty until you train or evaluate the model.\n"
          ]
        },
        {
          "name": "stdout",
          "output_type": "stream",
          "text": [
            "122/122 [==============================] - 229s 2s/step - g_loss: 1.8529 - d_loss: 1.0124 - g_mae: 2.3716 - val_g_loss: 1.3172 - val_d_loss: 0.9994 - val_g_mae: 1.1667\n",
            "Epoch 169/200\n",
            "122/122 [==============================] - ETA: 0s - g_loss: 2.0279 - d_loss: 0.9355 - g_mae: 2.3221"
          ]
        },
        {
          "name": "stderr",
          "output_type": "stream",
          "text": [
            "WARNING:tensorflow:Compiled the loaded model, but the compiled metrics have yet to be built. `model.compile_metrics` will be empty until you train or evaluate the model.\n",
            "WARNING:tensorflow:Compiled the loaded model, but the compiled metrics have yet to be built. `model.compile_metrics` will be empty until you train or evaluate the model.\n"
          ]
        },
        {
          "name": "stdout",
          "output_type": "stream",
          "text": [
            "122/122 [==============================] - 229s 2s/step - g_loss: 2.0283 - d_loss: 0.9355 - g_mae: 2.3222 - val_g_loss: 1.5963 - val_d_loss: 0.9615 - val_g_mae: 1.4730\n",
            "Epoch 170/200\n",
            "122/122 [==============================] - ETA: 0s - g_loss: 2.0792 - d_loss: 0.9370 - g_mae: 2.3436"
          ]
        },
        {
          "name": "stderr",
          "output_type": "stream",
          "text": [
            "WARNING:tensorflow:Compiled the loaded model, but the compiled metrics have yet to be built. `model.compile_metrics` will be empty until you train or evaluate the model.\n",
            "WARNING:tensorflow:Compiled the loaded model, but the compiled metrics have yet to be built. `model.compile_metrics` will be empty until you train or evaluate the model.\n"
          ]
        },
        {
          "name": "stdout",
          "output_type": "stream",
          "text": [
            "122/122 [==============================] - 230s 2s/step - g_loss: 2.0791 - d_loss: 0.9370 - g_mae: 2.3436 - val_g_loss: 1.2848 - val_d_loss: 0.9430 - val_g_mae: 1.0570\n",
            "Epoch 171/200\n",
            "122/122 [==============================] - ETA: 0s - g_loss: 2.0015 - d_loss: 0.9644 - g_mae: 2.3395"
          ]
        },
        {
          "name": "stderr",
          "output_type": "stream",
          "text": [
            "WARNING:tensorflow:Compiled the loaded model, but the compiled metrics have yet to be built. `model.compile_metrics` will be empty until you train or evaluate the model.\n",
            "WARNING:tensorflow:Compiled the loaded model, but the compiled metrics have yet to be built. `model.compile_metrics` will be empty until you train or evaluate the model.\n"
          ]
        },
        {
          "name": "stdout",
          "output_type": "stream",
          "text": [
            "122/122 [==============================] - 230s 2s/step - g_loss: 2.0014 - d_loss: 0.9643 - g_mae: 2.3395 - val_g_loss: 1.7013 - val_d_loss: 0.8490 - val_g_mae: 1.2505\n",
            "Epoch 172/200\n",
            "122/122 [==============================] - ETA: 0s - g_loss: 2.0582 - d_loss: 0.8987 - g_mae: 2.3200"
          ]
        },
        {
          "name": "stderr",
          "output_type": "stream",
          "text": [
            "WARNING:tensorflow:Compiled the loaded model, but the compiled metrics have yet to be built. `model.compile_metrics` will be empty until you train or evaluate the model.\n",
            "WARNING:tensorflow:Compiled the loaded model, but the compiled metrics have yet to be built. `model.compile_metrics` will be empty until you train or evaluate the model.\n"
          ]
        },
        {
          "name": "stdout",
          "output_type": "stream",
          "text": [
            "122/122 [==============================] - 229s 2s/step - g_loss: 2.0583 - d_loss: 0.8989 - g_mae: 2.3201 - val_g_loss: 1.6486 - val_d_loss: 0.8986 - val_g_mae: 1.2459\n",
            "Epoch 173/200\n",
            "122/122 [==============================] - ETA: 0s - g_loss: 2.0561 - d_loss: 0.9116 - g_mae: 2.3075"
          ]
        },
        {
          "name": "stderr",
          "output_type": "stream",
          "text": [
            "WARNING:tensorflow:Compiled the loaded model, but the compiled metrics have yet to be built. `model.compile_metrics` will be empty until you train or evaluate the model.\n",
            "WARNING:tensorflow:Compiled the loaded model, but the compiled metrics have yet to be built. `model.compile_metrics` will be empty until you train or evaluate the model.\n"
          ]
        },
        {
          "name": "stdout",
          "output_type": "stream",
          "text": [
            "122/122 [==============================] - 230s 2s/step - g_loss: 2.0560 - d_loss: 0.9117 - g_mae: 2.3075 - val_g_loss: 1.6720 - val_d_loss: 1.0577 - val_g_mae: 1.1180\n",
            "Epoch 174/200\n",
            "122/122 [==============================] - ETA: 0s - g_loss: 2.0155 - d_loss: 1.0406 - g_mae: 2.4430"
          ]
        },
        {
          "name": "stderr",
          "output_type": "stream",
          "text": [
            "WARNING:tensorflow:Compiled the loaded model, but the compiled metrics have yet to be built. `model.compile_metrics` will be empty until you train or evaluate the model.\n",
            "WARNING:tensorflow:Compiled the loaded model, but the compiled metrics have yet to be built. `model.compile_metrics` will be empty until you train or evaluate the model.\n"
          ]
        },
        {
          "name": "stdout",
          "output_type": "stream",
          "text": [
            "122/122 [==============================] - 230s 2s/step - g_loss: 2.0149 - d_loss: 1.0403 - g_mae: 2.4426 - val_g_loss: 1.3635 - val_d_loss: 0.9792 - val_g_mae: 1.0885\n",
            "Epoch 175/200\n",
            "122/122 [==============================] - ETA: 0s - g_loss: 2.1507 - d_loss: 0.9066 - g_mae: 2.3514"
          ]
        },
        {
          "name": "stderr",
          "output_type": "stream",
          "text": [
            "WARNING:tensorflow:Compiled the loaded model, but the compiled metrics have yet to be built. `model.compile_metrics` will be empty until you train or evaluate the model.\n",
            "WARNING:tensorflow:Compiled the loaded model, but the compiled metrics have yet to be built. `model.compile_metrics` will be empty until you train or evaluate the model.\n"
          ]
        },
        {
          "name": "stdout",
          "output_type": "stream",
          "text": [
            "122/122 [==============================] - 229s 2s/step - g_loss: 2.1506 - d_loss: 0.9068 - g_mae: 2.3512 - val_g_loss: 1.7437 - val_d_loss: 0.9563 - val_g_mae: 1.4116\n",
            "Epoch 176/200\n",
            "122/122 [==============================] - ETA: 0s - g_loss: 2.0577 - d_loss: 0.9809 - g_mae: 2.4080"
          ]
        },
        {
          "name": "stderr",
          "output_type": "stream",
          "text": [
            "WARNING:tensorflow:Compiled the loaded model, but the compiled metrics have yet to be built. `model.compile_metrics` will be empty until you train or evaluate the model.\n",
            "WARNING:tensorflow:Compiled the loaded model, but the compiled metrics have yet to be built. `model.compile_metrics` will be empty until you train or evaluate the model.\n"
          ]
        },
        {
          "name": "stdout",
          "output_type": "stream",
          "text": [
            "122/122 [==============================] - 229s 2s/step - g_loss: 2.0577 - d_loss: 0.9808 - g_mae: 2.4074 - val_g_loss: 1.2921 - val_d_loss: 1.1642 - val_g_mae: 1.2157\n",
            "Epoch 177/200\n",
            "122/122 [==============================] - ETA: 0s - g_loss: 2.0008 - d_loss: 0.9892 - g_mae: 2.3352"
          ]
        },
        {
          "name": "stderr",
          "output_type": "stream",
          "text": [
            "WARNING:tensorflow:Compiled the loaded model, but the compiled metrics have yet to be built. `model.compile_metrics` will be empty until you train or evaluate the model.\n",
            "WARNING:tensorflow:Compiled the loaded model, but the compiled metrics have yet to be built. `model.compile_metrics` will be empty until you train or evaluate the model.\n"
          ]
        },
        {
          "name": "stdout",
          "output_type": "stream",
          "text": [
            "122/122 [==============================] - 230s 2s/step - g_loss: 2.0011 - d_loss: 0.9891 - g_mae: 2.3350 - val_g_loss: 1.2320 - val_d_loss: 1.0675 - val_g_mae: 1.1851\n",
            "Epoch 178/200\n",
            "122/122 [==============================] - ETA: 0s - g_loss: 1.9680 - d_loss: 1.0100 - g_mae: 2.3522"
          ]
        },
        {
          "name": "stderr",
          "output_type": "stream",
          "text": [
            "WARNING:tensorflow:Compiled the loaded model, but the compiled metrics have yet to be built. `model.compile_metrics` will be empty until you train or evaluate the model.\n",
            "WARNING:tensorflow:Compiled the loaded model, but the compiled metrics have yet to be built. `model.compile_metrics` will be empty until you train or evaluate the model.\n"
          ]
        },
        {
          "name": "stdout",
          "output_type": "stream",
          "text": [
            "122/122 [==============================] - 230s 2s/step - g_loss: 1.9689 - d_loss: 1.0100 - g_mae: 2.3520 - val_g_loss: 2.6296 - val_d_loss: 0.9390 - val_g_mae: 1.3701\n",
            "Epoch 179/200\n",
            "122/122 [==============================] - ETA: 0s - g_loss: 1.8859 - d_loss: 1.1116 - g_mae: 2.3821"
          ]
        },
        {
          "name": "stderr",
          "output_type": "stream",
          "text": [
            "WARNING:tensorflow:Compiled the loaded model, but the compiled metrics have yet to be built. `model.compile_metrics` will be empty until you train or evaluate the model.\n",
            "WARNING:tensorflow:Compiled the loaded model, but the compiled metrics have yet to be built. `model.compile_metrics` will be empty until you train or evaluate the model.\n"
          ]
        },
        {
          "name": "stdout",
          "output_type": "stream",
          "text": [
            "122/122 [==============================] - 229s 2s/step - g_loss: 1.8856 - d_loss: 1.1110 - g_mae: 2.3819 - val_g_loss: 1.4191 - val_d_loss: 0.9302 - val_g_mae: 1.2661\n",
            "Epoch 180/200\n",
            "122/122 [==============================] - ETA: 0s - g_loss: 2.0312 - d_loss: 0.9689 - g_mae: 2.3521"
          ]
        },
        {
          "name": "stderr",
          "output_type": "stream",
          "text": [
            "WARNING:tensorflow:Compiled the loaded model, but the compiled metrics have yet to be built. `model.compile_metrics` will be empty until you train or evaluate the model.\n",
            "WARNING:tensorflow:Compiled the loaded model, but the compiled metrics have yet to be built. `model.compile_metrics` will be empty until you train or evaluate the model.\n"
          ]
        },
        {
          "name": "stdout",
          "output_type": "stream",
          "text": [
            "122/122 [==============================] - 230s 2s/step - g_loss: 2.0312 - d_loss: 0.9689 - g_mae: 2.3522 - val_g_loss: 1.6335 - val_d_loss: 1.0196 - val_g_mae: 1.1128\n",
            "Epoch 181/200\n",
            "122/122 [==============================] - ETA: 0s - g_loss: 2.0811 - d_loss: 0.9580 - g_mae: 2.3099"
          ]
        },
        {
          "name": "stderr",
          "output_type": "stream",
          "text": [
            "WARNING:tensorflow:Compiled the loaded model, but the compiled metrics have yet to be built. `model.compile_metrics` will be empty until you train or evaluate the model.\n",
            "WARNING:tensorflow:Compiled the loaded model, but the compiled metrics have yet to be built. `model.compile_metrics` will be empty until you train or evaluate the model.\n"
          ]
        },
        {
          "name": "stdout",
          "output_type": "stream",
          "text": [
            "122/122 [==============================] - 230s 2s/step - g_loss: 2.0810 - d_loss: 0.9580 - g_mae: 2.3102 - val_g_loss: 1.5179 - val_d_loss: 1.1011 - val_g_mae: 1.2001\n",
            "Epoch 182/200\n",
            "122/122 [==============================] - ETA: 0s - g_loss: 2.0789 - d_loss: 0.9806 - g_mae: 2.4611"
          ]
        },
        {
          "name": "stderr",
          "output_type": "stream",
          "text": [
            "WARNING:tensorflow:Compiled the loaded model, but the compiled metrics have yet to be built. `model.compile_metrics` will be empty until you train or evaluate the model.\n",
            "WARNING:tensorflow:Compiled the loaded model, but the compiled metrics have yet to be built. `model.compile_metrics` will be empty until you train or evaluate the model.\n"
          ]
        },
        {
          "name": "stdout",
          "output_type": "stream",
          "text": [
            "122/122 [==============================] - 230s 2s/step - g_loss: 2.0786 - d_loss: 0.9807 - g_mae: 2.4605 - val_g_loss: 1.3851 - val_d_loss: 1.1119 - val_g_mae: 1.5148\n",
            "Epoch 183/200\n",
            "122/122 [==============================] - ETA: 0s - g_loss: 1.8937 - d_loss: 0.9810 - g_mae: 2.4522"
          ]
        },
        {
          "name": "stderr",
          "output_type": "stream",
          "text": [
            "WARNING:tensorflow:Compiled the loaded model, but the compiled metrics have yet to be built. `model.compile_metrics` will be empty until you train or evaluate the model.\n",
            "WARNING:tensorflow:Compiled the loaded model, but the compiled metrics have yet to be built. `model.compile_metrics` will be empty until you train or evaluate the model.\n"
          ]
        },
        {
          "name": "stdout",
          "output_type": "stream",
          "text": [
            "122/122 [==============================] - 230s 2s/step - g_loss: 1.8943 - d_loss: 0.9810 - g_mae: 2.4517 - val_g_loss: 1.6062 - val_d_loss: 0.9130 - val_g_mae: 1.4286\n",
            "Epoch 184/200\n",
            "122/122 [==============================] - ETA: 0s - g_loss: 1.9766 - d_loss: 0.9564 - g_mae: 2.3113"
          ]
        },
        {
          "name": "stderr",
          "output_type": "stream",
          "text": [
            "WARNING:tensorflow:Compiled the loaded model, but the compiled metrics have yet to be built. `model.compile_metrics` will be empty until you train or evaluate the model.\n",
            "WARNING:tensorflow:Compiled the loaded model, but the compiled metrics have yet to be built. `model.compile_metrics` will be empty until you train or evaluate the model.\n"
          ]
        },
        {
          "name": "stdout",
          "output_type": "stream",
          "text": [
            "122/122 [==============================] - 230s 2s/step - g_loss: 1.9770 - d_loss: 0.9564 - g_mae: 2.3116 - val_g_loss: 1.4738 - val_d_loss: 0.9471 - val_g_mae: 1.2780\n",
            "Epoch 185/200\n",
            "122/122 [==============================] - ETA: 0s - g_loss: 2.0447 - d_loss: 0.9411 - g_mae: 2.3730"
          ]
        },
        {
          "name": "stderr",
          "output_type": "stream",
          "text": [
            "WARNING:tensorflow:Compiled the loaded model, but the compiled metrics have yet to be built. `model.compile_metrics` will be empty until you train or evaluate the model.\n",
            "WARNING:tensorflow:Compiled the loaded model, but the compiled metrics have yet to be built. `model.compile_metrics` will be empty until you train or evaluate the model.\n"
          ]
        },
        {
          "name": "stdout",
          "output_type": "stream",
          "text": [
            "122/122 [==============================] - 230s 2s/step - g_loss: 2.0446 - d_loss: 0.9413 - g_mae: 2.3728 - val_g_loss: 1.1869 - val_d_loss: 1.0163 - val_g_mae: 1.1950\n",
            "Epoch 186/200\n",
            "122/122 [==============================] - ETA: 0s - g_loss: 2.0439 - d_loss: 0.9204 - g_mae: 2.3038"
          ]
        },
        {
          "name": "stderr",
          "output_type": "stream",
          "text": [
            "WARNING:tensorflow:Compiled the loaded model, but the compiled metrics have yet to be built. `model.compile_metrics` will be empty until you train or evaluate the model.\n",
            "WARNING:tensorflow:Compiled the loaded model, but the compiled metrics have yet to be built. `model.compile_metrics` will be empty until you train or evaluate the model.\n"
          ]
        },
        {
          "name": "stdout",
          "output_type": "stream",
          "text": [
            "122/122 [==============================] - 230s 2s/step - g_loss: 2.0439 - d_loss: 0.9205 - g_mae: 2.3041 - val_g_loss: 1.6712 - val_d_loss: 1.0368 - val_g_mae: 1.6153\n",
            "Epoch 187/200\n",
            "122/122 [==============================] - ETA: 0s - g_loss: 2.0332 - d_loss: 0.9777 - g_mae: 2.4365"
          ]
        },
        {
          "name": "stderr",
          "output_type": "stream",
          "text": [
            "WARNING:tensorflow:Compiled the loaded model, but the compiled metrics have yet to be built. `model.compile_metrics` will be empty until you train or evaluate the model.\n",
            "WARNING:tensorflow:Compiled the loaded model, but the compiled metrics have yet to be built. `model.compile_metrics` will be empty until you train or evaluate the model.\n"
          ]
        },
        {
          "name": "stdout",
          "output_type": "stream",
          "text": [
            "122/122 [==============================] - 230s 2s/step - g_loss: 2.0335 - d_loss: 0.9774 - g_mae: 2.4358 - val_g_loss: 1.6956 - val_d_loss: 0.8808 - val_g_mae: 1.4286\n",
            "Epoch 188/200\n",
            "122/122 [==============================] - ETA: 0s - g_loss: 1.9663 - d_loss: 0.9770 - g_mae: 2.4424"
          ]
        },
        {
          "name": "stderr",
          "output_type": "stream",
          "text": [
            "WARNING:tensorflow:Compiled the loaded model, but the compiled metrics have yet to be built. `model.compile_metrics` will be empty until you train or evaluate the model.\n",
            "WARNING:tensorflow:Compiled the loaded model, but the compiled metrics have yet to be built. `model.compile_metrics` will be empty until you train or evaluate the model.\n"
          ]
        },
        {
          "name": "stdout",
          "output_type": "stream",
          "text": [
            "122/122 [==============================] - 229s 2s/step - g_loss: 1.9666 - d_loss: 0.9770 - g_mae: 2.4419 - val_g_loss: 1.4280 - val_d_loss: 1.0982 - val_g_mae: 1.0815\n",
            "Epoch 189/200\n",
            "122/122 [==============================] - ETA: 0s - g_loss: 2.0542 - d_loss: 0.9767 - g_mae: 2.4199"
          ]
        },
        {
          "name": "stderr",
          "output_type": "stream",
          "text": [
            "WARNING:tensorflow:Compiled the loaded model, but the compiled metrics have yet to be built. `model.compile_metrics` will be empty until you train or evaluate the model.\n",
            "WARNING:tensorflow:Compiled the loaded model, but the compiled metrics have yet to be built. `model.compile_metrics` will be empty until you train or evaluate the model.\n"
          ]
        },
        {
          "name": "stdout",
          "output_type": "stream",
          "text": [
            "122/122 [==============================] - 230s 2s/step - g_loss: 2.0543 - d_loss: 0.9767 - g_mae: 2.4196 - val_g_loss: 1.3502 - val_d_loss: 1.2063 - val_g_mae: 1.2513\n",
            "Epoch 190/200\n",
            "122/122 [==============================] - ETA: 0s - g_loss: 2.0055 - d_loss: 1.0101 - g_mae: 2.5457"
          ]
        },
        {
          "name": "stderr",
          "output_type": "stream",
          "text": [
            "WARNING:tensorflow:Compiled the loaded model, but the compiled metrics have yet to be built. `model.compile_metrics` will be empty until you train or evaluate the model.\n",
            "WARNING:tensorflow:Compiled the loaded model, but the compiled metrics have yet to be built. `model.compile_metrics` will be empty until you train or evaluate the model.\n"
          ]
        },
        {
          "name": "stdout",
          "output_type": "stream",
          "text": [
            "122/122 [==============================] - 230s 2s/step - g_loss: 2.0049 - d_loss: 1.0101 - g_mae: 2.5454 - val_g_loss: 1.5881 - val_d_loss: 0.9021 - val_g_mae: 0.9709\n",
            "Epoch 191/200\n",
            "122/122 [==============================] - ETA: 0s - g_loss: 2.1418 - d_loss: 0.9219 - g_mae: 2.2964"
          ]
        },
        {
          "name": "stderr",
          "output_type": "stream",
          "text": [
            "WARNING:tensorflow:Compiled the loaded model, but the compiled metrics have yet to be built. `model.compile_metrics` will be empty until you train or evaluate the model.\n",
            "WARNING:tensorflow:Compiled the loaded model, but the compiled metrics have yet to be built. `model.compile_metrics` will be empty until you train or evaluate the model.\n"
          ]
        },
        {
          "name": "stdout",
          "output_type": "stream",
          "text": [
            "122/122 [==============================] - 229s 2s/step - g_loss: 2.1410 - d_loss: 0.9221 - g_mae: 2.2970 - val_g_loss: 1.6588 - val_d_loss: 0.9492 - val_g_mae: 1.2518\n",
            "Epoch 192/200\n",
            "122/122 [==============================] - ETA: 0s - g_loss: 2.1053 - d_loss: 0.9245 - g_mae: 2.3653"
          ]
        },
        {
          "name": "stderr",
          "output_type": "stream",
          "text": [
            "WARNING:tensorflow:Compiled the loaded model, but the compiled metrics have yet to be built. `model.compile_metrics` will be empty until you train or evaluate the model.\n",
            "WARNING:tensorflow:Compiled the loaded model, but the compiled metrics have yet to be built. `model.compile_metrics` will be empty until you train or evaluate the model.\n"
          ]
        },
        {
          "name": "stdout",
          "output_type": "stream",
          "text": [
            "122/122 [==============================] - 229s 2s/step - g_loss: 2.1050 - d_loss: 0.9245 - g_mae: 2.3648 - val_g_loss: 1.3785 - val_d_loss: 1.0353 - val_g_mae: 1.2217\n",
            "Epoch 193/200\n",
            "122/122 [==============================] - ETA: 0s - g_loss: 2.0689 - d_loss: 0.9289 - g_mae: 2.4482"
          ]
        },
        {
          "name": "stderr",
          "output_type": "stream",
          "text": [
            "WARNING:tensorflow:Compiled the loaded model, but the compiled metrics have yet to be built. `model.compile_metrics` will be empty until you train or evaluate the model.\n",
            "WARNING:tensorflow:Compiled the loaded model, but the compiled metrics have yet to be built. `model.compile_metrics` will be empty until you train or evaluate the model.\n"
          ]
        },
        {
          "name": "stdout",
          "output_type": "stream",
          "text": [
            "122/122 [==============================] - 229s 2s/step - g_loss: 2.0687 - d_loss: 0.9289 - g_mae: 2.4475 - val_g_loss: 1.1822 - val_d_loss: 1.0784 - val_g_mae: 1.1314\n",
            "Epoch 194/200\n",
            "122/122 [==============================] - ETA: 0s - g_loss: 2.0968 - d_loss: 0.8704 - g_mae: 2.3190"
          ]
        },
        {
          "name": "stderr",
          "output_type": "stream",
          "text": [
            "WARNING:tensorflow:Compiled the loaded model, but the compiled metrics have yet to be built. `model.compile_metrics` will be empty until you train or evaluate the model.\n",
            "WARNING:tensorflow:Compiled the loaded model, but the compiled metrics have yet to be built. `model.compile_metrics` will be empty until you train or evaluate the model.\n"
          ]
        },
        {
          "name": "stdout",
          "output_type": "stream",
          "text": [
            "122/122 [==============================] - 230s 2s/step - g_loss: 2.0967 - d_loss: 0.8707 - g_mae: 2.3193 - val_g_loss: 1.1618 - val_d_loss: 1.1027 - val_g_mae: 1.4898\n",
            "Epoch 195/200\n",
            "122/122 [==============================] - ETA: 0s - g_loss: 2.0251 - d_loss: 0.9386 - g_mae: 2.3155"
          ]
        },
        {
          "name": "stderr",
          "output_type": "stream",
          "text": [
            "WARNING:tensorflow:Compiled the loaded model, but the compiled metrics have yet to be built. `model.compile_metrics` will be empty until you train or evaluate the model.\n",
            "WARNING:tensorflow:Compiled the loaded model, but the compiled metrics have yet to be built. `model.compile_metrics` will be empty until you train or evaluate the model.\n"
          ]
        },
        {
          "name": "stdout",
          "output_type": "stream",
          "text": [
            "122/122 [==============================] - 230s 2s/step - g_loss: 2.0254 - d_loss: 0.9384 - g_mae: 2.3155 - val_g_loss: 1.7331 - val_d_loss: 0.8680 - val_g_mae: 1.3568\n",
            "Epoch 196/200\n",
            "122/122 [==============================] - ETA: 0s - g_loss: 2.0952 - d_loss: 0.9000 - g_mae: 2.3436"
          ]
        },
        {
          "name": "stderr",
          "output_type": "stream",
          "text": [
            "WARNING:tensorflow:Compiled the loaded model, but the compiled metrics have yet to be built. `model.compile_metrics` will be empty until you train or evaluate the model.\n",
            "WARNING:tensorflow:Compiled the loaded model, but the compiled metrics have yet to be built. `model.compile_metrics` will be empty until you train or evaluate the model.\n"
          ]
        },
        {
          "name": "stdout",
          "output_type": "stream",
          "text": [
            "122/122 [==============================] - 230s 2s/step - g_loss: 2.0952 - d_loss: 0.9002 - g_mae: 2.3434 - val_g_loss: 1.5582 - val_d_loss: 0.9718 - val_g_mae: 1.4613\n",
            "Epoch 197/200\n",
            "122/122 [==============================] - ETA: 0s - g_loss: 2.0331 - d_loss: 0.9474 - g_mae: 2.3461"
          ]
        },
        {
          "name": "stderr",
          "output_type": "stream",
          "text": [
            "WARNING:tensorflow:Compiled the loaded model, but the compiled metrics have yet to be built. `model.compile_metrics` will be empty until you train or evaluate the model.\n",
            "WARNING:tensorflow:Compiled the loaded model, but the compiled metrics have yet to be built. `model.compile_metrics` will be empty until you train or evaluate the model.\n"
          ]
        },
        {
          "name": "stdout",
          "output_type": "stream",
          "text": [
            "122/122 [==============================] - 230s 2s/step - g_loss: 2.0334 - d_loss: 0.9473 - g_mae: 2.3456 - val_g_loss: 2.0396 - val_d_loss: 1.0163 - val_g_mae: 1.1151\n",
            "Epoch 198/200\n",
            "122/122 [==============================] - ETA: 0s - g_loss: 2.1303 - d_loss: 0.9898 - g_mae: 2.3570"
          ]
        },
        {
          "name": "stderr",
          "output_type": "stream",
          "text": [
            "WARNING:tensorflow:Compiled the loaded model, but the compiled metrics have yet to be built. `model.compile_metrics` will be empty until you train or evaluate the model.\n",
            "WARNING:tensorflow:Compiled the loaded model, but the compiled metrics have yet to be built. `model.compile_metrics` will be empty until you train or evaluate the model.\n"
          ]
        },
        {
          "name": "stdout",
          "output_type": "stream",
          "text": [
            "\b\b\b\b\b\b\b\b\b\b\b\b\b\b\b\b\b\b\b\b\b\b\b\b\b\b\b\b\b\b\b\b\b\b\b\b\b\b\b\b\b\b\b\b\b\b\b\b\b\b\b\b\b\b\b\b\b\b\b\b\b\b\b\b\b\b\b\b\b\b\b\b\b\b\b\b\b\b\b\b\b\b\b\b\b\b\b\b\b\b\b\b\b\b\b\b\b\b\b\b\r122/122 [==============================] - 230s 2s/step - g_loss: 2.1301 - d_loss: 0.9895 - g_mae: 2.3566 - val_g_loss: 2.2156 - val_d_loss: 0.9895 - val_g_mae: 1.1089\n",
            "Epoch 199/200\n",
            "122/122 [==============================] - ETA: 0s - g_loss: 1.9911 - d_loss: 0.9902 - g_mae: 2.3599"
          ]
        },
        {
          "name": "stderr",
          "output_type": "stream",
          "text": [
            "WARNING:tensorflow:Compiled the loaded model, but the compiled metrics have yet to be built. `model.compile_metrics` will be empty until you train or evaluate the model.\n",
            "WARNING:tensorflow:Compiled the loaded model, but the compiled metrics have yet to be built. `model.compile_metrics` will be empty until you train or evaluate the model.\n"
          ]
        },
        {
          "name": "stdout",
          "output_type": "stream",
          "text": [
            "\b\b\b\b\b\b\b\b\b\b\b\b\b\b\b\b\b\b\b\b\b\b\b\b\b\b\b\b\b\b\b\b\b\b\b\b\b\b\b\b\b\b\b\b\b\b\b\b\b\b\b\b\b\b\b\b\b\b\b\b\b\b\b\b\b\b\b\b\b\b\b\b\b\b\b\b\b\b\b\b\b\b\b\b\b\b\b\b\b\b\b\b\b\b\b\b\b\b\b\b\r122/122 [==============================] - 230s 2s/step - g_loss: 1.9911 - d_loss: 0.9902 - g_mae: 2.3602 - val_g_loss: 1.5691 - val_d_loss: 0.8562 - val_g_mae: 1.2181\n",
            "Epoch 200/200\n",
            "122/122 [==============================] - ETA: 0s - g_loss: 2.0225 - d_loss: 0.9455 - g_mae: 2.3711"
          ]
        },
        {
          "name": "stderr",
          "output_type": "stream",
          "text": [
            "WARNING:tensorflow:Compiled the loaded model, but the compiled metrics have yet to be built. `model.compile_metrics` will be empty until you train or evaluate the model.\n",
            "WARNING:tensorflow:Compiled the loaded model, but the compiled metrics have yet to be built. `model.compile_metrics` will be empty until you train or evaluate the model.\n"
          ]
        },
        {
          "name": "stdout",
          "output_type": "stream",
          "text": [
            "\b\b\b\b\b\b\b\b\b\b\b\b\b\b\b\b\b\b\b\b\b\b\b\b\b\b\b\b\b\b\b\b\b\b\b\b\b\b\b\b\b\b\b\b\b\b\b\b\b\b\b\b\b\b\b\b\b\b\b\b\b\b\b\b\b\b\b\b\b\b\b\b\b\b\b\b\b\b\b\b\b\b\b\b\b\b\b\b\b\b\b\b\b\b\b\b\b\b\b\b\r122/122 [==============================] - 230s 2s/step - g_loss: 2.0227 - d_loss: 0.9456 - g_mae: 2.3707 - val_g_loss: 1.6591 - val_d_loss: 0.9096 - val_g_mae: 1.0994\n"
          ]
        },
        {
          "name": "stderr",
          "output_type": "stream",
          "text": [
            "WARNING:tensorflow:Compiled the loaded model, but the compiled metrics have yet to be built. `model.compile_metrics` will be empty until you train or evaluate the model.\n",
            "WARNING:tensorflow:Compiled the loaded model, but the compiled metrics have yet to be built. `model.compile_metrics` will be empty until you train or evaluate the model.\n"
          ]
        }
      ],
      "source": [
        "hist = radar_gan.fit(train_dataset, epochs=200, validation_data=val_dataset, callbacks=[callback])"
      ]
    },
    {
      "cell_type": "code",
      "execution_count": null,
      "metadata": {
        "id": "2Y3gSarEWcCy"
      },
      "outputs": [],
      "source": [
        "# radar_gan.generator.save('drive/MyDrive/radargan_generator_300323.hdf5')\n",
        "# radar_gan.discriminator.save('drive/MyDrive/radargan_discriminator_300323.hdf5')"
      ]
    },
    {
      "cell_type": "code",
      "execution_count": null,
      "metadata": {
        "id": "B0pZ6C6oWdkG"
      },
      "outputs": [],
      "source": [
        "import matplotlib.pyplot as plt\n",
        "\n",
        "def plot_output(gan, dataset, n_examples=5):\n",
        "    dataset = dataset.as_numpy_iterator()\n",
        "    figure, axis = plt.subplots(4, n_examples)\n",
        "\n",
        "    x, y = dataset.next()\n",
        "    x_p_l = x[:,:,:,0:1]\n",
        "    x_qflg = x[:,:,:,1:2]\n",
        "\n",
        "    fake = radar_gan.generator.predict([x_p_l, x_qflg])\n",
        "    d_real = radar_gan.discriminator.predict([x_p_l, y, x_qflg])\n",
        "    d_fake = radar_gan.discriminator.predict([x_p_l, fake, x_qflg])\n",
        "    \n",
        "    for i in range(n_examples):\n",
        "\n",
        "        # шум\n",
        "        # p = tf.constant([0.8])\n",
        "        # r = tf.random.uniform(shape=tf.shape(x), maxval=1)\n",
        "        # b = tf.math.greater(p, r)\n",
        "        # f = tf.cast(b, dtype=tf.dtypes.float64)\n",
        "        # x = tf.math.multiply(x, f)\n",
        "\n",
        "\n",
        "        axis[0, i].imshow(y[i, :, :, 0])\n",
        "        axis[0, i].set_title(\"R\")\n",
        "\n",
        "        axis[1, i].imshow(fake[i, :, :, 0])\n",
        "        axis[1, i].set_title(\"G\")\n",
        "\n",
        "        axis[2, i].imshow((y-fake)[i, :, :, 0])\n",
        "        axis[2, i].set_title(\"R - G\")\n",
        "\n",
        "        axis[3, i].hist((y-fake)[i, :, :, 0])\n",
        "        axis[2, i].set_title(\"R - G distr\")\n",
        "\n",
        "    plt.show()\n",
        "    plt.hist"
      ]
    },
    {
      "cell_type": "code",
      "execution_count": null,
      "metadata": {
        "colab": {
          "base_uri": "https://localhost:8080/",
          "height": 507
        },
        "id": "GLcLVLuXWf-h",
        "outputId": "050e5c19-39b6-4bd3-9fd9-6f211c11c77a"
      },
      "outputs": [
        {
          "name": "stdout",
          "output_type": "stream",
          "text": [
            "1/1 [==============================] - 0s 164ms/step\n",
            "1/1 [==============================] - 0s 129ms/step\n",
            "1/1 [==============================] - 0s 28ms/step\n"
          ]
        },
        {
          "data": {
            "image/png": "[encoded data removed]",
            "text/plain": [
              "<Figure size 640x480 with 20 Axes>"
            ]
          },
          "metadata": {},
          "output_type": "display_data"
        }
      ],
      "source": [
        "plot_output(radar_gan, train_dataset)"
      ]
    },
    {
      "cell_type": "code",
      "execution_count": null,
      "metadata": {
        "colab": {
          "base_uri": "https://localhost:8080/",
          "height": 507
        },
        "id": "SgfVPvLPWjSy",
        "outputId": "de5bde13-6332-4e33-d90b-9a22a39dc3d8"
      },
      "outputs": [
        {
          "name": "stdout",
          "output_type": "stream",
          "text": [
            "1/1 [==============================] - 0s 36ms/step\n",
            "1/1 [==============================] - 0s 27ms/step\n",
            "1/1 [==============================] - 0s 27ms/step\n"
          ]
        },
        {
          "data": {
            "image/png": "[encoded data removed]",
            "text/plain": [
              "<Figure size 640x480 with 20 Axes>"
            ]
          },
          "metadata": {},
          "output_type": "display_data"
        }
      ],
      "source": [
        "plot_output(radar_gan, val_dataset)"
      ]
    },
    {
      "cell_type": "code",
      "execution_count": null,
      "metadata": {
        "colab": {
          "base_uri": "https://localhost:8080/",
          "height": 472
        },
        "id": "Ltp7s8TbWoCc",
        "outputId": "3e97cd9d-bac1-4a69-89cd-8b53ecfcc155"
      },
      "outputs": [
        {
          "data": {
            "image/png": "[encoded data removed]",
            "text/plain": [
              "<Figure size 640x480 with 1 Axes>"
            ]
          },
          "metadata": {},
          "output_type": "display_data"
        }
      ],
      "source": [
        "plt.plot(hist.history['g_mae'])\n",
        "plt.plot(hist.history['val_g_mae'])\n",
        "plt.title('generator MAE')\n",
        "plt.ylabel('MAE')\n",
        "plt.xlabel('epoch')\n",
        "plt.legend(['train', 'val'], loc='upper left')\n",
        "plt.show()"
      ]
    },
    {
      "cell_type": "code",
      "execution_count": null,
      "metadata": {
        "colab": {
          "base_uri": "https://localhost:8080/",
          "height": 472
        },
        "id": "ecMNPu4tWqqA",
        "outputId": "be41c926-f4fb-4daf-d029-806373801310"
      },
      "outputs": [
        {
          "data": {
            "image/png": "[encoded data removed]",
            "text/plain": [
              "<Figure size 640x480 with 1 Axes>"
            ]
          },
          "metadata": {},
          "output_type": "display_data"
        }
      ],
      "source": [
        "plt.plot(hist.history['g_loss'])\n",
        "plt.plot(hist.history['d_loss'])\n",
        "plt.title('g and d training')\n",
        "plt.ylabel('loss')\n",
        "plt.xlabel('epoch')\n",
        "plt.legend(['generator', 'discriminator'], loc='upper left')\n",
        "plt.show()"
      ]
    },
    {
      "cell_type": "code",
      "execution_count": null,
      "metadata": {
        "colab": {
          "base_uri": "https://localhost:8080/",
          "height": 472
        },
        "id": "PvIqsXNEWsc2",
        "outputId": "83b70337-667c-4c1c-c4a1-fef7a4228659"
      },
      "outputs": [
        {
          "data": {
            "image/png": "[encoded data removed]",
            "text/plain": [
              "<Figure size 640x480 with 1 Axes>"
            ]
          },
          "metadata": {},
          "output_type": "display_data"
        }
      ],
      "source": [
        "plt.plot(hist.history['val_g_loss'])\n",
        "plt.plot(hist.history['val_d_loss'])\n",
        "plt.title('g and d validation')\n",
        "plt.ylabel('loss')\n",
        "plt.xlabel('epoch')\n",
        "plt.legend(['generator', 'discriminator'], loc='upper left')\n",
        "plt.show()"
      ]
    },
    {
      "cell_type": "code",
      "execution_count": null,
      "metadata": {
        "colab": {
          "background_save": true,
          "base_uri": "https://localhost:8080/"
        },
        "id": "-ASDFcpqusdZ",
        "outputId": "b676ca9c-c65a-42fd-9a86-a3b370e82a4f"
      },
      "outputs": [
        {
          "name": "stdout",
          "output_type": "stream",
          "text": [
            "  adding: drive/MyDrive/saved_discriminator_0_1.3748.hdf5 (deflated 15%)\n",
            "  adding: drive/MyDrive/saved_discriminator_100_1.0364.hdf5 (deflated 15%)\n",
            "  adding: drive/MyDrive/saved_discriminator_101_0.9640.hdf5 (deflated 15%)\n",
            "  adding: drive/MyDrive/saved_discriminator_102_0.9941.hdf5 (deflated 15%)\n",
            "  adding: drive/MyDrive/saved_discriminator_10_2.4495.hdf5 (deflated 15%)\n",
            "  adding: drive/MyDrive/saved_discriminator_103_0.8650.hdf5 (deflated 15%)\n",
            "  adding: drive/MyDrive/saved_discriminator_104_1.0289.hdf5 (deflated 15%)\n",
            "  adding: drive/MyDrive/saved_discriminator_105_1.1695.hdf5 (deflated 15%)\n",
            "  adding: drive/MyDrive/saved_discriminator_106_0.8943.hdf5 (deflated 15%)\n",
            "  adding: drive/MyDrive/saved_discriminator_107_1.0735.hdf5 (deflated 15%)\n",
            "  adding: drive/MyDrive/saved_discriminator_108_0.9775.hdf5 (deflated 15%)\n",
            "  adding: drive/MyDrive/saved_discriminator_109_1.0170.hdf5 (deflated 15%)\n",
            "  adding: drive/MyDrive/saved_discriminator_1_1.0013.hdf5 (deflated 15%)\n",
            "  adding: drive/MyDrive/saved_discriminator_110_0.8646.hdf5 (deflated 15%)\n",
            "  adding: drive/MyDrive/saved_discriminator_11_0.6802.hdf5 (deflated 15%)\n",
            "  adding: drive/MyDrive/saved_discriminator_111_0.8739.hdf5 (deflated 15%)\n",
            "  adding: drive/MyDrive/saved_discriminator_112_1.0587.hdf5 (deflated 15%)\n",
            "  adding: drive/MyDrive/saved_discriminator_113_0.9153.hdf5 (deflated 15%)\n",
            "  adding: drive/MyDrive/saved_discriminator_114_0.9344.hdf5 (deflated 15%)\n",
            "  adding: drive/MyDrive/saved_discriminator_115_0.8811.hdf5 (deflated 15%)\n",
            "  adding: drive/MyDrive/saved_discriminator_116_0.9234.hdf5 (deflated 15%)\n",
            "  adding: drive/MyDrive/saved_discriminator_117_1.1182.hdf5 (deflated 15%)\n",
            "  adding: drive/MyDrive/saved_discriminator_118_0.7775.hdf5 (deflated 15%)\n",
            "  adding: drive/MyDrive/saved_discriminator_119_1.0692.hdf5 (deflated 15%)\n",
            "  adding: drive/MyDrive/saved_discriminator_120_1.9197.hdf5 (deflated 15%)\n",
            "  adding: drive/MyDrive/saved_discriminator_12_0.9765.hdf5 (deflated 15%)\n",
            "  adding: drive/MyDrive/saved_discriminator_121_0.9883.hdf5 (deflated 15%)\n",
            "  adding: drive/MyDrive/saved_discriminator_122_0.9640.hdf5 (deflated 15%)\n",
            "  adding: drive/MyDrive/saved_discriminator_123_1.1027.hdf5 (deflated 15%)\n",
            "  adding: drive/MyDrive/saved_discriminator_124_0.9866.hdf5 (deflated 15%)\n",
            "  adding: drive/MyDrive/saved_discriminator_125_0.8842.hdf5 (deflated 15%)\n",
            "  adding: drive/MyDrive/saved_discriminator_126_0.8383.hdf5 (deflated 15%)\n",
            "  adding: drive/MyDrive/saved_discriminator_127_1.1376.hdf5 (deflated 15%)\n",
            "  adding: drive/MyDrive/saved_discriminator_128_0.9046.hdf5 (deflated 15%)\n",
            "  adding: drive/MyDrive/saved_discriminator_129_1.3473.hdf5 (deflated 15%)\n",
            "  adding: drive/MyDrive/saved_discriminator_130_0.8808.hdf5 (deflated 15%)\n",
            "  adding: drive/MyDrive/saved_discriminator_13_0.6891.hdf5 (deflated 15%)\n",
            "  adding: drive/MyDrive/saved_discriminator_131_0.9997.hdf5 (deflated 15%)\n",
            "  adding: drive/MyDrive/saved_discriminator_132_0.9673.hdf5 (deflated 15%)\n",
            "  adding: drive/MyDrive/saved_discriminator_133_1.0411.hdf5 (deflated 15%)\n",
            "  adding: drive/MyDrive/saved_discriminator_134_0.9937.hdf5 (deflated 15%)\n",
            "  adding: drive/MyDrive/saved_discriminator_135_0.9982.hdf5 (deflated 15%)\n",
            "  adding: drive/MyDrive/saved_discriminator_136_1.0965.hdf5 (deflated 15%)\n",
            "  adding: drive/MyDrive/saved_discriminator_137_0.8008.hdf5 (deflated 15%)\n",
            "  adding: drive/MyDrive/saved_discriminator_138_0.9468.hdf5 (deflated 15%)\n",
            "  adding: drive/MyDrive/saved_discriminator_139_0.9503.hdf5 (deflated 15%)\n",
            "  adding: drive/MyDrive/saved_discriminator_140_0.9071.hdf5 (deflated 15%)\n",
            "  adding: drive/MyDrive/saved_discriminator_14_0.4096.hdf5 (deflated 15%)\n",
            "  adding: drive/MyDrive/saved_discriminator_141_1.0244.hdf5 (deflated 15%)\n",
            "  adding: drive/MyDrive/saved_discriminator_142_1.0576.hdf5 (deflated 15%)\n",
            "  adding: drive/MyDrive/saved_discriminator_143_0.9422.hdf5 (deflated 15%)\n",
            "  adding: drive/MyDrive/saved_discriminator_144_0.9598.hdf5 (deflated 15%)\n",
            "  adding: drive/MyDrive/saved_discriminator_145_0.9902.hdf5 (deflated 15%)\n",
            "  adding: drive/MyDrive/saved_discriminator_146_1.0134.hdf5 (deflated 15%)\n",
            "  adding: drive/MyDrive/saved_discriminator_147_1.0102.hdf5 (deflated 15%)\n",
            "  adding: drive/MyDrive/saved_discriminator_148_0.8045.hdf5 (deflated 15%)\n",
            "  adding: drive/MyDrive/saved_discriminator_149_1.1876.hdf5 (deflated 15%)\n",
            "  adding: drive/MyDrive/saved_discriminator_150_1.0119.hdf5 (deflated 15%)\n",
            "  adding: drive/MyDrive/saved_discriminator_15_0.2910.hdf5 (deflated 15%)\n",
            "  adding: drive/MyDrive/saved_discriminator_151_0.8699.hdf5 (deflated 15%)\n",
            "  adding: drive/MyDrive/saved_discriminator_152_0.8992.hdf5 (deflated 15%)\n",
            "  adding: drive/MyDrive/saved_discriminator_153_0.8984.hdf5 (deflated 15%)\n",
            "  adding: drive/MyDrive/saved_discriminator_154_0.9888.hdf5 (deflated 15%)\n",
            "  adding: drive/MyDrive/saved_discriminator_155_0.9538.hdf5 (deflated 15%)\n",
            "  adding: drive/MyDrive/saved_discriminator_156_0.9932.hdf5 (deflated 14%)\n",
            "  adding: drive/MyDrive/saved_discriminator_157_0.9684.hdf5 (deflated 14%)\n",
            "  adding: drive/MyDrive/saved_discriminator_158_0.8933.hdf5 (deflated 15%)\n",
            "  adding: drive/MyDrive/saved_discriminator_159_1.1446.hdf5 (deflated 14%)\n",
            "  adding: drive/MyDrive/saved_discriminator_160_1.2668.hdf5 (deflated 14%)\n",
            "  adding: drive/MyDrive/saved_discriminator_16_0.4412.hdf5 (deflated 15%)\n",
            "  adding: drive/MyDrive/saved_discriminator_161_1.0160.hdf5 (deflated 14%)\n",
            "  adding: drive/MyDrive/saved_discriminator_162_0.9622.hdf5 (deflated 14%)\n",
            "  adding: drive/MyDrive/saved_discriminator_163_1.0385.hdf5 (deflated 14%)\n",
            "  adding: drive/MyDrive/saved_discriminator_164_0.8561.hdf5 (deflated 14%)\n",
            "  adding: drive/MyDrive/saved_discriminator_165_0.9588.hdf5 (deflated 14%)\n",
            "  adding: drive/MyDrive/saved_discriminator_166_0.8436.hdf5 (deflated 14%)\n",
            "  adding: drive/MyDrive/saved_discriminator_167_0.9994.hdf5 (deflated 14%)\n",
            "  adding: drive/MyDrive/saved_discriminator_168_0.9615.hdf5 (deflated 14%)\n",
            "  adding: drive/MyDrive/saved_discriminator_169_0.9430.hdf5 (deflated 14%)\n",
            "  adding: drive/MyDrive/saved_discriminator_170_0.8490.hdf5 (deflated 14%)\n",
            "  adding: drive/MyDrive/saved_discriminator_17_0.4081.hdf5 (deflated 15%)\n",
            "  adding: drive/MyDrive/saved_discriminator_171_0.8986.hdf5 (deflated 14%)\n",
            "  adding: drive/MyDrive/saved_discriminator_172_1.0577.hdf5 (deflated 14%)\n",
            "  adding: drive/MyDrive/saved_discriminator_173_0.9792.hdf5 (deflated 14%)\n",
            "  adding: drive/MyDrive/saved_discriminator_174_0.9563.hdf5 (deflated 14%)\n",
            "  adding: drive/MyDrive/saved_discriminator_175_1.1642.hdf5 (deflated 14%)\n",
            "  adding: drive/MyDrive/saved_discriminator_176_1.0675.hdf5 (deflated 14%)\n",
            "  adding: drive/MyDrive/saved_discriminator_177_0.9390.hdf5 (deflated 14%)\n",
            "  adding: drive/MyDrive/saved_discriminator_178_0.9302.hdf5 (deflated 14%)\n",
            "  adding: drive/MyDrive/saved_discriminator_179_1.0196.hdf5 (deflated 14%)\n",
            "  adding: drive/MyDrive/saved_discriminator_180_1.1011.hdf5 (deflated 14%)\n",
            "  adding: drive/MyDrive/saved_discriminator_18_0.4303.hdf5 (deflated 15%)\n",
            "  adding: drive/MyDrive/saved_discriminator_181_1.1119.hdf5 (deflated 14%)\n",
            "  adding: drive/MyDrive/saved_discriminator_182_0.9130.hdf5 (deflated 14%)\n",
            "  adding: drive/MyDrive/saved_discriminator_183_0.9471.hdf5 (deflated 14%)\n",
            "  adding: drive/MyDrive/saved_discriminator_184_1.0163.hdf5 (deflated 14%)\n",
            "  adding: drive/MyDrive/saved_discriminator_185_1.0368.hdf5 (deflated 14%)\n",
            "  adding: drive/MyDrive/saved_discriminator_186_0.8808.hdf5 (deflated 14%)\n",
            "  adding: drive/MyDrive/saved_discriminator_187_1.0982.hdf5 (deflated 14%)\n",
            "  adding: drive/MyDrive/saved_discriminator_188_1.2063.hdf5 (deflated 14%)\n",
            "  adding: drive/MyDrive/saved_discriminator_189_0.9021.hdf5 (deflated 14%)\n",
            "  adding: drive/MyDrive/saved_discriminator_190_0.9492.hdf5 (deflated 14%)\n",
            "  adding: drive/MyDrive/saved_discriminator_19_0.4124.hdf5 (deflated 15%)\n",
            "  adding: drive/MyDrive/saved_discriminator_191_1.0353.hdf5 (deflated 14%)\n",
            "  adding: drive/MyDrive/saved_discriminator_192_1.0784.hdf5 (deflated 14%)\n",
            "  adding: drive/MyDrive/saved_discriminator_193_1.1027.hdf5 (deflated 14%)\n",
            "  adding: drive/MyDrive/saved_discriminator_194_0.8680.hdf5 (deflated 14%)\n",
            "  adding: drive/MyDrive/saved_discriminator_195_0.9718.hdf5 (deflated 14%)\n",
            "  adding: drive/MyDrive/saved_discriminator_196_1.0163.hdf5 (deflated 14%)\n",
            "  adding: drive/MyDrive/saved_discriminator_197_0.9895.hdf5 (deflated 14%)\n",
            "  adding: drive/MyDrive/saved_discriminator_198_0.8562.hdf5 (deflated 14%)\n",
            "  adding: drive/MyDrive/saved_discriminator_199_0.9096.hdf5 (deflated 14%)\n",
            "  adding: drive/MyDrive/saved_discriminator_20_0.4450.hdf5 (deflated 15%)\n",
            "  adding: drive/MyDrive/saved_discriminator_2_0.5027.hdf5 (deflated 15%)\n",
            "  adding: drive/MyDrive/saved_discriminator_21_0.4135.hdf5 (deflated 15%)\n",
            "  adding: drive/MyDrive/saved_discriminator_22_0.4821.hdf5 (deflated 15%)\n",
            "  adding: drive/MyDrive/saved_discriminator_23_0.4686.hdf5 (deflated 15%)\n",
            "  adding: drive/MyDrive/saved_discriminator_24_0.4814.hdf5 (deflated 15%)\n",
            "  adding: drive/MyDrive/saved_discriminator_25_0.2920.hdf5 (deflated 15%)\n",
            "  adding: drive/MyDrive/saved_discriminator_26_0.5157.hdf5 (deflated 15%)\n",
            "  adding: drive/MyDrive/saved_discriminator_27_0.3946.hdf5 (deflated 15%)\n",
            "  adding: drive/MyDrive/saved_discriminator_28_0.4191.hdf5 (deflated 15%)\n",
            "  adding: drive/MyDrive/saved_discriminator_29_0.3844.hdf5 (deflated 15%)\n",
            "  adding: drive/MyDrive/saved_discriminator_30_0.3853.hdf5 (deflated 15%)\n",
            "  adding: drive/MyDrive/saved_discriminator_3_0.8941.hdf5 (deflated 15%)\n",
            "  adding: drive/MyDrive/saved_discriminator_31_0.3543.hdf5 (deflated 15%)\n",
            "  adding: drive/MyDrive/saved_discriminator_32_0.4560.hdf5 (deflated 15%)\n",
            "  adding: drive/MyDrive/saved_discriminator_33_0.3940.hdf5 (deflated 15%)\n",
            "  adding: drive/MyDrive/saved_discriminator_34_0.4680.hdf5 (deflated 15%)\n",
            "  adding: drive/MyDrive/saved_discriminator_35_1.5461.hdf5 (deflated 15%)\n",
            "  adding: drive/MyDrive/saved_discriminator_36_0.4581.hdf5 (deflated 15%)\n",
            "  adding: drive/MyDrive/saved_discriminator_37_0.4281.hdf5 (deflated 15%)\n",
            "  adding: drive/MyDrive/saved_discriminator_38_0.4517.hdf5 (deflated 15%)\n",
            "  adding: drive/MyDrive/saved_discriminator_39_0.6527.hdf5 (deflated 15%)\n",
            "  adding: drive/MyDrive/saved_discriminator_40_1.1974.hdf5 (deflated 15%)\n",
            "  adding: drive/MyDrive/saved_discriminator_41_2.2528.hdf5 (deflated 15%)\n",
            "  adding: drive/MyDrive/saved_discriminator_4_1.5585.hdf5 (deflated 15%)\n",
            "  adding: drive/MyDrive/saved_discriminator_42_1.2061.hdf5 (deflated 15%)\n",
            "  adding: drive/MyDrive/saved_discriminator_43_1.3730.hdf5 (deflated 15%)\n",
            "  adding: drive/MyDrive/saved_discriminator_44_1.0782.hdf5 (deflated 15%)\n",
            "  adding: drive/MyDrive/saved_discriminator_45_1.0982.hdf5 (deflated 15%)\n",
            "  adding: drive/MyDrive/saved_discriminator_46_0.9055.hdf5 (deflated 15%)\n",
            "  adding: drive/MyDrive/saved_discriminator_47_0.8655.hdf5 (deflated 15%)\n",
            "  adding: drive/MyDrive/saved_discriminator_48_0.9193.hdf5 (deflated 15%)\n",
            "  adding: drive/MyDrive/saved_discriminator_49_1.1560.hdf5 (deflated 15%)\n",
            "  adding: drive/MyDrive/saved_discriminator_50_1.1056.hdf5 (deflated 15%)\n",
            "  adding: drive/MyDrive/saved_discriminator_51_1.4894.hdf5 (deflated 15%)\n",
            "  adding: drive/MyDrive/saved_discriminator_5_1.4056.hdf5 (deflated 15%)\n",
            "  adding: drive/MyDrive/saved_discriminator_52_1.3148.hdf5 (deflated 15%)\n",
            "  adding: drive/MyDrive/saved_discriminator_53_0.9470.hdf5 (deflated 15%)\n",
            "  adding: drive/MyDrive/saved_discriminator_54_0.7008.hdf5 (deflated 15%)\n",
            "  adding: drive/MyDrive/saved_discriminator_55_0.9435.hdf5 (deflated 15%)\n",
            "  adding: drive/MyDrive/saved_discriminator_56_0.9011.hdf5 (deflated 15%)\n",
            "  adding: drive/MyDrive/saved_discriminator_57_0.9497.hdf5 (deflated 15%)\n",
            "  adding: drive/MyDrive/saved_discriminator_58_1.3557.hdf5 (deflated 15%)\n",
            "  adding: drive/MyDrive/saved_discriminator_59_1.0091.hdf5 (deflated 15%)\n",
            "  adding: drive/MyDrive/saved_discriminator_60_0.8213.hdf5 (deflated 15%)\n",
            "  adding: drive/MyDrive/saved_discriminator_61_1.2726.hdf5 (deflated 15%)\n",
            "  adding: drive/MyDrive/saved_discriminator_6_1.3524.hdf5 (deflated 15%)\n",
            "  adding: drive/MyDrive/saved_discriminator_62_1.1827.hdf5 (deflated 15%)\n",
            "  adding: drive/MyDrive/saved_discriminator_63_1.1037.hdf5 (deflated 15%)\n",
            "  adding: drive/MyDrive/saved_discriminator_64_0.9211.hdf5 (deflated 15%)\n",
            "  adding: drive/MyDrive/saved_discriminator_65_1.1323.hdf5 (deflated 15%)\n",
            "  adding: drive/MyDrive/saved_discriminator_66_0.8940.hdf5 (deflated 15%)\n",
            "  adding: drive/MyDrive/saved_discriminator_67_0.8391.hdf5 (deflated 15%)\n",
            "  adding: drive/MyDrive/saved_discriminator_68_1.2996.hdf5 (deflated 15%)\n",
            "  adding: drive/MyDrive/saved_discriminator_69_1.0308.hdf5 (deflated 15%)\n",
            "  adding: drive/MyDrive/saved_discriminator_70_0.9982.hdf5 (deflated 15%)\n",
            "  adding: drive/MyDrive/saved_discriminator_71_1.1876.hdf5 (deflated 15%)\n",
            "  adding: drive/MyDrive/saved_discriminator_7_1.3743.hdf5 (deflated 15%)\n",
            "  adding: drive/MyDrive/saved_discriminator_72_0.8839.hdf5 (deflated 15%)\n",
            "  adding: drive/MyDrive/saved_discriminator_73_1.2605.hdf5 (deflated 15%)\n",
            "  adding: drive/MyDrive/saved_discriminator_74_1.0312.hdf5 (deflated 15%)\n",
            "  adding: drive/MyDrive/saved_discriminator_75_0.9146.hdf5 (deflated 15%)\n",
            "  adding: drive/MyDrive/saved_discriminator_76_0.9478.hdf5 (deflated 15%)\n",
            "  adding: drive/MyDrive/saved_discriminator_77_0.9909.hdf5 (deflated 15%)\n",
            "  adding: drive/MyDrive/saved_discriminator_78_1.0413.hdf5 (deflated 15%)\n",
            "  adding: drive/MyDrive/saved_discriminator_79_1.2915.hdf5 (deflated 15%)\n",
            "  adding: drive/MyDrive/saved_discriminator_80_0.9221.hdf5 (deflated 15%)\n",
            "  adding: drive/MyDrive/saved_discriminator_81_0.9862.hdf5 (deflated 15%)\n",
            "  adding: drive/MyDrive/saved_discriminator_8_2.0107.hdf5 (deflated 15%)\n",
            "  adding: drive/MyDrive/saved_discriminator_82_0.8397.hdf5 (deflated 15%)\n",
            "  adding: drive/MyDrive/saved_discriminator_83_1.1461.hdf5 (deflated 15%)\n",
            "  adding: drive/MyDrive/saved_discriminator_84_1.0062.hdf5 (deflated 15%)\n",
            "  adding: drive/MyDrive/saved_discriminator_85_1.1563.hdf5 (deflated 15%)\n",
            "  adding: drive/MyDrive/saved_discriminator_86_0.8929.hdf5 (deflated 15%)\n",
            "  adding: drive/MyDrive/saved_discriminator_87_0.9371.hdf5 (deflated 15%)\n",
            "  adding: drive/MyDrive/saved_discriminator_88_1.0657.hdf5 (deflated 15%)\n",
            "  adding: drive/MyDrive/saved_discriminator_89_1.0267.hdf5 (deflated 15%)\n",
            "  adding: drive/MyDrive/saved_discriminator_90_0.9411.hdf5 (deflated 15%)\n",
            "  adding: drive/MyDrive/saved_discriminator_91_1.0330.hdf5 (deflated 15%)\n",
            "  adding: drive/MyDrive/saved_discriminator_9_1.3164.hdf5 (deflated 15%)\n",
            "  adding: drive/MyDrive/saved_discriminator_92_0.8726.hdf5 (deflated 15%)\n",
            "  adding: drive/MyDrive/saved_discriminator_93_0.9773.hdf5 (deflated 15%)\n",
            "  adding: drive/MyDrive/saved_discriminator_94_0.9785.hdf5 (deflated 15%)\n",
            "  adding: drive/MyDrive/saved_discriminator_95_0.8985.hdf5 (deflated 15%)\n",
            "  adding: drive/MyDrive/saved_discriminator_96_1.0765.hdf5 (deflated 15%)\n",
            "  adding: drive/MyDrive/saved_discriminator_97_1.1050.hdf5 (deflated 15%)\n",
            "  adding: drive/MyDrive/saved_discriminator_98_0.8545.hdf5 (deflated 15%)\n",
            "  adding: drive/MyDrive/saved_discriminator_99_1.0786.hdf5 (deflated 15%)\n",
            "  adding: drive/MyDrive/saved_discriminator_end_0.9096.hdf5 (deflated 14%)\n",
            "  adding: drive/MyDrive/saved_generator_0_0.6554.hdf5 (deflated 14%)\n",
            "  adding: drive/MyDrive/saved_generator_100_0.9075.hdf5 (deflated 14%)\n",
            "  adding: drive/MyDrive/saved_generator_10_0.7457.hdf5 (deflated 14%)\n",
            "  adding: drive/MyDrive/saved_generator_101_1.2393.hdf5 (deflated 14%)\n",
            "  adding: drive/MyDrive/saved_generator_102_1.5236.hdf5 (deflated 14%)\n",
            "  adding: drive/MyDrive/saved_generator_103_1.7575.hdf5 (deflated 14%)\n",
            "  adding: drive/MyDrive/saved_generator_104_1.6124.hdf5 (deflated 14%)\n",
            "  adding: drive/MyDrive/saved_generator_105_1.1770.hdf5 (deflated 14%)\n",
            "  adding: drive/MyDrive/saved_generator_106_1.0406.hdf5 (deflated 14%)\n",
            "  adding: drive/MyDrive/saved_generator_107_1.5565.hdf5 (deflated 14%)\n",
            "  adding: drive/MyDrive/saved_generator_108_1.3465.hdf5 (deflated 14%)\n",
            "  adding: drive/MyDrive/saved_generator_109_1.1103.hdf5 (deflated 14%)\n",
            "  adding: drive/MyDrive/saved_generator_1_0.9119.hdf5 (deflated 14%)\n",
            "  adding: drive/MyDrive/saved_generator_110_1.5406.hdf5 (deflated 14%)\n",
            "  adding: drive/MyDrive/saved_generator_111_1.4040.hdf5 (deflated 14%)\n",
            "  adding: drive/MyDrive/saved_generator_11_1.1970.hdf5 (deflated 14%)\n",
            "  adding: drive/MyDrive/saved_generator_112_1.3534.hdf5 (deflated 14%)\n",
            "  adding: drive/MyDrive/saved_generator_113_1.4957.hdf5 (deflated 14%)\n",
            "  adding: drive/MyDrive/saved_generator_114_1.3618.hdf5 (deflated 14%)\n",
            "  adding: drive/MyDrive/saved_generator_115_1.8158.hdf5 (deflated 14%)\n",
            "  adding: drive/MyDrive/saved_generator_116_1.2012.hdf5 (deflated 14%)\n",
            "  adding: drive/MyDrive/saved_generator_117_1.4254.hdf5 (deflated 14%)\n",
            "  adding: drive/MyDrive/saved_generator_118_1.7239.hdf5 (deflated 14%)\n",
            "  adding: drive/MyDrive/saved_generator_119_1.0357.hdf5 (deflated 14%)\n",
            "  adding: drive/MyDrive/saved_generator_120_0.9047.hdf5 (deflated 14%)\n",
            "  adding: drive/MyDrive/saved_generator_121_1.1823.hdf5 (deflated 14%)\n",
            "  adding: drive/MyDrive/saved_generator_122_1.2319.hdf5 (deflated 14%)\n",
            "  adding: drive/MyDrive/saved_generator_123_1.4233.hdf5 (deflated 14%)\n",
            "  adding: drive/MyDrive/saved_generator_124_1.1328.hdf5 (deflated 14%)\n",
            "  adding: drive/MyDrive/saved_generator_12_4.1987.hdf5 (deflated 14%)\n",
            "  adding: drive/MyDrive/saved_generator_125_1.4298.hdf5 (deflated 14%)\n",
            "  adding: drive/MyDrive/saved_generator_126_1.2783.hdf5 (deflated 14%)\n",
            "  adding: drive/MyDrive/saved_generator_127_1.2935.hdf5 (deflated 14%)\n",
            "  adding: drive/MyDrive/saved_generator_128_1.2906.hdf5 (deflated 14%)\n",
            "  adding: drive/MyDrive/saved_generator_129_1.1420.hdf5 (deflated 14%)\n",
            "  adding: drive/MyDrive/saved_generator_130_1.1519.hdf5 (deflated 14%)\n",
            "  adding: drive/MyDrive/saved_generator_131_1.3604.hdf5 (deflated 14%)\n",
            "  adding: drive/MyDrive/saved_generator_13_1.2125.hdf5 (deflated 14%)\n",
            "  adding: drive/MyDrive/saved_generator_132_1.1947.hdf5 (deflated 14%)\n",
            "  adding: drive/MyDrive/saved_generator_133_1.6051.hdf5 (deflated 14%)\n",
            "  adding: drive/MyDrive/saved_generator_134_1.3801.hdf5 (deflated 14%)\n",
            "  adding: drive/MyDrive/saved_generator_135_1.3246.hdf5 (deflated 14%)\n",
            "  adding: drive/MyDrive/saved_generator_136_1.2564.hdf5 (deflated 14%)\n",
            "  adding: drive/MyDrive/saved_generator_137_1.5328.hdf5 (deflated 14%)\n",
            "  adding: drive/MyDrive/saved_generator_138_1.3199.hdf5 (deflated 14%)\n",
            "  adding: drive/MyDrive/saved_generator_139_1.1908.hdf5 (deflated 14%)\n",
            "  adding: drive/MyDrive/saved_generator_140_4.4211.hdf5 (deflated 14%)\n",
            "  adding: drive/MyDrive/saved_generator_141_1.0861.hdf5 (deflated 14%)\n",
            "  adding: drive/MyDrive/saved_generator_142_1.1981.hdf5 (deflated 14%)\n",
            "  adding: drive/MyDrive/saved_generator_14_3.1359.hdf5 (deflated 14%)\n",
            "  adding: drive/MyDrive/saved_generator_143_1.3631.hdf5 (deflated 14%)\n",
            "  adding: drive/MyDrive/saved_generator_144_1.2756.hdf5 (deflated 14%)\n",
            "  adding: drive/MyDrive/saved_generator_145_1.5311.hdf5 (deflated 14%)\n",
            "  adding: drive/MyDrive/saved_generator_146_1.4705.hdf5 (deflated 14%)\n",
            "  adding: drive/MyDrive/saved_generator_147_1.1868.hdf5 (deflated 14%)\n",
            "  adding: drive/MyDrive/saved_generator_148_1.6369.hdf5 (deflated 14%)\n",
            "  adding: drive/MyDrive/saved_generator_149_1.1124.hdf5 (deflated 14%)\n",
            "  adding: drive/MyDrive/saved_generator_150_1.5861.hdf5 (deflated 14%)\n",
            "  adding: drive/MyDrive/saved_generator_151_1.4709.hdf5 (deflated 14%)\n",
            "  adding: drive/MyDrive/saved_generator_152_1.4387.hdf5 (deflated 14%)\n",
            "  adding: drive/MyDrive/saved_generator_153_1.2208.hdf5 (deflated 14%)\n",
            "  adding: drive/MyDrive/saved_generator_15_3.2218.hdf5 (deflated 14%)\n",
            "  adding: drive/MyDrive/saved_generator_154_1.7434.hdf5 (deflated 14%)\n",
            "  adding: drive/MyDrive/saved_generator_155_1.5645.hdf5 (deflated 14%)\n",
            "  adding: drive/MyDrive/saved_generator_156_1.4590.hdf5 (deflated 14%)\n",
            "  adding: drive/MyDrive/saved_generator_157_1.5813.hdf5 (deflated 14%)\n",
            "  adding: drive/MyDrive/saved_generator_158_1.4957.hdf5 (deflated 14%)\n",
            "  adding: drive/MyDrive/saved_generator_159_1.5282.hdf5 (deflated 14%)\n",
            "  adding: drive/MyDrive/saved_generator_160_1.7013.hdf5 (deflated 14%)\n",
            "  adding: drive/MyDrive/saved_generator_161_0.9232.hdf5 (deflated 14%)\n",
            "  adding: drive/MyDrive/saved_generator_162_1.5157.hdf5 (deflated 14%)\n",
            "  adding: drive/MyDrive/saved_generator_163_1.2965.hdf5 (deflated 14%)\n",
            "  adding: drive/MyDrive/saved_generator_164_1.4541.hdf5 (deflated 14%)\n",
            "  adding: drive/MyDrive/saved_generator_16_4.3551.hdf5 (deflated 14%)\n",
            "  adding: drive/MyDrive/saved_generator_165_1.3849.hdf5 (deflated 14%)\n",
            "  adding: drive/MyDrive/saved_generator_166_1.4600.hdf5 (deflated 14%)\n",
            "  adding: drive/MyDrive/saved_generator_167_1.3172.hdf5 (deflated 14%)\n",
            "  adding: drive/MyDrive/saved_generator_168_1.5963.hdf5 (deflated 14%)\n",
            "  adding: drive/MyDrive/saved_generator_169_1.2848.hdf5 (deflated 14%)\n",
            "  adding: drive/MyDrive/saved_generator_170_1.7013.hdf5 (deflated 14%)\n",
            "  adding: drive/MyDrive/saved_generator_171_1.6486.hdf5 (deflated 14%)\n",
            "  adding: drive/MyDrive/saved_generator_172_1.6720.hdf5 (deflated 14%)\n",
            "  adding: drive/MyDrive/saved_generator_173_1.3635.hdf5 (deflated 14%)\n",
            "  adding: drive/MyDrive/saved_generator_17_3.4977.hdf5 (deflated 14%)\n",
            "  adding: drive/MyDrive/saved_generator_174_1.7437.hdf5 (deflated 14%)\n",
            "  adding: drive/MyDrive/saved_generator_175_1.2921.hdf5 (deflated 14%)\n",
            "  adding: drive/MyDrive/saved_generator_176_1.2320.hdf5 (deflated 14%)\n",
            "  adding: drive/MyDrive/saved_generator_177_2.6296.hdf5 (deflated 14%)\n",
            "  adding: drive/MyDrive/saved_generator_178_1.4191.hdf5 (deflated 14%)\n",
            "  adding: drive/MyDrive/saved_generator_179_1.6335.hdf5 (deflated 14%)\n",
            "  adding: drive/MyDrive/saved_generator_180_1.5179.hdf5 (deflated 14%)\n",
            "  adding: drive/MyDrive/saved_generator_181_1.3851.hdf5 (deflated 14%)\n",
            "  adding: drive/MyDrive/saved_generator_182_1.6062.hdf5 (deflated 14%)\n",
            "  adding: drive/MyDrive/saved_generator_183_1.4738.hdf5 (deflated 14%)\n",
            "  adding: drive/MyDrive/saved_generator_184_1.1869.hdf5 (deflated 14%)\n",
            "  adding: drive/MyDrive/saved_generator_18_4.1401.hdf5 (deflated 14%)\n",
            "  adding: drive/MyDrive/saved_generator_185_1.6712.hdf5 (deflated 14%)\n",
            "  adding: drive/MyDrive/saved_generator_186_1.6956.hdf5 (deflated 14%)\n",
            "  adding: drive/MyDrive/saved_generator_187_1.4280.hdf5 (deflated 14%)\n",
            "  adding: drive/MyDrive/saved_generator_188_1.3502.hdf5 (deflated 13%)\n",
            "  adding: drive/MyDrive/saved_generator_189_1.5881.hdf5 (deflated 14%)\n",
            "  adding: drive/MyDrive/saved_generator_190_1.6588.hdf5 (deflated 14%)\n",
            "  adding: drive/MyDrive/saved_generator_191_1.3785.hdf5 (deflated 13%)\n",
            "  adding: drive/MyDrive/saved_generator_192_1.1822.hdf5 (deflated 13%)\n",
            "  adding: drive/MyDrive/saved_generator_193_1.1618.hdf5 (deflated 14%)\n",
            "  adding: drive/MyDrive/saved_generator_19_3.8782.hdf5 (deflated 14%)\n",
            "  adding: drive/MyDrive/saved_generator_194_1.7331.hdf5 (deflated 13%)\n",
            "  adding: drive/MyDrive/saved_generator_195_1.5582.hdf5 (deflated 14%)\n",
            "  adding: drive/MyDrive/saved_generator_196_2.0396.hdf5 (deflated 14%)\n",
            "  adding: drive/MyDrive/saved_generator_197_2.2156.hdf5 (deflated 14%)\n",
            "  adding: drive/MyDrive/saved_generator_198_1.5691.hdf5 (deflated 13%)\n",
            "  adding: drive/MyDrive/saved_generator_199_1.6591.hdf5 (deflated 14%)\n",
            "  adding: drive/MyDrive/saved_generator_20_4.5618.hdf5 (deflated 14%)\n",
            "  adding: drive/MyDrive/saved_generator_21_3.7530.hdf5 (deflated 14%)\n",
            "  adding: drive/MyDrive/saved_generator_2_1.5619.hdf5 (deflated 14%)\n",
            "  adding: drive/MyDrive/saved_generator_22_5.1700.hdf5 (deflated 14%)\n",
            "  adding: drive/MyDrive/saved_generator_23_4.7750.hdf5 (deflated 14%)\n",
            "  adding: drive/MyDrive/saved_generator_24_4.8655.hdf5 (deflated 14%)\n",
            "  adding: drive/MyDrive/saved_generator_25_2.8278.hdf5 (deflated 14%)\n",
            "  adding: drive/MyDrive/saved_generator_26_3.5923.hdf5 (deflated 14%)\n",
            "  adding: drive/MyDrive/saved_generator_27_3.9759.hdf5 (deflated 14%)\n",
            "  adding: drive/MyDrive/saved_generator_28_4.7053.hdf5 (deflated 14%)\n",
            "  adding: drive/MyDrive/saved_generator_29_4.4405.hdf5 (deflated 14%)\n",
            "  adding: drive/MyDrive/saved_generator_30_4.5243.hdf5 (deflated 14%)\n",
            "  adding: drive/MyDrive/saved_generator_3_0.7503.hdf5 (deflated 14%)\n",
            "  adding: drive/MyDrive/saved_generator_31_3.7726.hdf5 (deflated 14%)\n",
            "  adding: drive/MyDrive/saved_generator_32_5.2617.hdf5 (deflated 14%)\n",
            "  adding: drive/MyDrive/saved_generator_33_3.9852.hdf5 (deflated 14%)\n",
            "  adding: drive/MyDrive/saved_generator_34_5.3390.hdf5 (deflated 14%)\n",
            "  adding: drive/MyDrive/saved_generator_35_0.7401.hdf5 (deflated 14%)\n",
            "  adding: drive/MyDrive/saved_generator_36_3.2229.hdf5 (deflated 14%)\n",
            "  adding: drive/MyDrive/saved_generator_37_3.7650.hdf5 (deflated 14%)\n",
            "  adding: drive/MyDrive/saved_generator_38_3.3112.hdf5 (deflated 14%)\n",
            "  adding: drive/MyDrive/saved_generator_39_2.2496.hdf5 (deflated 14%)\n",
            "  adding: drive/MyDrive/saved_generator_40_0.9108.hdf5 (deflated 14%)\n",
            "  adding: drive/MyDrive/saved_generator_41_1.0109.hdf5 (deflated 14%)\n",
            "  adding: drive/MyDrive/saved_generator_4_1.3370.hdf5 (deflated 14%)\n",
            "  adding: drive/MyDrive/saved_generator_42_0.9424.hdf5 (deflated 14%)\n",
            "  adding: drive/MyDrive/saved_generator_43_0.7209.hdf5 (deflated 14%)\n",
            "  adding: drive/MyDrive/saved_generator_44_0.9129.hdf5 (deflated 14%)\n",
            "  adding: drive/MyDrive/saved_generator_45_1.4882.hdf5 (deflated 14%)\n",
            "  adding: drive/MyDrive/saved_generator_46_1.2215.hdf5 (deflated 14%)\n",
            "  adding: drive/MyDrive/saved_generator_47_1.0338.hdf5 (deflated 14%)\n",
            "  adding: drive/MyDrive/saved_generator_48_1.0369.hdf5 (deflated 14%)\n",
            "  adding: drive/MyDrive/saved_generator_49_1.3435.hdf5 (deflated 14%)\n",
            "  adding: drive/MyDrive/saved_generator_50_0.9535.hdf5 (deflated 14%)\n",
            "  adding: drive/MyDrive/saved_generator_5_0.5521.hdf5 (deflated 14%)\n",
            "  adding: drive/MyDrive/saved_generator_51_1.4608.hdf5 (deflated 14%)\n",
            "  adding: drive/MyDrive/saved_generator_52_2.5756.hdf5 (deflated 14%)\n",
            "  adding: drive/MyDrive/saved_generator_53_1.9204.hdf5 (deflated 14%)\n",
            "  adding: drive/MyDrive/saved_generator_54_1.4446.hdf5 (deflated 14%)\n",
            "  adding: drive/MyDrive/saved_generator_55_1.5991.hdf5 (deflated 14%)\n",
            "  adding: drive/MyDrive/saved_generator_56_1.0524.hdf5 (deflated 14%)\n",
            "  adding: drive/MyDrive/saved_generator_57_1.2721.hdf5 (deflated 14%)\n",
            "  adding: drive/MyDrive/saved_generator_58_1.5213.hdf5 (deflated 14%)\n",
            "  adding: drive/MyDrive/saved_generator_59_1.4079.hdf5 (deflated 14%)\n",
            "  adding: drive/MyDrive/saved_generator_60_0.8035.hdf5 (deflated 14%)\n",
            "  adding: drive/MyDrive/saved_generator_6_0.8475.hdf5 (deflated 14%)\n",
            "  adding: drive/MyDrive/saved_generator_61_0.6647.hdf5 (deflated 14%)\n",
            "  adding: drive/MyDrive/saved_generator_62_1.3261.hdf5 (deflated 14%)\n",
            "  adding: drive/MyDrive/saved_generator_63_0.7154.hdf5 (deflated 14%)\n",
            "  adding: drive/MyDrive/saved_generator_64_1.2565.hdf5 (deflated 14%)\n",
            "  adding: drive/MyDrive/saved_generator_65_1.0522.hdf5 (deflated 14%)\n",
            "  adding: drive/MyDrive/saved_generator_66_1.1244.hdf5 (deflated 14%)\n",
            "  adding: drive/MyDrive/saved_generator_67_1.9043.hdf5 (deflated 14%)\n",
            "  adding: drive/MyDrive/saved_generator_68_2.0435.hdf5 (deflated 14%)\n",
            "  adding: drive/MyDrive/saved_generator_69_1.6576.hdf5 (deflated 14%)\n",
            "  adding: drive/MyDrive/saved_generator_70_0.8244.hdf5 (deflated 14%)\n",
            "  adding: drive/MyDrive/saved_generator_7_0.7803.hdf5 (deflated 14%)\n",
            "  adding: drive/MyDrive/saved_generator_71_1.1524.hdf5 (deflated 14%)\n",
            "  adding: drive/MyDrive/saved_generator_72_1.6312.hdf5 (deflated 14%)\n",
            "  adding: drive/MyDrive/saved_generator_73_1.8934.hdf5 (deflated 14%)\n",
            "  adding: drive/MyDrive/saved_generator_74_2.0642.hdf5 (deflated 14%)\n",
            "  adding: drive/MyDrive/saved_generator_75_1.1716.hdf5 (deflated 14%)\n",
            "  adding: drive/MyDrive/saved_generator_76_1.5699.hdf5 (deflated 14%)\n",
            "  adding: drive/MyDrive/saved_generator_77_1.7624.hdf5 (deflated 14%)\n",
            "  adding: drive/MyDrive/saved_generator_78_0.8347.hdf5 (deflated 14%)\n",
            "  adding: drive/MyDrive/saved_generator_79_0.9516.hdf5 (deflated 14%)\n",
            "  adding: drive/MyDrive/saved_generator_80_1.4152.hdf5 (deflated 14%)\n",
            "  adding: drive/MyDrive/saved_generator_81_1.1485.hdf5 (deflated 14%)\n",
            "  adding: drive/MyDrive/saved_generator_8_1.1908.hdf5 (deflated 14%)\n",
            "  adding: drive/MyDrive/saved_generator_82_1.3892.hdf5 (deflated 14%)\n",
            "  adding: drive/MyDrive/saved_generator_83_1.6486.hdf5 (deflated 14%)\n",
            "  adding: drive/MyDrive/saved_generator_84_1.4298.hdf5 (deflated 14%)\n",
            "  adding: drive/MyDrive/saved_generator_85_1.2445.hdf5 (deflated 14%)\n",
            "  adding: drive/MyDrive/saved_generator_86_0.9758.hdf5 (deflated 14%)\n",
            "  adding: drive/MyDrive/saved_generator_87_1.3223.hdf5 (deflated 14%)\n",
            "  adding: drive/MyDrive/saved_generator_88_1.2426.hdf5 (deflated 14%)\n",
            "  adding: drive/MyDrive/saved_generator_89_1.2552.hdf5 (deflated 14%)\n",
            "  adding: drive/MyDrive/saved_generator_90_1.5969.hdf5 (deflated 14%)\n",
            "  adding: drive/MyDrive/saved_generator_9_0.7708.hdf5 (deflated 14%)\n",
            "  adding: drive/MyDrive/saved_generator_91_1.4871.hdf5 (deflated 14%)\n",
            "  adding: drive/MyDrive/saved_generator_92_1.1851.hdf5 (deflated 14%)\n",
            "  adding: drive/MyDrive/saved_generator_93_0.8794.hdf5 (deflated 14%)\n",
            "  adding: drive/MyDrive/saved_generator_94_1.3342.hdf5 (deflated 14%)\n",
            "  adding: drive/MyDrive/saved_generator_95_1.2841.hdf5 (deflated 14%)\n",
            "  adding: drive/MyDrive/saved_generator_96_1.1237.hdf5 (deflated 14%)\n",
            "  adding: drive/MyDrive/saved_generator_97_0.9528.hdf5 (deflated 14%)\n",
            "  adding: drive/MyDrive/saved_generator_98_1.7072.hdf5 (deflated 14%)\n",
            "  adding: drive/MyDrive/saved_generator_99_1.3954.hdf5 (deflated 14%)\n",
            "  adding: drive/MyDrive/saved_generator_end_1.6591.hdf5 (deflated 14%)\n"
          ]
        }
      ],
      "source": [
        "!zip models.zip drive/MyDrive/saved_*"
      ]
    },
    {
      "cell_type": "code",
      "source": [
        "!mv models.zip drive/MyDrive/"
      ],
      "metadata": {
        "id": "AAWEgsYzx0-w"
      },
      "execution_count": null,
      "outputs": []
    }
  ],
  "metadata": {
    "accelerator": "GPU",
    "colab": {
      "machine_shape": "hm",
      "provenance": [],
      "authorship_tag": "ABX9TyNs+ZkPu6ckrAnI4pUQ40x0",
      "include_colab_link": true
    },
    "gpuClass": "standard",
    "kernelspec": {
      "display_name": "Python 3",
      "name": "python3"
    },
    "language_info": {
      "name": "python"
    }
  },
  "nbformat": 4,
  "nbformat_minor": 0
}