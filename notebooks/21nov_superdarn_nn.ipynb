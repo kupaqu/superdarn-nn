{
  "cells": [
    {
      "cell_type": "code",
      "execution_count": null,
      "metadata": {
        "colab": {
          "base_uri": "https://localhost:8080/"
        },
        "id": "PrXMyliFG26n",
        "outputId": "97b610e9-40fd-49cb-f7df-be357f5df61e"
      },
      "outputs": [
        {
          "name": "stdout",
          "output_type": "stream",
          "text": [
            "Mounted at /content/drive\n"
          ]
        }
      ],
      "source": [
        "from google.colab import drive\n",
        "drive.mount('/content/drive')"
      ]
    },
    {
      "cell_type": "code",
      "execution_count": null,
      "metadata": {
        "id": "h_bN1kuegef6"
      },
      "outputs": [],
      "source": [
        "import os\n",
        "import numpy as np\n",
        "from datetime import datetime, timedelta\n",
        "import random"
      ]
    },
    {
      "cell_type": "code",
      "execution_count": null,
      "metadata": {
        "id": "kQDN45yxhYiZ"
      },
      "outputs": [],
      "source": [
        "class DataLoader:\n",
        "    def __init__(self,\n",
        "                 datapath,\n",
        "                 shuffle=True):\n",
        "        self.shuffle = shuffle\n",
        "        self.data = {}\n",
        "\n",
        "        for root, _, files in os.walk(datapath):\n",
        "            for name in files:\n",
        "                filename = name.split('.')\n",
        "                self.data[filename[0] + filename[1]] = np.load(os.path.join(root, name))\n",
        "\n",
        "    def __call__(self):\n",
        "        keys = list(self.data.keys())\n",
        "        if self.shuffle:\n",
        "            random.shuffle(keys)\n",
        "        # итерация по ключам в словаре self.data\n",
        "        for key in keys:\n",
        "            # если маска целевого значения пустая, то пропускаем пример\n",
        "            if np.all(self.data[key][:,:,-1,:,:] == 0.):\n",
        "                continue\n",
        "            seq = self.__getSequence(key)\n",
        "            arrays = []\n",
        "            badCount = 0\n",
        "            # итерация по историческим данным\n",
        "            for item in seq:\n",
        "                # некоторые исторические данные могут отсутствовать\n",
        "                try:\n",
        "                    if np.all(self.data[item][:,:,-1,:,:] == 0.):\n",
        "                        badCount += 1\n",
        "                    arrays.append(self.data[item])\n",
        "                except KeyError:\n",
        "                    # print(f'No key: {item}')\n",
        "                    badCount += 1\n",
        "                    arrays.append(np.zeros_like(self.data[key]))\n",
        "            # если пропусков в данных больше чем 5%, то пропускаем пример\n",
        "            # print(f'Bad count: {badCount}')\n",
        "            if badCount / len(arrays) > 0.3:\n",
        "                continue\n",
        "            else:\n",
        "                x = np.concatenate(arrays, axis=1)\n",
        "                y = self.data[key]\n",
        "                for beam in range(16):\n",
        "                    yield x[:,:,:,beam,0], y[:,:,:-1,beam,0]\n",
        "    \n",
        "    def __getSequence(self, key):\n",
        "        keyDT = datetime.strptime(key, '%Y%m%d%H%M')\n",
        "        # список массивов периодов за месяц\n",
        "        monthBefore = []\n",
        "        for i in range(30, 1, -1):\n",
        "            daysBefore = (keyDT-timedelta(days=i)).strftime('%Y%m%d%H%M')\n",
        "            monthBefore.append(daysBefore)\n",
        "        # список массивов периодов за день до целевого массива\n",
        "        dayBefore = []\n",
        "        for i in range(24, 0, -2):\n",
        "            hoursBefore = (keyDT-timedelta(hours=i)).strftime('%Y%m%d%H%M')\n",
        "            dayBefore.append(hoursBefore)\n",
        "\n",
        "        return monthBefore + dayBefore"
      ]
    },
    {
      "cell_type": "code",
      "execution_count": null,
      "metadata": {
        "id": "vnnKp7GAgefl"
      },
      "outputs": [],
      "source": [
        "from tensorflow import keras\n",
        "import tensorflow as tf"
      ]
    },
    {
      "cell_type": "code",
      "execution_count": null,
      "metadata": {
        "id": "-Eii--eVglfs"
      },
      "outputs": [],
      "source": [
        "# генератор\n",
        "def get_generator():\n",
        "    inp = keras.layers.Input(shape=(70, 2460, 7))\n",
        "    conv = keras.layers.Conv2D(128, kernel_size=(1, 2401), activation='tanh')(inp)\n",
        "    norm = keras.layers.BatchNormalization()(conv)\n",
        "    out = keras.layers.Dense(6, activation='tanh')(norm)\n",
        "    model = keras.models.Model(inp, out, name='generator')\n",
        "    return model\n",
        "\n",
        "# дискриминатор\n",
        "def get_discriminator():\n",
        "    hist_inp = keras.layers.Input(shape=(70, 2460, 7))\n",
        "    hist_conv = keras.layers.Conv2D(filters=6, kernel_size=(1, 1))(hist_inp)\n",
        "    gen_out = keras.layers.Input(shape=(70, 60, 6))\n",
        "    joined = keras.layers.Concatenate(axis=2)([hist_conv, gen_out])\n",
        "    conv = keras.layers.Conv2D(filters=128, kernel_size=(1, 2461), activation='tanh')(joined)\n",
        "    norm = keras.layers.BatchNormalization()(conv)\n",
        "    conv = keras.layers.Conv2D(filters=6, kernel_size=(70, 1), activation='tanh')(norm)\n",
        "    dense = keras.layers.Dense(1, activation='sigmoid')(conv)\n",
        "    out = keras.layers.Reshape((60,))(dense)\n",
        "    model = keras.models.Model([hist_inp, gen_out], out, name='discriminator')\n",
        "    return model"
      ]
    },
    {
      "cell_type": "code",
      "execution_count": null,
      "metadata": {
        "id": "N7rXXLG4jtDQ"
      },
      "outputs": [],
      "source": [
        "class RadarGAN(keras.Model):\n",
        "    def __init__(self, discriminator, generator):\n",
        "        super(RadarGAN, self).__init__()\n",
        "        self.discriminator = discriminator\n",
        "        self.generator = generator\n",
        "        self.gen_loss_tracker = keras.metrics.Mean(name=\"generator_loss\")\n",
        "        self.disc_loss_tracker = keras.metrics.Mean(name=\"discriminator_loss\")\n",
        "        self.gen_mae_tracker = keras.metrics.Mean(name=\"generator_mae\")\n",
        "\n",
        "    @property\n",
        "    def metrics(self):\n",
        "        return [self.gen_loss_tracker, self.disc_loss_tracker, self.gen_mae_tracker]\n",
        "\n",
        "    def compile(self, d_optimizer, g_optimizer, loss_fn):\n",
        "        super(RadarGAN, self).compile()\n",
        "        self.d_optimizer = d_optimizer\n",
        "        self.g_optimizer = g_optimizer\n",
        "        self.loss_fn = loss_fn\n",
        "        self.mae = keras.losses.MeanAbsoluteError()\n",
        "\n",
        "    def train_step(self, data):\n",
        "\n",
        "        # класс 1 - настоящие данные, класс 0 - дискриминированные данные\n",
        "        x, y = data\n",
        "\n",
        "        y_shape = tf.shape(y)\n",
        "\n",
        "        # real - таргет дискриминатора\n",
        "        real = tf.math.round(tf.random.uniform(shape=(y_shape[0], y_shape[2]), minval=0, maxval=1, dtype=tf.dtypes.float64))\n",
        "\n",
        "        # маски для перемешивания данных на входе дискриминатора\n",
        "        real_mask = tf.reshape(real, shape=(y_shape[0], 1, y_shape[2], 1))\n",
        "        real_mask = tf.repeat(real_mask, repeats=y_shape[1], axis=1)\n",
        "        real_mask = tf.repeat(real_mask, repeats=y_shape[3], axis=3)\n",
        "        fake_mask = tf.math.subtract(tf.ones(shape=tf.shape(real_mask), dtype=tf.dtypes.float64), real_mask)\n",
        "\n",
        "        # выход генератора\n",
        "        generated = tf.cast(self.generator(x), dtype=tf.dtypes.float64)\n",
        "\n",
        "        # перемешивание данных\n",
        "        mixed = tf.math.add(tf.math.multiply(real_mask, y), tf.math.multiply(fake_mask, generated))\n",
        "\n",
        "        # обучение дискриминатора\n",
        "        with tf.GradientTape() as tape:\n",
        "            predictions = self.discriminator([x, mixed])\n",
        "            d_loss = self.loss_fn(real, predictions)\n",
        "        grads = tape.gradient(d_loss, self.discriminator.trainable_weights)\n",
        "        self.d_optimizer.apply_gradients(\n",
        "            zip(grads, self.discriminator.trainable_weights)\n",
        "        )\n",
        "        \n",
        "        # таргет генератора как выход дискриминатора\n",
        "        misleading_labels = tf.ones(shape=tf.shape(real), dtype=tf.dtypes.float64)\n",
        "\n",
        "        # тренировка генератора\n",
        "        with tf.GradientTape() as tape:\n",
        "            fake_forecast = self.generator(x)\n",
        "            predictions = self.discriminator([x, fake_forecast])\n",
        "            g_loss = self.loss_fn(misleading_labels, predictions)\n",
        "            g_mae = self.mae(y, fake_forecast)\n",
        "        grads = tape.gradient(g_loss, self.generator.trainable_weights)\n",
        "        self.g_optimizer.apply_gradients(zip(grads, self.generator.trainable_weights))\n",
        "\n",
        "        # Monitor loss.\n",
        "        self.gen_loss_tracker.update_state(g_loss)\n",
        "        self.disc_loss_tracker.update_state(d_loss)\n",
        "        self.gen_mae_tracker.update_state(g_mae)\n",
        "        return {\n",
        "            \"g_loss\": self.gen_loss_tracker.result(),\n",
        "            \"d_loss\": self.disc_loss_tracker.result(),\n",
        "            \"g_mae\": self.gen_mae_tracker.result()\n",
        "            }"
      ]
    },
    {
      "cell_type": "code",
      "execution_count": null,
      "metadata": {
        "id": "AAb8clIahmhj"
      },
      "outputs": [],
      "source": [
        "radar_gan = RadarGAN(discriminator=get_discriminator(), generator=get_generator())\n",
        "radar_gan.compile(\n",
        "    d_optimizer=keras.optimizers.Adam(learning_rate=0.001),\n",
        "    g_optimizer=keras.optimizers.Adam(learning_rate=0.001),\n",
        "    loss_fn=keras.losses.BinaryCrossentropy()\n",
        ")"
      ]
    },
    {
      "cell_type": "code",
      "execution_count": null,
      "metadata": {
        "colab": {
          "background_save": true
        },
        "id": "8VN_WQrkiRJU"
      },
      "outputs": [],
      "source": [
        "batch_size = 512\n",
        "\n",
        "train_loader = DataLoader('drive/MyDrive/2002-train')\n",
        "val_loader = DataLoader('drive/MyDrive/2002-val')\n",
        "\n",
        "train_dataset = tf.data.Dataset.from_generator(train_loader,\n",
        "                                         output_types=(tf.float64, tf.float64)).batch(batch_size)\n",
        "val_dataset = tf.data.Dataset.from_generator(val_loader,\n",
        "                                         output_types=(tf.float64, tf.float64)).batch(batch_size)"
      ]
    },
    {
      "cell_type": "code",
      "execution_count": null,
      "metadata": {
        "colab": {
          "background_save": true
        },
        "id": "09DhgllYjgGT",
        "outputId": "8edeaa68-a689-409e-c864-187b66813045"
      },
      "outputs": [
        {
          "name": "stdout",
          "output_type": "stream",
          "text": [
            "Epoch 1/20\n",
            "66/66 [==============================] - 1364s 16s/step - g_loss: 0.2999 - d_loss: 0.8999 - g_mae: 10.2791\n",
            "Epoch 2/20\n",
            "66/66 [==============================] - 971s 15s/step - g_loss: 0.3550 - d_loss: 0.7844 - g_mae: 10.3998\n",
            "Epoch 3/20\n",
            "66/66 [==============================] - 959s 15s/step - g_loss: 0.4688 - d_loss: 0.7268 - g_mae: 10.2688\n",
            "Epoch 4/20\n",
            "66/66 [==============================] - 958s 15s/step - g_loss: 0.5643 - d_loss: 0.7032 - g_mae: 10.3701\n",
            "Epoch 5/20\n",
            "66/66 [==============================] - 957s 15s/step - g_loss: 0.6293 - d_loss: 0.6955 - g_mae: 10.2803\n",
            "Epoch 6/20\n",
            "66/66 [==============================] - 958s 15s/step - g_loss: 0.6658 - d_loss: 0.6936 - g_mae: 10.4463\n",
            "Epoch 7/20\n",
            "66/66 [==============================] - 960s 15s/step - g_loss: 0.6830 - d_loss: 0.6932 - g_mae: 10.3247\n",
            "Epoch 8/20\n",
            "66/66 [==============================] - 960s 15s/step - g_loss: 0.6894 - d_loss: 0.6931 - g_mae: 10.2273\n",
            "Epoch 9/20\n",
            "66/66 [==============================] - 959s 15s/step - g_loss: 0.6919 - d_loss: 0.6931 - g_mae: 10.4003\n",
            "Epoch 10/20\n",
            "66/66 [==============================] - 959s 15s/step - g_loss: 0.6925 - d_loss: 0.6931 - g_mae: 10.3568\n",
            "Epoch 11/20\n",
            "66/66 [==============================] - 963s 15s/step - g_loss: 0.6918 - d_loss: 0.6931 - g_mae: 10.3918\n",
            "Epoch 12/20\n",
            "66/66 [==============================] - 961s 15s/step - g_loss: 0.6929 - d_loss: 0.6931 - g_mae: 10.4218\n",
            "Epoch 13/20\n",
            "66/66 [==============================] - 961s 15s/step - g_loss: 0.6937 - d_loss: 0.6931 - g_mae: 10.4654\n",
            "Epoch 14/20\n",
            "66/66 [==============================] - 960s 15s/step - g_loss: 0.6927 - d_loss: 0.6931 - g_mae: 10.4823\n",
            "Epoch 15/20\n",
            "66/66 [==============================] - 961s 15s/step - g_loss: 0.6915 - d_loss: 0.6931 - g_mae: 10.4392\n",
            "Epoch 16/20\n",
            "66/66 [==============================] - 961s 15s/step - g_loss: 0.6937 - d_loss: 0.6931 - g_mae: 10.3265\n",
            "Epoch 17/20\n",
            "66/66 [==============================] - 959s 15s/step - g_loss: 0.6932 - d_loss: 0.6931 - g_mae: 10.2575\n",
            "Epoch 18/20\n",
            "66/66 [==============================] - 961s 15s/step - g_loss: 0.6931 - d_loss: 0.6931 - g_mae: 10.2254\n",
            "Epoch 19/20\n",
            "66/66 [==============================] - 962s 15s/step - g_loss: 0.6929 - d_loss: 0.6931 - g_mae: 10.4127\n",
            "Epoch 20/20\n",
            "66/66 [==============================] - 962s 15s/step - g_loss: 0.6941 - d_loss: 0.6931 - g_mae: 10.4951\n"
          ]
        }
      ],
      "source": [
        "hist = radar_gan.fit(train_dataset, epochs=20)"
      ]
    },
    {
      "cell_type": "code",
      "execution_count": null,
      "metadata": {
        "colab": {
          "background_save": true
        },
        "id": "1EzgqNFbauDQ",
        "outputId": "eaacf4ba-615a-4ebb-d6d5-6d384cd9c7c3"
      },
      "outputs": [
        {
          "name": "stderr",
          "output_type": "stream",
          "text": [
            "WARNING:tensorflow:Compiled the loaded model, but the compiled metrics have yet to be built. `model.compile_metrics` will be empty until you train or evaluate the model.\n",
            "WARNING:tensorflow:Compiled the loaded model, but the compiled metrics have yet to be built. `model.compile_metrics` will be empty until you train or evaluate the model.\n"
          ]
        }
      ],
      "source": [
        "radar_gan.generator.save('drive/MyDrive/radargan_generator.hdf5')\n",
        "radar_gan.discriminator.save('drive/MyDrive/radargan_discriminator.hdf5')"
      ]
    }
  ],
  "metadata": {
    "accelerator": "GPU",
    "colab": {
      "machine_shape": "hm",
      "provenance": []
    },
    "gpuClass": "premium",
    "kernelspec": {
      "display_name": "Python 3",
      "name": "python3"
    },
    "language_info": {
      "name": "python"
    }
  },
  "nbformat": 4,
  "nbformat_minor": 0
}