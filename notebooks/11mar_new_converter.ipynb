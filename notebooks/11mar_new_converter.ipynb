{
  "nbformat": 4,
  "nbformat_minor": 0,
  "metadata": {
    "colab": {
      "provenance": [],
      "authorship_tag": "ABX9TyMLhA6YQjwbdu/xD0q+RERO",
      "include_colab_link": true
    },
    "kernelspec": {
      "name": "python3",
      "display_name": "Python 3"
    },
    "language_info": {
      "name": "python"
    }
  },
  "cells": [
    {
      "cell_type": "markdown",
      "metadata": {
        "id": "view-in-github",
        "colab_type": "text"
      },
      "source": [
        "<a href=\"https://colab.research.google.com/github/kupaqu/superdarn-nn/blob/main/11mar_new_converter.ipynb\" target=\"_parent\"><img src=\"https://colab.research.google.com/assets/colab-badge.svg\" alt=\"Open In Colab\"/></a>"
      ]
    },
    {
      "cell_type": "code",
      "source": [
        "!wget http://hawk.iszf.irk.ru/87389asd47/2018-cvw.tar"
      ],
      "metadata": {
        "colab": {
          "base_uri": "https://localhost:8080/"
        },
        "id": "UDryGvA-tTkC",
        "outputId": "15699fe4-3350-4c05-d6b9-18dc01fb93fe"
      },
      "execution_count": null,
      "outputs": [
        {
          "output_type": "stream",
          "name": "stdout",
          "text": [
            "--2023-03-12 14:57:52--  http://hawk.iszf.irk.ru/87389asd47/2018-cvw.tar\n",
            "Resolving hawk.iszf.irk.ru (hawk.iszf.irk.ru)... 84.237.21.18\n",
            "Connecting to hawk.iszf.irk.ru (hawk.iszf.irk.ru)|84.237.21.18|:80... connected.\n",
            "HTTP request sent, awaiting response... 200 OK\n",
            "Length: 12838430720 (12G) [application/x-tar]\n",
            "Saving to: ‘2018-cvw.tar.1’\n",
            "\n",
            "2018-cvw.tar.1      100%[===================>]  11.96G  24.3MB/s    in 8m 40s  \n",
            "\n",
            "2023-03-12 15:06:33 (23.5 MB/s) - ‘2018-cvw.tar.1’ saved [12838430720/12838430720]\n",
            "\n"
          ]
        }
      ]
    },
    {
      "cell_type": "code",
      "source": [
        "!tar xf 2018-cvw.tar"
      ],
      "metadata": {
        "id": "caQvBIYbOWMl"
      },
      "execution_count": null,
      "outputs": []
    },
    {
      "cell_type": "code",
      "source": [
        "!pip install pydarnio"
      ],
      "metadata": {
        "id": "LdZpUy5R6lr0",
        "colab": {
          "base_uri": "https://localhost:8080/"
        },
        "outputId": "86d57d5b-cecb-4a5e-e981-e980035647e8"
      },
      "execution_count": null,
      "outputs": [
        {
          "output_type": "stream",
          "name": "stdout",
          "text": [
            "Looking in indexes: https://pypi.org/simple, https://us-python.pkg.dev/colab-wheels/public/simple/\n",
            "Requirement already satisfied: pydarnio in /usr/local/lib/python3.9/dist-packages (1.2.1)\n",
            "Requirement already satisfied: deepdish in /usr/local/lib/python3.9/dist-packages (from pydarnio) (0.3.7)\n",
            "Requirement already satisfied: pyyaml in /usr/local/lib/python3.9/dist-packages (from pydarnio) (6.0)\n",
            "Requirement already satisfied: numpy in /usr/local/lib/python3.9/dist-packages (from pydarnio) (1.22.4)\n",
            "Requirement already satisfied: pathlib2 in /usr/local/lib/python3.9/dist-packages (from pydarnio) (2.3.7.post1)\n",
            "Requirement already satisfied: h5py in /usr/local/lib/python3.9/dist-packages (from pydarnio) (3.1.0)\n",
            "Requirement already satisfied: scipy in /usr/local/lib/python3.9/dist-packages (from deepdish->pydarnio) (1.10.1)\n",
            "Requirement already satisfied: tables in /usr/local/lib/python3.9/dist-packages (from deepdish->pydarnio) (3.7.0)\n",
            "Requirement already satisfied: six in /usr/local/lib/python3.9/dist-packages (from pathlib2->pydarnio) (1.15.0)\n",
            "Requirement already satisfied: numexpr>=2.6.2 in /usr/local/lib/python3.9/dist-packages (from tables->deepdish->pydarnio) (2.8.4)\n",
            "Requirement already satisfied: packaging in /usr/local/lib/python3.9/dist-packages (from tables->deepdish->pydarnio) (23.0)\n"
          ]
        }
      ]
    },
    {
      "cell_type": "code",
      "source": [
        "import os\n",
        "from tqdm import tqdm\n",
        "import numpy as np\n",
        "import bz2\n",
        "import pydarnio\n",
        "import datetime\n",
        "import warnings\n",
        "import sys"
      ],
      "metadata": {
        "id": "yf8_liuumQNh"
      },
      "execution_count": null,
      "outputs": []
    },
    {
      "cell_type": "code",
      "execution_count": null,
      "metadata": {
        "id": "fjmfGrA9l8o_"
      },
      "outputs": [],
      "source": [
        "class DataConverter:\n",
        "\n",
        "    def __init__(self,\n",
        "                 src_dir: str,  # папка с исходными данными\n",
        "                 dst_dir: str,  # папка с конвертированными данными\n",
        "                 nrang=100,     # количество гейтов\n",
        "                 reg_res=60,    # выходное разрешение\n",
        "                 bmnum=16,      # количество лучей\n",
        "\n",
        "                 keys=['pwr0',  # Lag zero power (actually SNR), estimated from voltage samples (not fitted)\n",
        "                       'qflg',  # Quality of fit flag for ACF\n",
        "                       'p_l',   # Power (actually SNR) from lambda fit of ACF\n",
        "                       'p_s',   # Power (actually SNR) from sigma fit of ACF\n",
        "                       'v',     # Velocity from fit of ACF\n",
        "                       'w_l',   # Spectral width from lambda fit of ACF\n",
        "                       'w_s']): # Spectral width from sigma fit of ACF\n",
        "        \n",
        "        # разрешение радара, у CVW – раз в минуту\n",
        "        self.radar_res = 120\n",
        "\n",
        "        # абсолютный путь до папки с исходными данными\n",
        "        self.src_dir = os.path.abspath(src_dir)\n",
        "\n",
        "        # абсолютный путь до папки с конвертированными данными\n",
        "        if not os.path.isdir(dst_dir):\n",
        "            os.mkdir(dst_dir)\n",
        "        self.dst_dir = os.path.abspath(dst_dir)\n",
        "\n",
        "        # индекс последнего разделителя в абсолютном пути до папки с исходными данными\n",
        "        self.src_prefix = len(self.src_dir) + len(os.path.sep)\n",
        "\n",
        "        self.nrang = nrang\n",
        "        self.reg_res = reg_res\n",
        "        self.bmnum = bmnum\n",
        "        self.keys = keys\n",
        "\n",
        "    # копирует структуру папки с исходными данными в папку с конвертированными данными\n",
        "    def __copy_dir_tree(self):\n",
        "\n",
        "        for root, dirs, _ in os.walk(self.src_dir):\n",
        "            for dir in dirs:\n",
        "                dirpath = os.path.join(self.dst_dir, root[self.src_prefix:], dir)\n",
        "                try:\n",
        "                    os.mkdir(dirpath)\n",
        "                except FileExistsError:\n",
        "                    continue\n",
        "    \n",
        "\n",
        "    def convert(self):\n",
        "\n",
        "        self.__copy_dir_tree() # создаем структуру папки\n",
        "\n",
        "        # итерация по папкам месяцов\n",
        "        for root, _, files in os.walk(self.src_dir):\n",
        "            if len(files) > 0:\n",
        "                print(f'Converting FITACF\\'s to NumPy arrays at {root}')\n",
        "                for file in tqdm(files):\n",
        "\n",
        "                    # название исходного файла\n",
        "                    src_filename = os.path.join(root, file)\n",
        "                    if not src_filename.endswith('fitacf.bz2'):\n",
        "                        continue\n",
        "                    \n",
        "                    # название конвертированного файла\n",
        "                    dst_filename = os.path.join(self.dst_dir, root[self.src_prefix:], file)[:-len('.fitacf.bz2')]\n",
        "\n",
        "                    # открытие исходного файла на чтение\n",
        "                    with bz2.open(src_filename) as fp:\n",
        "                        fitacf_stream = fp.read()\n",
        "                        try:\n",
        "                            reader = pydarnio.SDarnRead(fitacf_stream, True)\n",
        "                            records = reader.read_fitacf()\n",
        "\n",
        "                            # итерация по лучам. сохраняем в отдельные файлы, т.к. на некоторых лучах могут отсутствовать наблюдения\n",
        "                            for beam in range(self.bmnum):\n",
        "                                is_valid, content = self.__get_content(records, beam)\n",
        "                                if is_valid:\n",
        "                                    np.save(dst_filename + f'.{beam}' + '.npy', content)\n",
        "\n",
        "                        except pydarnio.exceptions.dmap_exceptions.EmptyFileError:\n",
        "                            continue\n",
        "    \n",
        "    def __get_content(self, records, beam):\n",
        "\n",
        "            timeseries = np.zeros(shape=(self.nrang, self.radar_res, len(self.keys))) # разметка пустого массива для заполнения\n",
        "            timestamps = []\n",
        "\n",
        "            for record in records:\n",
        "\n",
        "                # отбор данных по лучу\n",
        "                if record['bmnum'] == beam and record['channel'] == 0:\n",
        "\n",
        "                    # метка по времени, которая используется для расчета индекса\n",
        "                    timestamps.append(datetime.datetime(year=record['time.yr'],\n",
        "                                                        month=record['time.mo'],\n",
        "                                                        day=record['time.dy'],\n",
        "                                                        hour=record['time.hr'],\n",
        "                                                        minute=record['time.mt']))\n",
        "                    \n",
        "                    # индекс наблюдения в массиве\n",
        "                    if timestamps:\n",
        "                        index = (timestamps[-1] - timestamps[0]).seconds // 60\n",
        "                        if index >= self.radar_res: # иногда при одинаковой регулярности, разность между наблюдениями больше 1 минуты\n",
        "                            break\n",
        "                    else:\n",
        "                        index = 0\n",
        "\n",
        "                    # конвертация\n",
        "                    if 'slist' in record:\n",
        "                        for gate_index, gate in enumerate(record['slist']):\n",
        "                            for key_index, key in enumerate(self.keys):\n",
        "                                if key == 'pwr0':\n",
        "                                    timeseries[:, index, key_index] = record[key]\n",
        "                                else:\n",
        "                                    timeseries[gate, index, key_index] = record[key][gate_index]\n",
        "\n",
        "            # если не было ни одного наблюдения\n",
        "            if len(timestamps) == 0:\n",
        "                return (False, None)\n",
        "\n",
        "            # ужатие до reg_res\n",
        "            return (True, timeseries[:, ::self.radar_res//self.reg_res])"
      ]
    }
  ]
}